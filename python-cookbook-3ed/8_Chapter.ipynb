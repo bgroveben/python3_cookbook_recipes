{
 "cells": [
  {
   "cell_type": "markdown",
   "metadata": {},
   "source": [
    "# Chapter 8: Classes and Objects"
   ]
  },
  {
   "cell_type": "markdown",
   "metadata": {},
   "source": [
    "The primary focus of this chapter is to present recipes to common programming patterns related to class definitions.  \n",
    "Topics include making objects support common Python features, usage of special methods, encapsulation techniques, inheritance, memory management, and useful design patterns.  "
   ]
  },
  {
   "cell_type": "markdown",
   "metadata": {},
   "source": [
    "## 8.1. Changing the String Representation of Instances"
   ]
  },
  {
   "cell_type": "markdown",
   "metadata": {},
   "source": [
    "### Problem"
   ]
  },
  {
   "cell_type": "markdown",
   "metadata": {},
   "source": [
    "You want to change the output produced by printing or viewing instances to something more sensible."
   ]
  },
  {
   "cell_type": "markdown",
   "metadata": {},
   "source": [
    "### Solution"
   ]
  },
  {
   "cell_type": "markdown",
   "metadata": {},
   "source": [
    "To change the string representation of an instance, define the `__str__()` and `__repr__()` methods."
   ]
  },
  {
   "cell_type": "code",
   "execution_count": 37,
   "metadata": {},
   "outputs": [],
   "source": [
    "class Pair:\n",
    "    def __init__(self, x, y):\n",
    "        self.x = x\n",
    "        self.y = y\n",
    "    def __repr__(self):\n",
    "        # r for repr\n",
    "        return \"Pair({0.x!r}, {0.y!r})\".format(self)\n",
    "    def __str__(self):\n",
    "        # s for str\n",
    "        return \"({0.x!s}, {0.y!s})\".format(self)"
   ]
  },
  {
   "cell_type": "markdown",
   "metadata": {},
   "source": [
    "The `__repr__()` method returns the code representation of an instance, and is usually the text you would type to recreate the instance.  \n",
    "The built-in `repr()` function returns this text, as does the interactive interpreter when inspecting values.  \n",
    "The `__str__()` method converts the instance to a string, and is the output produced by the `str()` and `print()` functions."
   ]
  },
  {
   "cell_type": "code",
   "execution_count": 38,
   "metadata": {},
   "outputs": [
    {
     "data": {
      "text/plain": [
       "Pair(3, 4)"
      ]
     },
     "execution_count": 38,
     "metadata": {},
     "output_type": "execute_result"
    }
   ],
   "source": [
    "p = Pair(3, 4)\n",
    "# __repr__() output:\n",
    "p"
   ]
  },
  {
   "cell_type": "code",
   "execution_count": 39,
   "metadata": {},
   "outputs": [
    {
     "name": "stdout",
     "output_type": "stream",
     "text": [
      "(3, 4)\n"
     ]
    }
   ],
   "source": [
    "#__str__() output:\n",
    "print(p)"
   ]
  },
  {
   "cell_type": "markdown",
   "metadata": {},
   "source": [
    "The implementation of this recipe also shows how different string representations may be used during formatting.  \n",
    "Specifically, the special `!r` formatting code indicates that the output of `__repr__()` should be used instead of the default`__str__()`.  \n",
    "You can try this experiment with the preceding class to see this:  "
   ]
  },
  {
   "cell_type": "code",
   "execution_count": 40,
   "metadata": {},
   "outputs": [
    {
     "name": "stdout",
     "output_type": "stream",
     "text": [
      "p is Pair(3, 4)\n"
     ]
    }
   ],
   "source": [
    "p = Pair(3, 4)\n",
    "print('p is {0!r}'.format(p))"
   ]
  },
  {
   "cell_type": "code",
   "execution_count": 41,
   "metadata": {},
   "outputs": [
    {
     "name": "stdout",
     "output_type": "stream",
     "text": [
      "p is (3, 4)\n"
     ]
    }
   ],
   "source": [
    "print('p is {0}'.format(p))"
   ]
  },
  {
   "cell_type": "markdown",
   "metadata": {},
   "source": [
    "### Discussion"
   ]
  },
  {
   "cell_type": "markdown",
   "metadata": {},
   "source": [
    "Defining `__repr__()` and `__str__()` is often good practice, as it can simplify debugging and instance output.  \n",
    "For example, just by printing or logging an instance, a programmer will be shown more useful information about the instance contents.  \n",
    "It is standard practice for the output of `__repr__()` to produce text such that `eval(repr(x)) == x`.  \n",
    "If this is not possible or desired, then it is common to create a useful textual representation enclosed in `<` and `>` instead."
   ]
  },
  {
   "cell_type": "code",
   "execution_count": 42,
   "metadata": {},
   "outputs": [
    {
     "data": {
      "text/plain": [
       "<_io.TextIOWrapper name='example.bin' mode='r' encoding='UTF-8'>"
      ]
     },
     "execution_count": 42,
     "metadata": {},
     "output_type": "execute_result"
    }
   ],
   "source": [
    "f = open('example.bin')\n",
    "f"
   ]
  },
  {
   "cell_type": "code",
   "execution_count": 43,
   "metadata": {},
   "outputs": [],
   "source": [
    "f.close()"
   ]
  },
  {
   "cell_type": "markdown",
   "metadata": {},
   "source": [
    "If no `__str__()` is defined, the output of `__repr__()` is used as a fallback.  \n",
    "The use of `format()` in the solution might look a little funny, but the format code `{0.x}` specifies the x-attribute of argument 0.  \n",
    "So, in the following function, the 0 is actually the instance self:"
   ]
  },
  {
   "cell_type": "code",
   "execution_count": 44,
   "metadata": {},
   "outputs": [],
   "source": [
    "def __repr__(self):\n",
    "    return \"Pair({0.x!r}, (0.y!r))\".format(self)"
   ]
  },
  {
   "cell_type": "markdown",
   "metadata": {},
   "source": [
    "You can also use the modulo operator:"
   ]
  },
  {
   "cell_type": "code",
   "execution_count": 45,
   "metadata": {},
   "outputs": [],
   "source": [
    "def __repr__(self):\n",
    "    return \"Pair(%r, %r)\" % (self.x, self.y)"
   ]
  },
  {
   "cell_type": "code",
   "execution_count": 46,
   "metadata": {},
   "outputs": [
    {
     "data": {
      "text/plain": [
       "Pair(3, 4)"
      ]
     },
     "execution_count": 46,
     "metadata": {},
     "output_type": "execute_result"
    }
   ],
   "source": [
    "p"
   ]
  },
  {
   "cell_type": "code",
   "execution_count": 47,
   "metadata": {},
   "outputs": [
    {
     "name": "stdout",
     "output_type": "stream",
     "text": [
      "(3, 4)\n"
     ]
    }
   ],
   "source": [
    "print(p)"
   ]
  },
  {
   "cell_type": "markdown",
   "metadata": {},
   "source": [
    "## 8.2. Customizing String Formatting"
   ]
  },
  {
   "cell_type": "markdown",
   "metadata": {},
   "source": [
    "### Problem"
   ]
  },
  {
   "cell_type": "markdown",
   "metadata": {},
   "source": [
    "You want an object to support customized formatting through the `format()` function and string method."
   ]
  },
  {
   "cell_type": "markdown",
   "metadata": {},
   "source": [
    "### Solution"
   ]
  },
  {
   "cell_type": "markdown",
   "metadata": {},
   "source": [
    "You can customize string formatting by defining the `__format__()` method on a class."
   ]
  },
  {
   "cell_type": "code",
   "execution_count": 48,
   "metadata": {},
   "outputs": [],
   "source": [
    "_formats = {\n",
    "        'ymd' : '{d.year}-{d.month}-{d.day}',\n",
    "        'mdy' : '{d.month}/{d.day}/{d.year}',\n",
    "        'dmy' : '{d.day}/{d.month}/{d.year}'\n",
    "        }\n",
    "\n",
    "class Date:\n",
    "    def __init__(self, year, month, day):\n",
    "        self.year = year\n",
    "        self.month = month\n",
    "        self.day = day\n",
    "        \n",
    "    def __format__(self, code):\n",
    "        if code == '':\n",
    "            code = 'ymd'\n",
    "        fmt = _formats[code]\n",
    "        return fmt.format(d=self)"
   ]
  },
  {
   "cell_type": "markdown",
   "metadata": {},
   "source": [
    "Instances of the `Date` class now support operations like the ones below:"
   ]
  },
  {
   "cell_type": "code",
   "execution_count": 49,
   "metadata": {},
   "outputs": [
    {
     "data": {
      "text/plain": [
       "'2019-3-21'"
      ]
     },
     "execution_count": 49,
     "metadata": {},
     "output_type": "execute_result"
    }
   ],
   "source": [
    "d = Date(2019, 3, 21)\n",
    "format(d)"
   ]
  },
  {
   "cell_type": "code",
   "execution_count": 50,
   "metadata": {},
   "outputs": [
    {
     "data": {
      "text/plain": [
       "'3/21/2019'"
      ]
     },
     "execution_count": 50,
     "metadata": {},
     "output_type": "execute_result"
    }
   ],
   "source": [
    "format(d, 'mdy')"
   ]
  },
  {
   "cell_type": "code",
   "execution_count": 51,
   "metadata": {},
   "outputs": [
    {
     "data": {
      "text/plain": [
       "'The date is 2019-3-21'"
      ]
     },
     "execution_count": 51,
     "metadata": {},
     "output_type": "execute_result"
    }
   ],
   "source": [
    "\"The date is {:ymd}\".format(d)"
   ]
  },
  {
   "cell_type": "code",
   "execution_count": 52,
   "metadata": {},
   "outputs": [
    {
     "data": {
      "text/plain": [
       "'The date is 3/21/2019'"
      ]
     },
     "execution_count": 52,
     "metadata": {},
     "output_type": "execute_result"
    }
   ],
   "source": [
    "\"The date is {:mdy}\".format(d)"
   ]
  },
  {
   "cell_type": "markdown",
   "metadata": {},
   "source": [
    "### Discussion"
   ]
  },
  {
   "cell_type": "markdown",
   "metadata": {},
   "source": [
    "\n",
    "The `__format__()` method provides a hook into Python’s string formatting functionality.  \n",
    "It’s important to emphasize that the interpretation of format codes is entirely up to the class itself.  \n",
    "Thus, the codes can be almost anything at all.  \n",
    "For example, consider the following from the `datetime` module:"
   ]
  },
  {
   "cell_type": "code",
   "execution_count": 53,
   "metadata": {},
   "outputs": [
    {
     "data": {
      "text/plain": [
       "'2019-03-21'"
      ]
     },
     "execution_count": 53,
     "metadata": {},
     "output_type": "execute_result"
    }
   ],
   "source": [
    "from datetime import date\n",
    "\n",
    "d = date(2019, 3, 21)\n",
    "format(d)"
   ]
  },
  {
   "cell_type": "code",
   "execution_count": 54,
   "metadata": {},
   "outputs": [
    {
     "data": {
      "text/plain": [
       "'Thursday, March, 21, 2019'"
      ]
     },
     "execution_count": 54,
     "metadata": {},
     "output_type": "execute_result"
    }
   ],
   "source": [
    "format(d, '%A, %B, %d, %Y')"
   ]
  },
  {
   "cell_type": "code",
   "execution_count": 55,
   "metadata": {},
   "outputs": [
    {
     "data": {
      "text/plain": [
       "'The end is coming on 21 Mar 2019. Farewell.'"
      ]
     },
     "execution_count": 55,
     "metadata": {},
     "output_type": "execute_result"
    }
   ],
   "source": [
    "'The end is coming on {:%d %b %Y}. Farewell.'.format(d)"
   ]
  },
  {
   "cell_type": "markdown",
   "metadata": {},
   "source": [
    "There are some standard conventions for the formatting of the built-in types.  \n",
    "See the [documentation for the string module](https://docs.python.org/3/library/string.html) for a formal specification."
   ]
  },
  {
   "cell_type": "markdown",
   "metadata": {},
   "source": [
    "## 8.3. Making Objects Support the Context-Management Protocol"
   ]
  },
  {
   "cell_type": "markdown",
   "metadata": {},
   "source": [
    "### Problem"
   ]
  },
  {
   "cell_type": "markdown",
   "metadata": {},
   "source": [
    "You want to make your objects support the context-management protocol, aka the `with` statement."
   ]
  },
  {
   "cell_type": "markdown",
   "metadata": {},
   "source": [
    "### Solution"
   ]
  },
  {
   "cell_type": "markdown",
   "metadata": {},
   "source": [
    "In order to make an object compatible with the `with` statement, you need to implement `__enter__()` and `__exit__()` methods.  \n",
    "For example, consider the following class, which provides a network connection:"
   ]
  },
  {
   "cell_type": "code",
   "execution_count": 56,
   "metadata": {},
   "outputs": [],
   "source": [
    "from socket import socket, AF_INET, SOCK_STREAM\n",
    "\n",
    "class LazyConnection:\n",
    "    def __init__(self, address, family=AF_INET, type=SOCK_STREAM):\n",
    "        self.address = address\n",
    "        self.family = AF_INET\n",
    "        self.type = SOCK_STREAM\n",
    "        self.sock = None\n",
    "        \n",
    "    def __enter__(self):\n",
    "        if self.sock is not None:\n",
    "            raise RuntimeError('*** Already connected ***')\n",
    "        self.sock = socket(self.family, self.type)\n",
    "        self.sock.connect(self.address)\n",
    "        return self.sock\n",
    "    \n",
    "    def __exit__(self, exc_ty, exc_val, tb):\n",
    "        self.sock.close()\n",
    "        self.sock = None"
   ]
  },
  {
   "cell_type": "markdown",
   "metadata": {},
   "source": [
    "The key feature of this class is that it represents a network connection, but it doesn’t actually do anything initially (e.g., it doesn’t establish a connection).  \n",
    "Instead, the connection is established and closed using the with statement (essentially on demand)."
   ]
  },
  {
   "cell_type": "code",
   "execution_count": 57,
   "metadata": {},
   "outputs": [],
   "source": [
    "from functools import partial\n",
    "\n",
    "conn = LazyConnection(('www.python.org', 80))\n",
    "# Connection closed\n",
    "with conn as s:\n",
    "    # conn.__enter__() executes: connection open\n",
    "    s.send(b'GET /index.html HTTP/1.0\\r\\n')\n",
    "    s.send(b'Host: www.python.org\\r\\n')\n",
    "    s.send(b'\\r\\n')\n",
    "    resp = b''.join(iter(partial(s.recv, 8192), b''))\n",
    "    # conn.__exit() executes: connection closed"
   ]
  },
  {
   "cell_type": "markdown",
   "metadata": {},
   "source": [
    "### Discussion"
   ]
  },
  {
   "cell_type": "markdown",
   "metadata": {},
   "source": [
    "The main principle behind writing a context manager is that you’re writing code that’s meant to surround a block of statements as defined by the use of the `with` statement.  \n",
    "When the `with` statement is first encountered, the `__enter__()` method is triggered.  \n",
    "The return value of `__enter__()` (if any) is placed into the variable indicated with the `as` qualifier.  \n",
    "Afterward, the statements in the body of the with statement execute.  \n",
    "Finally, the `__exit__()` method is triggered to clean up.  \n",
    "This control flow happens regardless of what happens in the body of the with statement, including if there are exceptions.  \n",
    "In fact, the three arguments to the `__exit__()` method contain the exception type, value, and traceback for pending exceptions (if any).  \n",
    "The `__exit__()` method can choose to use the exception information in some way or to ignore it by doing nothing and returning `None` as a result.  \n",
    "If `__exit__()` returns `True`, the exception is cleared as if nothing happened and the program continues executing statements immediately after the with block.  \n",
    "One subtle aspect of this recipe is whether or not the `LazyConnection` class allows nested use of the connection with multiple with statements.  \n",
    "As shown, only a single socket connection at a time is allowed, and an exception is raised if a repeated with statement is attempted when a socket is already in use.  \n",
    "You can work around this limitation with a slightly different implementation, as shown here:"
   ]
  },
  {
   "cell_type": "code",
   "execution_count": 58,
   "metadata": {},
   "outputs": [],
   "source": [
    "from socket import socket, AF_INET, SOCK_STREAM\n",
    "\n",
    "class LazyConnection:\n",
    "    def __init__(self, address, family = AF_INET, type=SOCK_STREAM):\n",
    "        self.address = address\n",
    "        self.family = AF_INET\n",
    "        self.type = SOCK_STREAM\n",
    "        self.connections = []\n",
    "        \n",
    "    def __enter__(self):\n",
    "        sock = socket(self.family, self.type)\n",
    "        sock.connect(self.address)\n",
    "        self.connections.append(sock)\n",
    "        return sock\n",
    "    \n",
    "    def __exit(self, exc_ty, exc_val, tb):\n",
    "        self.connections.pop().close()"
   ]
  },
  {
   "cell_type": "raw",
   "metadata": {},
   "source": [
    "# Example Use:\n",
    "\n",
    "from functools import partial\n",
    "\n",
    "conn = LazyConnection(('www.python.org', 80))\n",
    "# Make s1 and s2 independent sockets:\n",
    "with conn as s1:\n",
    "    ...\n",
    "    with conn as s2:\n",
    "        ..."
   ]
  },
  {
   "cell_type": "markdown",
   "metadata": {},
   "source": [
    "In this second version, the `LazyConnection` class serves as a kind of factory for connections.  \n",
    "Internally, a list is used to keep a stack.  \n",
    "Whenever `__enter__()` executes, it makes a new connection and adds it to the stack.  \n",
    "The `__exit__()` method simply pops the last connection off the stack and closes it.  \n",
    "It’s subtle, but this allows multiple connections to be created at once with nested with statements, as shown.  \n",
    "Context managers are most commonly used in programs that need to manage resources such as files, network connections, and locks.  \n",
    "A key part of such resources is they have to be explicitly closed or released to operate correctly.  \n",
    "For instance, if you acquire a lock, then you have to make sure you release it, or else you risk deadlock.  \n",
    "By implementing `__enter__()`, `__exit__()`, and using the with statement, it is much easier to avoid such problems, since the cleanup code in the `__exit__()` method is guaranteed to run no matter what.  \n",
    "An alternative formulation of context managers is found in the `contextmanager` module in Recipe 9.22.  \n",
    "A thread-safe version of this recipe can be found in Recipe 12.6."
   ]
  },
  {
   "cell_type": "markdown",
   "metadata": {},
   "source": [
    "## 8.4. Saving Memory When Creating a Large Number of Instances"
   ]
  },
  {
   "cell_type": "markdown",
   "metadata": {},
   "source": [
    "### Problem"
   ]
  },
  {
   "cell_type": "markdown",
   "metadata": {},
   "source": [
    "Your program creates a large number (e.g., millions) of instances and uses a large amount of memory."
   ]
  },
  {
   "cell_type": "markdown",
   "metadata": {},
   "source": [
    "### Solution"
   ]
  },
  {
   "cell_type": "markdown",
   "metadata": {},
   "source": [
    "For classes that primarily serve as simple data structures, you can often greatly reduce the memory footprint of instances by adding the `__slots__` attribute to the class definition."
   ]
  },
  {
   "cell_type": "code",
   "execution_count": 59,
   "metadata": {},
   "outputs": [],
   "source": [
    "class Date:\n",
    "    __slots__ = ['year', 'month', 'day']\n",
    "    def __init__(self, year, month, day):\n",
    "        self.year = year\n",
    "        self.month = month\n",
    "        self.day = day"
   ]
  },
  {
   "cell_type": "markdown",
   "metadata": {},
   "source": [
    "When you define `__slots__`, Python uses a much more compact internal representation for instances.  \n",
    "Instead of each instance consisting of a dictionary, instances are built around a small fixed-sized array, much like a tuple or list.  \n",
    "Attribute names listed in the `__slots__` specifier are internally mapped to specific indices within this array.  \n",
    "A side effect of using slots is that it is no longer possible to add new attributes to instances — you are restricted to only those attribute names listed in the `__slots__` specifier."
   ]
  },
  {
   "cell_type": "markdown",
   "metadata": {},
   "source": [
    "### Discussion"
   ]
  },
  {
   "cell_type": "markdown",
   "metadata": {},
   "source": [
    "The memory saved by using `__slots__` varies according to the number and type of attributes stored.  \n",
    "However, in general, the resulting memory use is comparable to that of storing data in a tuple.  \n",
    "To give you an idea, storing a single `Date` instance without slots requires 428 bytes of memory on a 64-bit version of Python.  \n",
    "If slots is defined, it drops to 156 bytes.  \n",
    "In a program that manipulated a large number of dates all at once, this would make a significant reduction in overall memory use.  \n",
    "Although slots may seem like a feature that could be generally useful, you should resist the urge to use it in most code.  \n",
    "There are many parts of Python that rely on the normal dictionary-based implementation.  \n",
    "In addition, classes that define slots don’t support certain features such as multiple inheritance.  \n",
    "For the most part, you should only use slots on classes that are going to serve as frequently used data structures in your program (like if your program created millions of instances of a particular class).  \n",
    "A common misperception of `__slots__` is that it is an encapsulation tool that prevents users from adding new attributes to instances.  \n",
    "Although this is a side effect of using slots, this was never the original purpose.  \n",
    "Instead, `__slots__` was always [intended to be an optimization tool](http://python-history.blogspot.com/2010/06/inside-story-on-new-style-classes.html)."
   ]
  },
  {
   "cell_type": "markdown",
   "metadata": {},
   "source": [
    "## 8.5. Encapsulating Names in a Class"
   ]
  },
  {
   "cell_type": "markdown",
   "metadata": {},
   "source": [
    "### Problem"
   ]
  },
  {
   "cell_type": "markdown",
   "metadata": {},
   "source": [
    "You want to encapsulate restricted data on instances of a class, but you are concerned about Python's lack of access control."
   ]
  },
  {
   "cell_type": "markdown",
   "metadata": {},
   "source": [
    "### Solution"
   ]
  },
  {
   "cell_type": "markdown",
   "metadata": {},
   "source": [
    "Rather than relying on language features to encapsulate data, Python programmers are expected to observe certain naming conventions concerning the intended usage of data and methods.  \n",
    "The first convention is that any name that starts with a single leading underscore `(_)` should *always* be assumed to be internal implementation."
   ]
  },
  {
   "cell_type": "code",
   "execution_count": 60,
   "metadata": {},
   "outputs": [],
   "source": [
    "class A:\n",
    "    def __init__(self):\n",
    "        # internal attribute\n",
    "        self._internal = 0\n",
    "        # public attribute\n",
    "        self.public = 1\n",
    "        \n",
    "    def public_method(self):\n",
    "        \"\"\"\n",
    "        Any public method will do.\n",
    "        \"\"\"\n",
    "        pass\n",
    "    \n",
    "    def _internal_method(self):\n",
    "        \"\"\"\n",
    "        Any private method will do.\n",
    "        \"\"\""
   ]
  },
  {
   "cell_type": "markdown",
   "metadata": {},
   "source": [
    "Python doesn’t actually prevent someone from accessing internal names.  \n",
    "However, doing so is considered impolite, and may result in fragile code.  \n",
    "It should be noted, too, that the use of the leading underscore is also used for module names and module-level functions.  \n",
    "For example, if you ever see a module name that starts with a leading underscore (like `_socket`), it’s an internal implementation.  \n",
    "Likewise, module-level functions such as `sys._getframe()` should only be used with great caution.  \n",
    "You may also encounter the use of two leading underscores `(__)` on names within class definitions."
   ]
  },
  {
   "cell_type": "code",
   "execution_count": 61,
   "metadata": {},
   "outputs": [],
   "source": [
    "class B: \n",
    "    def __init__(self):\n",
    "        self.__private = 0\n",
    "        \n",
    "    def __private_method(self):\n",
    "        \"\"\"\n",
    "        Did you know that a docstring alone can form a complete function in Python?\n",
    "        You don't even need the pass keyword.\n",
    "        Thanks Guido;)\n",
    "        \"\"\"\n",
    "    def public_method(self):\n",
    "        self.__private_method()\n",
    "        pass"
   ]
  },
  {
   "cell_type": "markdown",
   "metadata": {},
   "source": [
    "The use of double leading underscores causes the name to be mangled to something else.  \n",
    "Specifically, the private attributes in the preceding class get renamed to `_B__private` and `_B__private_method`, respectively.  \n",
    "At this point, you might ask what purpose such name mangling serves.  \n",
    "The answer is inheritance — such attributes cannot be overridden via inheritance."
   ]
  },
  {
   "cell_type": "code",
   "execution_count": 62,
   "metadata": {},
   "outputs": [],
   "source": [
    "class C(B):\n",
    "    def __init__(self):\n",
    "        super().__init__()\n",
    "        self.__private = 1 # Doesn't override B.__private\n",
    "    def __private_method(self):\n",
    "        \"\"\"\n",
    "        Doesn't override B.__private_method()\n",
    "        \"\"\""
   ]
  },
  {
   "cell_type": "markdown",
   "metadata": {},
   "source": [
    "Here, the private names `__private` and `__private_method()` get renamed to `_C__private` and `_C__private_method`, which are different than the mangled names in the base class `B`."
   ]
  },
  {
   "cell_type": "markdown",
   "metadata": {},
   "source": [
    "### Discussion"
   ]
  },
  {
   "cell_type": "markdown",
   "metadata": {},
   "source": [
    "The fact that there are two different conventions (single underscore versus double underscore) for \"private\" attributes leads to the obvious question of which style you should use.  \n",
    "For most code, you should probably just make your nonpublic names start with a single underscore.  \n",
    "If, however, you know that your code will involve subclassing, and there are internal attributes that should be hidden from subclasses, use the double underscore instead.  \n",
    "It should also be noted that sometimes you may want to define a variable that clashes with the name of a reserved word.  \n",
    "For this, you should use a single trailing underscore."
   ]
  },
  {
   "cell_type": "code",
   "execution_count": 63,
   "metadata": {},
   "outputs": [],
   "source": [
    "lambda_ = 2.0\n",
    "# so you don't clash with the lambda keyword"
   ]
  },
  {
   "cell_type": "markdown",
   "metadata": {},
   "source": [
    "The reason for not using a leading underscore here is that it avoids confusion about the intended usage.  \n",
    "In other words, the use of a leading underscore could be interpreted as a way to avoid a name collision rather than as an indication that the value is private.  \n",
    "Using a single trailing underscore solves this problem."
   ]
  },
  {
   "cell_type": "markdown",
   "metadata": {},
   "source": [
    "## 8.6. Creating Managed Attributes"
   ]
  },
  {
   "cell_type": "markdown",
   "metadata": {},
   "source": [
    "### Problem"
   ]
  },
  {
   "cell_type": "markdown",
   "metadata": {},
   "source": [
    "You want to add extra processing, such as type checking or validation, to the getting or setting of an instance attribute."
   ]
  },
  {
   "cell_type": "markdown",
   "metadata": {},
   "source": [
    "### Solution"
   ]
  },
  {
   "cell_type": "markdown",
   "metadata": {},
   "source": [
    "A simple way to customize access to an attribute is to define it as a [property](https://www.programiz.com/python-programming/property).  \n",
    "For example, this code defines a `property` that adds simple type checking to an attribute:"
   ]
  },
  {
   "cell_type": "code",
   "execution_count": 64,
   "metadata": {},
   "outputs": [],
   "source": [
    "class Person:\n",
    "    def __init__(self, first_name):\n",
    "        self.first_name = first_name\n",
    "        \n",
    "    # Getter function\n",
    "    @property\n",
    "    def first_name(self):\n",
    "        return self._first_name\n",
    "    \n",
    "    # Setter function\n",
    "    @first_name.setter\n",
    "    def first_name(self, value):\n",
    "        if not isinstance(value, str):\n",
    "            raise TypeError('Expected a string')\n",
    "        self._first_name = value\n",
    "            \n",
    "    # Optional Deleter function\n",
    "    @first_name.deleter\n",
    "    def first_name(self):\n",
    "        raise AttributeError('This attribute cannot be deleted')"
   ]
  },
  {
   "cell_type": "markdown",
   "metadata": {},
   "source": [
    "In the preceding code, there are three related methods, all of which must have the same name.  \n",
    "The first method is a getter function, and establishes `first_name` as being a property.  \n",
    "The other two methods attach optional setter and deleter functions to the `first_name` property.  \n",
    "It’s important to stress that the `@first_name.setter` and `@first_name.deleter` decorators won’t be defined unless `first_name` was already established as a property using the `@property` decorator.\n",
    "A critical feature of a property is that it looks like a normal attribute, but access *automatically* triggers the getter, setter, and deleter methods."
   ]
  },
  {
   "cell_type": "code",
   "execution_count": 65,
   "metadata": {},
   "outputs": [
    {
     "data": {
      "text/plain": [
       "'Guido'"
      ]
     },
     "execution_count": 65,
     "metadata": {},
     "output_type": "execute_result"
    }
   ],
   "source": [
    "a = Person('Guido')\n",
    "a.first_name"
   ]
  },
  {
   "cell_type": "raw",
   "metadata": {},
   "source": [
    "a.first_name = 42"
   ]
  },
  {
   "cell_type": "raw",
   "metadata": {},
   "source": [
    "---------------------------------------------------------------------------\n",
    "TypeError                                 Traceback (most recent call last)\n",
    "<ipython-input-32-6341bdece797> in <module>()\n",
    "----> 1 a.first_name = 42\n",
    "\n",
    "<ipython-input-30-346e7509382d> in first_name(self, value)\n",
    "     12     def first_name(self, value):\n",
    "     13         if not isinstance(value, str):\n",
    "---> 14             raise TypeError('Expected a string')\n",
    "     15         self._first_name = value\n",
    "     16 \n",
    "\n",
    "TypeError: Expected a string"
   ]
  },
  {
   "cell_type": "raw",
   "metadata": {},
   "source": [
    "del a.first_name"
   ]
  },
  {
   "cell_type": "raw",
   "metadata": {},
   "source": [
    "---------------------------------------------------------------------------\n",
    "AttributeError                            Traceback (most recent call last)\n",
    "<ipython-input-33-50ce9077a584> in <module>()\n",
    "----> 1 del a.first_name\n",
    "\n",
    "<ipython-input-30-346e7509382d> in first_name(self)\n",
    "     18     @first_name.deleter\n",
    "     19     def first_name(self):\n",
    "---> 20         raise AttributeError('This attribute cannot be deleted')\n",
    "\n",
    "AttributeError: This attribute cannot be deleted"
   ]
  },
  {
   "cell_type": "markdown",
   "metadata": {},
   "source": [
    "When implementing a property, the underlying data (if any) still needs to be stored somewhere.  \n",
    "Thus, in the getter and setter methods, you see direct manipulation of a `_first_name` attribute, which is where the actual data lives.  \n",
    "In addition, you may ask why the `__init__()` method sets `self.first_name` instead of `self._first_name`.  \n",
    "In this example, the entire point of the property is to apply type checking when setting an attribute.  \n",
    "Thus, chances are you would also want such checking to take place during initialization.  \n",
    "By setting `self.first_name`, the set operation uses the setter method instead of bypassing it by accessing `self._first_name`.  \n",
    "Properties can also be defined for existing get and set methods."
   ]
  },
  {
   "cell_type": "code",
   "execution_count": 66,
   "metadata": {},
   "outputs": [],
   "source": [
    "class Person:\n",
    "    def __init__(self, first_name):\n",
    "        self.set_first_name(first_name)\n",
    "        \n",
    "    # Getter function\n",
    "    def get_first_name(self):\n",
    "        return self._first_name\n",
    "    \n",
    "    # Setter function\n",
    "    def set_first_name(self, value):\n",
    "        if not isinstance(value, str):\n",
    "            raise TypeError('Expected a string')\n",
    "        self._first_name = value\n",
    "        \n",
    "    # Optional Deleter function\n",
    "    def del_first_name(self):\n",
    "        raise AttributeError(\"This attribute cannot be deleted\")\n",
    "        \n",
    "    # Make a property from the existing get and set methods\n",
    "    name = property(get_first_name, set_first_name, del_first_name)"
   ]
  },
  {
   "cell_type": "markdown",
   "metadata": {},
   "source": [
    "### Discussion"
   ]
  },
  {
   "cell_type": "code",
   "execution_count": null,
   "metadata": {},
   "outputs": [],
   "source": []
  }
 ],
 "metadata": {
  "kernelspec": {
   "display_name": "Python 3",
   "language": "python",
   "name": "python3"
  },
  "language_info": {
   "codemirror_mode": {
    "name": "ipython",
    "version": 3
   },
   "file_extension": ".py",
   "mimetype": "text/x-python",
   "name": "python",
   "nbconvert_exporter": "python",
   "pygments_lexer": "ipython3",
   "version": "3.6.1"
  }
 },
 "nbformat": 4,
 "nbformat_minor": 2
}
