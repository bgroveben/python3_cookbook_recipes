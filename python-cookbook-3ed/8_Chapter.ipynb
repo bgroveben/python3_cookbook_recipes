{
 "cells": [
  {
   "cell_type": "markdown",
   "metadata": {},
   "source": [
    "# Chapter 8: Classes and Objects"
   ]
  },
  {
   "cell_type": "markdown",
   "metadata": {},
   "source": [
    "The primary focus of this chapter is to present recipes to common programming patterns related to class definitions.  \n",
    "Topics include making objects support common Python features, usage of special methods, encapsulation techniques, inheritance, memory management, and useful design patterns.  "
   ]
  },
  {
   "cell_type": "markdown",
   "metadata": {},
   "source": [
    "## 8.1. Changing the String Representation of Instances"
   ]
  },
  {
   "cell_type": "markdown",
   "metadata": {},
   "source": [
    "### Problem"
   ]
  },
  {
   "cell_type": "markdown",
   "metadata": {},
   "source": [
    "You want to change the output produced by printing or viewing instances to something more sensible."
   ]
  },
  {
   "cell_type": "markdown",
   "metadata": {},
   "source": [
    "### Solution"
   ]
  },
  {
   "cell_type": "markdown",
   "metadata": {},
   "source": [
    "To change the string representation of an instance, define the `__str__()` and `__repr__()` methods."
   ]
  },
  {
   "cell_type": "code",
   "execution_count": 1,
   "metadata": {},
   "outputs": [],
   "source": [
    "class Pair:\n",
    "    def __init__(self, x, y):\n",
    "        self.x = x\n",
    "        self.y = y\n",
    "    def __repr__(self):\n",
    "        # r for repr\n",
    "        return \"Pair({0.x!r}, {0.y!r})\".format(self)\n",
    "    def __str__(self):\n",
    "        # s for str\n",
    "        return \"({0.x!s}, {0.y!s})\".format(self)"
   ]
  },
  {
   "cell_type": "markdown",
   "metadata": {},
   "source": [
    "The `__repr__()` method returns the code representation of an instance, and is usually the text you would type to recreate the instance.  \n",
    "The built-in `repr()` function returns this text, as does the interactive interpreter when inspecting values.  \n",
    "The `__str__()` method converts the instance to a string, and is the output produced by the `str()` and `print()` functions."
   ]
  },
  {
   "cell_type": "code",
   "execution_count": 2,
   "metadata": {},
   "outputs": [
    {
     "data": {
      "text/plain": [
       "Pair(3, 4)"
      ]
     },
     "execution_count": 2,
     "metadata": {},
     "output_type": "execute_result"
    }
   ],
   "source": [
    "p = Pair(3, 4)\n",
    "# __repr__() output:\n",
    "p"
   ]
  },
  {
   "cell_type": "code",
   "execution_count": 3,
   "metadata": {},
   "outputs": [
    {
     "name": "stdout",
     "output_type": "stream",
     "text": [
      "(3, 4)\n"
     ]
    }
   ],
   "source": [
    "#__str__() output:\n",
    "print(p)"
   ]
  },
  {
   "cell_type": "markdown",
   "metadata": {},
   "source": [
    "The implementation of this recipe also shows how different string representations may be used during formatting.  \n",
    "Specifically, the special `!r` formatting code indicates that the output of `__repr__()` should be used instead of the default`__str__()`.  \n",
    "You can try this experiment with the preceding class to see this:  "
   ]
  },
  {
   "cell_type": "code",
   "execution_count": 4,
   "metadata": {},
   "outputs": [
    {
     "name": "stdout",
     "output_type": "stream",
     "text": [
      "p is Pair(3, 4)\n"
     ]
    }
   ],
   "source": [
    "p = Pair(3, 4)\n",
    "print('p is {0!r}'.format(p))"
   ]
  },
  {
   "cell_type": "code",
   "execution_count": 5,
   "metadata": {},
   "outputs": [
    {
     "name": "stdout",
     "output_type": "stream",
     "text": [
      "p is (3, 4)\n"
     ]
    }
   ],
   "source": [
    "print('p is {0}'.format(p))"
   ]
  },
  {
   "cell_type": "markdown",
   "metadata": {},
   "source": [
    "### Discussion"
   ]
  },
  {
   "cell_type": "markdown",
   "metadata": {},
   "source": [
    "Defining `__repr__()` and `__str__()` is often good practice, as it can simplify debugging and instance output.  \n",
    "For example, just by printing or logging an instance, a programmer will be shown more useful information about the instance contents.  \n",
    "It is standard practice for the output of `__repr__()` to produce text such that `eval(repr(x)) == x`.  \n",
    "If this is not possible or desired, then it is common to create a useful textual representation enclosed in `<` and `>` instead."
   ]
  },
  {
   "cell_type": "code",
   "execution_count": 6,
   "metadata": {},
   "outputs": [
    {
     "data": {
      "text/plain": [
       "<_io.TextIOWrapper name='example.bin' mode='r' encoding='UTF-8'>"
      ]
     },
     "execution_count": 6,
     "metadata": {},
     "output_type": "execute_result"
    }
   ],
   "source": [
    "f = open('example.bin')\n",
    "f"
   ]
  },
  {
   "cell_type": "code",
   "execution_count": 7,
   "metadata": {},
   "outputs": [],
   "source": [
    "f.close()"
   ]
  },
  {
   "cell_type": "markdown",
   "metadata": {},
   "source": [
    "If no `__str__()` is defined, the output of `__repr__()` is used as a fallback.  \n",
    "The use of `format()` in the solution might look a little funny, but the format code `{0.x}` specifies the x-attribute of argument 0.  \n",
    "So, in the following function, the 0 is actually the instance self:"
   ]
  },
  {
   "cell_type": "code",
   "execution_count": 8,
   "metadata": {},
   "outputs": [],
   "source": [
    "def __repr__(self):\n",
    "    return \"Pair({0.x!r}, (0.y!r))\".format(self)"
   ]
  },
  {
   "cell_type": "markdown",
   "metadata": {},
   "source": [
    "You can also use the modulo operator:"
   ]
  },
  {
   "cell_type": "code",
   "execution_count": 9,
   "metadata": {},
   "outputs": [],
   "source": [
    "def __repr__(self):\n",
    "    return \"Pair(%r, %r)\" % (self.x, self.y)"
   ]
  },
  {
   "cell_type": "code",
   "execution_count": 10,
   "metadata": {},
   "outputs": [
    {
     "data": {
      "text/plain": [
       "Pair(3, 4)"
      ]
     },
     "execution_count": 10,
     "metadata": {},
     "output_type": "execute_result"
    }
   ],
   "source": [
    "p"
   ]
  },
  {
   "cell_type": "code",
   "execution_count": 11,
   "metadata": {},
   "outputs": [
    {
     "name": "stdout",
     "output_type": "stream",
     "text": [
      "(3, 4)\n"
     ]
    }
   ],
   "source": [
    "print(p)"
   ]
  },
  {
   "cell_type": "markdown",
   "metadata": {},
   "source": [
    "## 8.2. Customizing String Formatting"
   ]
  },
  {
   "cell_type": "markdown",
   "metadata": {},
   "source": [
    "### Problem"
   ]
  },
  {
   "cell_type": "markdown",
   "metadata": {},
   "source": [
    "You want an object to support customized formatting through the `format()` function and string method."
   ]
  },
  {
   "cell_type": "markdown",
   "metadata": {},
   "source": [
    "### Solution"
   ]
  },
  {
   "cell_type": "markdown",
   "metadata": {},
   "source": [
    "You can customize string formatting by defining the `__format__()` method on a class."
   ]
  },
  {
   "cell_type": "code",
   "execution_count": 12,
   "metadata": {},
   "outputs": [],
   "source": [
    "_formats = {\n",
    "        'ymd' : '{d.year}-{d.month}-{d.day}',\n",
    "        'mdy' : '{d.month}/{d.day}/{d.year}',\n",
    "        'dmy' : '{d.day}/{d.month}/{d.year}'\n",
    "        }\n",
    "\n",
    "class Date:\n",
    "    def __init__(self, year, month, day):\n",
    "        self.year = year\n",
    "        self.month = month\n",
    "        self.day = day\n",
    "        \n",
    "    def __format__(self, code):\n",
    "        if code == '':\n",
    "            code = 'ymd'\n",
    "        fmt = _formats[code]\n",
    "        return fmt.format(d=self)"
   ]
  },
  {
   "cell_type": "markdown",
   "metadata": {},
   "source": [
    "Instances of the `Date` class now support operations like the ones below:"
   ]
  },
  {
   "cell_type": "code",
   "execution_count": 13,
   "metadata": {},
   "outputs": [
    {
     "data": {
      "text/plain": [
       "'2019-3-21'"
      ]
     },
     "execution_count": 13,
     "metadata": {},
     "output_type": "execute_result"
    }
   ],
   "source": [
    "d = Date(2019, 3, 21)\n",
    "format(d)"
   ]
  },
  {
   "cell_type": "code",
   "execution_count": 14,
   "metadata": {},
   "outputs": [
    {
     "data": {
      "text/plain": [
       "'3/21/2019'"
      ]
     },
     "execution_count": 14,
     "metadata": {},
     "output_type": "execute_result"
    }
   ],
   "source": [
    "format(d, 'mdy')"
   ]
  },
  {
   "cell_type": "code",
   "execution_count": 15,
   "metadata": {},
   "outputs": [
    {
     "data": {
      "text/plain": [
       "'The date is 2019-3-21'"
      ]
     },
     "execution_count": 15,
     "metadata": {},
     "output_type": "execute_result"
    }
   ],
   "source": [
    "\"The date is {:ymd}\".format(d)"
   ]
  },
  {
   "cell_type": "code",
   "execution_count": 16,
   "metadata": {},
   "outputs": [
    {
     "data": {
      "text/plain": [
       "'The date is 3/21/2019'"
      ]
     },
     "execution_count": 16,
     "metadata": {},
     "output_type": "execute_result"
    }
   ],
   "source": [
    "\"The date is {:mdy}\".format(d)"
   ]
  },
  {
   "cell_type": "markdown",
   "metadata": {},
   "source": [
    "### Discussion"
   ]
  },
  {
   "cell_type": "markdown",
   "metadata": {},
   "source": [
    "\n",
    "The `__format__()` method provides a hook into Python’s string formatting functionality.  \n",
    "It’s important to emphasize that the interpretation of format codes is entirely up to the class itself.  \n",
    "Thus, the codes can be almost anything at all.  \n",
    "For example, consider the following from the `datetime` module:"
   ]
  },
  {
   "cell_type": "code",
   "execution_count": 17,
   "metadata": {},
   "outputs": [
    {
     "data": {
      "text/plain": [
       "'2019-03-21'"
      ]
     },
     "execution_count": 17,
     "metadata": {},
     "output_type": "execute_result"
    }
   ],
   "source": [
    "from datetime import date\n",
    "\n",
    "d = date(2019, 3, 21)\n",
    "format(d)"
   ]
  },
  {
   "cell_type": "code",
   "execution_count": 18,
   "metadata": {},
   "outputs": [
    {
     "data": {
      "text/plain": [
       "'Thursday, March, 21, 2019'"
      ]
     },
     "execution_count": 18,
     "metadata": {},
     "output_type": "execute_result"
    }
   ],
   "source": [
    "format(d, '%A, %B, %d, %Y')"
   ]
  },
  {
   "cell_type": "code",
   "execution_count": 19,
   "metadata": {},
   "outputs": [
    {
     "data": {
      "text/plain": [
       "'The end is coming on 21 Mar 2019. Farewell.'"
      ]
     },
     "execution_count": 19,
     "metadata": {},
     "output_type": "execute_result"
    }
   ],
   "source": [
    "'The end is coming on {:%d %b %Y}. Farewell.'.format(d)"
   ]
  },
  {
   "cell_type": "markdown",
   "metadata": {},
   "source": [
    "There are some standard conventions for the formatting of the built-in types.  \n",
    "See the [documentation for the string module](https://docs.python.org/3/library/string.html) for a formal specification."
   ]
  },
  {
   "cell_type": "markdown",
   "metadata": {},
   "source": [
    "## 8.3. Making Objects Support the Context-Management Protocol"
   ]
  },
  {
   "cell_type": "markdown",
   "metadata": {},
   "source": [
    "### Problem"
   ]
  },
  {
   "cell_type": "markdown",
   "metadata": {},
   "source": [
    "You want to make your objects support the context-management protocol, aka the `with` statement."
   ]
  },
  {
   "cell_type": "markdown",
   "metadata": {},
   "source": [
    "### Solution"
   ]
  },
  {
   "cell_type": "markdown",
   "metadata": {},
   "source": [
    "In order to make an object compatible with the `with` statement, you need to implement `__enter__()` and `__exit__()` methods.  \n",
    "For example, consider the following class, which provides a network connection:"
   ]
  },
  {
   "cell_type": "code",
   "execution_count": 20,
   "metadata": {},
   "outputs": [],
   "source": [
    "from socket import socket, AF_INET, SOCK_STREAM\n",
    "\n",
    "class LazyConnection:\n",
    "    def __init__(self, address, family=AF_INET, type=SOCK_STREAM):\n",
    "        self.address = address\n",
    "        self.family = AF_INET\n",
    "        self.type = SOCK_STREAM\n",
    "        self.sock = None\n",
    "        \n",
    "    def __enter__(self):\n",
    "        if self.sock is not None:\n",
    "            raise RuntimeError('*** Already connected ***')\n",
    "        self.sock = socket(self.family, self.type)\n",
    "        self.sock.connect(self.address)\n",
    "        return self.sock\n",
    "    \n",
    "    def __exit__(self, exc_ty, exc_val, tb):\n",
    "        self.sock.close()\n",
    "        self.sock = None"
   ]
  },
  {
   "cell_type": "markdown",
   "metadata": {},
   "source": [
    "The key feature of this class is that it represents a network connection, but it doesn’t actually do anything initially (e.g., it doesn’t establish a connection).  \n",
    "Instead, the connection is established and closed using the with statement (essentially on demand)."
   ]
  },
  {
   "cell_type": "code",
   "execution_count": 21,
   "metadata": {},
   "outputs": [],
   "source": [
    "from functools import partial\n",
    "\n",
    "conn = LazyConnection(('www.python.org', 80))\n",
    "# Connection closed\n",
    "with conn as s:\n",
    "    # conn.__enter__() executes: connection open\n",
    "    s.send(b'GET /index.html HTTP/1.0\\r\\n')\n",
    "    s.send(b'Host: www.python.org\\r\\n')\n",
    "    s.send(b'\\r\\n')\n",
    "    resp = b''.join(iter(partial(s.recv, 8192), b''))\n",
    "    # conn.__exit() executes: connection closed"
   ]
  },
  {
   "cell_type": "markdown",
   "metadata": {},
   "source": [
    "### Discussion"
   ]
  },
  {
   "cell_type": "markdown",
   "metadata": {},
   "source": [
    "The main principle behind writing a context manager is that you’re writing code that’s meant to surround a block of statements as defined by the use of the `with` statement.  \n",
    "When the `with` statement is first encountered, the `__enter__()` method is triggered.  \n",
    "The return value of `__enter__()` (if any) is placed into the variable indicated with the `as` qualifier.  \n",
    "Afterward, the statements in the body of the with statement execute.  \n",
    "Finally, the `__exit__()` method is triggered to clean up.  \n",
    "This control flow happens regardless of what happens in the body of the with statement, including if there are exceptions.  \n",
    "In fact, the three arguments to the `__exit__()` method contain the exception type, value, and traceback for pending exceptions (if any).  \n",
    "The `__exit__()` method can choose to use the exception information in some way or to ignore it by doing nothing and returning `None` as a result.  \n",
    "If `__exit__()` returns `True`, the exception is cleared as if nothing happened and the program continues executing statements immediately after the with block.  \n",
    "One subtle aspect of this recipe is whether or not the `LazyConnection` class allows nested use of the connection with multiple with statements.  \n",
    "As shown, only a single socket connection at a time is allowed, and an exception is raised if a repeated with statement is attempted when a socket is already in use.  \n",
    "You can work around this limitation with a slightly different implementation, as shown here:"
   ]
  },
  {
   "cell_type": "code",
   "execution_count": 22,
   "metadata": {},
   "outputs": [],
   "source": [
    "from socket import socket, AF_INET, SOCK_STREAM\n",
    "\n",
    "class LazyConnection:\n",
    "    def __init__(self, address, family = AF_INET, type=SOCK_STREAM):\n",
    "        self.address = address\n",
    "        self.family = AF_INET\n",
    "        self.type = SOCK_STREAM\n",
    "        self.connections = []\n",
    "        \n",
    "    def __enter__(self):\n",
    "        sock = socket(self.family, self.type)\n",
    "        sock.connect(self.address)\n",
    "        self.connections.append(sock)\n",
    "        return sock\n",
    "    \n",
    "    def __exit(self, exc_ty, exc_val, tb):\n",
    "        self.connections.pop().close()"
   ]
  },
  {
   "cell_type": "raw",
   "metadata": {},
   "source": [
    "# Example Use:\n",
    "\n",
    "from functools import partial\n",
    "\n",
    "conn = LazyConnection(('www.python.org', 80))\n",
    "# Make s1 and s2 independent sockets:\n",
    "with conn as s1:\n",
    "    ...\n",
    "    with conn as s2:\n",
    "        ..."
   ]
  },
  {
   "cell_type": "markdown",
   "metadata": {},
   "source": [
    "In this second version, the `LazyConnection` class serves as a kind of factory for connections.  \n",
    "Internally, a list is used to keep a stack.  \n",
    "Whenever `__enter__()` executes, it makes a new connection and adds it to the stack.  \n",
    "The `__exit__()` method simply pops the last connection off the stack and closes it.  \n",
    "It’s subtle, but this allows multiple connections to be created at once with nested with statements, as shown.  \n",
    "Context managers are most commonly used in programs that need to manage resources such as files, network connections, and locks.  \n",
    "A key part of such resources is they have to be explicitly closed or released to operate correctly.  \n",
    "For instance, if you acquire a lock, then you have to make sure you release it, or else you risk deadlock.  \n",
    "By implementing `__enter__()`, `__exit__()`, and using the with statement, it is much easier to avoid such problems, since the cleanup code in the `__exit__()` method is guaranteed to run no matter what.  \n",
    "An alternative formulation of context managers is found in the `contextmanager` module in Recipe 9.22.  \n",
    "A thread-safe version of this recipe can be found in Recipe 12.6."
   ]
  },
  {
   "cell_type": "markdown",
   "metadata": {},
   "source": [
    "## 8.4. Saving Memory When Creating a Large Number of Instances"
   ]
  },
  {
   "cell_type": "markdown",
   "metadata": {},
   "source": [
    "### Problem"
   ]
  },
  {
   "cell_type": "markdown",
   "metadata": {},
   "source": [
    "Your program creates a large number (e.g., millions) of instances and uses a large amount of memory."
   ]
  },
  {
   "cell_type": "markdown",
   "metadata": {},
   "source": [
    "### Solution"
   ]
  },
  {
   "cell_type": "markdown",
   "metadata": {},
   "source": [
    "For classes that primarily serve as simple data structures, you can often greatly reduce the memory footprint of instances by adding the `__slots__` attribute to the class definition."
   ]
  },
  {
   "cell_type": "code",
   "execution_count": 23,
   "metadata": {},
   "outputs": [],
   "source": [
    "class Date:\n",
    "    __slots__ = ['year', 'month', 'day']\n",
    "    def __init__(self, year, month, day):\n",
    "        self.year = year\n",
    "        self.month = month\n",
    "        self.day = day"
   ]
  },
  {
   "cell_type": "markdown",
   "metadata": {},
   "source": [
    "When you define `__slots__`, Python uses a much more compact internal representation for instances.  \n",
    "Instead of each instance consisting of a dictionary, instances are built around a small fixed-sized array, much like a tuple or list.  \n",
    "Attribute names listed in the `__slots__` specifier are internally mapped to specific indices within this array.  \n",
    "A side effect of using slots is that it is no longer possible to add new attributes to instances — you are restricted to only those attribute names listed in the `__slots__` specifier."
   ]
  },
  {
   "cell_type": "markdown",
   "metadata": {},
   "source": [
    "### Discussion"
   ]
  },
  {
   "cell_type": "markdown",
   "metadata": {},
   "source": [
    "The memory saved by using `__slots__` varies according to the number and type of attributes stored.  \n",
    "However, in general, the resulting memory use is comparable to that of storing data in a tuple.  \n",
    "To give you an idea, storing a single `Date` instance without slots requires 428 bytes of memory on a 64-bit version of Python.  \n",
    "If slots is defined, it drops to 156 bytes.  \n",
    "In a program that manipulated a large number of dates all at once, this would make a significant reduction in overall memory use.  \n",
    "Although slots may seem like a feature that could be generally useful, you should resist the urge to use it in most code.  \n",
    "There are many parts of Python that rely on the normal dictionary-based implementation.  \n",
    "In addition, classes that define slots don’t support certain features such as multiple inheritance.  \n",
    "For the most part, you should only use slots on classes that are going to serve as frequently used data structures in your program (like if your program created millions of instances of a particular class).  \n",
    "A common misperception of `__slots__` is that it is an encapsulation tool that prevents users from adding new attributes to instances.  \n",
    "Although this is a side effect of using slots, this was never the original purpose.  \n",
    "Instead, `__slots__` was always [intended to be an optimization tool](http://python-history.blogspot.com/2010/06/inside-story-on-new-style-classes.html)."
   ]
  },
  {
   "cell_type": "markdown",
   "metadata": {},
   "source": [
    "## 8.5. Encapsulating Names in a Class"
   ]
  },
  {
   "cell_type": "markdown",
   "metadata": {},
   "source": [
    "### Problem"
   ]
  },
  {
   "cell_type": "markdown",
   "metadata": {},
   "source": [
    "You want to encapsulate restricted data on instances of a class, but you are concerned about Python's lack of access control."
   ]
  },
  {
   "cell_type": "markdown",
   "metadata": {},
   "source": [
    "### Solution"
   ]
  },
  {
   "cell_type": "markdown",
   "metadata": {},
   "source": [
    "Rather than relying on language features to encapsulate data, Python programmers are expected to observe certain naming conventions concerning the intended usage of data and methods.  \n",
    "The first convention is that any name that starts with a single leading underscore `(_)` should *always* be assumed to be internal implementation."
   ]
  },
  {
   "cell_type": "code",
   "execution_count": 24,
   "metadata": {},
   "outputs": [],
   "source": [
    "class A:\n",
    "    def __init__(self):\n",
    "        # internal attribute\n",
    "        self._internal = 0\n",
    "        # public attribute\n",
    "        self.public = 1\n",
    "        \n",
    "    def public_method(self):\n",
    "        \"\"\"\n",
    "        Any public method will do.\n",
    "        \"\"\"\n",
    "        pass\n",
    "    \n",
    "    def _internal_method(self):\n",
    "        \"\"\"\n",
    "        Any private method will do.\n",
    "        \"\"\""
   ]
  },
  {
   "cell_type": "markdown",
   "metadata": {},
   "source": [
    "Python doesn’t actually prevent someone from accessing internal names.  \n",
    "However, doing so is considered impolite, and may result in fragile code.  \n",
    "It should be noted, too, that the use of the leading underscore is also used for module names and module-level functions.  \n",
    "For example, if you ever see a module name that starts with a leading underscore (like `_socket`), it’s an internal implementation.  \n",
    "Likewise, module-level functions such as `sys._getframe()` should only be used with great caution.  \n",
    "You may also encounter the use of two leading underscores `(__)` on names within class definitions."
   ]
  },
  {
   "cell_type": "code",
   "execution_count": 25,
   "metadata": {},
   "outputs": [],
   "source": [
    "class B: \n",
    "    def __init__(self):\n",
    "        self.__private = 0\n",
    "        \n",
    "    def __private_method(self):\n",
    "        \"\"\"\n",
    "        Did you know that a docstring alone can form a complete function in Python?\n",
    "        You don't even need the pass keyword.\n",
    "        Thanks Guido;)\n",
    "        \"\"\"\n",
    "    def public_method(self):\n",
    "        self.__private_method()\n",
    "        pass"
   ]
  },
  {
   "cell_type": "markdown",
   "metadata": {},
   "source": [
    "The use of double leading underscores causes the name to be mangled to something else.  \n",
    "Specifically, the private attributes in the preceding class get renamed to `_B__private` and `_B__private_method`, respectively.  \n",
    "At this point, you might ask what purpose such name mangling serves.  \n",
    "The answer is inheritance — such attributes cannot be overridden via inheritance."
   ]
  },
  {
   "cell_type": "code",
   "execution_count": 26,
   "metadata": {},
   "outputs": [],
   "source": [
    "class C(B):\n",
    "    def __init__(self):\n",
    "        super().__init__()\n",
    "        self.__private = 1 # Doesn't override B.__private\n",
    "    def __private_method(self):\n",
    "        \"\"\"\n",
    "        Doesn't override B.__private_method()\n",
    "        \"\"\""
   ]
  },
  {
   "cell_type": "markdown",
   "metadata": {},
   "source": [
    "Here, the private names `__private` and `__private_method()` get renamed to `_C__private` and `_C__private_method`, which are different than the mangled names in the base class `B`."
   ]
  },
  {
   "cell_type": "markdown",
   "metadata": {},
   "source": [
    "### Discussion"
   ]
  },
  {
   "cell_type": "markdown",
   "metadata": {},
   "source": [
    "The fact that there are two different conventions (single underscore versus double underscore) for \"private\" attributes leads to the obvious question of which style you should use.  \n",
    "For most code, you should probably just make your nonpublic names start with a single underscore.  \n",
    "If, however, you know that your code will involve subclassing, and there are internal attributes that should be hidden from subclasses, use the double underscore instead.  \n",
    "It should also be noted that sometimes you may want to define a variable that clashes with the name of a reserved word.  \n",
    "For this, you should use a single trailing underscore."
   ]
  },
  {
   "cell_type": "code",
   "execution_count": 27,
   "metadata": {},
   "outputs": [],
   "source": [
    "lambda_ = 2.0\n",
    "# so you don't clash with the lambda keyword"
   ]
  },
  {
   "cell_type": "markdown",
   "metadata": {},
   "source": [
    "The reason for not using a leading underscore here is that it avoids confusion about the intended usage.  \n",
    "In other words, the use of a leading underscore could be interpreted as a way to avoid a name collision rather than as an indication that the value is private.  \n",
    "Using a single trailing underscore solves this problem."
   ]
  },
  {
   "cell_type": "markdown",
   "metadata": {},
   "source": [
    "## 8.6. Creating Managed Attributes"
   ]
  },
  {
   "cell_type": "markdown",
   "metadata": {},
   "source": [
    "### Problem"
   ]
  },
  {
   "cell_type": "markdown",
   "metadata": {},
   "source": [
    "You want to add extra processing, such as type checking or validation, to the getting or setting of an instance attribute."
   ]
  },
  {
   "cell_type": "markdown",
   "metadata": {},
   "source": [
    "### Solution"
   ]
  },
  {
   "cell_type": "markdown",
   "metadata": {},
   "source": [
    "A simple way to customize access to an attribute is to define it as a [property](https://www.programiz.com/python-programming/property).  \n",
    "For example, this code defines a `property` that adds simple type checking to an attribute:"
   ]
  },
  {
   "cell_type": "code",
   "execution_count": 28,
   "metadata": {},
   "outputs": [],
   "source": [
    "class Person:\n",
    "    def __init__(self, first_name):\n",
    "        self.first_name = first_name\n",
    "        \n",
    "    # Getter function\n",
    "    @property\n",
    "    def first_name(self):\n",
    "        return self._first_name\n",
    "    \n",
    "    # Setter function\n",
    "    @first_name.setter\n",
    "    def first_name(self, value):\n",
    "        if not isinstance(value, str):\n",
    "            raise TypeError('Expected a string')\n",
    "        self._first_name = value\n",
    "            \n",
    "    # Optional Deleter function\n",
    "    @first_name.deleter\n",
    "    def first_name(self):\n",
    "        raise AttributeError('This attribute cannot be deleted')"
   ]
  },
  {
   "cell_type": "markdown",
   "metadata": {},
   "source": [
    "In the preceding code, there are three related methods, all of which must have the same name.  \n",
    "The first method is a getter function, and establishes `first_name` as being a property.  \n",
    "The other two methods attach optional setter and deleter functions to the `first_name` property.  \n",
    "It’s important to stress that the `@first_name.setter` and `@first_name.deleter` decorators won’t be defined unless `first_name` was already established as a property using the `@property` decorator.\n",
    "A critical feature of a property is that it looks like a normal attribute, but access *automatically* triggers the getter, setter, and deleter methods."
   ]
  },
  {
   "cell_type": "code",
   "execution_count": 29,
   "metadata": {},
   "outputs": [
    {
     "data": {
      "text/plain": [
       "'Guido'"
      ]
     },
     "execution_count": 29,
     "metadata": {},
     "output_type": "execute_result"
    }
   ],
   "source": [
    "a = Person('Guido')\n",
    "a.first_name"
   ]
  },
  {
   "cell_type": "raw",
   "metadata": {},
   "source": [
    "a.first_name = 42"
   ]
  },
  {
   "cell_type": "raw",
   "metadata": {},
   "source": [
    "---------------------------------------------------------------------------\n",
    "TypeError                                 Traceback (most recent call last)\n",
    "<ipython-input-32-6341bdece797> in <module>()\n",
    "----> 1 a.first_name = 42\n",
    "\n",
    "<ipython-input-30-346e7509382d> in first_name(self, value)\n",
    "     12     def first_name(self, value):\n",
    "     13         if not isinstance(value, str):\n",
    "---> 14             raise TypeError('Expected a string')\n",
    "     15         self._first_name = value\n",
    "     16 \n",
    "\n",
    "TypeError: Expected a string"
   ]
  },
  {
   "cell_type": "raw",
   "metadata": {},
   "source": [
    "del a.first_name"
   ]
  },
  {
   "cell_type": "raw",
   "metadata": {},
   "source": [
    "---------------------------------------------------------------------------\n",
    "AttributeError                            Traceback (most recent call last)\n",
    "<ipython-input-33-50ce9077a584> in <module>()\n",
    "----> 1 del a.first_name\n",
    "\n",
    "<ipython-input-30-346e7509382d> in first_name(self)\n",
    "     18     @first_name.deleter\n",
    "     19     def first_name(self):\n",
    "---> 20         raise AttributeError('This attribute cannot be deleted')\n",
    "\n",
    "AttributeError: This attribute cannot be deleted"
   ]
  },
  {
   "cell_type": "markdown",
   "metadata": {},
   "source": [
    "When implementing a property, the underlying data (if any) still needs to be stored somewhere.  \n",
    "Thus, in the getter and setter methods, you see direct manipulation of a `_first_name` attribute, which is where the actual data lives.  \n",
    "In addition, you may ask why the `__init__()` method sets `self.first_name` instead of `self._first_name`.  \n",
    "In this example, the entire point of the property is to apply type checking when setting an attribute.  \n",
    "Thus, chances are you would also want such checking to take place during initialization.  \n",
    "By setting `self.first_name`, the set operation uses the setter method instead of bypassing it by accessing `self._first_name`.  \n",
    "Properties can also be defined for existing get and set methods."
   ]
  },
  {
   "cell_type": "code",
   "execution_count": 30,
   "metadata": {},
   "outputs": [],
   "source": [
    "class Person:\n",
    "    def __init__(self, first_name):\n",
    "        self.set_first_name(first_name)\n",
    "        \n",
    "    # Getter function\n",
    "    def get_first_name(self):\n",
    "        return self._first_name\n",
    "    \n",
    "    # Setter function\n",
    "    def set_first_name(self, value):\n",
    "        if not isinstance(value, str):\n",
    "            raise TypeError('Expected a string')\n",
    "        self._first_name = value\n",
    "        \n",
    "    # Optional Deleter function\n",
    "    def del_first_name(self):\n",
    "        raise AttributeError(\"This attribute cannot be deleted\")\n",
    "        \n",
    "    # Make a property from the existing get and set methods\n",
    "    name = property(get_first_name, set_first_name, del_first_name)"
   ]
  },
  {
   "cell_type": "markdown",
   "metadata": {},
   "source": [
    "### Discussion"
   ]
  },
  {
   "cell_type": "markdown",
   "metadata": {},
   "source": [
    "A property attribute is actually a collection of methods bundled together.  \n",
    "If you inspect a class with a property, you can find the raw methods in the `fget`, `fset`, and `fdel` attributes of the property itself."
   ]
  },
  {
   "cell_type": "raw",
   "metadata": {},
   "source": [
    ">>> Person.first_name.fget\n",
    "<function Person.first_name at 0x1006a60e0>\n",
    ">>> Person.first_name.fset\n",
    "<function Person.first_name at 0x1006a6170>\n",
    ">>> Person.first_name.fdel\n",
    "<function Person.first_name at 0x1006a62e0>\n",
    ">>>"
   ]
  },
  {
   "cell_type": "markdown",
   "metadata": {},
   "source": [
    "Normally, you wouldn't call `fget` or `fset` directly, but they are triggered automatically when the property is accessed.  \n",
    "Properties should only be used in cases where you actually need to perform extra processing on attribute access.  \n",
    "Sometimes programmers coming from languages such as Java feel that all access should be handled by getters and setters, and that they should write code like this:"
   ]
  },
  {
   "cell_type": "code",
   "execution_count": 31,
   "metadata": {},
   "outputs": [],
   "source": [
    "class Person:\n",
    "    def __init__(self, first_name):\n",
    "        self.first_name = first_name\n",
    "    @property\n",
    "    def first_name(self):\n",
    "        return self._first_name\n",
    "    @first_name.setter\n",
    "    def first_name(self, value):\n",
    "        self._first_name = value"
   ]
  },
  {
   "cell_type": "markdown",
   "metadata": {},
   "source": [
    "Don’t write properties that don’t actually add anything extra like this.  \n",
    "For one, it makes your code more verbose and confusing to others.  \n",
    "Second, it will make your program run a lot slower.  \n",
    "Lastly, it offers no real design benefit.  \n",
    "Specifically, if you later decide that extra processing needs to be added to the handling of an ordinary attribute, you could promote it to a property without changing existing code.  \n",
    "This is because the syntax of code that accessed the attribute would remain unchanged."
   ]
  },
  {
   "cell_type": "markdown",
   "metadata": {},
   "source": [
    "Properties can also be a way to define computed attributes.  \n",
    "These are attributes that are not actually stored, but computed on demand."
   ]
  },
  {
   "cell_type": "code",
   "execution_count": 32,
   "metadata": {},
   "outputs": [],
   "source": [
    "import math\n",
    "\n",
    "class Circle:\n",
    "    def __init__(self, radius):\n",
    "        self.radius = radius\n",
    "    @property\n",
    "    def area(self):\n",
    "        return math.pi * self.radius ** 2\n",
    "    @property\n",
    "    def perimeter(self):\n",
    "        return 2 * math.pi * self.radius"
   ]
  },
  {
   "cell_type": "markdown",
   "metadata": {},
   "source": [
    "Here, the use of properties results in a very uniform instance interface in that `radius`, `area`, and `perimeter` are all accessed as simple attributes, as opposed to a mix of simple attributes and method calls."
   ]
  },
  {
   "cell_type": "code",
   "execution_count": 33,
   "metadata": {},
   "outputs": [
    {
     "data": {
      "text/plain": [
       "4.0"
      ]
     },
     "execution_count": 33,
     "metadata": {},
     "output_type": "execute_result"
    }
   ],
   "source": [
    "c = Circle(4.0)\n",
    "c.radius"
   ]
  },
  {
   "cell_type": "code",
   "execution_count": 34,
   "metadata": {},
   "outputs": [
    {
     "data": {
      "text/plain": [
       "50.26548245743669"
      ]
     },
     "execution_count": 34,
     "metadata": {},
     "output_type": "execute_result"
    }
   ],
   "source": [
    "# notice the lack of ()\n",
    "c.area"
   ]
  },
  {
   "cell_type": "code",
   "execution_count": 35,
   "metadata": {},
   "outputs": [
    {
     "data": {
      "text/plain": [
       "25.132741228718345"
      ]
     },
     "execution_count": 35,
     "metadata": {},
     "output_type": "execute_result"
    }
   ],
   "source": [
    "# again no parentheses\n",
    "c.perimeter"
   ]
  },
  {
   "cell_type": "markdown",
   "metadata": {},
   "source": [
    "Although properties give you an elegant programming interface, sometimes you actually may want to directly use getter and setter functions."
   ]
  },
  {
   "cell_type": "raw",
   "metadata": {},
   "source": [
    ">>> p = Person('Guido')\n",
    ">>> p.get_first_name()\n",
    "'Guido'\n",
    ">>> p.set_first_name('Larry')\n",
    ">>>"
   ]
  },
  {
   "cell_type": "markdown",
   "metadata": {},
   "source": [
    "This often arises in situations where Python code is being integrated into a larger infrastructure of systems or programs.  \n",
    "For example, perhaps a Python class is going to be plugged into a large distributed system based on remote procedure calls or distributed objects.  \n",
    "In such a setting, it may be much easier to work with an explicit get/set method (as a normal method call) rather than a property that implicitly makes such calls."
   ]
  },
  {
   "cell_type": "markdown",
   "metadata": {},
   "source": [
    "Last, please don’t write Python code that features a lot of repetitive property definitions."
   ]
  },
  {
   "cell_type": "code",
   "execution_count": 36,
   "metadata": {},
   "outputs": [],
   "source": [
    "class Person:\n",
    "    def __init__(self, first_name, last_name):\n",
    "        self.first_name = first_name\n",
    "        self.last_name = last_name\n",
    "        \n",
    "    @property\n",
    "    def first_name(self):\n",
    "        return self._first_name\n",
    "    \n",
    "    @first_name.setter\n",
    "    def first_name(self, value):\n",
    "        if not isinstance(value, str):\n",
    "            raise TypeError('Expected a string')\n",
    "        self._first_name = value\n",
    "        \n",
    "    # Repeated property code, but for a different name, which is confusing and not DRY\n",
    "    @property\n",
    "    def last_name(self):\n",
    "        return self._last_name\n",
    "    \n",
    "    @last_name.setter\n",
    "    def last_name(self, value):\n",
    "        if not isinstance(value, str):\n",
    "            raise TypeError('Expected a string')\n",
    "        self._last_name = value"
   ]
  },
  {
   "cell_type": "markdown",
   "metadata": {},
   "source": [
    "Code repetition leads to bloated, error prone, and ugly code.  \n",
    "As it turns out, there are much better ways to achieve the same thing using descriptors or closures.  \n",
    "See Recipes 8.9 and 9.21."
   ]
  },
  {
   "cell_type": "markdown",
   "metadata": {},
   "source": [
    "## 8.7. Calling a Method on a Parent Class"
   ]
  },
  {
   "cell_type": "markdown",
   "metadata": {},
   "source": [
    "### Problem "
   ]
  },
  {
   "cell_type": "markdown",
   "metadata": {},
   "source": [
    "You want to invoke a method in a parent class in place of a method that has been overridden in a subclass."
   ]
  },
  {
   "cell_type": "markdown",
   "metadata": {},
   "source": [
    "### Solution"
   ]
  },
  {
   "cell_type": "markdown",
   "metadata": {},
   "source": [
    "To call a method in a parent (or superclass), use the `super()` function."
   ]
  },
  {
   "cell_type": "code",
   "execution_count": 37,
   "metadata": {},
   "outputs": [],
   "source": [
    "class A:\n",
    "    def spam(self):\n",
    "        print('A.spam')\n",
    "        \n",
    "class B(A):\n",
    "    def spam(self):\n",
    "        print('B.spam')\n",
    "        # call parent spam function\n",
    "        super().spam()"
   ]
  },
  {
   "cell_type": "markdown",
   "metadata": {},
   "source": [
    "A very common use of `super()` is in the handling of the `__init__()` method to make sure that parents are properly initialized:"
   ]
  },
  {
   "cell_type": "code",
   "execution_count": 38,
   "metadata": {},
   "outputs": [],
   "source": [
    "class A:\n",
    "    def __init__(self):\n",
    "        self.x = 0\n",
    "        \n",
    "class B(A):\n",
    "    def __init__(self):\n",
    "        super().__init__()\n",
    "        self.y = 1"
   ]
  },
  {
   "cell_type": "markdown",
   "metadata": {},
   "source": [
    "Another common use of `super()` is in code that overrrides any of Python's special methods."
   ]
  },
  {
   "cell_type": "code",
   "execution_count": 39,
   "metadata": {},
   "outputs": [],
   "source": [
    "class Proxy:\n",
    "    def __init__(self, obj):\n",
    "        self._obj = obj\n",
    "        \n",
    "    # delegate attribute lookup to internal object\n",
    "    def __getattr__(self, name):\n",
    "        return getattr(self._obj, name)\n",
    "    \n",
    "    # delegate attribute assignment\n",
    "    def __setattr__(self, name, value):\n",
    "        if name.startswith('_'):\n",
    "            # call original setattr\n",
    "            super().__setattr__(name, value)\n",
    "        else:\n",
    "            setattr(self._obj, name, value)"
   ]
  },
  {
   "cell_type": "markdown",
   "metadata": {},
   "source": [
    "In this code, the implementation of `__setattr__()` includes a name check.  \n",
    "If the name starts with an underscore `(_)`, it invokes the original implementation of `__setattr__()` using `super()`.  \n",
    "Otherwise, it delegates to the internally held object `self._obj`.  \n",
    "It looks a little funny, but `super()` works even though there is no explicit base class listed."
   ]
  },
  {
   "cell_type": "markdown",
   "metadata": {},
   "source": [
    "### Discussion"
   ]
  },
  {
   "cell_type": "markdown",
   "metadata": {},
   "source": [
    "Correct use of the `super()` function is actually one of the most poorly understood aspects of Python.  \n",
    "Occasionally, you will see code written that directly calls a method in a parent like this:"
   ]
  },
  {
   "cell_type": "code",
   "execution_count": 40,
   "metadata": {},
   "outputs": [],
   "source": [
    "class Base:\n",
    "    def __init__(self):\n",
    "        print('Base.__init__')\n",
    "        \n",
    "class A(Base):\n",
    "    def __init__(self):\n",
    "        Base.__init__(self)\n",
    "        print('A.__init__')"
   ]
  },
  {
   "cell_type": "markdown",
   "metadata": {},
   "source": [
    "Although you can usually get away with this, it can lead to trouble with inheritance later on."
   ]
  },
  {
   "cell_type": "code",
   "execution_count": 41,
   "metadata": {},
   "outputs": [],
   "source": [
    "class Base:\n",
    "    def __init__(self):\n",
    "        print('Base.__init__')\n",
    "        \n",
    "class A(Base):\n",
    "    def __init__(self):\n",
    "        Base.__init__(self)\n",
    "        print('A.__init__')\n",
    "        \n",
    "class B(Base):\n",
    "    def __init__(self):\n",
    "        Base.__init__(self)\n",
    "        print('B.__init__')\n",
    "        \n",
    "class C(A,B):\n",
    "    def __init__(self):\n",
    "        A.__init__(self)\n",
    "        B.__init__(self)\n",
    "        print('C__init__')"
   ]
  },
  {
   "cell_type": "markdown",
   "metadata": {},
   "source": [
    "Now watch what happens when the `Base.__init__()` method is invoked twice:"
   ]
  },
  {
   "cell_type": "code",
   "execution_count": 42,
   "metadata": {},
   "outputs": [
    {
     "name": "stdout",
     "output_type": "stream",
     "text": [
      "Base.__init__\n",
      "A.__init__\n",
      "Base.__init__\n",
      "B.__init__\n",
      "C__init__\n"
     ]
    }
   ],
   "source": [
    "c = C()"
   ]
  },
  {
   "cell_type": "markdown",
   "metadata": {},
   "source": [
    "Maybe that double-invocation of `Base.__init__()` is harmless, but you won't have to worry if you write the code using `super()`."
   ]
  },
  {
   "cell_type": "code",
   "execution_count": 43,
   "metadata": {},
   "outputs": [],
   "source": [
    "class Base:\n",
    "    def __init__(self):\n",
    "        print('Base.__init__')\n",
    "        \n",
    "class A(Base):\n",
    "    def __init__(self):\n",
    "        super().__init__()\n",
    "        print('A.__init__')\n",
    "        \n",
    "class B(Base):\n",
    "    def __init__(self):\n",
    "        super().__init__()\n",
    "        print('B.__init__')\n",
    "        \n",
    "class C(A, B):\n",
    "    def __init__(self):\n",
    "        # single call to super\n",
    "        super().__init__()\n",
    "        print('C.__init__')"
   ]
  },
  {
   "cell_type": "markdown",
   "metadata": {},
   "source": [
    "Now each `__init__` method is only called once:"
   ]
  },
  {
   "cell_type": "code",
   "execution_count": 44,
   "metadata": {},
   "outputs": [
    {
     "name": "stdout",
     "output_type": "stream",
     "text": [
      "Base.__init__\n",
      "B.__init__\n",
      "A.__init__\n",
      "C.__init__\n"
     ]
    }
   ],
   "source": [
    "c = C()"
   ]
  },
  {
   "cell_type": "markdown",
   "metadata": {},
   "source": [
    "To understand why it works, we need to step back for a minute and discuss how Python implements inheritance.  \n",
    "For every class that you define, Python computes what’s known as a [method resolution order (MRO)](http://python-history.blogspot.com/2010/06/method-resolution-order.html) list.  \n",
    "The MRO list is simply a linear ordering of all the base classes.  "
   ]
  },
  {
   "cell_type": "code",
   "execution_count": 45,
   "metadata": {},
   "outputs": [
    {
     "name": "stdout",
     "output_type": "stream",
     "text": [
      "(<class '__main__.C'>, <class '__main__.A'>, <class '__main__.B'>, <class '__main__.Base'>, <class 'object'>)\n"
     ]
    }
   ],
   "source": [
    "print(C.__mro__)"
   ]
  },
  {
   "cell_type": "markdown",
   "metadata": {},
   "source": [
    "[First](https://en.wikipedia.org/wiki/C3_linearization#Example_demonstrated_in_Python_3), we have a metaclass to enable a short representation of the objects by name."
   ]
  },
  {
   "cell_type": "code",
   "execution_count": 46,
   "metadata": {},
   "outputs": [],
   "source": [
    "class Type(type):\n",
    "    def __repr__(cls):\n",
    "        return cls.__name__\n",
    "    \n",
    "class O(object, metaclass=Type): pass"
   ]
  },
  {
   "cell_type": "markdown",
   "metadata": {},
   "source": [
    "Now construct the inheritance tree:"
   ]
  },
  {
   "cell_type": "code",
   "execution_count": 47,
   "metadata": {},
   "outputs": [],
   "source": [
    "class A(O): pass\n",
    "\n",
    "class B(O): pass\n",
    "\n",
    "class C(O): pass\n",
    "\n",
    "class D(O): pass\n",
    "\n",
    "class E(O): pass\n",
    "\n",
    "class K1(A, B, C): pass\n",
    "\n",
    "class K2(D, B, E): pass\n",
    "\n",
    "class K3(D, A): pass\n",
    "\n",
    "class Z(K1, K2, K3): pass"
   ]
  },
  {
   "cell_type": "code",
   "execution_count": 48,
   "metadata": {},
   "outputs": [
    {
     "name": "stdout",
     "output_type": "stream",
     "text": [
      "[Z, K1, K2, K3, D, A, B, C, E, O, <class 'object'>]\n"
     ]
    }
   ],
   "source": [
    "print(Z.mro())"
   ]
  },
  {
   "cell_type": "markdown",
   "metadata": {},
   "source": [
    "To implement inheritance, Python starts with the leftmost class and works its way left-to-right through classes on the MRO list until it finds the first attribute match.  \n",
    "The actual determination of the MRO list itself is made using a technique known as [C3 Linearization](https://en.wikipedia.org/wiki/C3_linearization).  \n",
    "Without getting too bogged down in the mathematics of it, it is actually a merge sort of the MROs from the parent classes subject to three constraints:  \n",
    "* Child classes get checked before parents.  \n",
    "* Multiple parents get checked in the order listed.  \n",
    "* If there are two valid choices for the next class, pick the one from the first parent. \n",
    "\n",
    "Honestly, all you really need to know is that the order of classes in the MRO list accommodates almost any class hierarchy you are going to define.  \n",
    "When you use the `super()` function, Python continues its search starting with the next class on the MRO.  \n",
    "As long as every redefined method consistently uses `super()` and only calls it once, control will ultimately work its way through the entire MRO list and each method will only be called once.  \n",
    "This is why you don’t get double calls to `Base.__init__()` in the second example.  \n",
    "A somewhat surprising aspect of `super()` is that it doesn’t necessarily go to the direct parent of a class next in the MRO and that you can even use it in a class with no direct parent at all.  \n",
    "For example, consider this class:"
   ]
  },
  {
   "cell_type": "code",
   "execution_count": 49,
   "metadata": {},
   "outputs": [],
   "source": [
    "class A:\n",
    "    def spam(self):\n",
    "        print('A.spam')\n",
    "        super().spam()"
   ]
  },
  {
   "cell_type": "markdown",
   "metadata": {},
   "source": [
    "We have a problem:"
   ]
  },
  {
   "cell_type": "raw",
   "metadata": {},
   "source": [
    "a = A()\n",
    "a.spam()"
   ]
  },
  {
   "cell_type": "raw",
   "metadata": {},
   "source": [
    "A.spam\n",
    "\n",
    "---------------------------------------------------------------------------\n",
    "AttributeError                            Traceback (most recent call last)\n",
    "<ipython-input-50-567efd26aa5c> in <module>()\n",
    "      1 a = A()\n",
    "----> 2 a.spam()\n",
    "\n",
    "<ipython-input-49-2dbdaa4e4ae8> in spam(self)\n",
    "      2     def spam(self):\n",
    "      3         print('A.spam')\n",
    "----> 4         super().spam()\n",
    "\n",
    "AttributeError: 'super' object has no attribute 'spam'\n"
   ]
  },
  {
   "cell_type": "markdown",
   "metadata": {},
   "source": [
    "However, watch what happens if you begin using the class with multiple inheritance:"
   ]
  },
  {
   "cell_type": "code",
   "execution_count": 50,
   "metadata": {},
   "outputs": [],
   "source": [
    "class B:\n",
    "    def spam(self):\n",
    "        print('B.spam')\n",
    "        \n",
    "class C(A,B):\n",
    "    pass"
   ]
  },
  {
   "cell_type": "code",
   "execution_count": 51,
   "metadata": {},
   "outputs": [
    {
     "name": "stdout",
     "output_type": "stream",
     "text": [
      "A.spam\n",
      "B.spam\n"
     ]
    }
   ],
   "source": [
    "c = C()\n",
    "c.spam()"
   ]
  },
  {
   "cell_type": "markdown",
   "metadata": {},
   "source": [
    "Here you see that the use of `super().spam()` in class `A` has called the `spam()` method in class `B` -- a class that is completely unrelated to `A`.  \n",
    "This is all explained by the MRO of class `C`:"
   ]
  },
  {
   "cell_type": "code",
   "execution_count": 52,
   "metadata": {},
   "outputs": [
    {
     "name": "stdout",
     "output_type": "stream",
     "text": [
      "(<class '__main__.C'>, <class '__main__.A'>, <class '__main__.B'>, <class 'object'>)\n"
     ]
    }
   ],
   "source": [
    "print(C.__mro__)"
   ]
  },
  {
   "cell_type": "markdown",
   "metadata": {},
   "source": [
    "Using `super()` in this manner is most common when defining mixin classes.  \n",
    "See Recipes 8.13 and 8.18.  \n",
    "However, because `super()` might invoke a method that you’re not expecting, there are a few general rules of thumb you should try to follow.  \n",
    "First, make sure that all methods with the same name in an inheritance hierarchy have a compatible calling signature, including the same number of arguments and argument names.  \n",
    "This ensures that `super()` won’t get tripped up if it tries to invoke a method on a class that’s not a direct parent.  \n",
    "Second, it’s usually a good idea to make sure that the topmost class provides an implementation of the method so that the chain of lookups that occur along the MRO get terminated by an actual method of some sort.  \n",
    "Use of `super()` is sometimes a source of debate in the Python community.  \n",
    "However, all things being equal, you should probably use it in modern code.  \n",
    "Raymond Hettinger has written an excellent blog post [Python’s super() Considered Super!](https://rhettinger.wordpress.com/2011/05/26/super-considered-super/) that has even more examples and reasons why `super()` might be super-awesome."
   ]
  },
  {
   "cell_type": "markdown",
   "metadata": {},
   "source": [
    "## 8.8. Extending a Property in a Subclass"
   ]
  },
  {
   "cell_type": "markdown",
   "metadata": {},
   "source": [
    "### Problem"
   ]
  },
  {
   "cell_type": "markdown",
   "metadata": {},
   "source": [
    "Within a subclass, you want to extend the functionality of a property defined in a parent class.   "
   ]
  },
  {
   "cell_type": "markdown",
   "metadata": {},
   "source": [
    "### Solution"
   ]
  },
  {
   "cell_type": "markdown",
   "metadata": {},
   "source": [
    "Consider the following code, whch defines a property:"
   ]
  },
  {
   "cell_type": "code",
   "execution_count": 53,
   "metadata": {},
   "outputs": [],
   "source": [
    "class Person:\n",
    "    def __init__(self, name):\n",
    "        self.name = name\n",
    "        \n",
    "    \n",
    "    # getter function\n",
    "    @property\n",
    "    def name(self):\n",
    "        return self._name\n",
    "    \n",
    "    # setter function\n",
    "    @name.setter\n",
    "    \n",
    "    def name(self, value):\n",
    "        if not isinstance(value, str):\n",
    "            raise TypeError('Expected a string')\n",
    "        self._name = value\n",
    "        \n",
    "    # deleter function\n",
    "    @name.deleter\n",
    "    def name(self):\n",
    "        raise AttributeError(\"Can't delete attribute\")"
   ]
  },
  {
   "cell_type": "markdown",
   "metadata": {},
   "source": [
    "Here is an example of a class that inherits from `Person` and extends the `name` property with new functionality:"
   ]
  },
  {
   "cell_type": "code",
   "execution_count": 54,
   "metadata": {},
   "outputs": [],
   "source": [
    "class SubPerson(Person):\n",
    "    @property\n",
    "    def name(self):\n",
    "        print('Getting name')\n",
    "        return super().name\n",
    "    \n",
    "    @name.setter\n",
    "    def name(self, value):\n",
    "        print('Setting name to', value)\n",
    "        super(SubPerson, SubPerson).name.__set__(self, value)\n",
    "        \n",
    "    @name.deleter\n",
    "    def name(self):\n",
    "        print('Deleting name')\n",
    "        super(SubPerson, SubPerson).name.__delete__(self)"
   ]
  },
  {
   "cell_type": "markdown",
   "metadata": {},
   "source": [
    "Here is an example of our new class in use:"
   ]
  },
  {
   "cell_type": "code",
   "execution_count": 55,
   "metadata": {},
   "outputs": [
    {
     "name": "stdout",
     "output_type": "stream",
     "text": [
      "Setting name to Guido\n"
     ]
    }
   ],
   "source": [
    "s = SubPerson('Guido')"
   ]
  },
  {
   "cell_type": "code",
   "execution_count": 56,
   "metadata": {},
   "outputs": [
    {
     "name": "stdout",
     "output_type": "stream",
     "text": [
      "Getting name\n"
     ]
    },
    {
     "data": {
      "text/plain": [
       "'Guido'"
      ]
     },
     "execution_count": 56,
     "metadata": {},
     "output_type": "execute_result"
    }
   ],
   "source": [
    "s.name"
   ]
  },
  {
   "cell_type": "code",
   "execution_count": 57,
   "metadata": {},
   "outputs": [
    {
     "name": "stdout",
     "output_type": "stream",
     "text": [
      "Setting name to Larry\n"
     ]
    }
   ],
   "source": [
    "s.name = 'Larry'"
   ]
  },
  {
   "cell_type": "raw",
   "metadata": {},
   "source": [
    "s.name = 42\n",
    "\n",
    "---------------------------------------------------------------------------\n",
    "TypeError                                 Traceback (most recent call last)\n",
    "<ipython-input-58-40945ded06e3> in <module>()\n",
    "----> 1 s.name = 42\n",
    "\n",
    "<ipython-input-54-e2e1f595314f> in name(self, value)\n",
    "      8     def name(self, value):\n",
    "      9         print('Setting name to', value)\n",
    "---> 10         super(SubPerson, SubPerson).name.__set__(self, value)\n",
    "     11 \n",
    "     12     @name.deleter\n",
    "\n",
    "<ipython-input-53-995061efb461> in name(self, value)\n",
    "     14     def name(self, value):\n",
    "     15         if not isinstance(value, str):\n",
    "---> 16             raise TypeError('Expected a string')\n",
    "     17         self._name = value\n",
    "     18 \n",
    "\n",
    "TypeError: Expected a string"
   ]
  },
  {
   "cell_type": "markdown",
   "metadata": {},
   "source": [
    "If you only want to extend one of the methods of a property, use code such as the following:"
   ]
  },
  {
   "cell_type": "code",
   "execution_count": 58,
   "metadata": {},
   "outputs": [],
   "source": [
    "class SubPerson(Person):\n",
    "    @Person.name.getter\n",
    "    def name(self):\n",
    "        print('Getting name')\n",
    "        return super().name"
   ]
  },
  {
   "cell_type": "markdown",
   "metadata": {},
   "source": [
    "If you just want the setter, you can try this:"
   ]
  },
  {
   "cell_type": "code",
   "execution_count": 59,
   "metadata": {},
   "outputs": [],
   "source": [
    "class SubPerson(Person):\n",
    "    @Person.name.setter\n",
    "    def name(self, value):\n",
    "        print('Setting name to', value)\n",
    "        super(SubPerson, SubPerson).name.__set__(self, value)"
   ]
  },
  {
   "cell_type": "markdown",
   "metadata": {},
   "source": [
    "### Discussion"
   ]
  },
  {
   "cell_type": "markdown",
   "metadata": {},
   "source": [
    "Extending a property in a subclass introduces a number of very subtle problems related to the fact that a property is defined as a collection of getter, setter, and deleter methods, as opposed to just a single method.  \n",
    "Thus, when extending a property, you need to figure out if you will redefine all of the methods together or just one of the methods.  \n",
    "In the first example, all of the property methods are redefined together.  \n",
    "Within each method, `super()` is used to call the previous implementation.  \n",
    "The use of `super(Sub Person, SubPerson).name.__set__(self, value)` in the setter function is no mistake.  \n",
    "To delegate to the previous implementation of the setter, control needs to pass through the `__set__()` method of the previously defined name property.  \n",
    "However, the only way to get to this method is to access it as a class variable instead of an instance variable.  \n",
    "This is what happens with the `super(SubPerson, SubPerson)` operation.  \n",
    "If you only want to redefine one of the methods, it’s not enough to use `@property` by itself."
   ]
  },
  {
   "cell_type": "code",
   "execution_count": 60,
   "metadata": {},
   "outputs": [],
   "source": [
    "class SubPerson(Person):\n",
    "    @property\n",
    "    def name(self):\n",
    "        print('Getting name')\n",
    "        return super().name"
   ]
  },
  {
   "cell_type": "markdown",
   "metadata": {},
   "source": [
    "The following code will throw an `AttributeError` because the setter function can't be accessed."
   ]
  },
  {
   "cell_type": "raw",
   "metadata": {},
   "source": [
    ">>> s = SubPerson('Not Guido')\n",
    "\n",
    "---------------------------------------------------------------------------\n",
    "AttributeError                            Traceback (most recent call last)\n",
    "<ipython-input-62-ac4c50d74cde> in <module>()\n",
    "----> 1 s = SubPerson('Not Guido')\n",
    "\n",
    "<ipython-input-53-995061efb461> in __init__(self, name)\n",
    "      1 class Person:\n",
    "      2     def __init__(self, name):\n",
    "----> 3         self.name = name\n",
    "      4 \n",
    "      5 \n",
    "\n",
    "AttributeError: can't set attribute"
   ]
  },
  {
   "cell_type": "markdown",
   "metadata": {},
   "source": [
    "With the code shown in the solution, however:"
   ]
  },
  {
   "cell_type": "raw",
   "metadata": {},
   "source": [
    "class SubPerson(Person):\n",
    "    @Person.getter\n",
    "    def name(self):\n",
    "        print('Getting name')\n",
    "        return super().name"
   ]
  },
  {
   "cell_type": "markdown",
   "metadata": {},
   "source": [
    "All of the previously defined methods of the property are copied, and the getter function is replaced.  \n",
    "In this particular solution, there is no way to replace the hardcoded class name `Person` with something more generic.  \n",
    "If you don’t know which base class defined a property, you should use the solution where all of the property methods are redefined and `super()` is used to pass control to the previous implementation.  \n",
    "It’s worth noting that the first technique shown in this recipe can also be used to extend a descriptor, as described in Recipe 8.9."
   ]
  },
  {
   "cell_type": "code",
   "execution_count": 61,
   "metadata": {},
   "outputs": [],
   "source": [
    "# A descriptor\n",
    "class String:\n",
    "    def __init__(self, name):\n",
    "        self.name = name\n",
    "        \n",
    "    def __get__(self, instance, cls):\n",
    "        if instance is None:\n",
    "            return self\n",
    "        return instance.__dict__[self.name]\n",
    "    \n",
    "    def __set__(self, instance, value):\n",
    "        if not isinstance(value, str):\n",
    "            raise TypeError('Expected a string')\n",
    "        instance.__dict__[self.name] = value\n",
    "\n",
    "        \n",
    "# A class with a descriptor\n",
    "class Person:\n",
    "    name = String('name')\n",
    "    def __init__(self, name):\n",
    "        self.name = name\n",
    "\n",
    "        \n",
    "# Extending a descriptor with a property\n",
    "class SubPerson(Person):\n",
    "    @property\n",
    "    def name(self):\n",
    "        print('Getting name')\n",
    "        return super().name\n",
    "    \n",
    "    @name.setter\n",
    "    def name(self, value):\n",
    "        print('Setting name to', value)\n",
    "        super(SubPerson, SubPerson).name.__set__(self, value)\n",
    "        \n",
    "    @name.deleter\n",
    "    def name(self):\n",
    "        print('Deleting name')\n",
    "        super(SubPerson, SubPerson).name.__delete__(self)"
   ]
  },
  {
   "cell_type": "markdown",
   "metadata": {},
   "source": [
    "Finally, it’s worth noting that by the time you read this, subclassing of setter and deleter methods might be somewhat simplified.  \n",
    "The solution shown will still work, but the [bug reported at Python’s issues page](https://bugs.python.org/issue14965) might evolve into a cleaner approach in a future Python version."
   ]
  },
  {
   "cell_type": "markdown",
   "metadata": {},
   "source": [
    "## 8.9. Creating a New Kind of Class or Instance Attribute"
   ]
  },
  {
   "cell_type": "markdown",
   "metadata": {},
   "source": [
    "### Problem"
   ]
  },
  {
   "cell_type": "markdown",
   "metadata": {},
   "source": [
    "You want to create a new kind of instance attribute type with some extra functionality, such as type checking.  "
   ]
  },
  {
   "cell_type": "markdown",
   "metadata": {},
   "source": [
    "### Solution"
   ]
  },
  {
   "cell_type": "markdown",
   "metadata": {},
   "source": [
    "If you want to create an entirely new kind of instance attribute, define its functionality in the form of a descriptor class. "
   ]
  },
  {
   "cell_type": "code",
   "execution_count": 62,
   "metadata": {},
   "outputs": [],
   "source": [
    "# Descriptor attribute for an integer type-checked attribute:\n",
    "class Integer:\n",
    "    def __init__(self, name):\n",
    "        self.name = name\n",
    "        \n",
    "    def __get__(self, instance, cls):\n",
    "        if instance is None:\n",
    "            return self\n",
    "        else:\n",
    "            return instance.__dict__[self.name]\n",
    "        \n",
    "    def __set__(self, instance, value):\n",
    "        if not isinstance(value, int):\n",
    "            raise TypeError('Expected an integer')\n",
    "        instance.__dict__[self.name] = value\n",
    "        \n",
    "    def __delete__(self, instance):\n",
    "        del instance.__dict__[self.name]"
   ]
  },
  {
   "cell_type": "markdown",
   "metadata": {},
   "source": [
    "A [descriptor](https://docs.python.org/3/howto/descriptor.html) is a class that implements the three core attribute access operations (get, set, and delete) in the form of `__get__()`, `__set__()`, and `__delete__()` special methods.  \n",
    "These methods work by receiving an instance as input.  \n",
    "The underlying dictionary of the instance is then manipulated as appropriate.  \n",
    "To use a descriptor, instances of the descriptor are placed into a class definition as class variables."
   ]
  },
  {
   "cell_type": "code",
   "execution_count": 63,
   "metadata": {},
   "outputs": [],
   "source": [
    "class Point:\n",
    "    x = Integer('x')\n",
    "    y = Integer('y')\n",
    "    def __init__(self, x, y):\n",
    "        self.x = x\n",
    "        self.y = y"
   ]
  },
  {
   "cell_type": "markdown",
   "metadata": {},
   "source": [
    "When you do this, all access to the descriptor attributes x and y is captured by the `__get__()`, `__set__()`, and `__delete__()` methods."
   ]
  },
  {
   "cell_type": "code",
   "execution_count": 64,
   "metadata": {},
   "outputs": [
    {
     "data": {
      "text/plain": [
       "2"
      ]
     },
     "execution_count": 64,
     "metadata": {},
     "output_type": "execute_result"
    }
   ],
   "source": [
    "p = Point(2, 3)\n",
    "# calls Point.x.__get__(p, Point)\n",
    "p.x"
   ]
  },
  {
   "cell_type": "code",
   "execution_count": 65,
   "metadata": {},
   "outputs": [],
   "source": [
    "# calls Point.y.__set__(p, 5)\n",
    "p.y = 5"
   ]
  },
  {
   "cell_type": "raw",
   "metadata": {},
   "source": [
    "# calls Point.x.__set__(p, 2.3)\n",
    "p.x = 2.3"
   ]
  },
  {
   "cell_type": "raw",
   "metadata": {},
   "source": [
    "---------------------------------------------------------------------------\n",
    "TypeError                                 Traceback (most recent call last)\n",
    "<ipython-input-66-f74c2e97f4db> in <module>()\n",
    "      1 # calls Point.x.__set__(p, 2.3)\n",
    "----> 2 p.x = 2.3\n",
    "\n",
    "<ipython-input-62-49d4ace7d584> in __set__(self, instance, value)\n",
    "     12     def __set__(self, instance, value):\n",
    "     13         if not isinstance(value, int):\n",
    "---> 14             raise TypeError('Expected an integer')\n",
    "     15         instance.__dict__[self.name] = value\n",
    "     16 \n",
    "\n",
    "TypeError: Expected an integer\n"
   ]
  },
  {
   "cell_type": "markdown",
   "metadata": {},
   "source": [
    "As input, each method of a descriptor receives the instance being manipulated.  \n",
    "To carry out the requested operation, the underlying instance dictionary (the `__dict__` attribute) is manipulated as appropriate.  \n",
    "The `self.name` attribute of the descriptor holds the dictionary key being used to store the actual data in the instance dictionary."
   ]
  },
  {
   "cell_type": "markdown",
   "metadata": {},
   "source": [
    "### Discussion"
   ]
  },
  {
   "cell_type": "markdown",
   "metadata": {},
   "source": [
    "Descriptors provide the underlying magic for most of Python’s class features, including `@classmethod`, `@staticmethod`, `@property`, and even the `__slots__` specification.  \n",
    "By defining a descriptor, you can capture the core instance operations (get, set, delete) at a very low level and completely customize what they do.  \n",
    "This gives you great power, and is one of the most important tools employed by the writers of advanced libraries and frameworks.  \n",
    "One confusion with descriptors is that they can only be defined at the class level, not on a per-instance basis.  \n",
    "Thus, code like this will not work:"
   ]
  },
  {
   "cell_type": "code",
   "execution_count": 66,
   "metadata": {},
   "outputs": [],
   "source": [
    "class Point:\n",
    "    def __init__(self, x, y):\n",
    "        self.x = Integer('x')  # No. Must be a class variable.\n",
    "        self.y = Integer('y')\n",
    "        self.x = x\n",
    "        self.y = y"
   ]
  },
  {
   "cell_type": "markdown",
   "metadata": {},
   "source": [
    "The implementation of the `__get__()` method is also unusual:"
   ]
  },
  {
   "cell_type": "code",
   "execution_count": 67,
   "metadata": {},
   "outputs": [],
   "source": [
    "# Descriptor attribute for an integer type-checked attribute.\n",
    "class Integer:\n",
    "    # ...\n",
    "    def __get__(self, instance, cls):\n",
    "        if instance is None:\n",
    "            return self\n",
    "        else:\n",
    "            return instance.__dict__[self.name]\n",
    "    # ..."
   ]
  },
  {
   "cell_type": "markdown",
   "metadata": {},
   "source": [
    "The reason `__get__()` looks somewhat complicated is to account for the distinction between instance variables and class variables.  \n",
    "If a descriptor is accessed as a class variable, the instance argument is set to `None`.  \n",
    "In this case, it is standard practice to simply return the descriptor instance itself, although any kind of custom processing is also allowed."
   ]
  },
  {
   "cell_type": "raw",
   "metadata": {},
   "source": [
    ">>> p = Point(2,3)\n",
    ">>> p.x # Calls Point.x.__get__(p, Point)\n",
    "2\n",
    ">>> Point.x # Calls Point.x.__get__(None, Point)\n",
    "<__main__.Integer object at 0x100671890>\n",
    ">>>"
   ]
  },
  {
   "cell_type": "markdown",
   "metadata": {},
   "source": [
    "Descriptors are often just one component of a larger programming framework involving decorators or metaclasses.  \n",
    "As such, their use may be hidden just barely out of sight.  \n",
    "As an example, here is some more advanced descriptor-based code involving a class decorator:"
   ]
  },
  {
   "cell_type": "code",
   "execution_count": 68,
   "metadata": {},
   "outputs": [],
   "source": [
    "# Descriptor for a type-checked attribute:\n",
    "class Typed:\n",
    "    def __init__(self, name, expected_type):\n",
    "        self.name = name\n",
    "        self.expected_type = expected_type\n",
    "        \n",
    "    def __get__(self, instance, cls):\n",
    "        if instance is None:\n",
    "            return self\n",
    "        else:\n",
    "            return instance.__dict__[self.name]\n",
    "        \n",
    "    def __set__(self, instance, value):\n",
    "        if not isinstance(value, self.expected_type):\n",
    "            raise TypeError('Expected ' + str(self.expected_type))\n",
    "        instance.__dict__[self.name] = value\n",
    "        \n",
    "    def __delete__(self, instance):\n",
    "        del instance.__dict__[self.name]\n",
    "        \n",
    "# Class decorator that is applied to selected attributes\n",
    "def typeassert(**kwargs):\n",
    "    def decorate(cls):\n",
    "        for name, expected_type in kwargs.items():\n",
    "            # Attach a typed descriptor to the class\n",
    "            setattr(cls, name, Typed(name, expected_type))\n",
    "        return cls\n",
    "    return decorate\n",
    "\n",
    "# Example use\n",
    "@typeassert(name=str, shares=int, price=float)\n",
    "class Stock:\n",
    "    def __init__(self, name, shares, price):\n",
    "        self.name = name\n",
    "        self.shares = shares\n",
    "        self.price = price"
   ]
  },
  {
   "cell_type": "markdown",
   "metadata": {},
   "source": [
    "Finally, it should be stressed that you would probably not write a descriptor if you simply want to customize the access of a single attribute of a specific class.  \n",
    "For that, it’s easier to use a property instead, as described in Recipe 8.6.  \n",
    "Descriptors are more useful in situations where there will be a lot of code reuse, like if you want to use the functionality provided by the descriptor in hundreds of places in your code or provide it as a library feature."
   ]
  },
  {
   "cell_type": "markdown",
   "metadata": {},
   "source": [
    "## 8.10 Using Lazily Computed Properties"
   ]
  },
  {
   "cell_type": "markdown",
   "metadata": {},
   "source": [
    "### Problem"
   ]
  },
  {
   "cell_type": "markdown",
   "metadata": {},
   "source": [
    "You’d like to define a read-only attribute as a property that only gets computed on access.  \n",
    "However, once accessed, you’d like the value to be cached instead of re-computed."
   ]
  },
  {
   "cell_type": "markdown",
   "metadata": {},
   "source": [
    "### Solution"
   ]
  },
  {
   "cell_type": "markdown",
   "metadata": {},
   "source": [
    "An efficient way to define a lazy attribute is through the use of a descriptor class, such as the following:"
   ]
  },
  {
   "cell_type": "code",
   "execution_count": 69,
   "metadata": {},
   "outputs": [],
   "source": [
    "class lazyproperty:\n",
    "    def __init__(self, func):\n",
    "        self.func = func\n",
    "        \n",
    "    def __get__(self, instance, cls):\n",
    "        if instance is None:\n",
    "            return self\n",
    "        else:\n",
    "            value = self.func(instance)\n",
    "            setattr(instance, self.func.__name__, value)\n",
    "            return value"
   ]
  },
  {
   "cell_type": "markdown",
   "metadata": {},
   "source": [
    "You can use this code in a class like the following example:"
   ]
  },
  {
   "cell_type": "code",
   "execution_count": 70,
   "metadata": {},
   "outputs": [],
   "source": [
    "import math\n",
    "\n",
    "class Circle:\n",
    "    def __init__(self, radius):\n",
    "        self.radius = radius\n",
    "        \n",
    "    @lazyproperty\n",
    "    def area(self):\n",
    "        print('Calculating area')\n",
    "        return math.pi * self.radius ** 2\n",
    "    \n",
    "    @lazyproperty\n",
    "    def perimeter(self):\n",
    "        print('Computing perimeter')\n",
    "        return 2 * math.pi * self.radius"
   ]
  },
  {
   "cell_type": "markdown",
   "metadata": {},
   "source": [
    "Now for some examples:"
   ]
  },
  {
   "cell_type": "code",
   "execution_count": 71,
   "metadata": {},
   "outputs": [
    {
     "data": {
      "text/plain": [
       "4.0"
      ]
     },
     "execution_count": 71,
     "metadata": {},
     "output_type": "execute_result"
    }
   ],
   "source": [
    "c = Circle(4.0)\n",
    "c.radius"
   ]
  },
  {
   "cell_type": "code",
   "execution_count": 72,
   "metadata": {},
   "outputs": [
    {
     "name": "stdout",
     "output_type": "stream",
     "text": [
      "Calculating area\n"
     ]
    },
    {
     "data": {
      "text/plain": [
       "50.26548245743669"
      ]
     },
     "execution_count": 72,
     "metadata": {},
     "output_type": "execute_result"
    }
   ],
   "source": [
    "c.area"
   ]
  },
  {
   "cell_type": "code",
   "execution_count": 73,
   "metadata": {},
   "outputs": [
    {
     "data": {
      "text/plain": [
       "50.26548245743669"
      ]
     },
     "execution_count": 73,
     "metadata": {},
     "output_type": "execute_result"
    }
   ],
   "source": [
    "c.area"
   ]
  },
  {
   "cell_type": "code",
   "execution_count": 74,
   "metadata": {},
   "outputs": [
    {
     "name": "stdout",
     "output_type": "stream",
     "text": [
      "Computing perimeter\n"
     ]
    },
    {
     "data": {
      "text/plain": [
       "25.132741228718345"
      ]
     },
     "execution_count": 74,
     "metadata": {},
     "output_type": "execute_result"
    }
   ],
   "source": [
    "c.perimeter"
   ]
  },
  {
   "cell_type": "code",
   "execution_count": 75,
   "metadata": {},
   "outputs": [
    {
     "data": {
      "text/plain": [
       "25.132741228718345"
      ]
     },
     "execution_count": 75,
     "metadata": {},
     "output_type": "execute_result"
    }
   ],
   "source": [
    "c.perimeter"
   ]
  },
  {
   "cell_type": "markdown",
   "metadata": {},
   "source": [
    "Why did the messages \"Calculating Area\" and \"Computing perimeter\" only appear once?"
   ]
  },
  {
   "cell_type": "markdown",
   "metadata": {},
   "source": [
    "### Discussion"
   ]
  },
  {
   "cell_type": "markdown",
   "metadata": {},
   "source": [
    "In many cases, the whole point of having a lazily computed attribute is to improve performance.  \n",
    "For example, you avoid computing values unless you actually need them somewhere.  \n",
    "The solution shown does just this, but it exploits a subtle feature of descriptors to do it in a highly efficient way.  \n",
    "As shown in other recipes, like Recipe 8.9, when a descriptor is placed into a class definition, its `__get__()`, `__set__()`, and `__delete__()` methods get triggered on attribute access.  \n",
    "However, if a descriptor only defines a `__get__()` method, it has a much weaker binding than usual.  \n",
    "In particular, the `__get__()` method only fires if the attribute being accessed is not in the underlying instance dictionary.  \n",
    "The `lazyproperty` class exploits this by having the `__get__()` method store the computed value on the instance using the same name as the property itself.  \n",
    "By doing this, the value gets stored in the instance dictionary and disables further computation of the property.  \n",
    "You can observe this by digging a little deeper into the example:"
   ]
  },
  {
   "cell_type": "code",
   "execution_count": 76,
   "metadata": {},
   "outputs": [
    {
     "data": {
      "text/plain": [
       "{'radius': 4.0}"
      ]
     },
     "execution_count": 76,
     "metadata": {},
     "output_type": "execute_result"
    }
   ],
   "source": [
    "c = Circle(4.0)\n",
    "# get the instance variables\n",
    "vars(c)"
   ]
  },
  {
   "cell_type": "code",
   "execution_count": 77,
   "metadata": {},
   "outputs": [
    {
     "name": "stdout",
     "output_type": "stream",
     "text": [
      "Calculating area\n"
     ]
    },
    {
     "data": {
      "text/plain": [
       "50.26548245743669"
      ]
     },
     "execution_count": 77,
     "metadata": {},
     "output_type": "execute_result"
    }
   ],
   "source": [
    "# calculate the area and observe the variables afterward\n",
    "c.area"
   ]
  },
  {
   "cell_type": "code",
   "execution_count": 78,
   "metadata": {},
   "outputs": [
    {
     "data": {
      "text/plain": [
       "{'radius': 4.0, 'area': 50.26548245743669}"
      ]
     },
     "execution_count": 78,
     "metadata": {},
     "output_type": "execute_result"
    }
   ],
   "source": [
    "vars(c)"
   ]
  },
  {
   "cell_type": "code",
   "execution_count": 79,
   "metadata": {},
   "outputs": [
    {
     "data": {
      "text/plain": [
       "50.26548245743669"
      ]
     },
     "execution_count": 79,
     "metadata": {},
     "output_type": "execute_result"
    }
   ],
   "source": [
    "# notice that accessing the attribute doesn't invoke the property anymore\n",
    "c.area"
   ]
  },
  {
   "cell_type": "code",
   "execution_count": 80,
   "metadata": {},
   "outputs": [
    {
     "data": {
      "text/plain": [
       "{'radius': 4.0}"
      ]
     },
     "execution_count": 80,
     "metadata": {},
     "output_type": "execute_result"
    }
   ],
   "source": [
    "# delete the variable and see the property triggered again\n",
    "del c.area\n",
    "vars(c)"
   ]
  },
  {
   "cell_type": "code",
   "execution_count": 81,
   "metadata": {},
   "outputs": [
    {
     "name": "stdout",
     "output_type": "stream",
     "text": [
      "Calculating area\n"
     ]
    },
    {
     "data": {
      "text/plain": [
       "50.26548245743669"
      ]
     },
     "execution_count": 81,
     "metadata": {},
     "output_type": "execute_result"
    }
   ],
   "source": [
    "c.area"
   ]
  },
  {
   "cell_type": "markdown",
   "metadata": {},
   "source": [
    "Of course there's a catch.  \n",
    "The computed value becomes mutable after it's created."
   ]
  },
  {
   "cell_type": "code",
   "execution_count": 82,
   "metadata": {},
   "outputs": [
    {
     "data": {
      "text/plain": [
       "50.26548245743669"
      ]
     },
     "execution_count": 82,
     "metadata": {},
     "output_type": "execute_result"
    }
   ],
   "source": [
    "c.area"
   ]
  },
  {
   "cell_type": "code",
   "execution_count": 83,
   "metadata": {},
   "outputs": [
    {
     "data": {
      "text/plain": [
       "25"
      ]
     },
     "execution_count": 83,
     "metadata": {},
     "output_type": "execute_result"
    }
   ],
   "source": [
    "c.area = 25\n",
    "c.area"
   ]
  },
  {
   "cell_type": "markdown",
   "metadata": {},
   "source": [
    "This implementation takes care of that problem, but isn't quite as efficient."
   ]
  },
  {
   "cell_type": "code",
   "execution_count": 84,
   "metadata": {},
   "outputs": [],
   "source": [
    "def lazyproperty(func):\n",
    "    name = '_lazy_' + func.__name__\n",
    "    @property\n",
    "    def lazy(self):\n",
    "        if hasattr(self, name):\n",
    "            return getattr(self, name)\n",
    "        else:\n",
    "            value = func(self)\n",
    "            setattr(self, name, value)\n",
    "            return value\n",
    "    return lazy"
   ]
  },
  {
   "cell_type": "code",
   "execution_count": 85,
   "metadata": {},
   "outputs": [
    {
     "name": "stdout",
     "output_type": "stream",
     "text": [
      "Calculating area\n"
     ]
    },
    {
     "data": {
      "text/plain": [
       "50.26548245743669"
      ]
     },
     "execution_count": 85,
     "metadata": {},
     "output_type": "execute_result"
    }
   ],
   "source": [
    "c = Circle(4.0)\n",
    "c.area"
   ]
  },
  {
   "cell_type": "code",
   "execution_count": 86,
   "metadata": {},
   "outputs": [
    {
     "data": {
      "text/plain": [
       "50.26548245743669"
      ]
     },
     "execution_count": 86,
     "metadata": {},
     "output_type": "execute_result"
    }
   ],
   "source": [
    "c.area"
   ]
  },
  {
   "cell_type": "raw",
   "metadata": {},
   "source": [
    "c.area = 25\n",
    "\n",
    "Traceback (most recent call last):\n",
    "    File \"<stdin>\", line 1, in <module>\n",
    "AttributeError: can't set attribute"
   ]
  },
  {
   "cell_type": "markdown",
   "metadata": {},
   "source": [
    "However, a disadvantage is that all get operations have to be routed through the property’s getter function.  \n",
    "This is less efficient than simply looking up the value in the instance dictionary, as was done in the original solution.\n",
    "For more information on properties and managed attributes, see Recipe 8.6.  \n",
    "Descriptors are described in Recipe 8.9."
   ]
  },
  {
   "cell_type": "markdown",
   "metadata": {},
   "source": [
    "## 8.11. Simplifying the Initialization of Data Structures"
   ]
  },
  {
   "cell_type": "markdown",
   "metadata": {},
   "source": [
    "### Problem"
   ]
  },
  {
   "cell_type": "markdown",
   "metadata": {},
   "source": [
    "You are writing a lot of classes that serve as data structures, but you are getting tired of writing highly repetitive and boilerplate `__init__()` functions."
   ]
  },
  {
   "cell_type": "markdown",
   "metadata": {},
   "source": [
    "### Solution"
   ]
  },
  {
   "cell_type": "markdown",
   "metadata": {},
   "source": [
    "You can often generalize the initialization of data structures into a single `__init__()` function defined in a common base class."
   ]
  },
  {
   "cell_type": "code",
   "execution_count": 87,
   "metadata": {},
   "outputs": [],
   "source": [
    "class Structure:\n",
    "    # Class variable that specifies expected fields:\n",
    "    _fields = []\n",
    "    def __init__(self, *args):\n",
    "        if len(args) != len(self._fields):\n",
    "            raise TypeError('Expected {} arguments'.format(len(self._fields)))\n",
    "        # Set the arguments:\n",
    "        for name, value in zip(self._fields, args):\n",
    "            setattr(self, name, value)"
   ]
  },
  {
   "cell_type": "code",
   "execution_count": 88,
   "metadata": {},
   "outputs": [],
   "source": [
    "# Example class definitions:\n",
    "if __name__ == '__main__':\n",
    "\n",
    "    class Stock(Structure):\n",
    "        _fields = ['name', 'shares', 'price']\n",
    "\n",
    "    class Point(Structure):\n",
    "        _fields = ['x', 'y']\n",
    "\n",
    "    class Circle(Structure):\n",
    "        _fields = ['radius']\n",
    "        def area(self):\n",
    "            return math.pi * self.radius ** 2"
   ]
  },
  {
   "cell_type": "markdown",
   "metadata": {},
   "source": [
    "This makes it easier to construct classes:"
   ]
  },
  {
   "cell_type": "code",
   "execution_count": 89,
   "metadata": {},
   "outputs": [
    {
     "data": {
      "text/plain": [
       "<__main__.Stock at 0x107e43e48>"
      ]
     },
     "execution_count": 89,
     "metadata": {},
     "output_type": "execute_result"
    }
   ],
   "source": [
    "s = Stock('ACME', 50, 91.1)\n",
    "s"
   ]
  },
  {
   "cell_type": "code",
   "execution_count": 90,
   "metadata": {},
   "outputs": [
    {
     "data": {
      "text/plain": [
       "(<__main__.Point at 0x107e434a8>, <__main__.Circle at 0x107e43ba8>)"
      ]
     },
     "execution_count": 90,
     "metadata": {},
     "output_type": "execute_result"
    }
   ],
   "source": [
    "p = Point(2, 3)\n",
    "c = Circle(4.5)\n",
    "p,c"
   ]
  },
  {
   "cell_type": "raw",
   "metadata": {},
   "source": [
    "s2 = Stock('ACME', 50)\n",
    "\n",
    "---------------------------------------------------------------------------\n",
    "TypeError                                 Traceback (most recent call last)\n",
    "<ipython-input-93-a7f160771797> in <module>()\n",
    "----> 1 s2 = Stock('ACME', 50)\n",
    "\n",
    "<ipython-input-89-349acbed246d> in __init__(self, *args)\n",
    "      4     def __init__(self, *args):\n",
    "      5         if len(args) != len(self._fields):\n",
    "----> 6             raise TypeError('Expected {} arguments'.format(len(self._fields)))\n",
    "      7         # Set the arguments:\n",
    "      8         for name, value in zip(self._fields, args):\n",
    "\n",
    "TypeError: Expected 3 arguments\n"
   ]
  },
  {
   "cell_type": "markdown",
   "metadata": {},
   "source": [
    "Should you decide to support keyword arguments, there are several design options.  \n",
    "One choice is to map the keyword arguments so that they only correspond to the attribute names specified in `_fields`."
   ]
  },
  {
   "cell_type": "code",
   "execution_count": 91,
   "metadata": {},
   "outputs": [],
   "source": [
    "class Structure:\n",
    "    _fields = []\n",
    "    def __init__(self, *args, **kwargs):\n",
    "        if len(args) > len(self._fields):\n",
    "            raise TypeError('Expected {} arguments'.format(len(self._fields)))\n",
    "        # Set all of the positional arguments:\n",
    "        for name, value in zip(self._fields, args):\n",
    "            setattr(self, name, value)\n",
    "        # Set the remaining keyword arguments:\n",
    "        for name in self._fields[len(args):]:\n",
    "            setattr(self, name, kwargs.pop(name))\n",
    "        # Check for any remaining unknown arguments:\n",
    "        if kwargs:\n",
    "            raise TypeError('Invalid argument(s): {}'.format(','.join(kwargs)))"
   ]
  },
  {
   "cell_type": "code",
   "execution_count": 92,
   "metadata": {},
   "outputs": [],
   "source": [
    "if __name__ == '__main__':\n",
    "    class Stock(Structure):\n",
    "        _fields = ['name', 'shares', 'price']\n",
    "        \n",
    "    s1 = Stock('ACME', 50, 91.1)\n",
    "    s2 = Stock('ACME', 50, price=91.1)\n",
    "    s3 = Stock('ACME', shares=50, price=91.1)"
   ]
  },
  {
   "cell_type": "markdown",
   "metadata": {},
   "source": [
    "Another possible choice is to use keyword arguments as a means for adding additional attributes to the structure not specified in `_fields`."
   ]
  },
  {
   "cell_type": "code",
   "execution_count": 93,
   "metadata": {},
   "outputs": [],
   "source": [
    "class Structure:\n",
    "    # Class variable that specifies expected fields:\n",
    "    _fields = []\n",
    "    def __init__(self, *args, **kwargs):\n",
    "        if len(args) != len(self._fields):\n",
    "            raise TypeError('Expected {} arguents'.format(len(self._fields)))\n",
    "        \n",
    "        # Set the arguments:\n",
    "        for name, value in zip(self._fields, args):\n",
    "            setattr(self, name, value)\n",
    "            \n",
    "        # Set any additional arguments:\n",
    "        extra_args = kwargs.keys() - self._fields\n",
    "        for name in extra_args:\n",
    "            setattr(self, name, kwargs.pop(name))\n",
    "        if kwargs:\n",
    "            raise TypeError('Duplicate values for {}'.format(','.join(kwargs)))"
   ]
  },
  {
   "cell_type": "code",
   "execution_count": 94,
   "metadata": {},
   "outputs": [
    {
     "data": {
      "text/plain": [
       "(<__main__.Stock at 0x107e42048>, <__main__.Stock at 0x107e427b8>)"
      ]
     },
     "execution_count": 94,
     "metadata": {},
     "output_type": "execute_result"
    }
   ],
   "source": [
    "if __name__ == '__main__':\n",
    "    class Stock(Structure):\n",
    "        _fields = ['name', 'shares', 'price']\n",
    "        \n",
    "    s1 = Stock('ACME', 50, 91.1)\n",
    "    s2 = Stock('ACME', 50, 91.1, date='4/3/2019')\n",
    "    \n",
    "s1,s2"
   ]
  },
  {
   "cell_type": "markdown",
   "metadata": {},
   "source": [
    "### Discussion"
   ]
  },
  {
   "cell_type": "markdown",
   "metadata": {},
   "source": [
    "\n",
    "This technique of defining a general purpose `__init__()` method can be extremely useful if you’re ever writing a program built around a large number of small data structures.  \n",
    "It leads to much less code than manually writing `__init__()` methods like this:"
   ]
  },
  {
   "cell_type": "code",
   "execution_count": 95,
   "metadata": {},
   "outputs": [],
   "source": [
    "class Stock:\n",
    "    def __init__(self, name, shares, price):\n",
    "        self.name = name\n",
    "        self.shares = shares\n",
    "        self.price = price\n",
    "        \n",
    "class Point:\n",
    "    def __init__(self, x, y):\n",
    "        self.x = x\n",
    "        self.y = y\n",
    "        \n",
    "class Circle:\n",
    "    def __init__(self, radius):\n",
    "        self.radius = radius\n",
    "        \n",
    "    def area(self):\n",
    "        return math.pi * self.radius ** 2"
   ]
  },
  {
   "cell_type": "markdown",
   "metadata": {},
   "source": [
    "One subtle aspect of the implementation concerns the mechanism used to set values using the `setattr()` function.  \n",
    "Instead of doing that, you might be inclined to directly access the instance dictionary."
   ]
  },
  {
   "cell_type": "code",
   "execution_count": 96,
   "metadata": {},
   "outputs": [],
   "source": [
    "class Structure:\n",
    "    # Initialize a class variable that specifies the expected fields\n",
    "    _fields = []\n",
    "    def __init__(self, *args):\n",
    "        if len(args) != len(self._fields):\n",
    "            raise TypeError('Expected {} arguments'.format(len(self._fields)))\n",
    "        # Set the arguments\n",
    "        self.__dict__.update(zip(self._fields, args))"
   ]
  },
  {
   "cell_type": "markdown",
   "metadata": {},
   "source": [
    "Although this works, don't make assumptions about the implementation of a subclass.  \n",
    "If a subclass uses `__slots__` or wraps a specific attribute with something like a descriptor or property, then directly accessing the instance dictionary could wreak havoc on your program or break it altogether.  \n",
    "The solution has been written to be as flexible as possible and avoid assumptions about subclasses.  \n",
    "One downside of this technique is that it impairs the documentation and help features of IDE's.  \n",
    "For example, if a user asks for help on a specific class, the required arguments are described in an unusual way."
   ]
  },
  {
   "cell_type": "code",
   "execution_count": 97,
   "metadata": {},
   "outputs": [
    {
     "name": "stdout",
     "output_type": "stream",
     "text": [
      "Help on class Stock in module __main__:\n",
      "\n",
      "class Stock(builtins.object)\n",
      " |  Methods defined here:\n",
      " |  \n",
      " |  __init__(self, name, shares, price)\n",
      " |      Initialize self.  See help(type(self)) for accurate signature.\n",
      " |  \n",
      " |  ----------------------------------------------------------------------\n",
      " |  Data descriptors defined here:\n",
      " |  \n",
      " |  __dict__\n",
      " |      dictionary for instance variables (if defined)\n",
      " |  \n",
      " |  __weakref__\n",
      " |      list of weak references to the object (if defined)\n",
      "\n"
     ]
    }
   ],
   "source": [
    "help(Stock)"
   ]
  },
  {
   "cell_type": "markdown",
   "metadata": {},
   "source": [
    "One way to deal with these problems is to attach or enforce a type signature in the `__init__()` function.  \n",
    "If you're unsure how to do that, it will be covered in Recipe 9.16.  \n",
    "It should be noted that it is also possible to automatically initialize instance variables using a utility function and what's commonly known as a [frame hack](http://farmdev.com/src/secrets/framehack/index.html#what-do-we-mean-by-frame-hack)."
   ]
  },
  {
   "cell_type": "code",
   "execution_count": 98,
   "metadata": {},
   "outputs": [],
   "source": [
    "def init_fromlocals(self):\n",
    "    import sys\n",
    "    locs = sys._getframe(1).f_locals\n",
    "    for k, v in locs.items():\n",
    "        if k != 'self':\n",
    "            setattr(self, k, v)\n",
    "            \n",
    "class Stock:\n",
    "    def __init__(self, name, shares, price):\n",
    "        init_fromlocals(self)"
   ]
  },
  {
   "cell_type": "markdown",
   "metadata": {},
   "source": [
    "In this variation, the `init_fromlocals()` function uses `sys._getframe()` to peek at the local variables of the calling method.  \n",
    "If used as the first step of an `__init__()` method, the local variables will be the same as the passed arguments and can be easily used to set attributes with the same names.  \n",
    "Although this approach avoids the problem of getting the right calling signature in IDEs, it runs more than 50% slower than the solution provided in the recipe, requires more typing, and involves more sophisticated magic behind the scenes.  \n",
    "If your code doesn’t need this extra power, often times the simpler solution will work just fine."
   ]
  },
  {
   "cell_type": "markdown",
   "metadata": {},
   "source": [
    "## 8.12. Defining an Interface or Abstract Base Class"
   ]
  },
  {
   "cell_type": "markdown",
   "metadata": {},
   "source": [
    "### Problem"
   ]
  },
  {
   "cell_type": "markdown",
   "metadata": {},
   "source": [
    "You want to define a class that serves as an interface or abstract base class from which you can perform type checking and ensure that certain methods are implemented in subclasses."
   ]
  },
  {
   "cell_type": "markdown",
   "metadata": {},
   "source": [
    "### Solution"
   ]
  },
  {
   "cell_type": "markdown",
   "metadata": {},
   "source": [
    "To define an abstract base class, use the [`abc` module](https://docs.python.org/3/library/abc.html)."
   ]
  },
  {
   "cell_type": "code",
   "execution_count": 99,
   "metadata": {},
   "outputs": [],
   "source": [
    "from abc import ABCMeta, abstractmethod\n",
    "\n",
    "class IStream(metaclass=ABCMeta):\n",
    "    @abstractmethod\n",
    "    def read(self, maxbytes=-1):\n",
    "        pass\n",
    "    @abstractmethod\n",
    "    def write(self, data):\n",
    "        pass"
   ]
  },
  {
   "cell_type": "markdown",
   "metadata": {},
   "source": [
    "One important feature of an abstract base class is that it can't be directly instantiated.  "
   ]
  },
  {
   "cell_type": "raw",
   "metadata": {},
   "source": [
    "a = IStream()\n",
    "\n",
    "---------------------------------------------------------------------------\n",
    "TypeError                                 Traceback (most recent call last)\n",
    "<ipython-input-100-a1e77104e354> in <module>()\n",
    "----> 1 a = IStream()\n",
    "\n",
    "TypeError: Can't instantiate abstract class IStream with abstract methods read, write\n"
   ]
  },
  {
   "cell_type": "markdown",
   "metadata": {},
   "source": [
    "An abstract base class is meant to be used in concert with other classes that can implement the required methods."
   ]
  },
  {
   "cell_type": "code",
   "execution_count": 100,
   "metadata": {},
   "outputs": [],
   "source": [
    "class SocketStream(IStream):\n",
    "    def read(self, maxbytes=-1):\n",
    "        \"\"\"\n",
    "        Read something\n",
    "        \"\"\"\n",
    "    def write(self, data):\n",
    "        \"\"\"\n",
    "        Write something\n",
    "        \"\"\""
   ]
  },
  {
   "cell_type": "code",
   "execution_count": null,
   "metadata": {},
   "outputs": [],
   "source": []
  },
  {
   "cell_type": "markdown",
   "metadata": {},
   "source": [
    "A major use of abstract base classes is in code that wants to enforce an expected programming interface.  \n",
    "For example, one way to view the `IStream` base class is as a high-level specification for an interface that allows reading and writing of data.  \n",
    "Code that explicitly checks for this interface could be written as follows:"
   ]
  },
  {
   "cell_type": "code",
   "execution_count": 101,
   "metadata": {},
   "outputs": [],
   "source": [
    "def serialize(obj, stream):\n",
    "    if not isinstance(stream, IStream):\n",
    "        raise TypeError('Expected an IStream')"
   ]
  },
  {
   "cell_type": "markdown",
   "metadata": {},
   "source": [
    "You might think that this kind of type checking only works by subclassing the abstract base class (ABC), but ABCs allow other classes to be registered as implementing the required interface."
   ]
  },
  {
   "cell_type": "code",
   "execution_count": 102,
   "metadata": {},
   "outputs": [
    {
     "data": {
      "text/plain": [
       "True"
      ]
     },
     "execution_count": 102,
     "metadata": {},
     "output_type": "execute_result"
    }
   ],
   "source": [
    "import io\n",
    "\n",
    "# Register the built-in I/O classes so they can talk to our interface\n",
    "IStream.register(io.IOBase)\n",
    "\n",
    "# Open a normal file and type check\n",
    "f = open('foo.txt')\n",
    "isinstance(f, IStream)"
   ]
  },
  {
   "cell_type": "markdown",
   "metadata": {},
   "source": [
    "It should be noted that `@abstractmethod` can also be applied to static methods, class methods, and properties.  \n",
    "You just need to make sure you apply it in the proper sequence where `@abstractmethod` appears immediately before the function definition, as shown here:"
   ]
  },
  {
   "cell_type": "code",
   "execution_count": 103,
   "metadata": {},
   "outputs": [],
   "source": [
    "from abc import ABCMeta, abstractmethod\n",
    "\n",
    "class A(metaclass=ABCMeta):\n",
    "    @property\n",
    "    @abstractmethod\n",
    "    def name(self):\n",
    "        pass\n",
    "    \n",
    "    @name.setter\n",
    "    @abstractmethod\n",
    "    def name(self, value):\n",
    "        pass\n",
    "    \n",
    "    @classmethod\n",
    "    @abstractmethod\n",
    "    def method1(cls):\n",
    "        pass\n",
    "    \n",
    "    @staticmethod\n",
    "    @abstractmethod\n",
    "    def method2():\n",
    "        pass"
   ]
  },
  {
   "cell_type": "markdown",
   "metadata": {},
   "source": [
    "### Discussion"
   ]
  },
  {
   "cell_type": "markdown",
   "metadata": {},
   "source": [
    "Predefined abstract base classes are found in various places in the standard library.  \n",
    "The `collections` module defines a variety of ABCs related to containers and iterators like sequences, mappings, and sets.  \n",
    "The `numbers` library defines ABCs related to numeric objects including integers, floats, and rationals.  \n",
    "Additionally, the `io` library defines ABCs related to I/O handling.  \n",
    "You can use the predefined ABCs to perform more generalized kinds of type checking."
   ]
  },
  {
   "cell_type": "raw",
   "metadata": {},
   "source": [
    "import collections\n",
    "\n",
    "# Check if x is a sequence\n",
    "if isinstance(x, collections.Sequence):\n",
    "    pass\n",
    "\n",
    "# See if x is an iterable\n",
    "if isinstance(x, collections.Iterable):\n",
    "    pass\n",
    "\n",
    "# Check if x has a size\n",
    "if isinstance(x.collections.Sized):\n",
    "    pass\n",
    "\n",
    "# See if x is a mapping\n",
    "if isinstance(x, collectiosn.Mapping):\n",
    "    pass"
   ]
  },
  {
   "cell_type": "markdown",
   "metadata": {},
   "source": [
    "It should be noted that, as of this writing, certain library modules don’t make use of these predefined ABCs as you might expect."
   ]
  },
  {
   "cell_type": "code",
   "execution_count": 104,
   "metadata": {},
   "outputs": [
    {
     "data": {
      "text/plain": [
       "False"
      ]
     },
     "execution_count": 104,
     "metadata": {},
     "output_type": "execute_result"
    }
   ],
   "source": [
    "from decimal import Decimal\n",
    "\n",
    "import numbers\n",
    "\n",
    "x = Decimal('3.4')\n",
    "isinstance(x, numbers.Real)"
   ]
  },
  {
   "cell_type": "markdown",
   "metadata": {},
   "source": [
    "Even though the value 3.4 is technically a real number, it doesn’t type check that way to help avoid inadvertent mixing of floating-point numbers and decimals.  \n",
    "Thus, if you use the ABC functionality, it is wise to carefully write tests that verify that the behavior is exactly what you intended.  \n",
    "Although ABCs facilitate type checking, it’s not something that you should overuse in a program.  \n",
    "At its heart, Python is a dynamic language that gives you great flexibility.  \n",
    "Trying to enforce type constraints everywhere tends to result in code that is more complicated than it needs to be.  \n",
    "Keep it simple."
   ]
  },
  {
   "cell_type": "markdown",
   "metadata": {},
   "source": [
    "## 8.13. Implementing a Data Model or Type System"
   ]
  },
  {
   "cell_type": "markdown",
   "metadata": {},
   "source": [
    "### Problem"
   ]
  },
  {
   "cell_type": "markdown",
   "metadata": {},
   "source": [
    "You want to define various kinds of data structures, but want to enforce constraints on the values that are allowed to be assigned to certain attributes."
   ]
  },
  {
   "cell_type": "markdown",
   "metadata": {},
   "source": [
    "### Solution"
   ]
  },
  {
   "cell_type": "markdown",
   "metadata": {},
   "source": [
    "In this problem, you are basically faced with the task of placing checks or assertions on the setting of certain instance attributes.  \n",
    "To do this, you need to customize the setting of attributes on a per-attribute basis, which can be accomplished using [descriptors](https://docs.python.org/3/howto/descriptor.html).  \n",
    "The following code illustrates the use of descriptors to implement a system type and value checking framework:"
   ]
  },
  {
   "cell_type": "code",
   "execution_count": 105,
   "metadata": {},
   "outputs": [],
   "source": [
    "# Base class descriptor that sets a value\n",
    "class Descriptor:\n",
    "    def __init__(self, name=None, **opts):\n",
    "        self.name = name\n",
    "        for key, value in opts.items():\n",
    "            setattr(self, key, value)\n",
    "            \n",
    "    def __set__(self, instance, value):\n",
    "        instance.__dict__[self.name] = value\n",
    "        \n",
    "# Descriptor for enforcing types\n",
    "class Typed(Descriptor):\n",
    "    expected_type = type(None)\n",
    "    \n",
    "    def __set__(self, instance, value):\n",
    "        if not isinstance(value, self.expected_type):\n",
    "            raise TypeError('expected ' + str(self.expected_type))\n",
    "        super().__set__(instance, value)\n",
    "        \n",
    "# Descriptor for enforcing values\n",
    "class Unsigned(Descriptor):\n",
    "    def __set__(self, instance, value):\n",
    "        if value < 0:\n",
    "            raise ValueError('Expected >= 0')\n",
    "        super().__set__(instance, value)\n",
    "        \n",
    "class MaxSized(Descriptor):\n",
    "    def __init__(self, name=None, **opts):\n",
    "        if 'size' not in opts:\n",
    "            raise TypeError('Missing size parameter')\n",
    "        super().__init__(name, **opts)\n",
    "        \n",
    "    def __set__(self, instance, value):\n",
    "        if len(value) >= self.size:\n",
    "            raise ValueError('size must be < ' + str(self.size))\n",
    "        super().__set__(instance, value)"
   ]
  },
  {
   "cell_type": "markdown",
   "metadata": {},
   "source": [
    "These classes should be viewed as basic building blocks from which you construct a data model or type system.  \n",
    "Continuing, here is some code that implements some different kinds of data:"
   ]
  },
  {
   "cell_type": "code",
   "execution_count": 106,
   "metadata": {},
   "outputs": [],
   "source": [
    "class Integer(Typed):\n",
    "    expected_type = int\n",
    "    \n",
    "class UnsignedInteger(Integer, Unsigned):\n",
    "    pass\n",
    "\n",
    "class Float(Typed):\n",
    "    expected_type = float\n",
    "    \n",
    "class UnsignedFloat(Float, Unsigned):\n",
    "    pass\n",
    "\n",
    "class String(Typed):\n",
    "    expected_type = str\n",
    "    \n",
    "class SizedString(String, MaxSized):\n",
    "    pass"
   ]
  },
  {
   "cell_type": "markdown",
   "metadata": {},
   "source": [
    "Using these type objects, now we can define a new class."
   ]
  },
  {
   "cell_type": "code",
   "execution_count": 107,
   "metadata": {},
   "outputs": [],
   "source": [
    "class Stock:\n",
    "    # Specify constraints\n",
    "    name = SizedString('name', size=8)\n",
    "    shares = UnsignedInteger('shares')\n",
    "    price = UnsignedFloat('price')\n",
    "    def __init__(self, name, shares, price):\n",
    "        self.name = name\n",
    "        self.shares = shares\n",
    "        self.price = price"
   ]
  },
  {
   "cell_type": "markdown",
   "metadata": {},
   "source": [
    "With those parameters enforced, you can validate attributes as well as assign them."
   ]
  },
  {
   "cell_type": "code",
   "execution_count": 108,
   "metadata": {},
   "outputs": [
    {
     "data": {
      "text/plain": [
       "'ACME'"
      ]
     },
     "execution_count": 108,
     "metadata": {},
     "output_type": "execute_result"
    }
   ],
   "source": [
    "s = Stock('ACME', 50, 91.1)\n",
    "s.name"
   ]
  },
  {
   "cell_type": "code",
   "execution_count": 109,
   "metadata": {},
   "outputs": [],
   "source": [
    "s.shares = 75"
   ]
  },
  {
   "cell_type": "raw",
   "metadata": {},
   "source": [
    "s.shares = -10\n",
    "\n",
    "---------------------------------------------------------------------------\n",
    "ValueError                                Traceback (most recent call last)\n",
    "<ipython-input-110-56bbeda8cc58> in <module>()\n",
    "----> 1 s.shares = -10\n",
    "\n",
    "<ipython-input-105-90abdae19932> in __set__(self, instance, value)\n",
    "     16         if not isinstance(value, self.expected_type):\n",
    "     17             raise TypeError('expected ' + str(self.expected_type))\n",
    "---> 18         super().__set__(instance, value)\n",
    "     19 \n",
    "     20 # Descriptor for enforcing values\n",
    "\n",
    "<ipython-input-105-90abdae19932> in __set__(self, instance, value)\n",
    "     22     def __set__(self, instance, value):\n",
    "     23         if value < 0:\n",
    "---> 24             raise ValueError('Expected >= 0')\n",
    "     25         super().__set__(instance, value)\n",
    "     26 \n",
    "\n",
    "ValueError: Expected >= 0\n"
   ]
  },
  {
   "cell_type": "raw",
   "metadata": {},
   "source": [
    "s.price = 'expensive'\n",
    "\n",
    "---------------------------------------------------------------------------\n",
    "TypeError                                 Traceback (most recent call last)\n",
    "<ipython-input-111-4aaf8e5b52dd> in <module>()\n",
    "----> 1 s.price = 'expensive'\n",
    "\n",
    "<ipython-input-105-90abdae19932> in __set__(self, instance, value)\n",
    "     15     def __set__(self, instance, value):\n",
    "     16         if not isinstance(value, self.expected_type):\n",
    "---> 17             raise TypeError('expected ' + str(self.expected_type))\n",
    "     18         super().__set__(instance, value)\n",
    "     19 \n",
    "\n",
    "TypeError: expected <class 'float'>\n"
   ]
  },
  {
   "cell_type": "raw",
   "metadata": {},
   "source": [
    "s.name = 'ABRACADABRA'\n",
    "\n",
    "---------------------------------------------------------------------------\n",
    "ValueError                                Traceback (most recent call last)\n",
    "<ipython-input-112-edd12256e87d> in <module>()\n",
    "----> 1 s.name = 'ABRACADABRA'\n",
    "\n",
    "<ipython-input-105-90abdae19932> in __set__(self, instance, value)\n",
    "     16         if not isinstance(value, self.expected_type):\n",
    "     17             raise TypeError('expected ' + str(self.expected_type))\n",
    "---> 18         super().__set__(instance, value)\n",
    "     19 \n",
    "     20 # Descriptor for enforcing values\n",
    "\n",
    "<ipython-input-105-90abdae19932> in __set__(self, instance, value)\n",
    "     33     def __set__(self, instance, value):\n",
    "     34         if len(value) >= self.size:\n",
    "---> 35             raise ValueError('size must be < ' + str(self.size))\n",
    "     36         super().__set__(instance, value)\n",
    "\n",
    "ValueError: size must be < 8\n"
   ]
  },
  {
   "cell_type": "markdown",
   "metadata": {},
   "source": [
    "There are some techniques that can be used to simplify the specification of constraints in classes.  \n",
    "One way to do this is to use a class decorator."
   ]
  },
  {
   "cell_type": "code",
   "execution_count": 110,
   "metadata": {},
   "outputs": [],
   "source": [
    "# Class decorator to apply constraints\n",
    "def check_attributes(**kwargs):\n",
    "    def decorate(cls):\n",
    "        for key, value in kwargs.items():\n",
    "            if isinstance(value, Descriptor):\n",
    "                value.name = key\n",
    "                setattr(cls, key, value)\n",
    "            else:\n",
    "                setattr(cls, key, value(key))\n",
    "        return cls\n",
    "    return decorate"
   ]
  },
  {
   "cell_type": "markdown",
   "metadata": {},
   "source": [
    "Now an example:"
   ]
  },
  {
   "cell_type": "code",
   "execution_count": 111,
   "metadata": {},
   "outputs": [],
   "source": [
    "@check_attributes(name=SizedString(size=8),\n",
    "                  shares=UnsignedInteger,\n",
    "                  price=UnsignedFloat)\n",
    "class Stock:\n",
    "    def __init__(self, name, shares, price):\n",
    "        self.name = name\n",
    "        self.shares = shares\n",
    "        self.price = price"
   ]
  },
  {
   "cell_type": "markdown",
   "metadata": {},
   "source": [
    "Another way to simplify the specification of constraints is to use a metaclass."
   ]
  },
  {
   "cell_type": "code",
   "execution_count": 112,
   "metadata": {},
   "outputs": [],
   "source": [
    "# A metaclass that applies checking\n",
    "class checkedmeta(type):\n",
    "    def __new__(cls, clsname, bases, methods):\n",
    "        # Attach attribute names to the descriptors\n",
    "        for key, value in methods.items():\n",
    "            if isinstance(value, Descriptor):\n",
    "                value.name = key\n",
    "        return type.__new__(cls, clsname, bases, methods)\n",
    "    \n",
    "# Example\n",
    "class Stock(metaclass=checkedmeta):\n",
    "    name   = SizedString(size=8)\n",
    "    shares = UnsignedInteger()\n",
    "    price  = UnsignedFloat()\n",
    "    def __init__(self, name, shares, price):\n",
    "        self.name = name\n",
    "        self.shares = shares\n",
    "        self.price = price"
   ]
  },
  {
   "cell_type": "markdown",
   "metadata": {},
   "source": [
    "### Discussion"
   ]
  },
  {
   "cell_type": "markdown",
   "metadata": {},
   "source": [
    "This recipe involves a number of advanced techniques, including descriptors, mixin classes, the use of `super()`, class decorators, and metaclasses.  \n",
    "Covering the basics of all those topics is beyond what can be covered here, but examples can be found in other recipes (see Recipes 8.9, 8.18, 9.12, and 9.19).  \n",
    "However, there are a number of subtle points worth noting.  \n",
    "First, in the `Descriptor` base class, you will notice that there is a `__set__()` method, but no corresponding `__get__()`.  \n",
    "If a descriptor will do nothing more than extract an identically named value from the underlying instance dictionary, defining `__get__()` is unnecessary.  \n",
    "In fact, defining `__get__()` will just make it run slower.  \n",
    "Thus, this recipe only focuses on the implementation of `__set__()`.  \n",
    "The overall design of the various descriptor classes is based on mixin classes.  \n",
    "For example, the `Unsigned` and `MaxSized` classes are meant to be mixed with the other descriptor classes derived from `Typed`.  \n",
    "To handle a specific kind of data type, multiple inheritance is used to combine the desired functionality."
   ]
  },
  {
   "cell_type": "markdown",
   "metadata": {},
   "source": [
    "You will also notice that all `__init__()` methods of the various descriptors have been programmed to have an identical signature involving keyword arguments `**opts`.  \n",
    "The class for `MaxSized` looks for its required attribute in `opts`, but simply passes it along to the `Descriptor` base class, which actually sets it.  \n",
    "One tricky part about composing classes like this (especially mixins), is that you don’t always know how the classes are going to be chained together or what `super()` will invoke.  \n",
    "For this reason, you need to make it work with any possible combination of classes.  \n",
    "The definitions of the various type classes such as `Integer`, `Float`, and `String` illustrate a useful technique of using class variables to customize an implementation.  \n",
    "The `Typed` descriptor merely looks for an `expected_type` attribute that is provided by each of those subclasses.  \n",
    "The use of a class decorator or metaclass is often useful for simplifying the specification by the user.  \n",
    "You will notice that in those examples, the user no longer has to type the name of the attribute more than once."
   ]
  },
  {
   "cell_type": "code",
   "execution_count": 113,
   "metadata": {},
   "outputs": [],
   "source": [
    "# Normal\n",
    "class Point:\n",
    "    x = Integer('x')\n",
    "    y = Integer('y')\n",
    "    \n",
    "# Metaclass\n",
    "class Point(metaclass=checkedmeta):\n",
    "    x = Integer()\n",
    "    y = Integer()"
   ]
  },
  {
   "cell_type": "markdown",
   "metadata": {},
   "source": [
    "The code for the class decorator and metaclass scan the class dictionary looking for descriptors.  \n",
    "When found, they fill in the descriptor name based on the key value.  \n",
    "Of all the approaches, the class decorator solution provides the most flexibility and sanity.  \n",
    "For one, it does not rely on any advanced machinery, such as metaclasses.  \n",
    "Second, decoration is something that can easily be added or removed from a class definition as desired.  \n",
    "For example, within the decorator, there could be an option to simply omit the added checking altogether.  \n",
    "These might allow the checking to be something that could be turned on or off depending on demand (maybe for debugging versus production).  \n",
    "As a final twist, a class decorator approach can also be used as a replacement for mixin classes, multiple inheritance, and tricky use of the `super()` function.  \n",
    "Here is an alternative formulation of this recipe that uses class decorators:"
   ]
  },
  {
   "cell_type": "code",
   "execution_count": 114,
   "metadata": {},
   "outputs": [],
   "source": [
    "# Base class that uses a descriptor to set a value\n",
    "class Descriptor:\n",
    "    def __init__(self, name=None, **opts):\n",
    "        self.name = name\n",
    "        for key, value in opts.items():\n",
    "            setattr(self, key, value)\n",
    "            \n",
    "    def __set__(self, instance, value):\n",
    "        instance.__dict__[self.name] = value\n",
    "        \n",
    "# Decorator for applying type checking\n",
    "def Typed(expected_type, cls=None):\n",
    "    if cls is None:\n",
    "        return lambda cls: Typed(expected_type, cls)\n",
    "    \n",
    "    super_set = cls.__set__\n",
    "    def __set__(self, instance, value):\n",
    "        if not isinstance(value, expected_type):\n",
    "            raise TypeError('Expected ' + str(expected_type))\n",
    "        super_set(self, instance, value)\n",
    "    cls.__set__ = __set__\n",
    "    return cls\n",
    "\n",
    "# Decorator for unsigned values\n",
    "def Unsigned(cls):\n",
    "    super_set = cls.__set__\n",
    "    def __set__(self, instance, value):\n",
    "        if value < 0:\n",
    "            raise ValueError('Expected >= 0')\n",
    "        super_set(self, instance, value)\n",
    "    cls.__set__ = __set__\n",
    "    return cls\n",
    "\n",
    "# Decorator for allowing sized values\n",
    "def MaxSized(cls):\n",
    "    super_init = cls.__init__\n",
    "    def __init__(self, name=None, **opts):\n",
    "        if 'size' not in opts:\n",
    "            raise TypeError('missing size option')\n",
    "        super_init(self, name **opts)\n",
    "    cls.__init__ = __init__\n",
    "    \n",
    "    super_set = cls.__set__\n",
    "    def __set__(self, instance, value):\n",
    "        if len(value) >= self.size:\n",
    "            raise ValueError('Size must be < ' + str(self.size))\n",
    "        super_set(self, instance, value)\n",
    "    cls.__set__ = __set__\n",
    "    return cls\n",
    "\n",
    "# Specialized descriptors\n",
    "@Typed(int)\n",
    "class Integer(Descriptor):\n",
    "    pass\n",
    "\n",
    "@Unsigned\n",
    "class UnsignedInteger(Integer):\n",
    "    pass\n",
    "\n",
    "@Typed(float)\n",
    "class Float(Descriptor):\n",
    "    pass\n",
    "\n",
    "@Unsigned\n",
    "class UnsignedFloat(Float):\n",
    "    pass\n",
    "\n",
    "@Typed(str)\n",
    "class String(Descriptor):\n",
    "    pass\n",
    "\n",
    "@MaxSized\n",
    "class SizedString(String):\n",
    "    pass"
   ]
  },
  {
   "cell_type": "markdown",
   "metadata": {},
   "source": [
    "The classes defined in this alternative formulation work exactly the same way as befor, except that now the code runs much faster.  \n",
    "The class decorator approach runs almost 100% faster than the approach using mixins.  "
   ]
  },
  {
   "cell_type": "markdown",
   "metadata": {},
   "source": [
    "## 8.14. Implementing Custom Containers"
   ]
  },
  {
   "cell_type": "markdown",
   "metadata": {},
   "source": [
    "### Problem"
   ]
  },
  {
   "cell_type": "markdown",
   "metadata": {},
   "source": [
    "You want to implement a custom class that mimics the behavior of a common built-in container type, such as a list or dictionary.  \n",
    "However, you’re not entirely sure what methods need to be implemented to do it."
   ]
  },
  {
   "cell_type": "markdown",
   "metadata": {},
   "source": [
    "### Solution"
   ]
  },
  {
   "cell_type": "markdown",
   "metadata": {},
   "source": [
    "The `collections` library defines a variety of abstract base classes that are extremely useful when implementing custom container classes.  \n",
    "To illustrate, suppose you want your class to support iteration.  \n",
    "To do that, simply start by having it inherit from `collections.Iterable`, as follows:"
   ]
  },
  {
   "cell_type": "code",
   "execution_count": 115,
   "metadata": {},
   "outputs": [],
   "source": [
    "import collections\n",
    "\n",
    "class A(collections.Iterable):\n",
    "    pass"
   ]
  },
  {
   "cell_type": "markdown",
   "metadata": {},
   "source": [
    "The special feature about inheriting from `collections.Iterable` is that it ensures you implement all of the required special methods.  \n",
    "If you don’t, you’ll get an error upon instantiation:"
   ]
  },
  {
   "cell_type": "raw",
   "metadata": {},
   "source": [
    ">>> a = A()\n",
    "\n",
    "\n",
    "---------------------------------------------------------------------------\n",
    "TypeError                                 Traceback (most recent call last)\n",
    "<ipython-input-117-7f181d8f00b8> in <module>()\n",
    "----> 1 a = A()\n",
    "\n",
    "TypeError: Can't instantiate abstract class A with abstract methods __iter__"
   ]
  },
  {
   "cell_type": "markdown",
   "metadata": {},
   "source": [
    "To fix this error, simply give the class the required `__iter__()` method and implement it as desired (see Recipes 4.2 and 4.7).  \n",
    "Other notable classes defined in `collections` include `Sequence, MutableSequence, Mapping, MutableMapping, Set,` and `MutableSet`.  \n",
    "Many of these classes form hierarchies with increasing levels of functionality (e.g., one such hierarchy is `Container, Iterable, Sized, Sequence,` and `MutableSequence`).  \n",
    "Again, simply instantiate any of these classes to see what methods need to be implemented to make a custom container with that behavior:"
   ]
  },
  {
   "cell_type": "raw",
   "metadata": {},
   "source": [
    ">>> import collections\n",
    ">>> collections.Sequence()\n",
    "\n",
    "---------------------------------------------------------------------------\n",
    "TypeError                                 Traceback (most recent call last)\n",
    "<ipython-input-118-eecd75b2f6fe> in <module>()\n",
    "      1 import collections\n",
    "----> 2 collections.Sequence()\n",
    "\n",
    "TypeError: Can't instantiate abstract class Sequence with abstract methods __getitem__, __len__\n"
   ]
  },
  {
   "cell_type": "markdown",
   "metadata": {},
   "source": [
    "Here is a simple example of a class that implements the preceding methods to create a sequence where items are always store in a sorted order:"
   ]
  },
  {
   "cell_type": "code",
   "execution_count": 116,
   "metadata": {},
   "outputs": [],
   "source": [
    "import collections\n",
    "import bisect\n",
    "\n",
    "class SortedItems(collections.Sequence):\n",
    "    def __init__(self, initial=None):\n",
    "        self._items = sorted(initial) if initial is None else []\n",
    "        \n",
    "    # Required sequence methods\n",
    "    def __getitem__(self, index):\n",
    "        return self._items[index]\n",
    "    \n",
    "    def __len__(self):\n",
    "        return len(self._items)\n",
    "    \n",
    "    # Method for adding an item in the right location\n",
    "\n",
    "    def add(self, item):\n",
    "        bisect.insort(self._items, item)"
   ]
  },
  {
   "cell_type": "markdown",
   "metadata": {},
   "source": [
    "Instances of `SortedItems` behave exactly like a normal sequence and support all of the usual operations, including indexing, iteration, `len()`, containment (using the `in` operator), and even slicing.  \n",
    "As an aside, the bisect module used in this recipe is a convenient way to keep items in a list sorted.  \n",
    "The `bisect.insort()` inserts an item into a list so that the list remains in order."
   ]
  },
  {
   "cell_type": "markdown",
   "metadata": {},
   "source": [
    "### Discussion"
   ]
  },
  {
   "cell_type": "markdown",
   "metadata": {},
   "source": [
    "Inheriting from one of the abstract base classes in collections ensures that your custom container implements all of the required methods expected of the container.  \n",
    "However, this inheritance also facilitates type checking.  \n",
    "For example, your custom container will satisfy various type checks like this:"
   ]
  },
  {
   "cell_type": "code",
   "execution_count": 117,
   "metadata": {},
   "outputs": [
    {
     "data": {
      "text/plain": [
       "True"
      ]
     },
     "execution_count": 117,
     "metadata": {},
     "output_type": "execute_result"
    }
   ],
   "source": [
    "items = SortedItems([5, 1, 3])\n",
    "import collections\n",
    "isinstance(items, collections.Iterable)"
   ]
  },
  {
   "cell_type": "code",
   "execution_count": 118,
   "metadata": {},
   "outputs": [
    {
     "data": {
      "text/plain": [
       "True"
      ]
     },
     "execution_count": 118,
     "metadata": {},
     "output_type": "execute_result"
    }
   ],
   "source": [
    "isinstance(items, collections.Sequence)"
   ]
  },
  {
   "cell_type": "code",
   "execution_count": 119,
   "metadata": {},
   "outputs": [
    {
     "data": {
      "text/plain": [
       "True"
      ]
     },
     "execution_count": 119,
     "metadata": {},
     "output_type": "execute_result"
    }
   ],
   "source": [
    "isinstance(items, collections.Container)"
   ]
  },
  {
   "cell_type": "code",
   "execution_count": 120,
   "metadata": {},
   "outputs": [
    {
     "data": {
      "text/plain": [
       "True"
      ]
     },
     "execution_count": 120,
     "metadata": {},
     "output_type": "execute_result"
    }
   ],
   "source": [
    "isinstance(items, collections.Sized)"
   ]
  },
  {
   "cell_type": "code",
   "execution_count": 121,
   "metadata": {},
   "outputs": [
    {
     "data": {
      "text/plain": [
       "False"
      ]
     },
     "execution_count": 121,
     "metadata": {},
     "output_type": "execute_result"
    }
   ],
   "source": [
    "isinstance(items, collections.Mapping)"
   ]
  },
  {
   "cell_type": "markdown",
   "metadata": {},
   "source": [
    "Many of the abstract base classes in `collections` also provide default implementations of common container methods.  \n",
    "To illustrate, suppose you have a class that inherits from `collections.MutableSequence`, like this:"
   ]
  },
  {
   "cell_type": "code",
   "execution_count": 122,
   "metadata": {},
   "outputs": [],
   "source": [
    "class Items(collections.MutableSequence):\n",
    "    def __init__(self, initial=None):\n",
    "        self._items = list(initial) if initial is None else []\n",
    "        \n",
    "    # Required sequence methods\n",
    "    def __getitem__(self, index):\n",
    "        print('Getting:', index)\n",
    "        return self._items[index]\n",
    "    \n",
    "    def __setitem__(self, index, value):\n",
    "        print('Setting:', index, value)\n",
    "        self._items[index] = value\n",
    "        \n",
    "    def __delitem__(self, index):\n",
    "        print('Deleting:', index)\n",
    "        del self._items[index]\n",
    "        \n",
    "    def insert(self, index, value):\n",
    "        self._items.insert(index, value)\n",
    "        \n",
    "    def __len__(self):\n",
    "        print('Len')\n",
    "        return len(self._items)"
   ]
  },
  {
   "cell_type": "markdown",
   "metadata": {},
   "source": [
    "If you create an instance of `Items`, you’ll find that it supports almost all of the core list methods such as `append()`, `remove()`, `count()`, and others.  \n",
    "These methods are implemented in such a way that they only use the required ones.  "
   ]
  },
  {
   "cell_type": "markdown",
   "metadata": {},
   "source": [
    "This recipe only provides a brief glimpse into Python’s abstract class functionality.  \n",
    "The numbers module provides a similar collection of abstract classes related to numeric data types.  \n",
    "See Recipe 8.12 for more information about making your own abstract base classes.  \n",
    "You can also find another recipe for abstract methods and classes [here](https://github.com/ActiveState/code/tree/master/recipes/Python/266468_Abstract_methodsclasses/)."
   ]
  },
  {
   "cell_type": "markdown",
   "metadata": {},
   "source": [
    "## 8.15. Delegating Attribute Access"
   ]
  },
  {
   "cell_type": "markdown",
   "metadata": {},
   "source": [
    "### Problem"
   ]
  },
  {
   "cell_type": "markdown",
   "metadata": {},
   "source": [
    "You want an instance to delegate attribut access to an internally held instance possibly as an alternative to inheritance or in order to implement a proxy."
   ]
  },
  {
   "cell_type": "markdown",
   "metadata": {},
   "source": [
    "### Solution"
   ]
  },
  {
   "cell_type": "markdown",
   "metadata": {},
   "source": [
    "Delegation is a programming pattern where the responsibility for implementing a particular operation is passed on to a different object."
   ]
  },
  {
   "cell_type": "code",
   "execution_count": 123,
   "metadata": {},
   "outputs": [],
   "source": [
    "class A:\n",
    "    def spam(self, x):\n",
    "        pass\n",
    "    \n",
    "    def foo(self):\n",
    "        pass\n",
    "    \n",
    "class B:\n",
    "    def __init__(self):\n",
    "        self._a = A()\n",
    "        \n",
    "    def spam(self, x):\n",
    "        # Delegate to the internal self._a instance\n",
    "        return self._a.spam(x)\n",
    "    \n",
    "    def foo(self):\n",
    "        # Delegate to the internal self._a instance\n",
    "        return self._a.foo()\n",
    "    \n",
    "    def bar(self):\n",
    "        pass"
   ]
  },
  {
   "cell_type": "markdown",
   "metadata": {},
   "source": [
    "If you have many methods to delegate, an alternative approach is to define a `__getattr__()` method."
   ]
  },
  {
   "cell_type": "code",
   "execution_count": 124,
   "metadata": {},
   "outputs": [],
   "source": [
    "class A:\n",
    "    def spam(self, x):\n",
    "        pass\n",
    "    \n",
    "    def foo(self):\n",
    "        pass\n",
    "    \n",
    "class B:\n",
    "    def __init__(self):\n",
    "        self._a = A()\n",
    "        \n",
    "    def bar(self):\n",
    "        pass\n",
    "    \n",
    "# Expose all of the methods defined on class A\n",
    "def __getattr__(self, name):\n",
    "    return getattr(self._a, name)"
   ]
  },
  {
   "cell_type": "markdown",
   "metadata": {},
   "source": [
    "The `__getattr__()` method is kind of like a catch-all for attribute lookup.  \n",
    "It’s a method that gets called if code tries to access an attribute that doesn’t exist.  \n",
    "In the preceding code, it would catch access to undefined methods on B and simply delegate them to A."
   ]
  },
  {
   "cell_type": "raw",
   "metadata": {},
   "source": [
    ">>> b = B()\n",
    ">>> b.bar()     # Calls B.bar() (exists on B)\n",
    ">>> b.spam(42)  # Calls B.__getattr__('spam') and delegates to A.spam"
   ]
  },
  {
   "cell_type": "markdown",
   "metadata": {},
   "source": [
    "Implementing proxies is another example of delegation."
   ]
  },
  {
   "cell_type": "code",
   "execution_count": 125,
   "metadata": {},
   "outputs": [],
   "source": [
    "# A proxy class that wraps around another object but still exposes its public attributes\n",
    "def __init__(self, obj):\n",
    "    self._obj = obj\n",
    "    \n",
    "    # Delegate attribute lookup to internal object\n",
    "    def __getattr__(self, name):\n",
    "        print('getattr:', name)\n",
    "        return getattr(self._obj, name)\n",
    "    \n",
    "    # Delegate attribute assignment\n",
    "    def __setattr__(self, name, value):\n",
    "        if name.startswith(''):\n",
    "            super().__setattr__(name, value)\n",
    "        else:\n",
    "            print('setattr:', name, value)\n",
    "            setattr(self._obj, name, value)\n",
    "            \n",
    "    # Delegate attribute deletion\n",
    "    def __delattr__(self, name):\n",
    "        if name.startswith('_'):\n",
    "            super().__delattr__(name)\n",
    "        else:\n",
    "            print('delattr:', name)\n",
    "            delattr(self._obj, name)"
   ]
  },
  {
   "cell_type": "markdown",
   "metadata": {},
   "source": [
    "You can use this proxy class by wrapping it around another instance:"
   ]
  },
  {
   "cell_type": "code",
   "execution_count": 126,
   "metadata": {},
   "outputs": [],
   "source": [
    "class Spam:\n",
    "    def __init__(self, x):\n",
    "        self.x = x\n",
    "    def bar(self, y):\n",
    "        print('Spam.bar:', self.x, y)"
   ]
  },
  {
   "cell_type": "code",
   "execution_count": 127,
   "metadata": {},
   "outputs": [],
   "source": [
    "# Create an instance\n",
    "s = Spam(2)"
   ]
  },
  {
   "cell_type": "code",
   "execution_count": 128,
   "metadata": {},
   "outputs": [],
   "source": [
    "# Create a proxy around it\n",
    "p = Proxy(s)"
   ]
  },
  {
   "cell_type": "code",
   "execution_count": 129,
   "metadata": {},
   "outputs": [
    {
     "name": "stdout",
     "output_type": "stream",
     "text": [
      "2\n",
      "Spam.bar: 2 3\n",
      "None\n"
     ]
    }
   ],
   "source": [
    "# Access the proxy\n",
    "print(p.x)\n",
    "print(p.bar(3))\n",
    "p.x = 37"
   ]
  },
  {
   "cell_type": "markdown",
   "metadata": {},
   "source": [
    "By customizing the implementation of the attribute access methods, you can have more control over the proxy's behavior.  \n",
    "You can enable logging access, allow read-only access, and other behavior modifications."
   ]
  },
  {
   "cell_type": "markdown",
   "metadata": {},
   "source": [
    "### Discussion"
   ]
  },
  {
   "cell_type": "markdown",
   "metadata": {},
   "source": [
    "Delegation is sometimes used as an alternative to inheritance."
   ]
  },
  {
   "cell_type": "code",
   "execution_count": 130,
   "metadata": {},
   "outputs": [],
   "source": [
    "# Inheritance\n",
    "class A:\n",
    "    def spam(self, x):\n",
    "        print('A.spam', x)\n",
    "        \n",
    "    def foo(self):\n",
    "        print('A.foo')\n",
    "        \n",
    "class B(A):\n",
    "    def spam(self, x):\n",
    "        print('B.spam')\n",
    "        super().spam(x)\n",
    "        \n",
    "    def bar(self):\n",
    "        print('B.bar')"
   ]
  },
  {
   "cell_type": "code",
   "execution_count": 131,
   "metadata": {},
   "outputs": [],
   "source": [
    "# Delegation\n",
    "class A:\n",
    "    def spam(self, x):\n",
    "        print('A.spam', x)\n",
    "        \n",
    "    def foo(self):\n",
    "        print(a.foo)\n",
    "        \n",
    "class B:\n",
    "    def __init__(self):\n",
    "        self._a = A()\n",
    "        \n",
    "    def spam(self, x):\n",
    "        print('B.spam', x)\n",
    "        self._a.spam(x)\n",
    "        \n",
    "    def bar(self):\n",
    "        print('B.bar')\n",
    "        \n",
    "    def __getattr__(self, name):\n",
    "        return getattr(self._a, name)"
   ]
  },
  {
   "cell_type": "markdown",
   "metadata": {},
   "source": [
    "This use of delegation is often useful in situations where direct inheritance might not make much sense or where you want to have more control of the relationship between objects, such as only exposing certain methods, implementing interfaces, an so forth.  \n",
    "When using delegation to implement proxies, there are a few additional details to note.  \n",
    "First, the `__getattr__()` method is actually a fallback method that only gets called when an attribute is not found.  \n",
    "Thus, when attributes of the proxy instance itself are accessed (e.g., the `_obj` attribute), this method would not be triggered.  \n",
    "Second, the `__setattr__()` and `__delattr__()` methods need a bit of extra logic added to separate attributes from the proxy instance inself and attributes on the internal object `_obj`.  \n",
    "A common convention is for proxies to only delegate to attributes that don’t start with a leading underscore so that proxies only expose the public attributes of the held instance.  \n",
    "It is also important to emphasize that the `__getattr__()` method usually does not apply to most special methods that start and end with double underscores.  \n",
    "For example, consider this class:"
   ]
  },
  {
   "cell_type": "code",
   "execution_count": 132,
   "metadata": {},
   "outputs": [],
   "source": [
    "class ListLike:\n",
    "    def __init__(self):\n",
    "        self._items = []\n",
    "    def __getattr__(self, name):\n",
    "        return getattr(self._items, name)"
   ]
  },
  {
   "cell_type": "markdown",
   "metadata": {},
   "source": [
    "If you try to make a `ListLike` object, you’ll find that it supports the common list methods, such as `append()` and `insert()`.  \n",
    "However, it does not support any of the operators like `len()`, item lookup, and so forth."
   ]
  },
  {
   "cell_type": "raw",
   "metadata": {},
   "source": [
    ">>> a = ListLike()\n",
    ">>> a.append(2)\n",
    ">>> a.insert(0, 1)\n",
    ">>> a.sort()\n",
    ">>> len(a)\n",
    "\n",
    "Traceback (most recent call last):\n",
    "File \"<stdin>\", line 1, in <module>\n",
    "TypeError: object of type 'ListLike' has no len()\n",
    "\n",
    ">>> a[0]\n",
    "\n",
    "Traceback (most recent call last):\n",
    "File \"<stdin>\", line 1, in <module>\n",
    "TypeError: 'ListLike' object does not support indexing\n",
    "\n",
    ">>>"
   ]
  },
  {
   "cell_type": "markdown",
   "metadata": {},
   "source": [
    "To support the different operators, you have to manually delegate the associated special methods yourself."
   ]
  },
  {
   "cell_type": "code",
   "execution_count": 133,
   "metadata": {},
   "outputs": [],
   "source": [
    "class ListLike:\n",
    "    def __init__(self):\n",
    "        self._items = []\n",
    "    def __getattr__(self, name):\n",
    "        return getattr(self._items, name)\n",
    "    \n",
    "    # Special methods to support certain list operations\n",
    "    def __len__(self):\n",
    "        return len(self._items)\n",
    "    \n",
    "    def __getitem__(self, index):\n",
    "        return self._items[index]\n",
    "    \n",
    "    def __setitem__(self, index, value):\n",
    "        self._items[index] = value\n",
    "        \n",
    "    def __delitem__(self, index):\n",
    "        del self._items[index]"
   ]
  },
  {
   "cell_type": "markdown",
   "metadata": {},
   "source": [
    "See Recipe 11.8 for another example of using delegation in the context of creating proxy classes for remote procedure calls."
   ]
  },
  {
   "cell_type": "markdown",
   "metadata": {},
   "source": [
    "## 8.16. Defining More Than One Constructor in a Class"
   ]
  },
  {
   "cell_type": "markdown",
   "metadata": {},
   "source": [
    "### Problem"
   ]
  },
  {
   "cell_type": "markdown",
   "metadata": {},
   "source": [
    "You’re writing a class, but you want users to be able to create instances in more than the one way provided by `__init__()`."
   ]
  },
  {
   "cell_type": "markdown",
   "metadata": {},
   "source": [
    "### Solution"
   ]
  },
  {
   "cell_type": "markdown",
   "metadata": {},
   "source": [
    "To define a class with more than one constructor, you should use a class method."
   ]
  },
  {
   "cell_type": "code",
   "execution_count": 134,
   "metadata": {},
   "outputs": [],
   "source": [
    "import time\n",
    "\n",
    "class Date:\n",
    "    # Primary constructor\n",
    "    def __init__(self, year, month, day):\n",
    "        self.year = year\n",
    "        self.month = month\n",
    "        self.day = day\n",
    "        \n",
    "    # Alternate constructor\n",
    "    @classmethod\n",
    "    def today(cls):\n",
    "        t = time.localtime()\n",
    "        return cls(t.tm_year, t.tm_mon, t.tm_mday)"
   ]
  },
  {
   "cell_type": "markdown",
   "metadata": {},
   "source": [
    "To use the alternate constructor, you call it as a function such as `Date.today()`."
   ]
  },
  {
   "cell_type": "code",
   "execution_count": 135,
   "metadata": {},
   "outputs": [
    {
     "name": "stdout",
     "output_type": "stream",
     "text": [
      "2019 4 10\n",
      "2019 4 25\n"
     ]
    }
   ],
   "source": [
    "a = Date(2019, 4, 10)\n",
    "b = Date.today()\n",
    "print(a.year, a.month, a.day)\n",
    "print(b.year, b.month, b.day)"
   ]
  },
  {
   "cell_type": "markdown",
   "metadata": {},
   "source": [
    "Even though the numbers above are identical, `a` and `b` are different `Date` objects stored in different places."
   ]
  },
  {
   "cell_type": "code",
   "execution_count": 136,
   "metadata": {},
   "outputs": [
    {
     "data": {
      "text/plain": [
       "(<__main__.Date at 0x107e8b198>, <__main__.Date at 0x107e8b128>)"
      ]
     },
     "execution_count": 136,
     "metadata": {},
     "output_type": "execute_result"
    }
   ],
   "source": [
    "a, b"
   ]
  },
  {
   "cell_type": "markdown",
   "metadata": {},
   "source": [
    "Perhaps one could be used as a primary and another as an alternate, but if memory and speed are a concern and the objects are identical, you may want to use only one."
   ]
  },
  {
   "cell_type": "markdown",
   "metadata": {},
   "source": [
    "### Discussion"
   ]
  },
  {
   "cell_type": "markdown",
   "metadata": {},
   "source": [
    "One of the primary uses of class methods is to define alternate constructors, as shown in this recipe.  \n",
    "A critical feature of a class method is that it receives the class as the first argument `(cls)`.  \n",
    "You will notice that this class is used within the method to create and return the final instance.  \n",
    "It is extremely subtle, but this aspect of class methods makes them work correctly with features such as inheritance."
   ]
  },
  {
   "cell_type": "code",
   "execution_count": 137,
   "metadata": {},
   "outputs": [
    {
     "name": "stdout",
     "output_type": "stream",
     "text": [
      "2019 4 25\n",
      "2019 4 25\n"
     ]
    }
   ],
   "source": [
    "class NewDate(Date):\n",
    "    pass\n",
    "\n",
    "# Creates an instance of Date (cls=Date)\n",
    "c = Date.today()\n",
    "# Creates an instance of NewDate(cls=NewDate)\n",
    "d = NewDate.today()\n",
    "print(c.year, c.month, c.day)\n",
    "print(d.year, d.month, d.day)"
   ]
  },
  {
   "cell_type": "markdown",
   "metadata": {},
   "source": [
    "When defining a class with multiple constructors, you should make the `__init__()` function as simple as possible — doing nothing more than assigning attributes from given values.  \n",
    "Alternate constructors can then choose to perform advanced operations if needed.\n",
    "Instead of defining a separate class method, you might be inclined to implement the `__init__()` method in a way that allows for different calling conventions."
   ]
  },
  {
   "cell_type": "code",
   "execution_count": 138,
   "metadata": {},
   "outputs": [],
   "source": [
    "class Date:\n",
    "    def __init__(self, *args):\n",
    "        if len(args) == 0:\n",
    "            t = time.localtime()\n",
    "            args = (t.tm_year, t.tm_mon, t.tm_mday)\n",
    "        self.year, self.month, self.day = args"
   ]
  },
  {
   "cell_type": "code",
   "execution_count": 139,
   "metadata": {},
   "outputs": [
    {
     "data": {
      "text/plain": [
       "<__main__.Date at 0x107e62d68>"
      ]
     },
     "execution_count": 139,
     "metadata": {},
     "output_type": "execute_result"
    }
   ],
   "source": [
    "a = Date(2019, 4, 10)\n",
    "a"
   ]
  },
  {
   "cell_type": "code",
   "execution_count": 140,
   "metadata": {},
   "outputs": [
    {
     "data": {
      "text/plain": [
       "(2019, 4, 10)"
      ]
     },
     "execution_count": 140,
     "metadata": {},
     "output_type": "execute_result"
    }
   ],
   "source": [
    "a.year, a.month, a.day"
   ]
  },
  {
   "cell_type": "markdown",
   "metadata": {},
   "source": [
    "Although this technique works in certain cases, it often leads to code that is hard to understand and difficult to maintain.  \n",
    "For example, this implementation won’t show useful help strings containing argument names.  \n",
    "In addition, code that creates `Date` instances won't be as clear.  \n",
    "Compare and contrast the following:"
   ]
  },
  {
   "cell_type": "code",
   "execution_count": 141,
   "metadata": {},
   "outputs": [],
   "source": [
    "# Specify a date clearly\n",
    "a = Date(2019, 4, 10)\n",
    "# Don't specify a date? What does this do?\n",
    "b = Date()"
   ]
  },
  {
   "cell_type": "markdown",
   "metadata": {},
   "source": [
    "As shown, the `Date.today()` invokes the regular `Date.__init__()` method by instantiating a `Date()` with suitable `year`, `month`, and `day` arguments.  \n",
    "If necessary, instances can be created without ever invoking the `__init__()` method.  \n",
    "This is described in the next recipe."
   ]
  },
  {
   "cell_type": "markdown",
   "metadata": {},
   "source": [
    "## 8.17. Creating an Instance Without Invoking `__init__()`"
   ]
  },
  {
   "cell_type": "markdown",
   "metadata": {},
   "source": [
    "### Problem"
   ]
  },
  {
   "cell_type": "markdown",
   "metadata": {},
   "source": [
    "You need to create an instance, but want to bypass the execution of the `__init__()` method."
   ]
  },
  {
   "cell_type": "markdown",
   "metadata": {},
   "source": [
    "### Solution"
   ]
  },
  {
   "cell_type": "markdown",
   "metadata": {},
   "source": [
    "A bare uninitialized instance can be created by directly calling the [`__new__()`](https://www.python.org/download/releases/2.2.3/descrintro/#__new__) method of a class."
   ]
  },
  {
   "cell_type": "code",
   "execution_count": 142,
   "metadata": {},
   "outputs": [],
   "source": [
    "class Date:\n",
    "    def __init__(self, year, month, day):\n",
    "        self.year = year\n",
    "        self.month = month\n",
    "        self.day = day"
   ]
  },
  {
   "cell_type": "markdown",
   "metadata": {},
   "source": [
    "Here's how you can create a `Date` instance without invoking `__init__()`:"
   ]
  },
  {
   "cell_type": "code",
   "execution_count": 143,
   "metadata": {},
   "outputs": [
    {
     "data": {
      "text/plain": [
       "<__main__.Date at 0x107e8b2e8>"
      ]
     },
     "execution_count": 143,
     "metadata": {},
     "output_type": "execute_result"
    }
   ],
   "source": [
    "d = Date.__new__(Date)\n",
    "d"
   ]
  },
  {
   "cell_type": "markdown",
   "metadata": {},
   "source": [
    "However, the resulting instance is uninitialized and the instance variables must be set manually."
   ]
  },
  {
   "cell_type": "raw",
   "metadata": {},
   "source": [
    ">>> d.year\n",
    "\n",
    "---------------------------------------------------------------------------\n",
    "AttributeError                            Traceback (most recent call last)\n",
    "<ipython-input-144-7b2b8d967cb9> in <module>()\n",
    "----> 1 d.year\n",
    "\n",
    "AttributeError: 'Date' object has no attribute 'year'\n"
   ]
  },
  {
   "cell_type": "code",
   "execution_count": 144,
   "metadata": {},
   "outputs": [],
   "source": [
    "data = {'year':2019, 'month':4, 'day':12}\n",
    "for key, value in data.items():\n",
    "    setattr(d, key, value)"
   ]
  },
  {
   "cell_type": "code",
   "execution_count": 145,
   "metadata": {},
   "outputs": [
    {
     "data": {
      "text/plain": [
       "(2019, 4, 12)"
      ]
     },
     "execution_count": 145,
     "metadata": {},
     "output_type": "execute_result"
    }
   ],
   "source": [
    "d.year, d.month, d.day"
   ]
  },
  {
   "cell_type": "markdown",
   "metadata": {},
   "source": [
    "### Discussion"
   ]
  },
  {
   "cell_type": "markdown",
   "metadata": {},
   "source": [
    "The problem of bypassing `__init__()` sometimes arises when instances are being created in a nonstandard way.  \n",
    "Examples include deserializing data or the implementation of a class method that’s been defined as an alternate constructor.  \n",
    "For this example on the `Date` class shown, someone might define an alternate constructor `today()` as follows:"
   ]
  },
  {
   "cell_type": "code",
   "execution_count": 146,
   "metadata": {},
   "outputs": [],
   "source": [
    "from time import localtime\n",
    "\n",
    "class Date:\n",
    "    def __init__(self, year, month, day):\n",
    "        self.year = year\n",
    "        self.month = month\n",
    "        self.day = day\n",
    "        \n",
    "    @classmethod\n",
    "    def today(cls):\n",
    "        d = cls.__new__(cls)\n",
    "        t = localtime()\n",
    "        d.year = t.tm_year\n",
    "        d.month = t.tm_mon\n",
    "        d.dat = t.tm_mday\n",
    "        return d"
   ]
  },
  {
   "cell_type": "markdown",
   "metadata": {},
   "source": [
    "Now suppose you are deserializing JSON data and the resulting dictionary looks like this:"
   ]
  },
  {
   "cell_type": "code",
   "execution_count": 147,
   "metadata": {},
   "outputs": [],
   "source": [
    "data = { 'year': 2019, 'month': 4, 'day': 12 }"
   ]
  },
  {
   "cell_type": "markdown",
   "metadata": {},
   "source": [
    "If you want to turn this into a `Date` instance, simply use the technique shown in the solution.  \n",
    "When creating instances in a nonstandard way, it’s usually best to not make too many assumptions about their implementation.  \n",
    "As such, you generally don’t want to write code that directly manipulates the underlying instance dictionary `__dict__` unless you know it’s guaranteed to be defined.  \n",
    "Otherwise, the code will break if the class uses `__slots__`, properties, descriptors, or other advanced techniques.  \n",
    "By using `setattr()` to set the values, your code will be as general purpose as possible."
   ]
  },
  {
   "cell_type": "markdown",
   "metadata": {},
   "source": [
    "## 8.18. Extending Classes with Mixins"
   ]
  },
  {
   "cell_type": "markdown",
   "metadata": {},
   "source": [
    "### Problem"
   ]
  },
  {
   "cell_type": "markdown",
   "metadata": {},
   "source": [
    "You have a collection of generally useful methods that you would like to make available for extending the functionality of other class definitions.  \n",
    "However, the classes where the methods might be added aren’t necessarily related to one another via inheritance.  \n",
    "Thus, you can’t just attach the methods to a common base class."
   ]
  },
  {
   "cell_type": "markdown",
   "metadata": {},
   "source": [
    "### Discussion"
   ]
  },
  {
   "cell_type": "markdown",
   "metadata": {},
   "source": [
    "The problem addressed by this recipe often arises in code where one is interested in the issue of class customization.  \n",
    "For example, maybe a library provides a basic set of classes along with a set of optional customizations that can be applied if desired by the user.  \n",
    "To illustrate, suppose you have an interest in adding various customizations like logging, set-once, and type checking to mapping objects.  \n",
    "Here are a set of mixin classes that do that:"
   ]
  },
  {
   "cell_type": "code",
   "execution_count": 148,
   "metadata": {},
   "outputs": [],
   "source": [
    "class LoggedMappingMixin:\n",
    "    \"\"\"\n",
    "    Add logging to get, set, and delete operations for debugging.\n",
    "    \"\"\"\n",
    "    __slots__ = ()\n",
    "    \n",
    "    def __getitem__(self, key):\n",
    "        print('Getting ' + str(key))\n",
    "        return super().__getitem__(key)\n",
    "    \n",
    "    def __setitem__(self, key, value):\n",
    "        print('Setting {} = {!r}'.format(key, value))\n",
    "        return super().__setitem__(key, value)\n",
    "    \n",
    "    def __delitem__(self, key):\n",
    "        print('Deleting ' + str(key))\n",
    "        return super().__delitem__(key)\n",
    "    \n",
    "class SetOnceMappingMixin:\n",
    "    \"\"\"\n",
    "    Only allow a key to be set once.\n",
    "    \"\"\"\n",
    "    __slots__ = ()\n",
    "    def __setitem__(self, key, value):\n",
    "        if key in self:\n",
    "            raise KeyError(str(key) + ' already set')\n",
    "        return super().__setitem__(key, value)\n",
    "    \n",
    "class StringKeysMappingMixin:\n",
    "    \"\"\"\n",
    "    Restrict keys to strings only.\n",
    "    \"\"\"\n",
    "    __slots__ = ()\n",
    "    def __setitem__(self, key, value):\n",
    "        if not isinstance(key, str):\n",
    "            raise TypeError('Keys must be strings')\n",
    "        return super().__setitem__(key, value)"
   ]
  },
  {
   "cell_type": "markdown",
   "metadata": {},
   "source": [
    "These classes, by themselves, are useless.  \n",
    "In fact, if you instantiate any one of them in isolation, the only thing they do is generate exceptions.  \n",
    "Instead, they are supposed to be mixed with other mapping classes through multiple inheritance."
   ]
  },
  {
   "cell_type": "code",
   "execution_count": 149,
   "metadata": {},
   "outputs": [
    {
     "name": "stdout",
     "output_type": "stream",
     "text": [
      "Setting x = 23\n"
     ]
    }
   ],
   "source": [
    "class LoggedDict(LoggedMappingMixin, dict):\n",
    "    pass\n",
    "\n",
    "d = LoggedDict()\n",
    "d['x'] = 23"
   ]
  },
  {
   "cell_type": "code",
   "execution_count": 150,
   "metadata": {},
   "outputs": [
    {
     "name": "stdout",
     "output_type": "stream",
     "text": [
      "Getting x\n"
     ]
    },
    {
     "data": {
      "text/plain": [
       "23"
      ]
     },
     "execution_count": 150,
     "metadata": {},
     "output_type": "execute_result"
    }
   ],
   "source": [
    "d['x']"
   ]
  },
  {
   "cell_type": "code",
   "execution_count": 151,
   "metadata": {},
   "outputs": [
    {
     "name": "stdout",
     "output_type": "stream",
     "text": [
      "Deleting x\n"
     ]
    }
   ],
   "source": [
    "del d['x']"
   ]
  },
  {
   "cell_type": "code",
   "execution_count": 152,
   "metadata": {},
   "outputs": [],
   "source": [
    "from collections import defaultdict\n",
    "\n",
    "class SetOnceDefaultDict(SetOnceMappingMixin, defaultdict):\n",
    "    pass"
   ]
  },
  {
   "cell_type": "code",
   "execution_count": 153,
   "metadata": {},
   "outputs": [],
   "source": [
    "d = SetOnceDefaultDict(list)"
   ]
  },
  {
   "cell_type": "code",
   "execution_count": 154,
   "metadata": {},
   "outputs": [],
   "source": [
    "d['x'].append(2)\n",
    "d['y'].append(3)\n",
    "d['x'].append(10)"
   ]
  },
  {
   "cell_type": "raw",
   "metadata": {},
   "source": [
    ">>> d['x'] = 23\n",
    "\n",
    "---------------------------------------------------------------------------\n",
    "KeyError                                  Traceback (most recent call last)\n",
    "<ipython-input-158-932ec3394205> in <module>()\n",
    "----> 1 d['x'] = 23\n",
    "\n",
    "<ipython-input-149-474c21829979> in __setitem__(self, key, value)\n",
    "     24     def __setitem__(self, key, value):\n",
    "     25         if key in self:\n",
    "---> 26             raise KeyError(str(key) + ' already set')\n",
    "     27         return super().__setitem__(key, value)\n",
    "     28 \n",
    "\n",
    "KeyError: 'x already set'\n"
   ]
  },
  {
   "cell_type": "code",
   "execution_count": 155,
   "metadata": {},
   "outputs": [],
   "source": [
    "from collections import OrderedDict\n",
    "\n",
    "class StringOrderedDict(StringKeysMappingMixin,\n",
    "                        SetOnceMappingMixin,\n",
    "                        OrderedDict):\n",
    "    pass"
   ]
  },
  {
   "cell_type": "code",
   "execution_count": 156,
   "metadata": {},
   "outputs": [],
   "source": [
    "d = StringOrderedDict()\n",
    "d['x'] = 23"
   ]
  },
  {
   "cell_type": "raw",
   "metadata": {},
   "source": [
    ">>> d[42] = 10\n",
    "\n",
    "---------------------------------------------------------------------------\n",
    "TypeError                                 Traceback (most recent call last)\n",
    "<ipython-input-161-c6ed45d43955> in <module>()\n",
    "----> 1 d[42] = 10\n",
    "\n",
    "<ipython-input-149-474c21829979> in __setitem__(self, key, value)\n",
    "     34     def __setitem__(self, key, value):\n",
    "     35         if not isinstance(key, str):\n",
    "---> 36             raise TypeError('Keys must be strings')\n",
    "     37         return super().__setitem__(key, value)\n",
    "\n",
    "TypeError: Keys must be strings\n"
   ]
  },
  {
   "cell_type": "raw",
   "metadata": {},
   "source": [
    ">>> d['x'] = 42\n",
    "\n",
    "---------------------------------------------------------------------------\n",
    "KeyError                                  Traceback (most recent call last)\n",
    "<ipython-input-162-d5bc6d33f6de> in <module>()\n",
    "----> 1 d['x'] = 42\n",
    "\n",
    "<ipython-input-149-474c21829979> in __setitem__(self, key, value)\n",
    "     35         if not isinstance(key, str):\n",
    "     36             raise TypeError('Keys must be strings')\n",
    "---> 37         return super().__setitem__(key, value)\n",
    "\n",
    "<ipython-input-149-474c21829979> in __setitem__(self, key, value)\n",
    "     24     def __setitem__(self, key, value):\n",
    "     25         if key in self:\n",
    "---> 26             raise KeyError(str(key) + ' already set')\n",
    "     27         return super().__setitem__(key, value)\n",
    "     28 \n",
    "\n",
    "KeyError: 'x already set'"
   ]
  },
  {
   "cell_type": "markdown",
   "metadata": {},
   "source": [
    "In the example, you will notice that the mixins are combined with other existing classes such as `dict`, `defaultdict`, and `OrderedDict` as well as one another.  \n",
    "When combined, the classes all work together to provide the desired functionality."
   ]
  },
  {
   "cell_type": "markdown",
   "metadata": {},
   "source": [
    "### Discussion"
   ]
  },
  {
   "cell_type": "markdown",
   "metadata": {},
   "source": [
    "Mixin classes appear in various places in the standard library, mostly as a means for extending the functionality of other classes similar to th one shown.  \n",
    "They are also one of the main uses of multiple inheritance.  \n",
    "For instance, if you are writing network code, you can often use the `ThreadingMixIn` from the `socketserver` module to add thread support to other network-related classes.  \n",
    "For example, here is a multithreaded XML-RPC server:"
   ]
  },
  {
   "cell_type": "code",
   "execution_count": 157,
   "metadata": {},
   "outputs": [],
   "source": [
    "from xmlrpc.server import SimpleXMLRPCServer\n",
    "from socketserver import ThreadingMixIn\n",
    "\n",
    "class ThreadedXMLRPCServer(ThreadingMixIn, SimpleXMLRPCServer):\n",
    "    pass"
   ]
  },
  {
   "cell_type": "markdown",
   "metadata": {},
   "source": [
    "It is also common to find mixins defined in large libraries and frameworks -- again, typically to enhance the functionality of existing classes with optional features in some way.  \n",
    "There is a rich history surrounding the theory of mixin classes.  \n",
    "However, rather than getting into all of the details, there are a few important implementation details to keep in mind.  \n",
    "First, mixin classes are never meant to be instantiated directly.  \n",
    "For example, none of the classes in this recipe work by themselves.  \n",
    "They have to be mixed with another class that implements the required mapping functionality.  \n",
    "Similarly, the `ThreadingMixIn` from the `socketserver` library has to be mixed with an appropriate server class -- it can’t be used all by itself.  \n",
    "Second, mixin classes typically have no state of their own.  \n",
    "This means there is no `__init__()` method and no instance variables.  \n",
    "In this recipe, the specification of `__slots__ = ()` is meant to serve as a strong hint that the mixin classes do not have their own instance data.  "
   ]
  },
  {
   "cell_type": "markdown",
   "metadata": {},
   "source": [
    "If you are thinking about defining a mixin class that has an` __init__()` method and instance variables, be aware that there is significant peril associated with the fact that the class doesn’t know anything about the other classes it’s going to be mixed with.  \n",
    "Thus, any instance variables created would have to be named in a way that avoids name clashes.  \n",
    "In addition, the `__init__()` method would have to be programmed in a way that properly invokes the `__init__()` method of other classes that are mixed in.  \n",
    "In general, this is difficult to implement since you know nothing about the argument signatures of the other classes.  \n",
    "At the very least, you would have to implement something very general using `*arg`, `**kwargs`.  \n",
    "If the `__init__()` of the mixin class took any arguments of its own, those arguments should be specified by keyword only and named in such a way to avoid name collisions with other arguments.  \n",
    "Here is one possible implementation of a mixin defining an` __init__()` and accepting a keyword argument:"
   ]
  },
  {
   "cell_type": "code",
   "execution_count": 158,
   "metadata": {},
   "outputs": [],
   "source": [
    "class RestrictKeysMixin:\n",
    "    def __init__(self, *args, _restrict_key_type, **kwargs):\n",
    "        self.__restrict_key_type = _restrict_key_type\n",
    "        super().__init__(*args, **kwargs)\n",
    "        \n",
    "    def __setitem__(self, key, value):\n",
    "        if not isinstance(key, self.__restrict_key_type):\n",
    "            raise TypeError('Keys must be ' + str(self.__restrict_key_type))\n",
    "        super().__setitem__(key, value)"
   ]
  },
  {
   "cell_type": "markdown",
   "metadata": {},
   "source": [
    "Here is one possible use for this class:"
   ]
  },
  {
   "cell_type": "code",
   "execution_count": 159,
   "metadata": {},
   "outputs": [
    {
     "data": {
      "text/plain": [
       "{'name': 'Dave', 'n': 37}"
      ]
     },
     "execution_count": 159,
     "metadata": {},
     "output_type": "execute_result"
    }
   ],
   "source": [
    "class RDict(RestrictKeysMixin, dict):\n",
    "    pass\n",
    "\n",
    "d = RDict(_restrict_key_type=str)\n",
    "e = RDict([('name','Dave'), ('n',37)], _restrict_key_type=str)\n",
    "f = RDict(name='Dave', n=37, _restrict_key_type=str)\n",
    "f"
   ]
  },
  {
   "cell_type": "raw",
   "metadata": {},
   "source": [
    "f[42] = 10\n",
    "\n",
    "---------------------------------------------------------------------------\n",
    "TypeError                                 Traceback (most recent call last)\n",
    "<ipython-input-161-7f8b66957215> in <module>()\n",
    "----> 1 f[42] = 10\n",
    "\n",
    "<ipython-input-158-b783d1b79e08> in __setitem__(self, key, value)\n",
    "      6     def __setitem__(self, key, value):\n",
    "      7         if not isinstance(key, self.__restrict_key_type):\n",
    "----> 8             raise TypeError('Keys must be ' + str(self.__restrict_key_type))\n",
    "      9         super().__setitem__(key, value)\n",
    "\n",
    "TypeError: Keys must be <class 'str'>"
   ]
  },
  {
   "cell_type": "markdown",
   "metadata": {},
   "source": [
    "In this example, you’ll notice that initializing an `RDict()` still takes the arguments understood by `dict()`.  \n",
    "However, there is an extra keyword argument `restrict_key_type` that is provided to the mixin class.  \n",
    "Finally, use of the `super()` function is an essential and critical part of writing mixin classes.  \n",
    "In the solution, the classes redefine certain critical methods, such as `__getitem__()` and `__setitem__()`.  \n",
    "However, they also need to call the original implementation of those methods.  \n",
    "Using `super()` delegates to the next class on the method resolution order (MRO).  \n",
    "This aspect of the recipe, however, is not obvious to novices, because `super()` is being used in classes that have no parent (at first glance, it might look like an error).  \n",
    "However, in a class definition such as this:"
   ]
  },
  {
   "cell_type": "code",
   "execution_count": 160,
   "metadata": {},
   "outputs": [],
   "source": [
    "class LoggedDict(LoggedMappingMixin, dict):\n",
    "    pass"
   ]
  },
  {
   "cell_type": "markdown",
   "metadata": {},
   "source": [
    "the use of `super()` in `LoggedMappingMixin` delegates to the next class over in the multiple inheritance list.  \n",
    "That is, a call such as `super().__getitem__()` in `LoggedMappingMixin` actually steps over and invokes `dict.__getitem__()`.  \n",
    "Without this behavior, the mixin class wouldn’t work at all.  \n",
    "An alternative implementation of mixins involves the use of class decorators.  \n",
    "For example, consider this code:"
   ]
  },
  {
   "cell_type": "code",
   "execution_count": 161,
   "metadata": {},
   "outputs": [],
   "source": [
    "def LoggedMapping(cls):\n",
    "    cls_getitem = cls.__getitem__\n",
    "    cls_setitem = cls.__setitem__\n",
    "    cls_delitem = cls.__delitem__\n",
    "\n",
    "\n",
    "    def __getitem__(self, key):\n",
    "        print('Getting ' + str(key))\n",
    "        return cls_getitem(self, key)\n",
    "    \n",
    "    def __setitem__(self, key, value):\n",
    "        print('Setting {} = {!r}'.format(key, value))\n",
    "        return cls_setitem(self, key, value)\n",
    "    \n",
    "    def __delitem__(self, key):\n",
    "        print('Deleting ' + str(key))\n",
    "        return cls_delitem(self, key)\n",
    "    \n",
    "    cls.__getitem__ = __getitem__\n",
    "    cls.__setitem__ = __setitem__\n",
    "    cls.__delitem__ = __delitem__\n",
    "    return cls"
   ]
  },
  {
   "cell_type": "markdown",
   "metadata": {},
   "source": [
    "This function is applied as a decorator to a class definition."
   ]
  },
  {
   "cell_type": "code",
   "execution_count": 162,
   "metadata": {},
   "outputs": [],
   "source": [
    "@LoggedMapping\n",
    "class LoggedDict(dict):\n",
    "    pass"
   ]
  },
  {
   "cell_type": "markdown",
   "metadata": {
    "collapsed": true
   },
   "source": [
    "If you try it, you’ll find that you get the same behavior, but multiple inheritance is no longer involved.  \n",
    "Instead, the decorator has simply performed a bit of surgery on the class definition to replace certain methods.  \n",
    "Further details about class decorators can be found in Recipe 9.12.\n",
    "See Recipe 8.13 for an advanced recipe involving both mixins and class decorators."
   ]
  },
  {
   "cell_type": "markdown",
   "metadata": {},
   "source": [
    "## 8.19. Implementing Stateful Objects or State Machines"
   ]
  },
  {
   "cell_type": "markdown",
   "metadata": {},
   "source": [
    "### Problem"
   ]
  },
  {
   "cell_type": "markdown",
   "metadata": {},
   "source": [
    "You want to implement a state machine or an object that operates in multiple states, and you want to avoid cluttering your code with conditional statements."
   ]
  },
  {
   "cell_type": "markdown",
   "metadata": {},
   "source": [
    "### Solution"
   ]
  },
  {
   "cell_type": "markdown",
   "metadata": {},
   "source": [
    "In certain applications, you might have objects that operate differently according to some kind of internal state.  \n",
    "For example, consider a simple class representing a connection:"
   ]
  },
  {
   "cell_type": "code",
   "execution_count": 163,
   "metadata": {},
   "outputs": [],
   "source": [
    "class Connection:\n",
    "    def __init__(self):\n",
    "        self.state = 'CLOSED'\n",
    "        \n",
    "    def read(self):\n",
    "        if self.state != 'OPEN':\n",
    "            raise RuntimeError('Not open')\n",
    "        print('Reading...')\n",
    "        \n",
    "    def write(self, data):\n",
    "        if self.state != 'OPEN':\n",
    "            raise RuntimeError('Not Open')\n",
    "        print('Writing...')\n",
    "        \n",
    "    def open(self):\n",
    "        if self.state == 'OPEN':\n",
    "            raise RuntimeError('Already Open')\n",
    "        self.state = 'OPEN'\n",
    "        \n",
    "    def open(self):\n",
    "        if self.state == 'CLOSED':\n",
    "            raise RuntimeError('Already Closed')\n",
    "        self.state = 'CLOSED'"
   ]
  },
  {
   "cell_type": "markdown",
   "metadata": {},
   "source": [
    "This implementation presents a couple of difficulties.  \n",
    "First, the code is complicated by the introduction of many conditional checks for the state.  \n",
    "Second, the performance is degraded because common operations like `read()` and `write()` always check the state before proceeding.  \n",
    "A more elegant approach is to encode each operational state as a separate class and arrange for the `Connection` class to delegate to the state class."
   ]
  },
  {
   "cell_type": "code",
   "execution_count": 164,
   "metadata": {},
   "outputs": [],
   "source": [
    "class Connection:\n",
    "    def __init__(self):\n",
    "        self.new_state(ClosedConnectionState)\n",
    "        \n",
    "    def new_state(self, newstate):\n",
    "        self._state = newstate\n",
    "        \n",
    "    # Delegate to the state class\n",
    "    def read(self):\n",
    "        return self._state.read(self)\n",
    "    \n",
    "    def write(self, data):\n",
    "        return self._state.write(self, data)\n",
    "    \n",
    "    def open(self):\n",
    "        return self._state.open(self)\n",
    "    \n",
    "    def close(self):\n",
    "        return self._state.close(self)\n",
    "    \n",
    "# Connection state base class\n",
    "class ConnectionState:\n",
    "    @staticmethod\n",
    "    def read(conn):\n",
    "        raise NotImplementedError()\n",
    "        \n",
    "    @staticmethod\n",
    "    def write(conn, data):\n",
    "        raise NotImplementedError()\n",
    "        \n",
    "    @staticmethod\n",
    "    def open(conn):\n",
    "        raise NotImplementedError()\n",
    "        \n",
    "    @staticmethod\n",
    "    def close(conn):\n",
    "        raise NotImplementedError()\n",
    "        \n",
    "# Implementation of different states\n",
    "class ClosedConnectionState(ConnectionState):\n",
    "    @staticmethod\n",
    "    def read(conn):\n",
    "        raise RuntimeError('Not open')\n",
    "        \n",
    "    @staticmethod\n",
    "    def write(conn, data):\n",
    "        raise RuntimeError('Not open')\n",
    "        \n",
    "    @staticmethod\n",
    "    def open(conn):\n",
    "        raise RuntimeError('Already closed')\n",
    "        \n",
    "class OpenConnectionState(ConnectionState):\n",
    "    @staticmethod\n",
    "    def read(conn):\n",
    "        print('Reading')\n",
    "        \n",
    "    @staticmethod\n",
    "    def write(conn, data):\n",
    "        print('Writing')\n",
    "    \n",
    "    @staticmethod\n",
    "    def open(conn):\n",
    "        raise RuntimeError('Already open')\n",
    "        \n",
    "    @staticmethod\n",
    "    def close(conn):\n",
    "        conn.new_state(ClosedConnectionState)"
   ]
  },
  {
   "cell_type": "markdown",
   "metadata": {},
   "source": [
    "Now we can illustrate the use of these classes:"
   ]
  },
  {
   "cell_type": "code",
   "execution_count": 165,
   "metadata": {},
   "outputs": [
    {
     "data": {
      "text/plain": [
       "__main__.ClosedConnectionState"
      ]
     },
     "execution_count": 165,
     "metadata": {},
     "output_type": "execute_result"
    }
   ],
   "source": [
    "c = Connection()\n",
    "c._state"
   ]
  },
  {
   "cell_type": "raw",
   "metadata": {},
   "source": [
    "c.read()\n",
    "\n",
    "---------------------------------------------------------------------------\n",
    "RuntimeError                              Traceback (most recent call last)\n",
    "<ipython-input-167-aaae037ddc31> in <module>()\n",
    "----> 1 c.read()\n",
    "\n",
    "<ipython-input-164-aad630bdf66b> in read(self)\n",
    "      8     # Delegate to the state class\n",
    "      9     def read(self):\n",
    "---> 10         return self._state.read(self)\n",
    "     11 \n",
    "     12     def write(self, data):\n",
    "\n",
    "<ipython-input-164-aad630bdf66b> in read(conn)\n",
    "     41     @staticmethod\n",
    "     42     def read(conn):\n",
    "---> 43         raise RuntimeError('Not open')\n",
    "     44 \n",
    "     45     @staticmethod\n",
    "\n",
    "RuntimeError: Not open"
   ]
  },
  {
   "cell_type": "markdown",
   "metadata": {},
   "source": [
    "### Discussion"
   ]
  },
  {
   "cell_type": "markdown",
   "metadata": {},
   "source": [
    "Writing code that features a large set of complicated conditionals and intertwined states is hard to maintain and explain.  \n",
    "The solution presented here avoids that by splitting the individual states into their own classes.  \n",
    "It might look a little weird, but each state is implemented by a class with static methods, each of which take an instance of `Connection` as the first argument.  \n",
    "This design is based on a decision to not store any instance data in the different state classes themselves.  \n",
    "Instead, all instance data should be stored on the `Connection` instance.  \n",
    "The grouping of states under a common base class is mostly there to help organize the code and to ensure that the proper methods get implemented.  \n",
    "The `NotImplementedError` exception raised in base class methods is just there to make sure that subclasses provide an implementation of the required methods.  \n",
    "As an alternative, you might consider the use of an abstract base class, as described in Recipe 8.12.  \n",
    "Another implementation technique concerns direct manipulation of the `__class__` attribute of instances."
   ]
  },
  {
   "cell_type": "code",
   "execution_count": 166,
   "metadata": {},
   "outputs": [],
   "source": [
    "class Connection:\n",
    "    def __init__(self):\n",
    "        self.new_state(ClossedConnection)\n",
    "\n",
    "    def new_state(self, newstate):\n",
    "        self.__class__ = newstate\n",
    "\n",
    "    def read(self):\n",
    "        raise NotImplementedError()\n",
    "\n",
    "    def write(self, data):\n",
    "        raise NotImplementedError()\n",
    "\n",
    "    def open(self):\n",
    "        raise NotImplementedError()\n",
    "\n",
    "    def close(self):\n",
    "        raise NotImplementedError()\n",
    "            \n",
    "class ClosedConnection(Connection):\n",
    "    def read(self):\n",
    "        raise(RuntimeError('Not open'))\n",
    "        \n",
    "    def write(self, data):\n",
    "        raise RuntimeError('Not open')\n",
    "        \n",
    "    def open(self):\n",
    "        self.new_stae(OpenConnection)\n",
    "        \n",
    "    def close(self):\n",
    "        raise RuntimeError('Already closed')\n",
    "        \n",
    "class OpenConnection(Connection):\n",
    "    def read(self):\n",
    "        print('Reading...')\n",
    "        \n",
    "    def write(self, data):\n",
    "        print('Writing...')\n",
    "        \n",
    "    def open(self):\n",
    "        raise RuntimeError('Aready open')\n",
    "        \n",
    "    def close(self):\n",
    "        self.new_state(ClosedConnection)"
   ]
  },
  {
   "cell_type": "markdown",
   "metadata": {},
   "source": [
    "The main feature of this implementation is that it eliminates an extra level of indirection.  \n",
    "Instead of having separate `Connection` and `ConnectionState` classes, the two classes are merged together into one.  \n",
    "As the state changes, the instance will change its type."
   ]
  },
  {
   "cell_type": "markdown",
   "metadata": {},
   "source": [
    "Object-oriented purists might be offended by the idea of simply changing the instance `__class__` attribute.  \n",
    "However, it’s technically allowed.  \n",
    "Also, it might result in slightly faster code since all of the methods on the connection no longer involve an extra delegation step.  \n",
    "Finally, either technique is useful in implementing more complicated state machines -- especially in code that might otherwise feature large if-elif-else blocks."
   ]
  },
  {
   "cell_type": "code",
   "execution_count": 167,
   "metadata": {},
   "outputs": [],
   "source": [
    "# Original implementation\n",
    "class State:\n",
    "    def __init__(self):\n",
    "        self.state = 'A'\n",
    "    \n",
    "    def action(self, x):\n",
    "        if state == 'A':\n",
    "            # 'A' does something\n",
    "            state = 'B'\n",
    "        elif state == 'B':\n",
    "            # 'B' does something\n",
    "            state = 'C'\n",
    "        elif state == 'C':\n",
    "            # 'C' does something, and so forth\n",
    "            state == 'A'\n",
    "            # Recursion is useful because it is"
   ]
  },
  {
   "cell_type": "code",
   "execution_count": 168,
   "metadata": {},
   "outputs": [],
   "source": [
    "# Alternative implementation\n",
    "class State:\n",
    "    def __init__(self):\n",
    "        self.new_state(State_A)\n",
    "        \n",
    "    def new_state(self, state):\n",
    "        self.__class__ = state\n",
    "        \n",
    "    def action(self, x):\n",
    "        raise NotImplementedError()\n",
    "        \n",
    "class State_A(State):\n",
    "    def action(self, x):\n",
    "        # State_A does something\n",
    "        self.new_state(State_B)\n",
    "\n",
    "class State_B(State):\n",
    "    def action(self, x):\n",
    "        # State_B does something\n",
    "        self.new_state(State_C)\n",
    "\n",
    "class State_C(State):\n",
    "    def action(self, x):\n",
    "        # State_C does something\n",
    "        self.new_state(State_A)"
   ]
  },
  {
   "cell_type": "markdown",
   "metadata": {},
   "source": [
    "This recipe is based on the state design pattern found in Design Patterns: Ele‐ments of Reusable Object-Oriented Software by Erich Gamma, Richard Helm, Ralph Johnson, and John Vlissides (Addison-Wesley, 1995)."
   ]
  },
  {
   "cell_type": "markdown",
   "metadata": {},
   "source": [
    "## 8.20. Calling a Method on an Object Given the Name As a String"
   ]
  },
  {
   "cell_type": "markdown",
   "metadata": {},
   "source": [
    "### Problem"
   ]
  },
  {
   "cell_type": "markdown",
   "metadata": {},
   "source": [
    "You have the name of a method that you want to call on an object stored in a string and you want that method executed. "
   ]
  },
  {
   "cell_type": "markdown",
   "metadata": {},
   "source": [
    "### Solution"
   ]
  },
  {
   "cell_type": "markdown",
   "metadata": {},
   "source": [
    "For simple cases, you might us e `getattr()`, like this:"
   ]
  },
  {
   "cell_type": "code",
   "execution_count": 169,
   "metadata": {},
   "outputs": [],
   "source": [
    "import math\n",
    "\n",
    "class Point:\n",
    "    def __init__(self, x, y):\n",
    "        self.x = x\n",
    "        self.y = y\n",
    "        \n",
    "    def __repr__(self):\n",
    "        return 'Point({!r:},{!r:})'.format(self.x, self.y)\n",
    "    \n",
    "    def distance(self, x, y):\n",
    "        return math.hypot(self.x - x, self.y - y)"
   ]
  },
  {
   "cell_type": "code",
   "execution_count": 170,
   "metadata": {},
   "outputs": [
    {
     "data": {
      "text/plain": [
       "3.605551275463989"
      ]
     },
     "execution_count": 170,
     "metadata": {},
     "output_type": "execute_result"
    }
   ],
   "source": [
    "p = Point(2, 3)\n",
    "d = getattr(p, 'distance')(0, 0)\n",
    "# Calls p.distance(0, 0)\n",
    "d"
   ]
  },
  {
   "cell_type": "markdown",
   "metadata": {},
   "source": [
    "An alternative approach is to use `operator.methodcaller()`."
   ]
  },
  {
   "cell_type": "code",
   "execution_count": 171,
   "metadata": {},
   "outputs": [
    {
     "data": {
      "text/plain": [
       "3.605551275463989"
      ]
     },
     "execution_count": 171,
     "metadata": {},
     "output_type": "execute_result"
    }
   ],
   "source": [
    "import operator\n",
    "\n",
    "operator.methodcaller('distance', 0,0)(p)"
   ]
  },
  {
   "cell_type": "markdown",
   "metadata": {},
   "source": [
    "`operator.methodcaller()` may be useful if you want to look up a method by name and supply the same arguments over and over again.  \n",
    "For example, if you need to sort an entire list of points:"
   ]
  },
  {
   "cell_type": "code",
   "execution_count": 172,
   "metadata": {},
   "outputs": [],
   "source": [
    "points = [\n",
    "    Point(1, 2),\n",
    "    Point(3, 0),\n",
    "    Point(10, -3),\n",
    "    Point(-5, -7),\n",
    "    Point(-1, 8),\n",
    "    Point(3, 2)\n",
    "]\n",
    "# sort by distance from origin (0, 0)\n",
    "z = points.sort(key=operator.methodcaller('distance', 0, 0))"
   ]
  },
  {
   "cell_type": "markdown",
   "metadata": {},
   "source": [
    "### Discussion"
   ]
  },
  {
   "cell_type": "markdown",
   "metadata": {},
   "source": [
    "Calling a method is actually two separate steps involving an attribute lookup and a function call.  \n",
    "Therefore, to call a method, you simply look up the attribute using `getattr()`, as for any other attribute.  \n",
    "To invoke the result as a method, simply treat the result of the lookup as a function.  \n",
    "`operator.methodcaller()` creates a callable object, but also fixes any arguments that are going to be supplied to the method.  \n",
    "All that you need to do is provide the appropriate self argument."
   ]
  },
  {
   "cell_type": "code",
   "execution_count": 173,
   "metadata": {},
   "outputs": [
    {
     "data": {
      "text/plain": [
       "5.0"
      ]
     },
     "execution_count": 173,
     "metadata": {},
     "output_type": "execute_result"
    }
   ],
   "source": [
    "p = Point(3, 4)\n",
    "d = operator.methodcaller('distance', 0, 0)\n",
    "d(p)"
   ]
  },
  {
   "cell_type": "markdown",
   "metadata": {},
   "source": [
    "Invoking methods using names contained in strings is somewhat common in code that emulates case statements or variants of the visitor pattern.  \n",
    "See the next recipe for a more advanced example."
   ]
  },
  {
   "cell_type": "markdown",
   "metadata": {},
   "source": [
    "## 8.21. Implementing the Visitor Pattern"
   ]
  },
  {
   "cell_type": "markdown",
   "metadata": {},
   "source": [
    "### Problem"
   ]
  },
  {
   "cell_type": "markdown",
   "metadata": {},
   "source": [
    "You need to write code that processes or navigates through a complicated data structure consisting of many different kinds of objects, each of which needs to be handled in a different way.  \n",
    "One example would be traversing a tree structure and performing different actions depending on what kinds of nodes are encountered."
   ]
  },
  {
   "cell_type": "markdown",
   "metadata": {},
   "source": [
    "### Solution"
   ]
  },
  {
   "cell_type": "markdown",
   "metadata": {},
   "source": [
    "The problem addressed by this recipe is one that often arises inprograms that build data structures consisting of a wide variety and and quantity of objects.  \n",
    "To illustrate, suppose you are trying to write a program that represents mathematical expressions, and this program uses a number of different classes."
   ]
  },
  {
   "cell_type": "code",
   "execution_count": 174,
   "metadata": {},
   "outputs": [],
   "source": [
    "class Node:\n",
    "    pass\n",
    "\n",
    "class UnaryOperator(Node):\n",
    "    def __init__(self, operand):\n",
    "        self.operand = operand\n",
    "        \n",
    "class BinaryOperator(Node):\n",
    "    def __init__(self, left, right):\n",
    "        self.left = left\n",
    "        self.right = right\n",
    "        \n",
    "class Add(BinaryOperator):\n",
    "    pass\n",
    "\n",
    "class Sub(BinaryOperator):\n",
    "    pass\n",
    "\n",
    "class Mul(BinaryOperator):\n",
    "    pass\n",
    "\n",
    "class Div(BinaryOperator):\n",
    "    pass\n",
    "\n",
    "class Negate(UnaryOperator):\n",
    "    pass\n",
    "\n",
    "class Number(Node):\n",
    "    def __init__(self, value):\n",
    "        self.value = value"
   ]
  },
  {
   "cell_type": "markdown",
   "metadata": {},
   "source": [
    "The classes above can be used to build up nested data structures.  \n",
    "The following example will demonstrate this when we tell our machine to do math."
   ]
  },
  {
   "cell_type": "code",
   "execution_count": 175,
   "metadata": {},
   "outputs": [],
   "source": [
    "# Representation of 1 + 2 * (3 - 4) / 5\n",
    "t1 = Sub(Number(3), Number(4))\n",
    "t2 = Mul(Number(2), t1)\n",
    "t3 = Div(t2, Number(5))\n",
    "t4 = Add(Number(1), t3)"
   ]
  },
  {
   "cell_type": "code",
   "execution_count": 176,
   "metadata": {},
   "outputs": [
    {
     "data": {
      "text/plain": [
       "<__main__.Sub at 0x107f901d0>"
      ]
     },
     "execution_count": 176,
     "metadata": {},
     "output_type": "execute_result"
    }
   ],
   "source": [
    "t1"
   ]
  },
  {
   "cell_type": "code",
   "execution_count": 177,
   "metadata": {},
   "outputs": [
    {
     "data": {
      "text/plain": [
       "__main__.Sub"
      ]
     },
     "execution_count": 177,
     "metadata": {},
     "output_type": "execute_result"
    }
   ],
   "source": [
    "type(t1)"
   ]
  },
  {
   "cell_type": "code",
   "execution_count": 178,
   "metadata": {},
   "outputs": [
    {
     "name": "stdout",
     "output_type": "stream",
     "text": [
      "<__main__.Add object at 0x107f903c8>\n"
     ]
    }
   ],
   "source": [
    "import pprint\n",
    "\n",
    "pprint.pprint(t4)"
   ]
  },
  {
   "cell_type": "code",
   "execution_count": 179,
   "metadata": {},
   "outputs": [
    {
     "name": "stdout",
     "output_type": "stream",
     "text": [
      "{'left': <__main__.Number object at 0x107f90358>,\n",
      " 'right': <__main__.Div object at 0x107f90240>}\n"
     ]
    }
   ],
   "source": [
    "pprint.pprint(vars(t4))"
   ]
  },
  {
   "cell_type": "code",
   "execution_count": 180,
   "metadata": {},
   "outputs": [
    {
     "name": "stdout",
     "output_type": "stream",
     "text": [
      "{'left': <__main__.Number object at 0x107f90358>,\n",
      " 'right': <__main__.Div object at 0x107f90240>}\n"
     ]
    }
   ],
   "source": [
    "pprint.pprint(t4.__dict__)"
   ]
  },
  {
   "cell_type": "code",
   "execution_count": 181,
   "metadata": {},
   "outputs": [
    {
     "data": {
      "text/plain": [
       "['__class__',\n",
       " '__delattr__',\n",
       " '__dict__',\n",
       " '__dir__',\n",
       " '__doc__',\n",
       " '__eq__',\n",
       " '__format__',\n",
       " '__ge__',\n",
       " '__getattribute__',\n",
       " '__gt__',\n",
       " '__hash__',\n",
       " '__init__',\n",
       " '__init_subclass__',\n",
       " '__le__',\n",
       " '__lt__',\n",
       " '__module__',\n",
       " '__ne__',\n",
       " '__new__',\n",
       " '__reduce__',\n",
       " '__reduce_ex__',\n",
       " '__repr__',\n",
       " '__setattr__',\n",
       " '__sizeof__',\n",
       " '__str__',\n",
       " '__subclasshook__',\n",
       " '__weakref__',\n",
       " 'left',\n",
       " 'right']"
      ]
     },
     "execution_count": 181,
     "metadata": {},
     "output_type": "execute_result"
    }
   ],
   "source": [
    "dir(t4)"
   ]
  },
  {
   "cell_type": "markdown",
   "metadata": {},
   "source": [
    "The problem is not the creation of such structures, but in writing code that processes them later.  \n",
    "For example, given such an expression, a program might want to do any number of things including producing output, generating instructions, or performing translations.  \n",
    "To enable general-purpose processing, a common solution is to implement the [Visitor Pattern](https://en.wikipedia.org/wiki/Visitor_pattern#Python_example) using a class similar to this:"
   ]
  },
  {
   "cell_type": "code",
   "execution_count": 182,
   "metadata": {},
   "outputs": [],
   "source": [
    "class NodeVisitor:\n",
    "    def visit(self, node):\n",
    "        methname = 'visit_' + type(node).__name__\n",
    "        meth = getattr(self, methname, None)\n",
    "        if meth is None:\n",
    "            meth = self.generic_visit\n",
    "        return meth(node)\n",
    "    \n",
    "    def generic_visit(self, node):\n",
    "        raise RuntimeError('No {} method'.format('visit_' + type(node).__name__))"
   ]
  },
  {
   "cell_type": "markdown",
   "metadata": {},
   "source": [
    "To use this class, a programmer inherits from it and implements various methods of the form `visit_Name()`, where `Name` is substituted with the node type.  \n",
    "For example, this is one way that you could evaluate an expression:"
   ]
  },
  {
   "cell_type": "code",
   "execution_count": 183,
   "metadata": {},
   "outputs": [],
   "source": [
    "class Evaluator(NodeVisitor):\n",
    "    def visit_Number(self, node):\n",
    "        return node.value\n",
    "    \n",
    "    def visit_Add(self, node):\n",
    "        return self.visit(node.left) + self.visit(node.right)\n",
    "    \n",
    "    def visit_Sub(self, node):\n",
    "        return self.visit(node.left) - self.visit(node.right)\n",
    "    \n",
    "    def visit_Mul(self, node):\n",
    "        return self.visit(node.left) * self.visit(node.right)\n",
    "    \n",
    "    def visit_Div(self, node):\n",
    "        return self.visit(node.left) / self.visit(node.right)\n",
    "    \n",
    "    def visit_Negate(self, node):\n",
    "        return -node.operand"
   ]
  },
  {
   "cell_type": "markdown",
   "metadata": {},
   "source": [
    "Now we can evaluate our previously generated expression:"
   ]
  },
  {
   "cell_type": "code",
   "execution_count": 184,
   "metadata": {},
   "outputs": [
    {
     "data": {
      "text/plain": [
       "0.6"
      ]
     },
     "execution_count": 184,
     "metadata": {},
     "output_type": "execute_result"
    }
   ],
   "source": [
    "e = Evaluator()\n",
    "e.visit(t4)"
   ]
  },
  {
   "cell_type": "markdown",
   "metadata": {},
   "source": [
    "Here is an example of a class that translates an expression into operations on a simple stack machine:"
   ]
  },
  {
   "cell_type": "code",
   "execution_count": 185,
   "metadata": {},
   "outputs": [],
   "source": [
    "class StackCode(NodeVisitor):\n",
    "    def generate_code(self, node):\n",
    "        self.instructions = []\n",
    "        self.visit(node)\n",
    "        return self.instructions\n",
    "    \n",
    "    def visit_Number(self, node):\n",
    "        self.instructions.append(('PUSH', node.value))\n",
    "        \n",
    "    def binop(self, node, instruction):\n",
    "        self.visit(node.left)\n",
    "        self.visit(node.right)\n",
    "        self.instructions.append((instruction,))\n",
    "        \n",
    "    def visit_Add(self, node):\n",
    "        self.binop(node, 'ADD')\n",
    "        \n",
    "    def visit_Sub(self, node):\n",
    "        self.binop(node, 'SUB')\n",
    "        \n",
    "    def visit_Mul(self, node):\n",
    "        self.binop(node, 'MUL')\n",
    "        \n",
    "    def visit_Div(self, node):\n",
    "        self.binop(node, 'DIV')\n",
    "        \n",
    "    def unaryop(self, node, instruction):\n",
    "        self.visit(node.operand)\n",
    "        self.instructions.append((instruction,))\n",
    "        \n",
    "    def vist_Negate(self, node):\n",
    "        self.unaryop(node, 'NEG')"
   ]
  },
  {
   "cell_type": "code",
   "execution_count": 186,
   "metadata": {},
   "outputs": [
    {
     "data": {
      "text/plain": [
       "[('PUSH', 3), ('PUSH', 4), ('SUB',)]"
      ]
     },
     "execution_count": 186,
     "metadata": {},
     "output_type": "execute_result"
    }
   ],
   "source": [
    "s = StackCode()\n",
    "s.generate_code(t1)"
   ]
  },
  {
   "cell_type": "code",
   "execution_count": 187,
   "metadata": {},
   "outputs": [
    {
     "data": {
      "text/plain": [
       "[('PUSH', 3), ('PUSH', 4), ('SUB',)]"
      ]
     },
     "execution_count": 187,
     "metadata": {},
     "output_type": "execute_result"
    }
   ],
   "source": [
    "s.generate_code(t1)"
   ]
  },
  {
   "cell_type": "code",
   "execution_count": 188,
   "metadata": {},
   "outputs": [
    {
     "data": {
      "text/plain": [
       "[('PUSH', 2), ('PUSH', 3), ('PUSH', 4), ('SUB',), ('MUL',)]"
      ]
     },
     "execution_count": 188,
     "metadata": {},
     "output_type": "execute_result"
    }
   ],
   "source": [
    "s.generate_code(t2)"
   ]
  },
  {
   "cell_type": "code",
   "execution_count": 189,
   "metadata": {},
   "outputs": [
    {
     "data": {
      "text/plain": [
       "[('PUSH', 2),\n",
       " ('PUSH', 3),\n",
       " ('PUSH', 4),\n",
       " ('SUB',),\n",
       " ('MUL',),\n",
       " ('PUSH', 5),\n",
       " ('DIV',)]"
      ]
     },
     "execution_count": 189,
     "metadata": {},
     "output_type": "execute_result"
    }
   ],
   "source": [
    "s.generate_code(t3)"
   ]
  },
  {
   "cell_type": "code",
   "execution_count": 190,
   "metadata": {},
   "outputs": [
    {
     "data": {
      "text/plain": [
       "[('PUSH', 1),\n",
       " ('PUSH', 2),\n",
       " ('PUSH', 3),\n",
       " ('PUSH', 4),\n",
       " ('SUB',),\n",
       " ('MUL',),\n",
       " ('PUSH', 5),\n",
       " ('DIV',),\n",
       " ('ADD',)]"
      ]
     },
     "execution_count": 190,
     "metadata": {},
     "output_type": "execute_result"
    }
   ],
   "source": [
    "s.generate_code(t4)"
   ]
  },
  {
   "cell_type": "markdown",
   "metadata": {},
   "source": [
    "### Discussion"
   ]
  },
  {
   "cell_type": "markdown",
   "metadata": {},
   "source": [
    "There are really two key ideas in this recipe.  \n",
    "The first is a design strategy where code that manipulates a complicated data structure is decoupled from the data structure itself.  \n",
    "That is, in this recipe, none of the various `Node` classes provide any implementation that does anything with the data.  \n",
    "Instead, all of the data manipulation is carried out by specific implementations of the separate `NodeVisitor` class.  \n",
    "This separation makes the code extremely general purpose.  \n",
    "The second major idea of this recipe is in the implementation of the visitor class itself.  \n",
    "In the visitor, you want to dispatch to a different handling method based on some value such as the node type.  \n",
    "In a naive implementation, you might be inclined to write a huge if statement, like this:"
   ]
  },
  {
   "cell_type": "code",
   "execution_count": 191,
   "metadata": {},
   "outputs": [],
   "source": [
    "class NodeVisitor:\n",
    "    def visit(self, node):\n",
    "        nodetype = type(node).__name__\n",
    "        if nodetype == 'Number':\n",
    "            return self.visit_Number(node)\n",
    "        elif nodetype == 'Add':\n",
    "            return self.visit_Add(node)\n",
    "        elif nodetype == 'Sub':\n",
    "            return self.visit_Sub(node)\n",
    "        # And so on ...\n",
    "        else:\n",
    "            pass"
   ]
  },
  {
   "cell_type": "markdown",
   "metadata": {},
   "source": [
    "However, it quickly becomes apparent that you don’t really want to take that approach.  \n",
    "Aside from being incredibly verbose, it runs slowly, and it’s hard to maintain if you ever add or change the kind of nodes being handled.  \n",
    "Instead, it’s much better to play a little trick where you form the name of a method and go fetch it with the `getattr()` function, as shown.  \n",
    "The `generic_visit()` method in the solution is a fallback should no matching handler method be found.  \n",
    "In this recipe, it raises an exception to alert the programmer that an unexpected node type was encountered.  \n",
    "Within each visitor class, it is common for calculations to be driven by recursive calls to the `visit()` method."
   ]
  },
  {
   "cell_type": "code",
   "execution_count": 192,
   "metadata": {},
   "outputs": [],
   "source": [
    "class Evaluator(NodeVisitor):\n",
    "    # ...\n",
    "    def visit_Add(self, node):\n",
    "        return self.visit(node.left) + self.visit(node.right)"
   ]
  },
  {
   "cell_type": "markdown",
   "metadata": {},
   "source": [
    "This recursion is what makes the visitor class traverse the entire data structure.  \n",
    "Essentially, you keep calling `visit()` until you reach some sort of terminal node, such as `Number` in the example.  \n",
    "The exact order of the recursion and other operations depend entirely on the application.  \n",
    "It should be noted that this particular technique of dispatching to a method is also a common way to emulate the behavior of switch or case statements from other languages.  \n",
    "For example, if you are writing an HTTP framework, you might have classes that do a similar kind of dispatch:"
   ]
  },
  {
   "cell_type": "code",
   "execution_count": 193,
   "metadata": {},
   "outputs": [],
   "source": [
    "class HTTPHandler:\n",
    "    def handle(self, request):\n",
    "        methname = 'do_' + request.request_method\n",
    "        getattr(self, methname)(request)\n",
    "        \n",
    "    def do_GET(self, request):\n",
    "        # ... \n",
    "        pass\n",
    "    \n",
    "    def do_POST(self, request):\n",
    "        # ... \n",
    "        pass\n",
    "    \n",
    "    def do_HEAD(self, request):\n",
    "        # ...\n",
    "        pass"
   ]
  },
  {
   "cell_type": "markdown",
   "metadata": {},
   "source": [
    "One weakness of the visitor pattern is its heavy reliance on recursion.  \n",
    "If you try to apply it to a deeply nested structure, it’s possible that you will hit Python’s [recursion depth limit](https://docs.python.org/3/library/sys.html#sys.getrecursionlimit).  \n",
    "To avoid this problem, you can make certain choices in your data structures.  \n",
    "For example, you can use normal Python lists instead of linked lists or try to aggregate more data in each node to make the data more shallow.  \n",
    "You can also try to employ nonrecursive traversal algorithms using generators or iterators as discussed in Recipe 8.22.  \n",
    "Use of the visitor pattern is extremely common in programs related to parsing and compiling.  \n",
    "One notable implementation can be found in Python’s own `ast` module.  \n",
    "In addition to allowing traversal of tree structures, it provides a variation that allows a data structure to be rewritten or transformed as it is traversed, like when nodes are added or removed.  \n",
    "Look at the [source for ast](https://github.com/python/cpython/blob/master/Lib/ast.py) for more details.  \n",
    "Recipe 9.24 shows an example of using the `ast` module to process Python source code."
   ]
  },
  {
   "cell_type": "markdown",
   "metadata": {},
   "source": [
    "## 8.22. Implementing the Visitor Pattern Without Recursion"
   ]
  },
  {
   "cell_type": "markdown",
   "metadata": {},
   "source": [
    "### Problem"
   ]
  },
  {
   "cell_type": "markdown",
   "metadata": {},
   "source": [
    "You’re writing code that navigates through a deeply nested tree structure using the visitor pattern, but it blows up due to [exceeding the recursion limit](https://stackoverflow.com/questions/3323001/what-is-the-maximum-recursion-depth-in-python-and-how-to-increase-it) .  \n",
    "You’d like to eliminate the recursion, but keep the programming style of the visitor pattern."
   ]
  },
  {
   "cell_type": "markdown",
   "metadata": {},
   "source": [
    "### Solution"
   ]
  },
  {
   "cell_type": "markdown",
   "metadata": {},
   "source": [
    "Clever use of generators can sometimes be used to eliminate recursion from algorithms involving tree traversal or searching.  \n",
    "In Recipe 8.21, a visitor class was presented.  \n",
    "Here is an alternative implementation of that class that drives the computation in an entirely different way using a stack and generators:"
   ]
  },
  {
   "cell_type": "code",
   "execution_count": 194,
   "metadata": {},
   "outputs": [],
   "source": [
    "import types\n",
    "\n",
    "class Node:\n",
    "    pass\n",
    "\n",
    "class NodeVisitor:\n",
    "    def visit(self, node):\n",
    "        stack = [node]\n",
    "        last_result = None\n",
    "        while stack:\n",
    "            try:\n",
    "                last = stack[-1]\n",
    "                if isinstance(last, types.GeneratorType):\n",
    "                    stack.append(last.send(last_result))\n",
    "                    last_result = None\n",
    "                elif isinstance(last, Node):\n",
    "                    stack.append(self._visit(stack.pop()))\n",
    "                else:\n",
    "                    last_result = stack.pop()\n",
    "            except StopIteration:\n",
    "                stack.pop()\n",
    "        return last_result\n",
    "    \n",
    "    def _visit(self, node):\n",
    "        methname = 'visit_' + type(node).__name__\n",
    "        meth = getattr(self, methname, None)\n",
    "        if meth is None:\n",
    "            meth = self.generic_visit\n",
    "        return meth(node)\n",
    "    \n",
    "    def generic_visit(self, node):\n",
    "        raise RuntimeError('No {} method'.format('visit_' + type(node).__name__))"
   ]
  },
  {
   "cell_type": "markdown",
   "metadata": {},
   "source": [
    "If you use this class, you'll find that it still works with existing code that might have used recursion.  \n",
    "In fact, you can use it as a drop-in replacement for the visitor pattern implementation in the prior recipe.  \n",
    "For example, consider the following code that uses [expression trees](https://www.geeksforgeeks.org/expression-tree/):"
   ]
  },
  {
   "cell_type": "code",
   "execution_count": 195,
   "metadata": {},
   "outputs": [],
   "source": [
    "class UnaryOperator(Node):\n",
    "    def __init__(self, operand):\n",
    "        self.operand = operand\n",
    "        \n",
    "class BinaryOperator(Node):\n",
    "    def __init__(self, left, right):\n",
    "        self.left = left\n",
    "        self.right = right\n",
    "        \n",
    "class Add(BinaryOperator):\n",
    "    pass\n",
    "\n",
    "class Sub(BinaryOperator):\n",
    "    pass\n",
    "\n",
    "class Mul(BinaryOperator):\n",
    "    pass\n",
    "\n",
    "class Div(BinaryOperator):\n",
    "    pass\n",
    "\n",
    "class Negate(UnaryOperator):\n",
    "    pass\n",
    "\n",
    "class Number(Node):\n",
    "    def __init__(self, value):\n",
    "        self.value = value\n",
    "        \n",
    "# A sample visitor class that evaluates expressions\n",
    "class Evaluator(NodeVisitor):\n",
    "    def visit_Number(self, node):\n",
    "        return node.value\n",
    "    \n",
    "    def visit_Add(self, node):\n",
    "        return self.visit(node.left) + self.visit(node.right)\n",
    "    \n",
    "    def visit_Sub(self, node):\n",
    "        return self.visit(node.left) - self.visit(node.right)\n",
    "    \n",
    "    def visit_Mul(self, node):\n",
    "        return self.visit(node.left) * self.visit(node.right)\n",
    "    \n",
    "    def visit_Div(self, node):\n",
    "        return self.visit(node.left) / self.visit(node.right)\n",
    "    \n",
    "    def visit_Negate(self, node):\n",
    "        return -self.visit(node.operand)"
   ]
  },
  {
   "cell_type": "code",
   "execution_count": 196,
   "metadata": {},
   "outputs": [],
   "source": [
    "if __name__ == \"__main__\":\n",
    "    # 1 + 2 * (3 - 4) / 5\n",
    "    t1 = Sub(Number(3), Number(4))\n",
    "    t2 = Mul(Number(2), t1)\n",
    "    t3 = Div(t2, Number(5))\n",
    "    t4 = Add(Number(1), t3)\n",
    "    # Evaluate the expression\n",
    "    e = Evaluator()"
   ]
  },
  {
   "cell_type": "code",
   "execution_count": 197,
   "metadata": {},
   "outputs": [
    {
     "name": "stdout",
     "output_type": "stream",
     "text": [
      "0.6\n"
     ]
    }
   ],
   "source": [
    "print(e.visit(t4))"
   ]
  },
  {
   "cell_type": "code",
   "execution_count": 198,
   "metadata": {},
   "outputs": [
    {
     "name": "stdout",
     "output_type": "stream",
     "text": [
      "-1\n"
     ]
    }
   ],
   "source": [
    "print(e.visit(t1))"
   ]
  },
  {
   "cell_type": "markdown",
   "metadata": {},
   "source": [
    "The preceding code works for simple expressions, but `Evaluator()` uses recursion and will crash if the depth is too great."
   ]
  },
  {
   "cell_type": "code",
   "execution_count": 199,
   "metadata": {},
   "outputs": [
    {
     "data": {
      "text/plain": [
       "45"
      ]
     },
     "execution_count": 199,
     "metadata": {},
     "output_type": "execute_result"
    }
   ],
   "source": [
    "a = Number(0)\n",
    "for n in range(1, 10):\n",
    "    a = Add(a, Number(n))\n",
    "e = Evaluator()\n",
    "e.visit(a)"
   ]
  },
  {
   "cell_type": "markdown",
   "metadata": {},
   "source": [
    "Just keep adding zeros to the second range argument until you see a stack trace stating `RecursionError: maximum recursion depth exceeded while calling a Python object`."
   ]
  },
  {
   "cell_type": "markdown",
   "metadata": {},
   "source": [
    "Now let's change the Evaluator class so that it can handle our experiments with recursion."
   ]
  },
  {
   "cell_type": "code",
   "execution_count": 200,
   "metadata": {},
   "outputs": [],
   "source": [
    "class Evaluator(NodeVisitor):\n",
    "    def visit_Number(self, node):\n",
    "        return node.value\n",
    "    \n",
    "    def visit_Add(self, node):\n",
    "        yield (yield node.left) + (yield node.right)\n",
    "        \n",
    "    def visit_Sub(self, node):\n",
    "        yield (yield node.left) - (yield node.right)\n",
    "        \n",
    "    def visit_Mul(self, node):\n",
    "        yield (yield node.left) * (yield node.right)\n",
    "        \n",
    "    def visit_Div(self, node):\n",
    "        yield (yield node.left) / (yield node.right)\n",
    "        \n",
    "    def visit_Negate(self, node):\n",
    "        yield -(yield node.operand)"
   ]
  },
  {
   "cell_type": "code",
   "execution_count": 201,
   "metadata": {},
   "outputs": [],
   "source": [
    "if __name__ == \"__main__\":\n",
    "    # 1 + 2 * (3 - 4) / 5\n",
    "    t1 = Sub(Number(3), Number(4))\n",
    "    t2 = Mul(Number(2), t1)\n",
    "    t3 = Div(t2, Number(5))\n",
    "    t4 = Add(Number(1), t3)\n",
    "    # Evaluate the expression\n",
    "    e = Evaluator()"
   ]
  },
  {
   "cell_type": "code",
   "execution_count": 202,
   "metadata": {},
   "outputs": [],
   "source": [
    "a = Number(0)\n",
    "for n in range(1, 100000):\n",
    "    a = Add(a, Number(n))\n",
    "e = Evaluator()"
   ]
  },
  {
   "cell_type": "code",
   "execution_count": 203,
   "metadata": {},
   "outputs": [
    {
     "data": {
      "text/plain": [
       "4999950000"
      ]
     },
     "execution_count": 203,
     "metadata": {},
     "output_type": "execute_result"
    }
   ],
   "source": [
    "e.visit(a)"
   ]
  },
  {
   "cell_type": "markdown",
   "metadata": {},
   "source": [
    "You can also add custom processing into any of the methods:"
   ]
  },
  {
   "cell_type": "code",
   "execution_count": 204,
   "metadata": {},
   "outputs": [],
   "source": [
    "class Evaluator(NodeVisitor):\n",
    "    # ...\n",
    "    def visit_Add(self, node):\n",
    "        print('Add:', node)\n",
    "        lhs = yield node.left\n",
    "        print('left=', lhs)\n",
    "        rhs = yield node.right\n",
    "        print('right=', rhs)\n",
    "        yield lhs + rhs\n",
    "        # ..."
   ]
  },
  {
   "cell_type": "markdown",
   "metadata": {},
   "source": [
    "### Discussion"
   ]
  },
  {
   "cell_type": "markdown",
   "metadata": {},
   "source": [
    "This recipe nicely illustrates how generators and coroutines can perform mind-bending tricks involving program control flow, often to great advantage.  \n",
    "To understand this recipe, a few key insights are required.  \n",
    "First, in problems related to tree traversal, a common implementation strategy for avoiding recursion is to write algorithms involving a stack or queue.  \n",
    "For example, depth-first traversal can be implemented entirely by pushing nodes onto a stack when first encountered and then popping them off once processing has finished.  \n",
    "The central core of the `visit()` method in the solution is built around this idea.  \n",
    "The algorithm starts by pushing the initial node onto the stack list and runs until the stack is empty.  \n",
    "During execution, the stack will grow according to the depth of the underlying tree structure.  \n",
    "The second insight concerns the behavior of the `yield` statement in generators.  \n",
    "When `yield` is encountered, the behavior of a generator is to emit a value and to suspend.  \n",
    "This recipe uses this as a replacement for recursion.  \n",
    "For example, instead of writing a recursive expression like this:"
   ]
  },
  {
   "cell_type": "raw",
   "metadata": {},
   "source": [
    "value = self.visit(node.left)"
   ]
  },
  {
   "cell_type": "markdown",
   "metadata": {},
   "source": [
    "you replace it with this:"
   ]
  },
  {
   "cell_type": "raw",
   "metadata": {},
   "source": [
    "value = yield node.left"
   ]
  },
  {
   "cell_type": "markdown",
   "metadata": {},
   "source": [
    "Behind the scenes, this sends the node in question, `node.left`, back to the `visit()` method.  \n",
    "The `visit()` method then carries out the execution of the appropriate `visit_Name()` method for that node.  \n",
    "In some sense, this is almost the opposite of recursion.  \n",
    "That is, instead of calling `visit()` recursively to move the algorithm forward, the yield statement is being used to temporarily back out of the computation in progress.  \n",
    "Thus, the yield is essentially a signal that tells the algorithm that the yielded node needs to be processed first before further progress can be made."
   ]
  },
  {
   "cell_type": "markdown",
   "metadata": {},
   "source": [
    "The final part of this recipe concerns propagation of results.  \n",
    "When generator functions are used, you can no longer use return statements to emit values, and doing so will cause a `SyntaxError` exception.  \n",
    "Thus, the `yield` statement has to do double duty to cover the case.  \n",
    "In this recipe, if the value produced by a yield statement is a non-Node type, it is assumed to be a value that will be propagated to the next step of the calculation.  \n",
    "This is the purpose of the `last_return` variable in the code.  \n",
    "Typically, this would hold the last value yielded by a visit method.  \n",
    "That value would then be sent into the previously executing method, where it would show up as the return value from a yield statement.  \n",
    "For example, in this code:"
   ]
  },
  {
   "cell_type": "code",
   "execution_count": null,
   "metadata": {},
   "outputs": [],
   "source": []
  }
 ],
 "metadata": {
  "kernelspec": {
   "display_name": "Python 3",
   "language": "python",
   "name": "python3"
  },
  "language_info": {
   "codemirror_mode": {
    "name": "ipython",
    "version": 3
   },
   "file_extension": ".py",
   "mimetype": "text/x-python",
   "name": "python",
   "nbconvert_exporter": "python",
   "pygments_lexer": "ipython3",
   "version": "3.6.1"
  }
 },
 "nbformat": 4,
 "nbformat_minor": 2
}
