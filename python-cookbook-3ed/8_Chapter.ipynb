{
 "cells": [
  {
   "cell_type": "markdown",
   "metadata": {},
   "source": [
    "# Chapter 8: Classes and Objects"
   ]
  },
  {
   "cell_type": "markdown",
   "metadata": {},
   "source": [
    "The primary focus of this chapter is to present recipes to common programming patterns related to class definitions.  \n",
    "Topics include making objects support common Python features, usage of special methods, encapsulation techniques, inheritance, memory management, and useful design patterns.  "
   ]
  },
  {
   "cell_type": "markdown",
   "metadata": {},
   "source": [
    "## 8.1. Changing the String Representation of Instances"
   ]
  },
  {
   "cell_type": "markdown",
   "metadata": {},
   "source": [
    "### Problem"
   ]
  },
  {
   "cell_type": "markdown",
   "metadata": {},
   "source": [
    "You want to change the output produced by printing or viewing instances to something more sensible."
   ]
  },
  {
   "cell_type": "markdown",
   "metadata": {},
   "source": [
    "### Solution"
   ]
  },
  {
   "cell_type": "markdown",
   "metadata": {},
   "source": [
    "To change the string representation of an instance, define the `__str__()` and `__repr__()` methods."
   ]
  },
  {
   "cell_type": "code",
   "execution_count": 1,
   "metadata": {},
   "outputs": [],
   "source": [
    "class Pair:\n",
    "    def __init__(self, x, y):\n",
    "        self.x = x\n",
    "        self.y = y\n",
    "    def __repr__(self):\n",
    "        # r for repr\n",
    "        return \"Pair({0.x!r}, {0.y!r})\".format(self)\n",
    "    def __str__(self):\n",
    "        # s for str\n",
    "        return \"({0.x!s}, {0.y!s})\".format(self)"
   ]
  },
  {
   "cell_type": "markdown",
   "metadata": {},
   "source": [
    "The `__repr__()` method returns the code representation of an instance, and is usually the text you would type to recreate the instance.  \n",
    "The built-in `repr()` function returns this text, as does the interactive interpreter when inspecting values.  \n",
    "The `__str__()` method converts the instance to a string, and is the output produced by the `str()` and `print()` functions."
   ]
  },
  {
   "cell_type": "code",
   "execution_count": 2,
   "metadata": {},
   "outputs": [
    {
     "data": {
      "text/plain": [
       "Pair(3, 4)"
      ]
     },
     "execution_count": 2,
     "metadata": {},
     "output_type": "execute_result"
    }
   ],
   "source": [
    "p = Pair(3, 4)\n",
    "# __repr__() output:\n",
    "p"
   ]
  },
  {
   "cell_type": "code",
   "execution_count": 3,
   "metadata": {},
   "outputs": [
    {
     "name": "stdout",
     "output_type": "stream",
     "text": [
      "(3, 4)\n"
     ]
    }
   ],
   "source": [
    "#__str__() output:\n",
    "print(p)"
   ]
  },
  {
   "cell_type": "markdown",
   "metadata": {},
   "source": [
    "The implementation of this recipe also shows how different string representations may be used during formatting.  \n",
    "Specifically, the special `!r` formatting code indicates that the output of `__repr__()` should be used instead of the default`__str__()`.  \n",
    "You can try this experiment with the preceding class to see this:  "
   ]
  },
  {
   "cell_type": "code",
   "execution_count": 4,
   "metadata": {},
   "outputs": [
    {
     "name": "stdout",
     "output_type": "stream",
     "text": [
      "p is Pair(3, 4)\n"
     ]
    }
   ],
   "source": [
    "p = Pair(3, 4)\n",
    "print('p is {0!r}'.format(p))"
   ]
  },
  {
   "cell_type": "code",
   "execution_count": 5,
   "metadata": {},
   "outputs": [
    {
     "name": "stdout",
     "output_type": "stream",
     "text": [
      "p is (3, 4)\n"
     ]
    }
   ],
   "source": [
    "print('p is {0}'.format(p))"
   ]
  },
  {
   "cell_type": "markdown",
   "metadata": {},
   "source": [
    "### Discussion"
   ]
  },
  {
   "cell_type": "markdown",
   "metadata": {},
   "source": [
    "Defining `__repr__()` and `__str__()` is often good practice, as it can simplify debugging and instance output.  \n",
    "For example, just by printing or logging an instance, a programmer will be shown more useful information about the instance contents.  \n",
    "It is standard practice for the output of `__repr__()` to produce text such that `eval(repr(x)) == x`.  \n",
    "If this is not possible or desired, then it is common to create a useful textual representation enclosed in `<` and `>` instead."
   ]
  },
  {
   "cell_type": "code",
   "execution_count": 6,
   "metadata": {},
   "outputs": [
    {
     "data": {
      "text/plain": [
       "<_io.TextIOWrapper name='example.bin' mode='r' encoding='UTF-8'>"
      ]
     },
     "execution_count": 6,
     "metadata": {},
     "output_type": "execute_result"
    }
   ],
   "source": [
    "f = open('example.bin')\n",
    "f"
   ]
  },
  {
   "cell_type": "code",
   "execution_count": 7,
   "metadata": {},
   "outputs": [],
   "source": [
    "f.close()"
   ]
  },
  {
   "cell_type": "markdown",
   "metadata": {},
   "source": [
    "If no `__str__()` is defined, the output of `__repr__()` is used as a fallback.  \n",
    "The use of `format()` in the solution might look a little funny, but the format code `{0.x}` specifies the x-attribute of argument 0.  \n",
    "So, in the following function, the 0 is actually the instance self:"
   ]
  },
  {
   "cell_type": "code",
   "execution_count": 8,
   "metadata": {},
   "outputs": [],
   "source": [
    "def __repr__(self):\n",
    "    return \"Pair({0.x!r}, (0.y!r))\".format(self)"
   ]
  },
  {
   "cell_type": "markdown",
   "metadata": {},
   "source": [
    "You can also use the modulo operator:"
   ]
  },
  {
   "cell_type": "code",
   "execution_count": 9,
   "metadata": {},
   "outputs": [],
   "source": [
    "def __repr__(self):\n",
    "    return \"Pair(%r, %r)\" % (self.x, self.y)"
   ]
  },
  {
   "cell_type": "code",
   "execution_count": 10,
   "metadata": {},
   "outputs": [
    {
     "data": {
      "text/plain": [
       "Pair(3, 4)"
      ]
     },
     "execution_count": 10,
     "metadata": {},
     "output_type": "execute_result"
    }
   ],
   "source": [
    "p"
   ]
  },
  {
   "cell_type": "code",
   "execution_count": 11,
   "metadata": {},
   "outputs": [
    {
     "name": "stdout",
     "output_type": "stream",
     "text": [
      "(3, 4)\n"
     ]
    }
   ],
   "source": [
    "print(p)"
   ]
  },
  {
   "cell_type": "markdown",
   "metadata": {},
   "source": [
    "## 8.2. Customizing String Formatting"
   ]
  },
  {
   "cell_type": "markdown",
   "metadata": {},
   "source": [
    "### Problem"
   ]
  },
  {
   "cell_type": "markdown",
   "metadata": {},
   "source": [
    "You want an object to support customized formatting through the `format()` function and string method."
   ]
  },
  {
   "cell_type": "markdown",
   "metadata": {},
   "source": [
    "### Solution"
   ]
  },
  {
   "cell_type": "markdown",
   "metadata": {},
   "source": [
    "You can customize string formatting by defining the `__format__()` method on a class."
   ]
  },
  {
   "cell_type": "code",
   "execution_count": 12,
   "metadata": {},
   "outputs": [],
   "source": [
    "_formats = {\n",
    "        'ymd' : '{d.year}-{d.month}-{d.day}',\n",
    "        'mdy' : '{d.month}/{d.day}/{d.year}',\n",
    "        'dmy' : '{d.day}/{d.month}/{d.year}'\n",
    "        }\n",
    "\n",
    "class Date:\n",
    "    def __init__(self, year, month, day):\n",
    "        self.year = year\n",
    "        self.month = month\n",
    "        self.day = day\n",
    "        \n",
    "    def __format__(self, code):\n",
    "        if code == '':\n",
    "            code = 'ymd'\n",
    "        fmt = _formats[code]\n",
    "        return fmt.format(d=self)"
   ]
  },
  {
   "cell_type": "markdown",
   "metadata": {},
   "source": [
    "Instances of the `Date` class now support operations like the ones below:"
   ]
  },
  {
   "cell_type": "code",
   "execution_count": 13,
   "metadata": {},
   "outputs": [
    {
     "data": {
      "text/plain": [
       "'2019-3-21'"
      ]
     },
     "execution_count": 13,
     "metadata": {},
     "output_type": "execute_result"
    }
   ],
   "source": [
    "d = Date(2019, 3, 21)\n",
    "format(d)"
   ]
  },
  {
   "cell_type": "code",
   "execution_count": 14,
   "metadata": {},
   "outputs": [
    {
     "data": {
      "text/plain": [
       "'3/21/2019'"
      ]
     },
     "execution_count": 14,
     "metadata": {},
     "output_type": "execute_result"
    }
   ],
   "source": [
    "format(d, 'mdy')"
   ]
  },
  {
   "cell_type": "code",
   "execution_count": 15,
   "metadata": {},
   "outputs": [
    {
     "data": {
      "text/plain": [
       "'The date is 2019-3-21'"
      ]
     },
     "execution_count": 15,
     "metadata": {},
     "output_type": "execute_result"
    }
   ],
   "source": [
    "\"The date is {:ymd}\".format(d)"
   ]
  },
  {
   "cell_type": "code",
   "execution_count": 16,
   "metadata": {},
   "outputs": [
    {
     "data": {
      "text/plain": [
       "'The date is 3/21/2019'"
      ]
     },
     "execution_count": 16,
     "metadata": {},
     "output_type": "execute_result"
    }
   ],
   "source": [
    "\"The date is {:mdy}\".format(d)"
   ]
  },
  {
   "cell_type": "markdown",
   "metadata": {},
   "source": [
    "### Discussion"
   ]
  },
  {
   "cell_type": "markdown",
   "metadata": {},
   "source": [
    "\n",
    "The `__format__()` method provides a hook into Python’s string formatting functionality.  \n",
    "It’s important to emphasize that the interpretation of format codes is entirely up to the class itself.  \n",
    "Thus, the codes can be almost anything at all.  \n",
    "For example, consider the following from the `datetime` module:"
   ]
  },
  {
   "cell_type": "code",
   "execution_count": 17,
   "metadata": {},
   "outputs": [
    {
     "data": {
      "text/plain": [
       "'2019-03-21'"
      ]
     },
     "execution_count": 17,
     "metadata": {},
     "output_type": "execute_result"
    }
   ],
   "source": [
    "from datetime import date\n",
    "\n",
    "d = date(2019, 3, 21)\n",
    "format(d)"
   ]
  },
  {
   "cell_type": "code",
   "execution_count": 18,
   "metadata": {},
   "outputs": [
    {
     "data": {
      "text/plain": [
       "'Thursday, March, 21, 2019'"
      ]
     },
     "execution_count": 18,
     "metadata": {},
     "output_type": "execute_result"
    }
   ],
   "source": [
    "format(d, '%A, %B, %d, %Y')"
   ]
  },
  {
   "cell_type": "code",
   "execution_count": 19,
   "metadata": {},
   "outputs": [
    {
     "data": {
      "text/plain": [
       "'The end is coming on 21 Mar 2019. Farewell.'"
      ]
     },
     "execution_count": 19,
     "metadata": {},
     "output_type": "execute_result"
    }
   ],
   "source": [
    "'The end is coming on {:%d %b %Y}. Farewell.'.format(d)"
   ]
  },
  {
   "cell_type": "markdown",
   "metadata": {},
   "source": [
    "There are some standard conventions for the formatting of the built-in types.  \n",
    "See the [documentation for the string module](https://docs.python.org/3/library/string.html) for a formal specification."
   ]
  },
  {
   "cell_type": "markdown",
   "metadata": {},
   "source": [
    "## 8.3. Making Objects Support the Context-Management Protocol"
   ]
  },
  {
   "cell_type": "markdown",
   "metadata": {},
   "source": [
    "### Problem"
   ]
  },
  {
   "cell_type": "markdown",
   "metadata": {},
   "source": [
    "You want to make your objects support the context-management protocol, aka the `with` statement."
   ]
  },
  {
   "cell_type": "markdown",
   "metadata": {},
   "source": [
    "### Solution"
   ]
  },
  {
   "cell_type": "markdown",
   "metadata": {},
   "source": [
    "In order to make an object compatible with the `with` statement, you need to implement `__enter__()` and `__exit__()` methods.  \n",
    "For example, consider the following class, which provides a network connection:"
   ]
  },
  {
   "cell_type": "code",
   "execution_count": 20,
   "metadata": {},
   "outputs": [],
   "source": [
    "from socket import socket, AF_INET, SOCK_STREAM\n",
    "\n",
    "class LazyConnection:\n",
    "    def __init__(self, address, family=AF_INET, type=SOCK_STREAM):\n",
    "        self.address = address\n",
    "        self.family = AF_INET\n",
    "        self.type = SOCK_STREAM\n",
    "        self.sock = None\n",
    "        \n",
    "    def __enter__(self):\n",
    "        if self.sock is not None:\n",
    "            raise RuntimeError('*** Already connected ***')\n",
    "        self.sock = socket(self.family, self.type)\n",
    "        self.sock.connect(self.address)\n",
    "        return self.sock\n",
    "    \n",
    "    def __exit__(self, exc_ty, exc_val, tb):\n",
    "        self.sock.close()\n",
    "        self.sock = None"
   ]
  },
  {
   "cell_type": "markdown",
   "metadata": {},
   "source": [
    "The key feature of this class is that it represents a network connection, but it doesn’t actually do anything initially (e.g., it doesn’t establish a connection).  \n",
    "Instead, the connection is established and closed using the with statement (essentially on demand)."
   ]
  },
  {
   "cell_type": "code",
   "execution_count": 21,
   "metadata": {},
   "outputs": [],
   "source": [
    "from functools import partial\n",
    "\n",
    "conn = LazyConnection(('www.python.org', 80))\n",
    "# Connection closed\n",
    "with conn as s:\n",
    "    # conn.__enter__() executes: connection open\n",
    "    s.send(b'GET /index.html HTTP/1.0\\r\\n')\n",
    "    s.send(b'Host: www.python.org\\r\\n')\n",
    "    s.send(b'\\r\\n')\n",
    "    resp = b''.join(iter(partial(s.recv, 8192), b''))\n",
    "    # conn.__exit() executes: connection closed"
   ]
  },
  {
   "cell_type": "markdown",
   "metadata": {},
   "source": [
    "### Discussion"
   ]
  },
  {
   "cell_type": "markdown",
   "metadata": {},
   "source": [
    "The main principle behind writing a context manager is that you’re writing code that’s meant to surround a block of statements as defined by the use of the `with` statement.  \n",
    "When the `with` statement is first encountered, the `__enter__()` method is triggered.  \n",
    "The return value of `__enter__()` (if any) is placed into the variable indicated with the `as` qualifier.  \n",
    "Afterward, the statements in the body of the with statement execute.  \n",
    "Finally, the `__exit__()` method is triggered to clean up.  \n",
    "This control flow happens regardless of what happens in the body of the with statement, including if there are exceptions.  \n",
    "In fact, the three arguments to the `__exit__()` method contain the exception type, value, and traceback for pending exceptions (if any).  \n",
    "The `__exit__()` method can choose to use the exception information in some way or to ignore it by doing nothing and returning `None` as a result.  \n",
    "If `__exit__()` returns `True`, the exception is cleared as if nothing happened and the program continues executing statements immediately after the with block.  \n",
    "One subtle aspect of this recipe is whether or not the `LazyConnection` class allows nested use of the connection with multiple with statements.  \n",
    "As shown, only a single socket connection at a time is allowed, and an exception is raised if a repeated with statement is attempted when a socket is already in use.  \n",
    "You can work around this limitation with a slightly different implementation, as shown here:"
   ]
  },
  {
   "cell_type": "code",
   "execution_count": 22,
   "metadata": {},
   "outputs": [],
   "source": [
    "from socket import socket, AF_INET, SOCK_STREAM\n",
    "\n",
    "class LazyConnection:\n",
    "    def __init__(self, address, family = AF_INET, type=SOCK_STREAM):\n",
    "        self.address = address\n",
    "        self.family = AF_INET\n",
    "        self.type = SOCK_STREAM\n",
    "        self.connections = []\n",
    "        \n",
    "    def __enter__(self):\n",
    "        sock = socket(self.family, self.type)\n",
    "        sock.connect(self.address)\n",
    "        self.connections.append(sock)\n",
    "        return sock\n",
    "    \n",
    "    def __exit(self, exc_ty, exc_val, tb):\n",
    "        self.connections.pop().close()"
   ]
  },
  {
   "cell_type": "raw",
   "metadata": {},
   "source": [
    "# Example Use:\n",
    "\n",
    "from functools import partial\n",
    "\n",
    "conn = LazyConnection(('www.python.org', 80))\n",
    "# Make s1 and s2 independent sockets:\n",
    "with conn as s1:\n",
    "    ...\n",
    "    with conn as s2:\n",
    "        ..."
   ]
  },
  {
   "cell_type": "markdown",
   "metadata": {},
   "source": [
    "In this second version, the `LazyConnection` class serves as a kind of factory for connections.  \n",
    "Internally, a list is used to keep a stack.  \n",
    "Whenever `__enter__()` executes, it makes a new connection and adds it to the stack.  \n",
    "The `__exit__()` method simply pops the last connection off the stack and closes it.  \n",
    "It’s subtle, but this allows multiple connections to be created at once with nested with statements, as shown.  \n",
    "Context managers are most commonly used in programs that need to manage resources such as files, network connections, and locks.  \n",
    "A key part of such resources is they have to be explicitly closed or released to operate correctly.  \n",
    "For instance, if you acquire a lock, then you have to make sure you release it, or else you risk deadlock.  \n",
    "By implementing `__enter__()`, `__exit__()`, and using the with statement, it is much easier to avoid such problems, since the cleanup code in the `__exit__()` method is guaranteed to run no matter what.  \n",
    "An alternative formulation of context managers is found in the `contextmanager` module in Recipe 9.22.  \n",
    "A thread-safe version of this recipe can be found in Recipe 12.6."
   ]
  },
  {
   "cell_type": "markdown",
   "metadata": {},
   "source": [
    "## 8.4. Saving Memory When Creating a Large Number of Instances"
   ]
  },
  {
   "cell_type": "markdown",
   "metadata": {},
   "source": [
    "### Problem"
   ]
  },
  {
   "cell_type": "markdown",
   "metadata": {},
   "source": [
    "Your program creates a large number (e.g., millions) of instances and uses a large amount of memory."
   ]
  },
  {
   "cell_type": "markdown",
   "metadata": {},
   "source": [
    "### Solution"
   ]
  },
  {
   "cell_type": "markdown",
   "metadata": {},
   "source": [
    "For classes that primarily serve as simple data structures, you can often greatly reduce the memory footprint of instances by adding the `__slots__` attribute to the class definition."
   ]
  },
  {
   "cell_type": "code",
   "execution_count": 23,
   "metadata": {},
   "outputs": [],
   "source": [
    "class Date:\n",
    "    __slots__ = ['year', 'month', 'day']\n",
    "    def __init__(self, year, month, day):\n",
    "        self.year = year\n",
    "        self.month = month\n",
    "        self.day = day"
   ]
  },
  {
   "cell_type": "markdown",
   "metadata": {},
   "source": [
    "When you define `__slots__`, Python uses a much more compact internal representation for instances.  \n",
    "Instead of each instance consisting of a dictionary, instances are built around a small fixed-sized array, much like a tuple or list.  \n",
    "Attribute names listed in the `__slots__` specifier are internally mapped to specific indices within this array.  \n",
    "A side effect of using slots is that it is no longer possible to add new attributes to instances — you are restricted to only those attribute names listed in the `__slots__` specifier."
   ]
  },
  {
   "cell_type": "markdown",
   "metadata": {},
   "source": [
    "### Discussion"
   ]
  },
  {
   "cell_type": "markdown",
   "metadata": {},
   "source": [
    "The memory saved by using `__slots__` varies according to the number and type of attributes stored.  \n",
    "However, in general, the resulting memory use is comparable to that of storing data in a tuple.  \n",
    "To give you an idea, storing a single `Date` instance without slots requires 428 bytes of memory on a 64-bit version of Python.  \n",
    "If slots is defined, it drops to 156 bytes.  \n",
    "In a program that manipulated a large number of dates all at once, this would make a significant reduction in overall memory use.  \n",
    "Although slots may seem like a feature that could be generally useful, you should resist the urge to use it in most code.  \n",
    "There are many parts of Python that rely on the normal dictionary-based implementation.  \n",
    "In addition, classes that define slots don’t support certain features such as multiple inheritance.  \n",
    "For the most part, you should only use slots on classes that are going to serve as frequently used data structures in your program (like if your program created millions of instances of a particular class).  \n",
    "A common misperception of `__slots__` is that it is an encapsulation tool that prevents users from adding new attributes to instances.  \n",
    "Although this is a side effect of using slots, this was never the original purpose.  \n",
    "Instead, `__slots__` was always [intended to be an optimization tool](http://python-history.blogspot.com/2010/06/inside-story-on-new-style-classes.html)."
   ]
  },
  {
   "cell_type": "markdown",
   "metadata": {},
   "source": [
    "## 8.5. Encapsulating Names in a Class"
   ]
  },
  {
   "cell_type": "markdown",
   "metadata": {},
   "source": [
    "### Problem"
   ]
  },
  {
   "cell_type": "markdown",
   "metadata": {},
   "source": [
    "You want to encapsulate restricted data on instances of a class, but you are concerned about Python's lack of access control."
   ]
  },
  {
   "cell_type": "markdown",
   "metadata": {},
   "source": [
    "### Solution"
   ]
  },
  {
   "cell_type": "markdown",
   "metadata": {},
   "source": [
    "Rather than relying on language features to encapsulate data, Python programmers are expected to observe certain naming conventions concerning the intended usage of data and methods.  \n",
    "The first convention is that any name that starts with a single leading underscore `(_)` should *always* be assumed to be internal implementation."
   ]
  },
  {
   "cell_type": "code",
   "execution_count": 24,
   "metadata": {},
   "outputs": [],
   "source": [
    "class A:\n",
    "    def __init__(self):\n",
    "        # internal attribute\n",
    "        self._internal = 0\n",
    "        # public attribute\n",
    "        self.public = 1\n",
    "        \n",
    "    def public_method(self):\n",
    "        \"\"\"\n",
    "        Any public method will do.\n",
    "        \"\"\"\n",
    "        pass\n",
    "    \n",
    "    def _internal_method(self):\n",
    "        \"\"\"\n",
    "        Any private method will do.\n",
    "        \"\"\""
   ]
  },
  {
   "cell_type": "markdown",
   "metadata": {},
   "source": [
    "Python doesn’t actually prevent someone from accessing internal names.  \n",
    "However, doing so is considered impolite, and may result in fragile code.  \n",
    "It should be noted, too, that the use of the leading underscore is also used for module names and module-level functions.  \n",
    "For example, if you ever see a module name that starts with a leading underscore (like `_socket`), it’s an internal implementation.  \n",
    "Likewise, module-level functions such as `sys._getframe()` should only be used with great caution.  \n",
    "You may also encounter the use of two leading underscores `(__)` on names within class definitions."
   ]
  },
  {
   "cell_type": "code",
   "execution_count": 25,
   "metadata": {},
   "outputs": [],
   "source": [
    "class B: \n",
    "    def __init__(self):\n",
    "        self.__private = 0\n",
    "        \n",
    "    def __private_method(self):\n",
    "        \"\"\"\n",
    "        Did you know that a docstring alone can form a complete function in Python?\n",
    "        You don't even need the pass keyword.\n",
    "        Thanks Guido;)\n",
    "        \"\"\"\n",
    "    def public_method(self):\n",
    "        self.__private_method()\n",
    "        pass"
   ]
  },
  {
   "cell_type": "markdown",
   "metadata": {},
   "source": [
    "The use of double leading underscores causes the name to be mangled to something else.  \n",
    "Specifically, the private attributes in the preceding class get renamed to `_B__private` and `_B__private_method`, respectively.  \n",
    "At this point, you might ask what purpose such name mangling serves.  \n",
    "The answer is inheritance — such attributes cannot be overridden via inheritance."
   ]
  },
  {
   "cell_type": "code",
   "execution_count": 26,
   "metadata": {},
   "outputs": [],
   "source": [
    "class C(B):\n",
    "    def __init__(self):\n",
    "        super().__init__()\n",
    "        self.__private = 1 # Doesn't override B.__private\n",
    "    def __private_method(self):\n",
    "        \"\"\"\n",
    "        Doesn't override B.__private_method()\n",
    "        \"\"\""
   ]
  },
  {
   "cell_type": "markdown",
   "metadata": {},
   "source": [
    "Here, the private names `__private` and `__private_method()` get renamed to `_C__private` and `_C__private_method`, which are different than the mangled names in the base class `B`."
   ]
  },
  {
   "cell_type": "markdown",
   "metadata": {},
   "source": [
    "### Discussion"
   ]
  },
  {
   "cell_type": "markdown",
   "metadata": {},
   "source": [
    "The fact that there are two different conventions (single underscore versus double underscore) for \"private\" attributes leads to the obvious question of which style you should use.  \n",
    "For most code, you should probably just make your nonpublic names start with a single underscore.  \n",
    "If, however, you know that your code will involve subclassing, and there are internal attributes that should be hidden from subclasses, use the double underscore instead.  \n",
    "It should also be noted that sometimes you may want to define a variable that clashes with the name of a reserved word.  \n",
    "For this, you should use a single trailing underscore."
   ]
  },
  {
   "cell_type": "code",
   "execution_count": 27,
   "metadata": {},
   "outputs": [],
   "source": [
    "lambda_ = 2.0\n",
    "# so you don't clash with the lambda keyword"
   ]
  },
  {
   "cell_type": "markdown",
   "metadata": {},
   "source": [
    "The reason for not using a leading underscore here is that it avoids confusion about the intended usage.  \n",
    "In other words, the use of a leading underscore could be interpreted as a way to avoid a name collision rather than as an indication that the value is private.  \n",
    "Using a single trailing underscore solves this problem."
   ]
  },
  {
   "cell_type": "markdown",
   "metadata": {},
   "source": [
    "## 8.6. Creating Managed Attributes"
   ]
  },
  {
   "cell_type": "markdown",
   "metadata": {},
   "source": [
    "### Problem"
   ]
  },
  {
   "cell_type": "markdown",
   "metadata": {},
   "source": [
    "You want to add extra processing, such as type checking or validation, to the getting or setting of an instance attribute."
   ]
  },
  {
   "cell_type": "markdown",
   "metadata": {},
   "source": [
    "### Solution"
   ]
  },
  {
   "cell_type": "markdown",
   "metadata": {},
   "source": [
    "A simple way to customize access to an attribute is to define it as a [property](https://www.programiz.com/python-programming/property).  \n",
    "For example, this code defines a `property` that adds simple type checking to an attribute:"
   ]
  },
  {
   "cell_type": "code",
   "execution_count": 28,
   "metadata": {},
   "outputs": [],
   "source": [
    "class Person:\n",
    "    def __init__(self, first_name):\n",
    "        self.first_name = first_name\n",
    "        \n",
    "    # Getter function\n",
    "    @property\n",
    "    def first_name(self):\n",
    "        return self._first_name\n",
    "    \n",
    "    # Setter function\n",
    "    @first_name.setter\n",
    "    def first_name(self, value):\n",
    "        if not isinstance(value, str):\n",
    "            raise TypeError('Expected a string')\n",
    "        self._first_name = value\n",
    "            \n",
    "    # Optional Deleter function\n",
    "    @first_name.deleter\n",
    "    def first_name(self):\n",
    "        raise AttributeError('This attribute cannot be deleted')"
   ]
  },
  {
   "cell_type": "markdown",
   "metadata": {},
   "source": [
    "In the preceding code, there are three related methods, all of which must have the same name.  \n",
    "The first method is a getter function, and establishes `first_name` as being a property.  \n",
    "The other two methods attach optional setter and deleter functions to the `first_name` property.  \n",
    "It’s important to stress that the `@first_name.setter` and `@first_name.deleter` decorators won’t be defined unless `first_name` was already established as a property using the `@property` decorator.\n",
    "A critical feature of a property is that it looks like a normal attribute, but access *automatically* triggers the getter, setter, and deleter methods."
   ]
  },
  {
   "cell_type": "code",
   "execution_count": 29,
   "metadata": {},
   "outputs": [
    {
     "data": {
      "text/plain": [
       "'Guido'"
      ]
     },
     "execution_count": 29,
     "metadata": {},
     "output_type": "execute_result"
    }
   ],
   "source": [
    "a = Person('Guido')\n",
    "a.first_name"
   ]
  },
  {
   "cell_type": "raw",
   "metadata": {},
   "source": [
    "a.first_name = 42"
   ]
  },
  {
   "cell_type": "raw",
   "metadata": {},
   "source": [
    "---------------------------------------------------------------------------\n",
    "TypeError                                 Traceback (most recent call last)\n",
    "<ipython-input-32-6341bdece797> in <module>()\n",
    "----> 1 a.first_name = 42\n",
    "\n",
    "<ipython-input-30-346e7509382d> in first_name(self, value)\n",
    "     12     def first_name(self, value):\n",
    "     13         if not isinstance(value, str):\n",
    "---> 14             raise TypeError('Expected a string')\n",
    "     15         self._first_name = value\n",
    "     16 \n",
    "\n",
    "TypeError: Expected a string"
   ]
  },
  {
   "cell_type": "raw",
   "metadata": {},
   "source": [
    "del a.first_name"
   ]
  },
  {
   "cell_type": "raw",
   "metadata": {},
   "source": [
    "---------------------------------------------------------------------------\n",
    "AttributeError                            Traceback (most recent call last)\n",
    "<ipython-input-33-50ce9077a584> in <module>()\n",
    "----> 1 del a.first_name\n",
    "\n",
    "<ipython-input-30-346e7509382d> in first_name(self)\n",
    "     18     @first_name.deleter\n",
    "     19     def first_name(self):\n",
    "---> 20         raise AttributeError('This attribute cannot be deleted')\n",
    "\n",
    "AttributeError: This attribute cannot be deleted"
   ]
  },
  {
   "cell_type": "markdown",
   "metadata": {},
   "source": [
    "When implementing a property, the underlying data (if any) still needs to be stored somewhere.  \n",
    "Thus, in the getter and setter methods, you see direct manipulation of a `_first_name` attribute, which is where the actual data lives.  \n",
    "In addition, you may ask why the `__init__()` method sets `self.first_name` instead of `self._first_name`.  \n",
    "In this example, the entire point of the property is to apply type checking when setting an attribute.  \n",
    "Thus, chances are you would also want such checking to take place during initialization.  \n",
    "By setting `self.first_name`, the set operation uses the setter method instead of bypassing it by accessing `self._first_name`.  \n",
    "Properties can also be defined for existing get and set methods."
   ]
  },
  {
   "cell_type": "code",
   "execution_count": 30,
   "metadata": {},
   "outputs": [],
   "source": [
    "class Person:\n",
    "    def __init__(self, first_name):\n",
    "        self.set_first_name(first_name)\n",
    "        \n",
    "    # Getter function\n",
    "    def get_first_name(self):\n",
    "        return self._first_name\n",
    "    \n",
    "    # Setter function\n",
    "    def set_first_name(self, value):\n",
    "        if not isinstance(value, str):\n",
    "            raise TypeError('Expected a string')\n",
    "        self._first_name = value\n",
    "        \n",
    "    # Optional Deleter function\n",
    "    def del_first_name(self):\n",
    "        raise AttributeError(\"This attribute cannot be deleted\")\n",
    "        \n",
    "    # Make a property from the existing get and set methods\n",
    "    name = property(get_first_name, set_first_name, del_first_name)"
   ]
  },
  {
   "cell_type": "markdown",
   "metadata": {},
   "source": [
    "### Discussion"
   ]
  },
  {
   "cell_type": "markdown",
   "metadata": {},
   "source": [
    "A property attribute is actually a collection of methods bundled together.  \n",
    "If you inspect a class with a property, you can find the raw methods in the `fget`, `fset`, and `fdel` attributes of the property itself."
   ]
  },
  {
   "cell_type": "raw",
   "metadata": {},
   "source": [
    ">>> Person.first_name.fget\n",
    "<function Person.first_name at 0x1006a60e0>\n",
    ">>> Person.first_name.fset\n",
    "<function Person.first_name at 0x1006a6170>\n",
    ">>> Person.first_name.fdel\n",
    "<function Person.first_name at 0x1006a62e0>\n",
    ">>>"
   ]
  },
  {
   "cell_type": "markdown",
   "metadata": {},
   "source": [
    "Normally, you wouldn't call `fget` or `fset` directly, but they are triggered automatically when the property is accessed.  \n",
    "Properties should only be used in cases where you actually need to perform extra processing on attribute access.  \n",
    "Sometimes programmers coming from languages such as Java feel that all access should be handled by getters and setters, and that they should write code like this:"
   ]
  },
  {
   "cell_type": "code",
   "execution_count": 31,
   "metadata": {},
   "outputs": [],
   "source": [
    "class Person:\n",
    "    def __init__(self, first_name):\n",
    "        self.first_name = first_name\n",
    "    @property\n",
    "    def first_name(self):\n",
    "        return self._first_name\n",
    "    @first_name.setter\n",
    "    def first_name(self, value):\n",
    "        self._first_name = value"
   ]
  },
  {
   "cell_type": "markdown",
   "metadata": {},
   "source": [
    "Don’t write properties that don’t actually add anything extra like this.  \n",
    "For one, it makes your code more verbose and confusing to others.  \n",
    "Second, it will make your program run a lot slower.  \n",
    "Lastly, it offers no real design benefit.  \n",
    "Specifically, if you later decide that extra processing needs to be added to the handling of an ordinary attribute, you could promote it to a property without changing existing code.  \n",
    "This is because the syntax of code that accessed the attribute would remain unchanged."
   ]
  },
  {
   "cell_type": "markdown",
   "metadata": {},
   "source": [
    "Properties can also be a way to define computed attributes.  \n",
    "These are attributes that are not actually stored, but computed on demand."
   ]
  },
  {
   "cell_type": "code",
   "execution_count": 32,
   "metadata": {},
   "outputs": [],
   "source": [
    "import math\n",
    "\n",
    "class Circle:\n",
    "    def __init__(self, radius):\n",
    "        self.radius = radius\n",
    "    @property\n",
    "    def area(self):\n",
    "        return math.pi * self.radius ** 2\n",
    "    @property\n",
    "    def perimeter(self):\n",
    "        return 2 * math.pi * self.radius"
   ]
  },
  {
   "cell_type": "markdown",
   "metadata": {},
   "source": [
    "Here, the use of properties results in a very uniform instance interface in that `radius`, `area`, and `perimeter` are all accessed as simple attributes, as opposed to a mix of simple attributes and method calls."
   ]
  },
  {
   "cell_type": "code",
   "execution_count": 33,
   "metadata": {},
   "outputs": [
    {
     "data": {
      "text/plain": [
       "4.0"
      ]
     },
     "execution_count": 33,
     "metadata": {},
     "output_type": "execute_result"
    }
   ],
   "source": [
    "c = Circle(4.0)\n",
    "c.radius"
   ]
  },
  {
   "cell_type": "code",
   "execution_count": 34,
   "metadata": {},
   "outputs": [
    {
     "data": {
      "text/plain": [
       "50.26548245743669"
      ]
     },
     "execution_count": 34,
     "metadata": {},
     "output_type": "execute_result"
    }
   ],
   "source": [
    "# notice the lack of ()\n",
    "c.area"
   ]
  },
  {
   "cell_type": "code",
   "execution_count": 35,
   "metadata": {},
   "outputs": [
    {
     "data": {
      "text/plain": [
       "25.132741228718345"
      ]
     },
     "execution_count": 35,
     "metadata": {},
     "output_type": "execute_result"
    }
   ],
   "source": [
    "# again no parentheses\n",
    "c.perimeter"
   ]
  },
  {
   "cell_type": "markdown",
   "metadata": {},
   "source": [
    "Although properties give you an elegant programming interface, sometimes you actually may want to directly use getter and setter functions."
   ]
  },
  {
   "cell_type": "raw",
   "metadata": {},
   "source": [
    ">>> p = Person('Guido')\n",
    ">>> p.get_first_name()\n",
    "'Guido'\n",
    ">>> p.set_first_name('Larry')\n",
    ">>>"
   ]
  },
  {
   "cell_type": "markdown",
   "metadata": {},
   "source": [
    "This often arises in situations where Python code is being integrated into a larger infrastructure of systems or programs.  \n",
    "For example, perhaps a Python class is going to be plugged into a large distributed system based on remote procedure calls or distributed objects.  \n",
    "In such a setting, it may be much easier to work with an explicit get/set method (as a normal method call) rather than a property that implicitly makes such calls."
   ]
  },
  {
   "cell_type": "markdown",
   "metadata": {},
   "source": [
    "Last, please don’t write Python code that features a lot of repetitive property definitions."
   ]
  },
  {
   "cell_type": "code",
   "execution_count": 36,
   "metadata": {},
   "outputs": [],
   "source": [
    "class Person:\n",
    "    def __init__(self, first_name, last_name):\n",
    "        self.first_name = first_name\n",
    "        self.last_name = last_name\n",
    "        \n",
    "    @property\n",
    "    def first_name(self):\n",
    "        return self._first_name\n",
    "    \n",
    "    @first_name.setter\n",
    "    def first_name(self, value):\n",
    "        if not isinstance(value, str):\n",
    "            raise TypeError('Expected a string')\n",
    "        self._first_name = value\n",
    "        \n",
    "    # Repeated property code, but for a different name, which is confusing and not DRY\n",
    "    @property\n",
    "    def last_name(self):\n",
    "        return self._last_name\n",
    "    \n",
    "    @last_name.setter\n",
    "    def last_name(self, value):\n",
    "        if not isinstance(value, str):\n",
    "            raise TypeError('Expected a string')\n",
    "        self._last_name = value"
   ]
  },
  {
   "cell_type": "markdown",
   "metadata": {},
   "source": [
    "Code repetition leads to bloated, error prone, and ugly code.  \n",
    "As it turns out, there are much better ways to achieve the same thing using descriptors or closures.  \n",
    "See Recipes 8.9 and 9.21."
   ]
  },
  {
   "cell_type": "markdown",
   "metadata": {},
   "source": [
    "## 8.7. Calling a Method on a Parent Class"
   ]
  },
  {
   "cell_type": "markdown",
   "metadata": {},
   "source": [
    "### Problem "
   ]
  },
  {
   "cell_type": "markdown",
   "metadata": {},
   "source": [
    "You want to invoke a method in a parent class in place of a method that has been overridden in a subclass."
   ]
  },
  {
   "cell_type": "markdown",
   "metadata": {},
   "source": [
    "### Solution"
   ]
  },
  {
   "cell_type": "markdown",
   "metadata": {},
   "source": [
    "To call a method in a parent (or superclass), use the `super()` function."
   ]
  },
  {
   "cell_type": "code",
   "execution_count": 37,
   "metadata": {},
   "outputs": [],
   "source": [
    "class A:\n",
    "    def spam(self):\n",
    "        print('A.spam')\n",
    "        \n",
    "class B(A):\n",
    "    def spam(self):\n",
    "        print('B.spam')\n",
    "        # call parent spam function\n",
    "        super().spam()"
   ]
  },
  {
   "cell_type": "markdown",
   "metadata": {},
   "source": [
    "A very common use of `super()` is in the handling of the `__init__()` method to make sure that parents are properly initialized:"
   ]
  },
  {
   "cell_type": "code",
   "execution_count": 38,
   "metadata": {},
   "outputs": [],
   "source": [
    "class A:\n",
    "    def __init__(self):\n",
    "        self.x = 0\n",
    "        \n",
    "class B(A):\n",
    "    def __init__(self):\n",
    "        super().__init__()\n",
    "        self.y = 1"
   ]
  },
  {
   "cell_type": "markdown",
   "metadata": {},
   "source": [
    "Another common use of `super()` is in code that overrrides any of Python's special methods."
   ]
  },
  {
   "cell_type": "code",
   "execution_count": 39,
   "metadata": {},
   "outputs": [],
   "source": [
    "class Proxy:\n",
    "    def __init__(self, obj):\n",
    "        self._obj = obj\n",
    "        \n",
    "    # delegate attribute lookup to internal object\n",
    "    def __getattr__(self, name):\n",
    "        return getattr(self._obj, name)\n",
    "    \n",
    "    # delegate attribute assignment\n",
    "    def __setattr__(self, name, value):\n",
    "        if name.startswith('_'):\n",
    "            # call original setattr\n",
    "            super().__setattr__(name, value)\n",
    "        else:\n",
    "            setattr(self._obj, name, value)"
   ]
  },
  {
   "cell_type": "markdown",
   "metadata": {},
   "source": [
    "In this code, the implementation of `__setattr__()` includes a name check.  \n",
    "If the name starts with an underscore `(_)`, it invokes the original implementation of `__setattr__()` using `super()`.  \n",
    "Otherwise, it delegates to the internally held object `self._obj`.  \n",
    "It looks a little funny, but `super()` works even though there is no explicit base class listed."
   ]
  },
  {
   "cell_type": "markdown",
   "metadata": {},
   "source": [
    "### Discussion"
   ]
  },
  {
   "cell_type": "markdown",
   "metadata": {},
   "source": [
    "Correct use of the `super()` function is actually one of the most poorly understood aspects of Python.  \n",
    "Occasionally, you will see code written that directly calls a method in a parent like this:"
   ]
  },
  {
   "cell_type": "code",
   "execution_count": 40,
   "metadata": {},
   "outputs": [],
   "source": [
    "class Base:\n",
    "    def __init__(self):\n",
    "        print('Base.__init__')\n",
    "        \n",
    "class A(Base):\n",
    "    def __init__(self):\n",
    "        Base.__init__(self)\n",
    "        print('A.__init__')"
   ]
  },
  {
   "cell_type": "markdown",
   "metadata": {},
   "source": [
    "Although you can usually get away with this, it can lead to trouble with inheritance later on."
   ]
  },
  {
   "cell_type": "code",
   "execution_count": 41,
   "metadata": {},
   "outputs": [],
   "source": [
    "class Base:\n",
    "    def __init__(self):\n",
    "        print('Base.__init__')\n",
    "        \n",
    "class A(Base):\n",
    "    def __init__(self):\n",
    "        Base.__init__(self)\n",
    "        print('A.__init__')\n",
    "        \n",
    "class B(Base):\n",
    "    def __init__(self):\n",
    "        Base.__init__(self)\n",
    "        print('B.__init__')\n",
    "        \n",
    "class C(A,B):\n",
    "    def __init__(self):\n",
    "        A.__init__(self)\n",
    "        B.__init__(self)\n",
    "        print('C__init__')"
   ]
  },
  {
   "cell_type": "markdown",
   "metadata": {},
   "source": [
    "Now watch what happens when the `Base.__init__()` method is invoked twice:"
   ]
  },
  {
   "cell_type": "code",
   "execution_count": 42,
   "metadata": {},
   "outputs": [
    {
     "name": "stdout",
     "output_type": "stream",
     "text": [
      "Base.__init__\n",
      "A.__init__\n",
      "Base.__init__\n",
      "B.__init__\n",
      "C__init__\n"
     ]
    }
   ],
   "source": [
    "c = C()"
   ]
  },
  {
   "cell_type": "markdown",
   "metadata": {},
   "source": [
    "Maybe that double-invocation of `Base.__init__()` is harmless, but you won't have to worry if you write the code using `super()`."
   ]
  },
  {
   "cell_type": "code",
   "execution_count": 43,
   "metadata": {},
   "outputs": [],
   "source": [
    "class Base:\n",
    "    def __init__(self):\n",
    "        print('Base.__init__')\n",
    "        \n",
    "class A(Base):\n",
    "    def __init__(self):\n",
    "        super().__init__()\n",
    "        print('A.__init__')\n",
    "        \n",
    "class B(Base):\n",
    "    def __init__(self):\n",
    "        super().__init__()\n",
    "        print('B.__init__')\n",
    "        \n",
    "class C(A, B):\n",
    "    def __init__(self):\n",
    "        # single call to super\n",
    "        super().__init__()\n",
    "        print('C.__init__')"
   ]
  },
  {
   "cell_type": "markdown",
   "metadata": {},
   "source": [
    "Now each `__init__` method is only called once:"
   ]
  },
  {
   "cell_type": "code",
   "execution_count": 44,
   "metadata": {},
   "outputs": [
    {
     "name": "stdout",
     "output_type": "stream",
     "text": [
      "Base.__init__\n",
      "B.__init__\n",
      "A.__init__\n",
      "C.__init__\n"
     ]
    }
   ],
   "source": [
    "c = C()"
   ]
  },
  {
   "cell_type": "markdown",
   "metadata": {},
   "source": [
    "To understand why it works, we need to step back for a minute and discuss how Python implements inheritance.  \n",
    "For every class that you define, Python computes what’s known as a [method resolution order (MRO)](http://python-history.blogspot.com/2010/06/method-resolution-order.html) list.  \n",
    "The MRO list is simply a linear ordering of all the base classes.  "
   ]
  },
  {
   "cell_type": "code",
   "execution_count": 45,
   "metadata": {},
   "outputs": [
    {
     "name": "stdout",
     "output_type": "stream",
     "text": [
      "(<class '__main__.C'>, <class '__main__.A'>, <class '__main__.B'>, <class '__main__.Base'>, <class 'object'>)\n"
     ]
    }
   ],
   "source": [
    "print(C.__mro__)"
   ]
  },
  {
   "cell_type": "markdown",
   "metadata": {},
   "source": [
    "[First](https://en.wikipedia.org/wiki/C3_linearization#Example_demonstrated_in_Python_3), we have a metaclass to enable a short representation of the objects by name."
   ]
  },
  {
   "cell_type": "code",
   "execution_count": 46,
   "metadata": {},
   "outputs": [],
   "source": [
    "class Type(type):\n",
    "    def __repr__(cls):\n",
    "        return cls.__name__\n",
    "    \n",
    "class O(object, metaclass=Type): pass"
   ]
  },
  {
   "cell_type": "markdown",
   "metadata": {},
   "source": [
    "Now construct the inheritance tree:"
   ]
  },
  {
   "cell_type": "code",
   "execution_count": 47,
   "metadata": {},
   "outputs": [],
   "source": [
    "class A(O): pass\n",
    "\n",
    "class B(O): pass\n",
    "\n",
    "class C(O): pass\n",
    "\n",
    "class D(O): pass\n",
    "\n",
    "class E(O): pass\n",
    "\n",
    "class K1(A, B, C): pass\n",
    "\n",
    "class K2(D, B, E): pass\n",
    "\n",
    "class K3(D, A): pass\n",
    "\n",
    "class Z(K1, K2, K3): pass"
   ]
  },
  {
   "cell_type": "code",
   "execution_count": 48,
   "metadata": {},
   "outputs": [
    {
     "name": "stdout",
     "output_type": "stream",
     "text": [
      "[Z, K1, K2, K3, D, A, B, C, E, O, <class 'object'>]\n"
     ]
    }
   ],
   "source": [
    "print(Z.mro())"
   ]
  },
  {
   "cell_type": "markdown",
   "metadata": {},
   "source": [
    "To implement inheritance, Python starts with the leftmost class and works its way left-to-right through classes on the MRO list until it finds the first attribute match.  \n",
    "The actual determination of the MRO list itself is made using a technique known as [C3 Linearization](https://en.wikipedia.org/wiki/C3_linearization).  \n",
    "Without getting too bogged down in the mathematics of it, it is actually a merge sort of the MROs from the parent classes subject to three constraints:  \n",
    "* Child classes get checked before parents.  \n",
    "* Multiple parents get checked in the order listed.  \n",
    "* If there are two valid choices for the next class, pick the one from the first parent. \n",
    "\n",
    "Honestly, all you really need to know is that the order of classes in the MRO list accommodates almost any class hierarchy you are going to define.  \n",
    "When you use the `super()` function, Python continues its search starting with the next class on the MRO.  \n",
    "As long as every redefined method consistently uses `super()` and only calls it once, control will ultimately work its way through the entire MRO list and each method will only be called once.  \n",
    "This is why you don’t get double calls to `Base.__init__()` in the second example.  \n",
    "A somewhat surprising aspect of `super()` is that it doesn’t necessarily go to the direct parent of a class next in the MRO and that you can even use it in a class with no direct parent at all.  \n",
    "For example, consider this class:"
   ]
  },
  {
   "cell_type": "code",
   "execution_count": 49,
   "metadata": {},
   "outputs": [],
   "source": [
    "class A:\n",
    "    def spam(self):\n",
    "        print('A.spam')\n",
    "        super().spam()"
   ]
  },
  {
   "cell_type": "markdown",
   "metadata": {},
   "source": [
    "We have a problem:"
   ]
  },
  {
   "cell_type": "raw",
   "metadata": {},
   "source": [
    "a = A()\n",
    "a.spam()"
   ]
  },
  {
   "cell_type": "raw",
   "metadata": {},
   "source": [
    "A.spam\n",
    "\n",
    "---------------------------------------------------------------------------\n",
    "AttributeError                            Traceback (most recent call last)\n",
    "<ipython-input-50-567efd26aa5c> in <module>()\n",
    "      1 a = A()\n",
    "----> 2 a.spam()\n",
    "\n",
    "<ipython-input-49-2dbdaa4e4ae8> in spam(self)\n",
    "      2     def spam(self):\n",
    "      3         print('A.spam')\n",
    "----> 4         super().spam()\n",
    "\n",
    "AttributeError: 'super' object has no attribute 'spam'\n"
   ]
  },
  {
   "cell_type": "markdown",
   "metadata": {},
   "source": [
    "However, watch what happens if you begin using the class with multiple inheritance:"
   ]
  },
  {
   "cell_type": "code",
   "execution_count": 50,
   "metadata": {},
   "outputs": [],
   "source": [
    "class B:\n",
    "    def spam(self):\n",
    "        print('B.spam')\n",
    "        \n",
    "class C(A,B):\n",
    "    pass"
   ]
  },
  {
   "cell_type": "code",
   "execution_count": 51,
   "metadata": {},
   "outputs": [
    {
     "name": "stdout",
     "output_type": "stream",
     "text": [
      "A.spam\n",
      "B.spam\n"
     ]
    }
   ],
   "source": [
    "c = C()\n",
    "c.spam()"
   ]
  },
  {
   "cell_type": "markdown",
   "metadata": {},
   "source": [
    "Here you see that the use of `super().spam()` in class `A` has called the `spam()` method in class `B` -- a class that is completely unrelated to `A`.  \n",
    "This is all explained by the MRO of class `C`:"
   ]
  },
  {
   "cell_type": "code",
   "execution_count": 52,
   "metadata": {},
   "outputs": [
    {
     "name": "stdout",
     "output_type": "stream",
     "text": [
      "(<class '__main__.C'>, <class '__main__.A'>, <class '__main__.B'>, <class 'object'>)\n"
     ]
    }
   ],
   "source": [
    "print(C.__mro__)"
   ]
  },
  {
   "cell_type": "markdown",
   "metadata": {},
   "source": [
    "Using `super()` in this manner is most common when defining mixin classes.  \n",
    "See Recipes 8.13 and 8.18.  \n",
    "However, because `super()` might invoke a method that you’re not expecting, there are a few general rules of thumb you should try to follow.  \n",
    "First, make sure that all methods with the same name in an inheritance hierarchy have a compatible calling signature, including the same number of arguments and argument names.  \n",
    "This ensures that `super()` won’t get tripped up if it tries to invoke a method on a class that’s not a direct parent.  \n",
    "Second, it’s usually a good idea to make sure that the topmost class provides an implementation of the method so that the chain of lookups that occur along the MRO get terminated by an actual method of some sort.  \n",
    "Use of `super()` is sometimes a source of debate in the Python community.  \n",
    "However, all things being equal, you should probably use it in modern code.  \n",
    "Raymond Hettinger has written an excellent blog post [Python’s super() Considered Super!](https://rhettinger.wordpress.com/2011/05/26/super-considered-super/) that has even more examples and reasons why `super()` might be super-awesome."
   ]
  },
  {
   "cell_type": "markdown",
   "metadata": {},
   "source": [
    "## 8.8. Extending a Property in a Subclass"
   ]
  },
  {
   "cell_type": "markdown",
   "metadata": {},
   "source": [
    "### Problem"
   ]
  },
  {
   "cell_type": "markdown",
   "metadata": {},
   "source": [
    "Within a subclass, you want to extend the functionality of a property defined in a parent class.   "
   ]
  },
  {
   "cell_type": "markdown",
   "metadata": {},
   "source": [
    "### Solution"
   ]
  },
  {
   "cell_type": "markdown",
   "metadata": {},
   "source": [
    "Consider the following code, whch defines a property:"
   ]
  },
  {
   "cell_type": "code",
   "execution_count": 53,
   "metadata": {},
   "outputs": [],
   "source": [
    "class Person:\n",
    "    def __init__(self, name):\n",
    "        self.name = name\n",
    "        \n",
    "    \n",
    "    # getter function\n",
    "    @property\n",
    "    def name(self):\n",
    "        return self._name\n",
    "    \n",
    "    # setter function\n",
    "    @name.setter\n",
    "    \n",
    "    def name(self, value):\n",
    "        if not isinstance(value, str):\n",
    "            raise TypeError('Expected a string')\n",
    "        self._name = value\n",
    "        \n",
    "    # deleter function\n",
    "    @name.deleter\n",
    "    def name(self):\n",
    "        raise AttributeError(\"Can't delete attribute\")"
   ]
  },
  {
   "cell_type": "markdown",
   "metadata": {},
   "source": [
    "Here is an example of a class that inherits from `Person` and extends the `name` property with new functionality:"
   ]
  },
  {
   "cell_type": "code",
   "execution_count": 54,
   "metadata": {},
   "outputs": [],
   "source": [
    "class SubPerson(Person):\n",
    "    @property\n",
    "    def name(self):\n",
    "        print('Getting name')\n",
    "        return super().name\n",
    "    \n",
    "    @name.setter\n",
    "    def name(self, value):\n",
    "        print('Setting name to', value)\n",
    "        super(SubPerson, SubPerson).name.__set__(self, value)\n",
    "        \n",
    "    @name.deleter\n",
    "    def name(self):\n",
    "        print('Deleting name')\n",
    "        super(SubPerson, SubPerson).name.__delete__(self)"
   ]
  },
  {
   "cell_type": "markdown",
   "metadata": {},
   "source": [
    "Here is an example of our new class in use:"
   ]
  },
  {
   "cell_type": "code",
   "execution_count": 55,
   "metadata": {},
   "outputs": [
    {
     "name": "stdout",
     "output_type": "stream",
     "text": [
      "Setting name to Guido\n"
     ]
    }
   ],
   "source": [
    "s = SubPerson('Guido')"
   ]
  },
  {
   "cell_type": "code",
   "execution_count": 56,
   "metadata": {},
   "outputs": [
    {
     "name": "stdout",
     "output_type": "stream",
     "text": [
      "Getting name\n"
     ]
    },
    {
     "data": {
      "text/plain": [
       "'Guido'"
      ]
     },
     "execution_count": 56,
     "metadata": {},
     "output_type": "execute_result"
    }
   ],
   "source": [
    "s.name"
   ]
  },
  {
   "cell_type": "code",
   "execution_count": 57,
   "metadata": {},
   "outputs": [
    {
     "name": "stdout",
     "output_type": "stream",
     "text": [
      "Setting name to Larry\n"
     ]
    }
   ],
   "source": [
    "s.name = 'Larry'"
   ]
  },
  {
   "cell_type": "raw",
   "metadata": {},
   "source": [
    "s.name = 42\n",
    "\n",
    "---------------------------------------------------------------------------\n",
    "TypeError                                 Traceback (most recent call last)\n",
    "<ipython-input-58-40945ded06e3> in <module>()\n",
    "----> 1 s.name = 42\n",
    "\n",
    "<ipython-input-54-e2e1f595314f> in name(self, value)\n",
    "      8     def name(self, value):\n",
    "      9         print('Setting name to', value)\n",
    "---> 10         super(SubPerson, SubPerson).name.__set__(self, value)\n",
    "     11 \n",
    "     12     @name.deleter\n",
    "\n",
    "<ipython-input-53-995061efb461> in name(self, value)\n",
    "     14     def name(self, value):\n",
    "     15         if not isinstance(value, str):\n",
    "---> 16             raise TypeError('Expected a string')\n",
    "     17         self._name = value\n",
    "     18 \n",
    "\n",
    "TypeError: Expected a string"
   ]
  },
  {
   "cell_type": "markdown",
   "metadata": {},
   "source": [
    "If you only want to extend one of the methods of a property, use code such as the following:"
   ]
  },
  {
   "cell_type": "code",
   "execution_count": 58,
   "metadata": {},
   "outputs": [],
   "source": [
    "class SubPerson(Person):\n",
    "    @Person.name.getter\n",
    "    def name(self):\n",
    "        print('Getting name')\n",
    "        return super().name"
   ]
  },
  {
   "cell_type": "markdown",
   "metadata": {},
   "source": [
    "If you just want the setter, you can try this:"
   ]
  },
  {
   "cell_type": "code",
   "execution_count": 59,
   "metadata": {},
   "outputs": [],
   "source": [
    "class SubPerson(Person):\n",
    "    @Person.name.setter\n",
    "    def name(self, value):\n",
    "        print('Setting name to', value)\n",
    "        super(SubPerson, SubPerson).name.__set__(self, value)"
   ]
  },
  {
   "cell_type": "markdown",
   "metadata": {},
   "source": [
    "### Discussion"
   ]
  },
  {
   "cell_type": "markdown",
   "metadata": {},
   "source": [
    "Extending a property in a subclass introduces a number of very subtle problems related to the fact that a property is defined as a collection of getter, setter, and deleter methods, as opposed to just a single method.  \n",
    "Thus, when extending a property, you need to figure out if you will redefine all of the methods together or just one of the methods.  \n",
    "In the first example, all of the property methods are redefined together.  \n",
    "Within each method, `super()` is used to call the previous implementation.  \n",
    "The use of `super(Sub Person, SubPerson).name.__set__(self, value)` in the setter function is no mistake.  \n",
    "To delegate to the previous implementation of the setter, control needs to pass through the `__set__()` method of the previously defined name property.  \n",
    "However, the only way to get to this method is to access it as a class variable instead of an instance variable.  \n",
    "This is what happens with the `super(SubPerson, SubPerson)` operation.  \n",
    "If you only want to redefine one of the methods, it’s not enough to use `@property` by itself."
   ]
  },
  {
   "cell_type": "code",
   "execution_count": 60,
   "metadata": {},
   "outputs": [],
   "source": [
    "class SubPerson(Person):\n",
    "    @property\n",
    "    def name(self):\n",
    "        print('Getting name')\n",
    "        return super().name"
   ]
  },
  {
   "cell_type": "markdown",
   "metadata": {},
   "source": [
    "The following code will throw an `AttributeError` because the setter function can't be accessed."
   ]
  },
  {
   "cell_type": "raw",
   "metadata": {},
   "source": [
    ">>> s = SubPerson('Not Guido')\n",
    "\n",
    "---------------------------------------------------------------------------\n",
    "AttributeError                            Traceback (most recent call last)\n",
    "<ipython-input-62-ac4c50d74cde> in <module>()\n",
    "----> 1 s = SubPerson('Not Guido')\n",
    "\n",
    "<ipython-input-53-995061efb461> in __init__(self, name)\n",
    "      1 class Person:\n",
    "      2     def __init__(self, name):\n",
    "----> 3         self.name = name\n",
    "      4 \n",
    "      5 \n",
    "\n",
    "AttributeError: can't set attribute"
   ]
  },
  {
   "cell_type": "markdown",
   "metadata": {},
   "source": [
    "With the code shown in the solution, however:"
   ]
  },
  {
   "cell_type": "raw",
   "metadata": {},
   "source": [
    "class SubPerson(Person):\n",
    "    @Person.getter\n",
    "    def name(self):\n",
    "        print('Getting name')\n",
    "        return super().name"
   ]
  },
  {
   "cell_type": "markdown",
   "metadata": {},
   "source": [
    "All of the previously defined methods of the property are copied, and the getter function is replaced.  \n",
    "In this particular solution, there is no way to replace the hardcoded class name `Person` with something more generic.  \n",
    "If you don’t know which base class defined a property, you should use the solution where all of the property methods are redefined and `super()` is used to pass control to the previous implementation.  \n",
    "It’s worth noting that the first technique shown in this recipe can also be used to extend a descriptor, as described in Recipe 8.9."
   ]
  },
  {
   "cell_type": "code",
   "execution_count": 61,
   "metadata": {},
   "outputs": [],
   "source": [
    "# A descriptor\n",
    "class String:\n",
    "    def __init__(self, name):\n",
    "        self.name = name\n",
    "        \n",
    "    def __get__(self, instance, cls):\n",
    "        if instance is None:\n",
    "            return self\n",
    "        return instance.__dict__[self.name]\n",
    "    \n",
    "    def __set__(self, instance, value):\n",
    "        if not isinstance(value, str):\n",
    "            raise TypeError('Expected a string')\n",
    "        instance.__dict__[self.name] = value\n",
    "\n",
    "        \n",
    "# A class with a descriptor\n",
    "class Person:\n",
    "    name = String('name')\n",
    "    def __init__(self, name):\n",
    "        self.name = name\n",
    "\n",
    "        \n",
    "# Extending a descriptor with a property\n",
    "class SubPerson(Person):\n",
    "    @property\n",
    "    def name(self):\n",
    "        print('Getting name')\n",
    "        return super().name\n",
    "    \n",
    "    @name.setter\n",
    "    def name(self, value):\n",
    "        print('Setting name to', value)\n",
    "        super(SubPerson, SubPerson).name.__set__(self, value)\n",
    "        \n",
    "    @name.deleter\n",
    "    def name(self):\n",
    "        print('Deleting name')\n",
    "        super(SubPerson, SubPerson).name.__delete__(self)"
   ]
  },
  {
   "cell_type": "markdown",
   "metadata": {},
   "source": [
    "Finally, it’s worth noting that by the time you read this, subclassing of setter and deleter methods might be somewhat simplified.  \n",
    "The solution shown will still work, but the [bug reported at Python’s issues page](https://bugs.python.org/issue14965) might evolve into a cleaner approach in a future Python version."
   ]
  },
  {
   "cell_type": "markdown",
   "metadata": {},
   "source": [
    "## 8.9. Creating a New Kind of Class or Instance Attribute"
   ]
  },
  {
   "cell_type": "markdown",
   "metadata": {},
   "source": [
    "### Problem"
   ]
  },
  {
   "cell_type": "markdown",
   "metadata": {},
   "source": [
    "You want to create a new kind of instance attribute type with some extra functionality, such as type checking.  "
   ]
  },
  {
   "cell_type": "markdown",
   "metadata": {},
   "source": [
    "### Solution"
   ]
  },
  {
   "cell_type": "markdown",
   "metadata": {},
   "source": [
    "If you want to create an entirely new kind of instance attribute, define its functionality in the form of a descriptor class. "
   ]
  },
  {
   "cell_type": "code",
   "execution_count": 62,
   "metadata": {},
   "outputs": [],
   "source": [
    "# Descriptor attribute for an integer type-checked attribute:\n",
    "class Integer:\n",
    "    def __init__(self, name):\n",
    "        self.name = name\n",
    "        \n",
    "    def __get__(self, instance, cls):\n",
    "        if instance is None:\n",
    "            return self\n",
    "        else:\n",
    "            return instance.__dict__[self.name]\n",
    "        \n",
    "    def __set__(self, instance, value):\n",
    "        if not isinstance(value, int):\n",
    "            raise TypeError('Expected an integer')\n",
    "        instance.__dict__[self.name] = value\n",
    "        \n",
    "    def __delete__(self, instance):\n",
    "        del instance.__dict__[self.name]"
   ]
  },
  {
   "cell_type": "markdown",
   "metadata": {},
   "source": [
    "A [descriptor](https://docs.python.org/3/howto/descriptor.html) is a class that implements the three core attribute access operations (get, set, and delete) in the form of `__get__()`, `__set__()`, and `__delete__()` special methods.  \n",
    "These methods work by receiving an instance as input.  \n",
    "The underlying dictionary of the instance is then manipulated as appropriate.  \n",
    "To use a descriptor, instances of the descriptor are placed into a class definition as class variables."
   ]
  },
  {
   "cell_type": "code",
   "execution_count": 63,
   "metadata": {},
   "outputs": [],
   "source": [
    "class Point:\n",
    "    x = Integer('x')\n",
    "    y = Integer('y')\n",
    "    def __init__(self, x, y):\n",
    "        self.x = x\n",
    "        self.y = y"
   ]
  },
  {
   "cell_type": "markdown",
   "metadata": {},
   "source": [
    "When you do this, all access to the descriptor attributes x and y is captured by the `__get__()`, `__set__()`, and `__delete__()` methods."
   ]
  },
  {
   "cell_type": "code",
   "execution_count": 64,
   "metadata": {},
   "outputs": [
    {
     "data": {
      "text/plain": [
       "2"
      ]
     },
     "execution_count": 64,
     "metadata": {},
     "output_type": "execute_result"
    }
   ],
   "source": [
    "p = Point(2, 3)\n",
    "# calls Point.x.__get__(p, Point)\n",
    "p.x"
   ]
  },
  {
   "cell_type": "code",
   "execution_count": 65,
   "metadata": {},
   "outputs": [],
   "source": [
    "# calls Point.y.__set__(p, 5)\n",
    "p.y = 5"
   ]
  },
  {
   "cell_type": "raw",
   "metadata": {},
   "source": [
    "# calls Point.x.__set__(p, 2.3)\n",
    "p.x = 2.3"
   ]
  },
  {
   "cell_type": "raw",
   "metadata": {},
   "source": [
    "---------------------------------------------------------------------------\n",
    "TypeError                                 Traceback (most recent call last)\n",
    "<ipython-input-66-f74c2e97f4db> in <module>()\n",
    "      1 # calls Point.x.__set__(p, 2.3)\n",
    "----> 2 p.x = 2.3\n",
    "\n",
    "<ipython-input-62-49d4ace7d584> in __set__(self, instance, value)\n",
    "     12     def __set__(self, instance, value):\n",
    "     13         if not isinstance(value, int):\n",
    "---> 14             raise TypeError('Expected an integer')\n",
    "     15         instance.__dict__[self.name] = value\n",
    "     16 \n",
    "\n",
    "TypeError: Expected an integer\n"
   ]
  },
  {
   "cell_type": "markdown",
   "metadata": {},
   "source": [
    "As input, each method of a descriptor receives the instance being manipulated.  \n",
    "To carry out the requested operation, the underlying instance dictionary (the `__dict__` attribute) is manipulated as appropriate.  \n",
    "The `self.name` attribute of the descriptor holds the dictionary key being used to store the actual data in the instance dictionary."
   ]
  },
  {
   "cell_type": "markdown",
   "metadata": {},
   "source": [
    "### Discussion"
   ]
  },
  {
   "cell_type": "code",
   "execution_count": null,
   "metadata": {},
   "outputs": [],
   "source": []
  }
 ],
 "metadata": {
  "kernelspec": {
   "display_name": "Python 3",
   "language": "python",
   "name": "python3"
  },
  "language_info": {
   "codemirror_mode": {
    "name": "ipython",
    "version": 3
   },
   "file_extension": ".py",
   "mimetype": "text/x-python",
   "name": "python",
   "nbconvert_exporter": "python",
   "pygments_lexer": "ipython3",
   "version": "3.6.1"
  }
 },
 "nbformat": 4,
 "nbformat_minor": 2
}
