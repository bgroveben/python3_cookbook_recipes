{
 "cells": [
  {
   "cell_type": "markdown",
   "metadata": {},
   "source": [
    "# [Chapter 3. Numbers, Dates, and Times](http://chimera.labs.oreilly.com/books/1230000000393/ch03.html)"
   ]
  },
  {
   "cell_type": "markdown",
   "metadata": {},
   "source": [
    "Performing mathematical calculations with integers and floating-point numbers is easy in Python.  \n",
    "However, if you need to perform calculations with fractions, arrays, or dates and times, a bit more work is required.  \n",
    "The focus of this chapter is on such topics."
   ]
  },
  {
   "cell_type": "markdown",
   "metadata": {},
   "source": [
    "## [Rounding Numerical Values](http://chimera.labs.oreilly.com/books/1230000000393/ch03.html#_rounding_numerical_values)"
   ]
  },
  {
   "cell_type": "markdown",
   "metadata": {},
   "source": [
    "### Problem"
   ]
  },
  {
   "cell_type": "markdown",
   "metadata": {},
   "source": [
    "You want to round a floating-point number to a fixed number of decimal places."
   ]
  },
  {
   "cell_type": "markdown",
   "metadata": {},
   "source": [
    "### Solution"
   ]
  },
  {
   "cell_type": "markdown",
   "metadata": {},
   "source": [
    "For simple rounding, use the built-in `round(value, ndigits)` function."
   ]
  },
  {
   "cell_type": "code",
   "execution_count": 363,
   "metadata": {},
   "outputs": [
    {
     "name": "stdout",
     "output_type": "stream",
     "text": [
      "1.2\n",
      "1.3\n",
      "-1.2\n",
      "1.254\n"
     ]
    }
   ],
   "source": [
    "print(round(1.23, 1))\n",
    "print(round(1.27, 1))\n",
    "print(round(-1.23, 1))\n",
    "print(round(1.25361, 3))"
   ]
  },
  {
   "cell_type": "markdown",
   "metadata": {},
   "source": [
    "When a value is exactly halfway between two choices, the behavior of round is to round to the nearest even digit.  \n",
    "That is, values such as 1.5 or 2.5 both get rounded to 2.  \n",
    "The number of digits given to `round()` can be negative, in which case rounding takes place for tens, hundreds, thousands, and so on."
   ]
  },
  {
   "cell_type": "code",
   "execution_count": 364,
   "metadata": {},
   "outputs": [
    {
     "name": "stdout",
     "output_type": "stream",
     "text": [
      "1627730\n",
      "1627700\n",
      "1628000\n"
     ]
    }
   ],
   "source": [
    "a = 1627731\n",
    "print(round(a, -1))\n",
    "print(round(a, -2))\n",
    "print(round(a, -3))"
   ]
  },
  {
   "cell_type": "markdown",
   "metadata": {},
   "source": [
    "### Discussion"
   ]
  },
  {
   "cell_type": "markdown",
   "metadata": {},
   "source": [
    "Don't confuse rounding with formatting a value for output.  \n",
    "If your goal is simply to output a numerical value with a certain number of decimal places, you don't usually need to use `round()`.  \n",
    "Instead, just specify the desired precision when formatting, like this:"
   ]
  },
  {
   "cell_type": "code",
   "execution_count": 365,
   "metadata": {},
   "outputs": [
    {
     "name": "stdout",
     "output_type": "stream",
     "text": [
      "1.23\n",
      "1.235\n",
      "Value is 1.235\n"
     ]
    }
   ],
   "source": [
    "x = 1.23456\n",
    "print(format(x, '0.2f'))\n",
    "print(format(x, '0.3f'))\n",
    "print('Value is {:0.3f}'.format(x))"
   ]
  },
  {
   "cell_type": "markdown",
   "metadata": {},
   "source": [
    "Also, resist the urge to round floating-point numbers to \"fix\" perceived accuracy problems.  \n",
    "Don't do this:"
   ]
  },
  {
   "cell_type": "code",
   "execution_count": 366,
   "metadata": {},
   "outputs": [
    {
     "name": "stdout",
     "output_type": "stream",
     "text": [
      "6.300000000000001\n",
      "6.3\n"
     ]
    }
   ],
   "source": [
    "a = 2.1\n",
    "b = 4.2\n",
    "c = a + b\n",
    "print(c)\n",
    "# \"Fix\" result?:\n",
    "c = round(c, 2)\n",
    "print(c)"
   ]
  },
  {
   "cell_type": "markdown",
   "metadata": {},
   "source": [
    "For most applications involving floating point, it’s simply not necessary (or recommended) to do this.  \n",
    "Although there are small errors introduced into calculations, the behavior of those errors are understood and tolerated.  \n",
    "If avoiding such errors is important (e.g., in financial applications, perhaps), consider the use of the `decimal` module, which is discussed in the next recipe."
   ]
  },
  {
   "cell_type": "markdown",
   "metadata": {},
   "source": [
    "## [Performing Accurate Decimal Calculations](http://chimera.labs.oreilly.com/books/1230000000393/ch03.html#_performing_accurate_decimal_calculations)"
   ]
  },
  {
   "cell_type": "markdown",
   "metadata": {
    "collapsed": true
   },
   "source": [
    "### Problem"
   ]
  },
  {
   "cell_type": "markdown",
   "metadata": {},
   "source": [
    "You need to perform accurate calculations with decimal numbers, and you don't want the small errors that naturally occur with floats."
   ]
  },
  {
   "cell_type": "markdown",
   "metadata": {},
   "source": [
    "### Solution"
   ]
  },
  {
   "cell_type": "markdown",
   "metadata": {},
   "source": [
    "One issue with floating-point numbers is that they can't accurately represent all base-10 decimals.  \n",
    "Moreover, even simple mathematical calculations introduce small errors."
   ]
  },
  {
   "cell_type": "code",
   "execution_count": 367,
   "metadata": {},
   "outputs": [
    {
     "name": "stdout",
     "output_type": "stream",
     "text": [
      "6.300000000000001\n",
      "False\n"
     ]
    }
   ],
   "source": [
    "a = 4.2\n",
    "b = 2.1\n",
    "print(a + b)\n",
    "print((a + b) == 6.3)"
   ]
  },
  {
   "cell_type": "markdown",
   "metadata": {},
   "source": [
    "These errors are a \"feature\" of the underlying CPU and the IEEE 754 arithmetic performed by its floating-point unit.  \n",
    "Since Python's float data type stores data using the native representation, there's nothing you can do to avoid such errors if you write your code using `float` instances."
   ]
  },
  {
   "cell_type": "markdown",
   "metadata": {},
   "source": [
    "If you want more accuracy (and are willing to give up some performance), you can use the `decimal` module:"
   ]
  },
  {
   "cell_type": "code",
   "execution_count": 368,
   "metadata": {},
   "outputs": [
    {
     "name": "stdout",
     "output_type": "stream",
     "text": [
      "6.3\n",
      "True\n"
     ]
    }
   ],
   "source": [
    "from decimal import Decimal\n",
    "\n",
    "a = Decimal('4.2')\n",
    "b = Decimal('2.1')\n",
    "print(a + b)\n",
    "print((a + b) == Decimal('6.3'))"
   ]
  },
  {
   "cell_type": "markdown",
   "metadata": {},
   "source": [
    "At first glance, it might look a little wierd (i.e., specifying numbers as strings).  \n",
    "However, `Decimal` objects work in every way that you would expect them to (like supporting all of the usual math operations, and so on).  \n",
    "If you print them or use them in string formatting functions, they look like normal numbers."
   ]
  },
  {
   "cell_type": "markdown",
   "metadata": {},
   "source": [
    "A major feature of `decimal` is that it allows you to control different aspects of calculations, including number of digits and rounding.  \n",
    "To do this, you create a local context and change its settings."
   ]
  },
  {
   "cell_type": "code",
   "execution_count": 369,
   "metadata": {},
   "outputs": [
    {
     "name": "stdout",
     "output_type": "stream",
     "text": [
      "0.7647058823529411764705882353\n"
     ]
    }
   ],
   "source": [
    "from decimal import localcontext\n",
    "\n",
    "a = Decimal('1.3')\n",
    "b = Decimal('1.7')\n",
    "print(a / b)"
   ]
  },
  {
   "cell_type": "code",
   "execution_count": 370,
   "metadata": {},
   "outputs": [
    {
     "name": "stdout",
     "output_type": "stream",
     "text": [
      "0.765\n"
     ]
    }
   ],
   "source": [
    "with localcontext() as ctx:\n",
    "    ctx.prec = 3\n",
    "    print(a / b)"
   ]
  },
  {
   "cell_type": "code",
   "execution_count": 371,
   "metadata": {},
   "outputs": [
    {
     "name": "stdout",
     "output_type": "stream",
     "text": [
      "0.76470588235294117647058823529411764705882352941176\n"
     ]
    }
   ],
   "source": [
    "with localcontext() as ctx:\n",
    "    ctx.prec = 50\n",
    "    print(a / b)"
   ]
  },
  {
   "cell_type": "markdown",
   "metadata": {},
   "source": [
    "### Discussion"
   ]
  },
  {
   "cell_type": "markdown",
   "metadata": {},
   "source": [
    "The decimal module implements [IBM’s \"General Decimal Arithmetic Specification.\"](http://speleotrove.com/decimal/) Needless to say, there are a huge number of configuration options that are beyond the scope of this book.  \n",
    "Newcomers to Python might be inclined to use the decimal module to work around perceived accuracy problems with the float data type.  \n",
    "However, it’s really important to understand your application domain.  \n",
    "If you’re working with science or engineering problems, computer graphics, or most things of a scientific nature, it’s simply more common to use the normal floating-point type.  \n",
    "For one, very few things in the real world are measured to the 17 digits of accuracy that floats provide.  \n",
    "Thus, tiny errors introduced in calculations just don’t matter.  \n",
    "Second, the performance of native floats is significantly faster -- something that’s important if you’re performing a large number of calculations.  \n",
    "That said, you can’t ignore the errors completely.  \n",
    "Mathematicians have spent a lot of time studying various algorithms, and some handle errors better than others.  \n",
    "You also have to be a little careful with effects due to things such as [subtractive cancellation](https://ece.uwaterloo.ca/~dwharder/NumericalAnalysis/02Numerics/Weaknesses/#howto) and adding large and small numbers together."
   ]
  },
  {
   "cell_type": "code",
   "execution_count": 372,
   "metadata": {},
   "outputs": [
    {
     "data": {
      "text/plain": [
       "0.0"
      ]
     },
     "execution_count": 372,
     "metadata": {},
     "output_type": "execute_result"
    }
   ],
   "source": [
    "nums = [1.23e+18, 1, -1.23e+18]\n",
    "# Watch, ladies and gentleman, as the 1 magically disappears:\n",
    "sum(nums)"
   ]
  },
  {
   "cell_type": "markdown",
   "metadata": {},
   "source": [
    "This latter example can be addressed by using a more accurate implementation in math.fsum():"
   ]
  },
  {
   "cell_type": "code",
   "execution_count": 373,
   "metadata": {},
   "outputs": [
    {
     "data": {
      "text/plain": [
       "1.0"
      ]
     },
     "execution_count": 373,
     "metadata": {},
     "output_type": "execute_result"
    }
   ],
   "source": [
    "import math\n",
    "math.fsum(nums)"
   ]
  },
  {
   "cell_type": "markdown",
   "metadata": {},
   "source": [
    "However, for other algorithms, you really need to study the algorithm and understand its error propagation properties.  \n",
    "All of this said, the main use of the decimal module is in programs involving things such as finance.  \n",
    "In such programs, it is extremely annoying to have small errors creep into the calculation.  \n",
    "Thus, decimal provides a way to avoid that.  \n",
    "It is also common to encounter `Decimal` objects when Python interfaces with databases -- again, especially when accessing financial data."
   ]
  },
  {
   "cell_type": "markdown",
   "metadata": {},
   "source": [
    "## [Formatting Numbers for Output](http://chimera.labs.oreilly.com/books/1230000000393/ch03.html#_formatting_numbers_for_output)"
   ]
  },
  {
   "cell_type": "markdown",
   "metadata": {
    "collapsed": true
   },
   "source": [
    "### Problem"
   ]
  },
  {
   "cell_type": "markdown",
   "metadata": {},
   "source": [
    "You need to format a number for output, controlling the number of digits, alignment, inclusion of a thousands separator, and other details."
   ]
  },
  {
   "cell_type": "markdown",
   "metadata": {},
   "source": [
    "### Solution"
   ]
  },
  {
   "cell_type": "markdown",
   "metadata": {},
   "source": [
    "To format a single number for output, use the built-in `format()` function."
   ]
  },
  {
   "cell_type": "code",
   "execution_count": 374,
   "metadata": {},
   "outputs": [
    {
     "data": {
      "text/plain": [
       "'1234.57'"
      ]
     },
     "execution_count": 374,
     "metadata": {},
     "output_type": "execute_result"
    }
   ],
   "source": [
    "x = 1234.56789\n",
    "# Two decimal places of accuracy:\n",
    "format(x, '0.2f')"
   ]
  },
  {
   "cell_type": "code",
   "execution_count": 375,
   "metadata": {},
   "outputs": [
    {
     "data": {
      "text/plain": [
       "'    1234.6'"
      ]
     },
     "execution_count": 375,
     "metadata": {},
     "output_type": "execute_result"
    }
   ],
   "source": [
    "# Right justified in 10 characters, one-digit accuracy:\n",
    "format(x, '>10.1f')"
   ]
  },
  {
   "cell_type": "code",
   "execution_count": 376,
   "metadata": {},
   "outputs": [
    {
     "data": {
      "text/plain": [
       "'1234.6    '"
      ]
     },
     "execution_count": 376,
     "metadata": {},
     "output_type": "execute_result"
    }
   ],
   "source": [
    "# Left justified:\n",
    "format(x, '<10.1f')"
   ]
  },
  {
   "cell_type": "code",
   "execution_count": 377,
   "metadata": {},
   "outputs": [
    {
     "data": {
      "text/plain": [
       "'  1234.6  '"
      ]
     },
     "execution_count": 377,
     "metadata": {},
     "output_type": "execute_result"
    }
   ],
   "source": [
    "# Centered:\n",
    "format(x, '^10.1f')"
   ]
  },
  {
   "cell_type": "code",
   "execution_count": 378,
   "metadata": {},
   "outputs": [
    {
     "data": {
      "text/plain": [
       "'1,234.56789'"
      ]
     },
     "execution_count": 378,
     "metadata": {},
     "output_type": "execute_result"
    }
   ],
   "source": [
    "# Inclusion of thousands separator:\n",
    "format(x, ',')"
   ]
  },
  {
   "cell_type": "code",
   "execution_count": 379,
   "metadata": {},
   "outputs": [
    {
     "data": {
      "text/plain": [
       "'1,234.6'"
      ]
     },
     "execution_count": 379,
     "metadata": {},
     "output_type": "execute_result"
    }
   ],
   "source": [
    "format(x, '0,.1f')"
   ]
  },
  {
   "cell_type": "markdown",
   "metadata": {},
   "source": [
    "If you want to use exponential notation, change the `f` to an `E` or `e`, depending on the case you want used for the exponential specifier."
   ]
  },
  {
   "cell_type": "code",
   "execution_count": 380,
   "metadata": {},
   "outputs": [
    {
     "data": {
      "text/plain": [
       "'1.234568e+03'"
      ]
     },
     "execution_count": 380,
     "metadata": {},
     "output_type": "execute_result"
    }
   ],
   "source": [
    "format(x, 'e')"
   ]
  },
  {
   "cell_type": "code",
   "execution_count": 381,
   "metadata": {},
   "outputs": [
    {
     "data": {
      "text/plain": [
       "'1.23E+03'"
      ]
     },
     "execution_count": 381,
     "metadata": {},
     "output_type": "execute_result"
    }
   ],
   "source": [
    "format(x, '0.2E')"
   ]
  },
  {
   "cell_type": "markdown",
   "metadata": {},
   "source": [
    "The general form of the width and precision in both cases is `'[<>^]?width[,]?(.digits)?'` where width and digits are integers and `?` signifies optional parts.  \n",
    "The same format codes are also used in the `.format()` method of strings."
   ]
  },
  {
   "cell_type": "code",
   "execution_count": 382,
   "metadata": {},
   "outputs": [
    {
     "data": {
      "text/plain": [
       "'The value is 1,234.57'"
      ]
     },
     "execution_count": 382,
     "metadata": {},
     "output_type": "execute_result"
    }
   ],
   "source": [
    "'The value is {:0,.2f}'.format(x)"
   ]
  },
  {
   "cell_type": "markdown",
   "metadata": {},
   "source": [
    "### Discussion"
   ]
  },
  {
   "cell_type": "markdown",
   "metadata": {},
   "source": [
    "Formatting numbers for output is usually straightforward.  \n",
    "The technique shown works for both floating-point numbers and `Decimal` numbers in the `decimal` module.  \n",
    "When the number of digits is restricted, values are rounded away according to the same rules of the `round()` function."
   ]
  },
  {
   "cell_type": "code",
   "execution_count": 383,
   "metadata": {},
   "outputs": [
    {
     "data": {
      "text/plain": [
       "1234.56789"
      ]
     },
     "execution_count": 383,
     "metadata": {},
     "output_type": "execute_result"
    }
   ],
   "source": [
    "x"
   ]
  },
  {
   "cell_type": "code",
   "execution_count": 384,
   "metadata": {},
   "outputs": [
    {
     "data": {
      "text/plain": [
       "'1234.6'"
      ]
     },
     "execution_count": 384,
     "metadata": {},
     "output_type": "execute_result"
    }
   ],
   "source": [
    "format(x, '0.1f')"
   ]
  },
  {
   "cell_type": "code",
   "execution_count": 385,
   "metadata": {},
   "outputs": [
    {
     "data": {
      "text/plain": [
       "'-1234.6'"
      ]
     },
     "execution_count": 385,
     "metadata": {},
     "output_type": "execute_result"
    }
   ],
   "source": [
    "format(-x, '0.1f')"
   ]
  },
  {
   "cell_type": "markdown",
   "metadata": {},
   "source": [
    "Formatting of values with a thousands separator is not locale aware.  \n",
    "If you need to take that into account, you might investigate functions in the `locale` module.  \n",
    "You can also swap separator characters using the `translate()` method of strings."
   ]
  },
  {
   "cell_type": "code",
   "execution_count": 386,
   "metadata": {},
   "outputs": [
    {
     "data": {
      "text/plain": [
       "'1.234,56789'"
      ]
     },
     "execution_count": 386,
     "metadata": {},
     "output_type": "execute_result"
    }
   ],
   "source": [
    "swap_separators = { ord('.'):',', ord(','):'.'}\n",
    "format(x, ',').translate(swap_separators)"
   ]
  },
  {
   "cell_type": "markdown",
   "metadata": {},
   "source": [
    "In a lot of Python code, numbers are formatted using the % operator."
   ]
  },
  {
   "cell_type": "code",
   "execution_count": 387,
   "metadata": {},
   "outputs": [
    {
     "data": {
      "text/plain": [
       "'1234.57'"
      ]
     },
     "execution_count": 387,
     "metadata": {},
     "output_type": "execute_result"
    }
   ],
   "source": [
    "'%0.2f' % x"
   ]
  },
  {
   "cell_type": "code",
   "execution_count": 388,
   "metadata": {},
   "outputs": [
    {
     "data": {
      "text/plain": [
       "'    1234.6'"
      ]
     },
     "execution_count": 388,
     "metadata": {},
     "output_type": "execute_result"
    }
   ],
   "source": [
    "'%10.1f' % x"
   ]
  },
  {
   "cell_type": "code",
   "execution_count": 389,
   "metadata": {},
   "outputs": [
    {
     "data": {
      "text/plain": [
       "'1234.6    '"
      ]
     },
     "execution_count": 389,
     "metadata": {},
     "output_type": "execute_result"
    }
   ],
   "source": [
    "'%-10.1f' % x"
   ]
  },
  {
   "cell_type": "markdown",
   "metadata": {},
   "source": [
    "This formatting is still acceptable, but less powerful than the more modern `format()` method.  \n",
    "For example, some features (e.g., adding thousands separators) aren’t supported when using the `%` operator to format numbers."
   ]
  },
  {
   "cell_type": "markdown",
   "metadata": {},
   "source": [
    "## [Working with Binary, Octal, and Hexadecimal Integers](http://chimera.labs.oreilly.com/books/1230000000393/ch03.html#_working_with_binary_octal_and_hexadecimal_integers)"
   ]
  },
  {
   "cell_type": "markdown",
   "metadata": {},
   "source": [
    "### Problem"
   ]
  },
  {
   "cell_type": "markdown",
   "metadata": {},
   "source": [
    "You need to convert or output integers represented by binary, octal, or hexadecimal digits."
   ]
  },
  {
   "cell_type": "markdown",
   "metadata": {},
   "source": [
    "### Solution"
   ]
  },
  {
   "cell_type": "markdown",
   "metadata": {},
   "source": [
    "To convert an integer into a binary, octal, or hexadecimal text string, use the `bin()`, `oct()`, or `hex()` functions, respectively."
   ]
  },
  {
   "cell_type": "code",
   "execution_count": 390,
   "metadata": {},
   "outputs": [
    {
     "data": {
      "text/plain": [
       "'0b10011010010'"
      ]
     },
     "execution_count": 390,
     "metadata": {},
     "output_type": "execute_result"
    }
   ],
   "source": [
    "x = 1234\n",
    "bin(x)"
   ]
  },
  {
   "cell_type": "code",
   "execution_count": 391,
   "metadata": {},
   "outputs": [
    {
     "data": {
      "text/plain": [
       "'0o2322'"
      ]
     },
     "execution_count": 391,
     "metadata": {},
     "output_type": "execute_result"
    }
   ],
   "source": [
    "oct(x)"
   ]
  },
  {
   "cell_type": "code",
   "execution_count": 392,
   "metadata": {},
   "outputs": [
    {
     "data": {
      "text/plain": [
       "'0x4d2'"
      ]
     },
     "execution_count": 392,
     "metadata": {},
     "output_type": "execute_result"
    }
   ],
   "source": [
    "hex(x)"
   ]
  },
  {
   "cell_type": "markdown",
   "metadata": {},
   "source": [
    "Alternatively, you can use the `format()` function if you don't want the `0b`, `0o`, or `0x` prefixes to appear."
   ]
  },
  {
   "cell_type": "code",
   "execution_count": 393,
   "metadata": {},
   "outputs": [
    {
     "data": {
      "text/plain": [
       "'10011010010'"
      ]
     },
     "execution_count": 393,
     "metadata": {},
     "output_type": "execute_result"
    }
   ],
   "source": [
    "format(x, 'b')"
   ]
  },
  {
   "cell_type": "code",
   "execution_count": 394,
   "metadata": {},
   "outputs": [
    {
     "data": {
      "text/plain": [
       "'2322'"
      ]
     },
     "execution_count": 394,
     "metadata": {},
     "output_type": "execute_result"
    }
   ],
   "source": [
    "format(x, 'o')"
   ]
  },
  {
   "cell_type": "code",
   "execution_count": 395,
   "metadata": {},
   "outputs": [
    {
     "data": {
      "text/plain": [
       "'4d2'"
      ]
     },
     "execution_count": 395,
     "metadata": {},
     "output_type": "execute_result"
    }
   ],
   "source": [
    "format(x, 'x')"
   ]
  },
  {
   "cell_type": "markdown",
   "metadata": {},
   "source": [
    "Integers are signed, so if you are working with negative numbers, the output will also include a sign."
   ]
  },
  {
   "cell_type": "code",
   "execution_count": 396,
   "metadata": {},
   "outputs": [
    {
     "data": {
      "text/plain": [
       "'-10011010010'"
      ]
     },
     "execution_count": 396,
     "metadata": {},
     "output_type": "execute_result"
    }
   ],
   "source": [
    "x = -1234\n",
    "format(x, 'b')"
   ]
  },
  {
   "cell_type": "code",
   "execution_count": 397,
   "metadata": {},
   "outputs": [
    {
     "data": {
      "text/plain": [
       "'-4d2'"
      ]
     },
     "execution_count": 397,
     "metadata": {},
     "output_type": "execute_result"
    }
   ],
   "source": [
    "format(x, 'x')"
   ]
  },
  {
   "cell_type": "markdown",
   "metadata": {},
   "source": [
    "If you need to produce an unsigned bit value instead, you'll need to add in the maximum value to set the bit length.  \n",
    "For example, to show a 32-bit value, use the following:"
   ]
  },
  {
   "cell_type": "code",
   "execution_count": 398,
   "metadata": {},
   "outputs": [
    {
     "data": {
      "text/plain": [
       "'11111111111111111111101100101110'"
      ]
     },
     "execution_count": 398,
     "metadata": {},
     "output_type": "execute_result"
    }
   ],
   "source": [
    "x = -1234\n",
    "format(2**32 + x, 'b')"
   ]
  },
  {
   "cell_type": "code",
   "execution_count": 399,
   "metadata": {},
   "outputs": [
    {
     "data": {
      "text/plain": [
       "'fffffb2e'"
      ]
     },
     "execution_count": 399,
     "metadata": {},
     "output_type": "execute_result"
    }
   ],
   "source": [
    "format(2**32 + x, 'x')"
   ]
  },
  {
   "cell_type": "markdown",
   "metadata": {},
   "source": [
    "To convert integer strings in different bases, simply use the `int()` function with an appropriate base."
   ]
  },
  {
   "cell_type": "code",
   "execution_count": 400,
   "metadata": {},
   "outputs": [
    {
     "data": {
      "text/plain": [
       "1234"
      ]
     },
     "execution_count": 400,
     "metadata": {},
     "output_type": "execute_result"
    }
   ],
   "source": [
    "int('4d2', 16)"
   ]
  },
  {
   "cell_type": "code",
   "execution_count": 401,
   "metadata": {},
   "outputs": [
    {
     "data": {
      "text/plain": [
       "1234"
      ]
     },
     "execution_count": 401,
     "metadata": {},
     "output_type": "execute_result"
    }
   ],
   "source": [
    "int('10011010010', 2)"
   ]
  },
  {
   "cell_type": "markdown",
   "metadata": {},
   "source": [
    "### Discussion"
   ]
  },
  {
   "cell_type": "markdown",
   "metadata": {},
   "source": [
    "For the most part, working with binary, octal, and hexadecimal integers is straightforward.  \n",
    "Just remember that these conversions only pertain to the conversion of integers to and from a textual representation.  \n",
    "Under the covers, there’s just one integer type.  \n",
    "Finally, there is one caution for programmers who use octal.  \n",
    "The Python syntax for specifying octal values is slightly different than many other languages.  \n",
    "For example, if you try something like this, you’ll get a syntax error:"
   ]
  },
  {
   "cell_type": "raw",
   "metadata": {},
   "source": [
    "import os\n",
    "\n",
    "os.chmod('script.py', 0755)\n",
    "\n",
    "  File \"<ipython-input-94-efb9b4c1c79c>\", line 3\n",
    "    os.chmod('script.py', 0755)\n",
    "                             ^\n",
    "SyntaxError: invalid token"
   ]
  },
  {
   "cell_type": "markdown",
   "metadata": {},
   "source": [
    "Make sure you prefix the octal value with 0o, as shown here:"
   ]
  },
  {
   "cell_type": "raw",
   "metadata": {},
   "source": [
    "os.chmod('script.py', 0o755)"
   ]
  },
  {
   "cell_type": "markdown",
   "metadata": {},
   "source": [
    "## [Packing and Unpacking Large Integers from Bytes](http://chimera.labs.oreilly.com/books/1230000000393/ch03.html#_packing_and_unpacking_large_integers_from_bytes)"
   ]
  },
  {
   "cell_type": "markdown",
   "metadata": {
    "collapsed": true
   },
   "source": [
    "### Problem"
   ]
  },
  {
   "cell_type": "markdown",
   "metadata": {},
   "source": [
    "You have a byte string and you need to unpack it into an integer value.  \n",
    "Alternatively, you need to convert a large integer into a byte string."
   ]
  },
  {
   "cell_type": "markdown",
   "metadata": {},
   "source": [
    "### Solution"
   ]
  },
  {
   "cell_type": "markdown",
   "metadata": {},
   "source": [
    "Suppose your program needs to work with a 16-element byte string that holds a 128-bit integer value."
   ]
  },
  {
   "cell_type": "code",
   "execution_count": 402,
   "metadata": {
    "collapsed": true
   },
   "outputs": [],
   "source": [
    "data = b'\\x00\\x124V\\x00x\\x90\\xab\\x00\\xcd\\xef\\x01\\x00#\\x004'"
   ]
  },
  {
   "cell_type": "markdown",
   "metadata": {},
   "source": [
    "To interpret the bytes as an integer, use `int.from_bytes()`, and specify the byte ordering like this:"
   ]
  },
  {
   "cell_type": "code",
   "execution_count": 403,
   "metadata": {},
   "outputs": [
    {
     "data": {
      "text/plain": [
       "16"
      ]
     },
     "execution_count": 403,
     "metadata": {},
     "output_type": "execute_result"
    }
   ],
   "source": [
    "len(data)"
   ]
  },
  {
   "cell_type": "code",
   "execution_count": 404,
   "metadata": {},
   "outputs": [
    {
     "data": {
      "text/plain": [
       "69120565665751139577663547927094891008"
      ]
     },
     "execution_count": 404,
     "metadata": {},
     "output_type": "execute_result"
    }
   ],
   "source": [
    "int.from_bytes(data, 'little')"
   ]
  },
  {
   "cell_type": "code",
   "execution_count": 405,
   "metadata": {},
   "outputs": [
    {
     "data": {
      "text/plain": [
       "94522842520747284487117727783387188"
      ]
     },
     "execution_count": 405,
     "metadata": {},
     "output_type": "execute_result"
    }
   ],
   "source": [
    "int.from_bytes(data, 'big')"
   ]
  },
  {
   "cell_type": "markdown",
   "metadata": {},
   "source": [
    "To convert a large integer value back into a byte string, use the `int.to_bytes()` method, specifying the number of bytes and the byte order."
   ]
  },
  {
   "cell_type": "code",
   "execution_count": 406,
   "metadata": {},
   "outputs": [
    {
     "data": {
      "text/plain": [
       "b'\\x00\\x124V\\x00x\\x90\\xab\\x00\\xcd\\xef\\x01\\x00#\\x004'"
      ]
     },
     "execution_count": 406,
     "metadata": {},
     "output_type": "execute_result"
    }
   ],
   "source": [
    "x = 94522842520747284487117727783387188\n",
    "x.to_bytes(16, 'big')"
   ]
  },
  {
   "cell_type": "code",
   "execution_count": 407,
   "metadata": {},
   "outputs": [
    {
     "data": {
      "text/plain": [
       "b'4\\x00#\\x00\\x01\\xef\\xcd\\x00\\xab\\x90x\\x00V4\\x12\\x00'"
      ]
     },
     "execution_count": 407,
     "metadata": {},
     "output_type": "execute_result"
    }
   ],
   "source": [
    "x.to_bytes(16, 'little')"
   ]
  },
  {
   "cell_type": "markdown",
   "metadata": {},
   "source": [
    "### Discussion"
   ]
  },
  {
   "cell_type": "markdown",
   "metadata": {},
   "source": [
    "Converting large integer values to and from byte strings is not a common operation.  \n",
    "However, it sometimes arises in certain application domains, such as cryptography or networking.  \n",
    "For instance, IPv6 network addresses are represented as 128-bit integers.  \n",
    "If you are writing code that needs to pull such values out of a data record, you might face this problem.  \n",
    "As an alternative to this recipe, you might be inclined to unpack values using the `struct` module, as described in [\"Reading and Writing Binary Arrays of Structures\"](http://chimera.labs.oreilly.com/books/1230000000393/ch06.html#_problem_104).  \n",
    "This works, but the size of integers that can be unpacked with `struct` is limited.  \n",
    "Thus, you would need to unpack multiple values and combine them to create the final value."
   ]
  },
  {
   "cell_type": "code",
   "execution_count": 408,
   "metadata": {},
   "outputs": [
    {
     "data": {
      "text/plain": [
       "b'\\x00\\x124V\\x00x\\x90\\xab\\x00\\xcd\\xef\\x01\\x00#\\x004'"
      ]
     },
     "execution_count": 408,
     "metadata": {},
     "output_type": "execute_result"
    }
   ],
   "source": [
    "data"
   ]
  },
  {
   "cell_type": "code",
   "execution_count": 409,
   "metadata": {},
   "outputs": [
    {
     "name": "stdout",
     "output_type": "stream",
     "text": [
      "5124093560524971\n",
      "57965157801984052\n"
     ]
    }
   ],
   "source": [
    "import struct\n",
    "\n",
    "hi, lo = struct.unpack('>QQ', data)\n",
    "print(hi)\n",
    "print(lo)"
   ]
  },
  {
   "cell_type": "code",
   "execution_count": 410,
   "metadata": {},
   "outputs": [
    {
     "data": {
      "text/plain": [
       "94522842520747284487117727783387188"
      ]
     },
     "execution_count": 410,
     "metadata": {},
     "output_type": "execute_result"
    }
   ],
   "source": [
    "(hi << 64) + lo"
   ]
  },
  {
   "cell_type": "markdown",
   "metadata": {},
   "source": [
    "The specification of the byte order (`little` or `big`) just indicates whether the bytes that make up the integer value are listed from the least to most significant or the other way around.  \n",
    "This is easy to view using a carefully crafted hexadecimal value:"
   ]
  },
  {
   "cell_type": "code",
   "execution_count": 411,
   "metadata": {},
   "outputs": [
    {
     "data": {
      "text/plain": [
       "b'\\x01\\x02\\x03\\x04'"
      ]
     },
     "execution_count": 411,
     "metadata": {},
     "output_type": "execute_result"
    }
   ],
   "source": [
    "x = 0x01020304\n",
    "x.to_bytes(4, 'big')"
   ]
  },
  {
   "cell_type": "code",
   "execution_count": 412,
   "metadata": {},
   "outputs": [
    {
     "data": {
      "text/plain": [
       "b'\\x04\\x03\\x02\\x01'"
      ]
     },
     "execution_count": 412,
     "metadata": {},
     "output_type": "execute_result"
    }
   ],
   "source": [
    "x.to_bytes(4, 'little')"
   ]
  },
  {
   "cell_type": "markdown",
   "metadata": {},
   "source": [
    "If you try to pack an integer into a byte string, but it won't fit, you'll get an error.  \n",
    "You can use the `int.bit_length()` method to determine how many bits are required to store a value if needed:"
   ]
  },
  {
   "cell_type": "code",
   "execution_count": 413,
   "metadata": {},
   "outputs": [
    {
     "data": {
      "text/plain": [
       "335381300113661875107536852714019056160355655333978849017944067"
      ]
     },
     "execution_count": 413,
     "metadata": {},
     "output_type": "execute_result"
    }
   ],
   "source": [
    "x = 523 ** 23\n",
    "x"
   ]
  },
  {
   "cell_type": "raw",
   "metadata": {},
   "source": [
    "x.to_bytes(16, 'little')\n",
    "\n",
    "---------------------------------------------------------------------------\n",
    "OverflowError                             Traceback (most recent call last)\n",
    "<ipython-input-53-dcbe82b381e5> in <module>()\n",
    "----> 1 x.to_bytes(16, 'little')\n",
    "\n",
    "OverflowError: int too big to convert"
   ]
  },
  {
   "cell_type": "code",
   "execution_count": 414,
   "metadata": {},
   "outputs": [
    {
     "data": {
      "text/plain": [
       "208"
      ]
     },
     "execution_count": 414,
     "metadata": {},
     "output_type": "execute_result"
    }
   ],
   "source": [
    "x.bit_length()"
   ]
  },
  {
   "cell_type": "code",
   "execution_count": 415,
   "metadata": {},
   "outputs": [
    {
     "name": "stdout",
     "output_type": "stream",
     "text": [
      "26\n",
      "0\n"
     ]
    }
   ],
   "source": [
    "nbytes, rem = divmod(x.bit_length(), 8)\n",
    "print(nbytes)\n",
    "print(rem)"
   ]
  },
  {
   "cell_type": "code",
   "execution_count": 416,
   "metadata": {
    "collapsed": true
   },
   "outputs": [],
   "source": [
    "if rem:\n",
    "    nbytes += 1"
   ]
  },
  {
   "cell_type": "code",
   "execution_count": 417,
   "metadata": {},
   "outputs": [
    {
     "data": {
      "text/plain": [
       "b'\\x03X\\xf1\\x82iT\\x96\\xac\\xc7c\\x16\\xf3\\xb9\\xcf\\x18\\xee\\xec\\x91\\xd1\\x98\\xa2\\xc8\\xd9R\\xb5\\xd0'"
      ]
     },
     "execution_count": 417,
     "metadata": {},
     "output_type": "execute_result"
    }
   ],
   "source": [
    "x.to_bytes(nbytes, 'little')"
   ]
  },
  {
   "cell_type": "markdown",
   "metadata": {},
   "source": [
    "## [Performing Complex-Valued Math](http://chimera.labs.oreilly.com/books/1230000000393/ch03.html#_performing_complex_valued_math)"
   ]
  },
  {
   "cell_type": "markdown",
   "metadata": {},
   "source": [
    "### Problem"
   ]
  },
  {
   "cell_type": "markdown",
   "metadata": {},
   "source": [
    "Your code for interacting with the latest web authentication scheme has encountered a singularity and your only solution is to go around it in the complex plane.  \n",
    "Or maybe you just need to perform some calculations using complex numbers."
   ]
  },
  {
   "cell_type": "markdown",
   "metadata": {},
   "source": [
    "### Solution"
   ]
  },
  {
   "cell_type": "markdown",
   "metadata": {},
   "source": [
    "Complex numbers can be specified using the `complex(real, imag)` function or by using floating-point numbers with a `j` suffix."
   ]
  },
  {
   "cell_type": "code",
   "execution_count": 418,
   "metadata": {},
   "outputs": [
    {
     "data": {
      "text/plain": [
       "(2+4j)"
      ]
     },
     "execution_count": 418,
     "metadata": {},
     "output_type": "execute_result"
    }
   ],
   "source": [
    "a = complex(2, 4)\n",
    "a"
   ]
  },
  {
   "cell_type": "code",
   "execution_count": 419,
   "metadata": {
    "collapsed": true
   },
   "outputs": [],
   "source": [
    "b = 3 - 5j"
   ]
  },
  {
   "cell_type": "markdown",
   "metadata": {},
   "source": [
    "The real, imaginary, and conjugate values are easy to obtain, as shown here:"
   ]
  },
  {
   "cell_type": "code",
   "execution_count": 420,
   "metadata": {},
   "outputs": [
    {
     "data": {
      "text/plain": [
       "2.0"
      ]
     },
     "execution_count": 420,
     "metadata": {},
     "output_type": "execute_result"
    }
   ],
   "source": [
    "a.real"
   ]
  },
  {
   "cell_type": "code",
   "execution_count": 421,
   "metadata": {},
   "outputs": [
    {
     "data": {
      "text/plain": [
       "4.0"
      ]
     },
     "execution_count": 421,
     "metadata": {},
     "output_type": "execute_result"
    }
   ],
   "source": [
    "a.imag"
   ]
  },
  {
   "cell_type": "code",
   "execution_count": 422,
   "metadata": {},
   "outputs": [
    {
     "data": {
      "text/plain": [
       "(2-4j)"
      ]
     },
     "execution_count": 422,
     "metadata": {},
     "output_type": "execute_result"
    }
   ],
   "source": [
    "a.conjugate()"
   ]
  },
  {
   "cell_type": "markdown",
   "metadata": {},
   "source": [
    "Also, all of the usual mathematical operators work:"
   ]
  },
  {
   "cell_type": "code",
   "execution_count": 423,
   "metadata": {},
   "outputs": [
    {
     "data": {
      "text/plain": [
       "(5-1j)"
      ]
     },
     "execution_count": 423,
     "metadata": {},
     "output_type": "execute_result"
    }
   ],
   "source": [
    "a + b"
   ]
  },
  {
   "cell_type": "code",
   "execution_count": 424,
   "metadata": {},
   "outputs": [
    {
     "data": {
      "text/plain": [
       "(26+2j)"
      ]
     },
     "execution_count": 424,
     "metadata": {},
     "output_type": "execute_result"
    }
   ],
   "source": [
    "a * b"
   ]
  },
  {
   "cell_type": "code",
   "execution_count": 425,
   "metadata": {},
   "outputs": [
    {
     "data": {
      "text/plain": [
       "(-0.4117647058823529+0.6470588235294118j)"
      ]
     },
     "execution_count": 425,
     "metadata": {},
     "output_type": "execute_result"
    }
   ],
   "source": [
    "a / b"
   ]
  },
  {
   "cell_type": "code",
   "execution_count": 426,
   "metadata": {},
   "outputs": [
    {
     "data": {
      "text/plain": [
       "4.47213595499958"
      ]
     },
     "execution_count": 426,
     "metadata": {},
     "output_type": "execute_result"
    }
   ],
   "source": [
    "abs(a)"
   ]
  },
  {
   "cell_type": "markdown",
   "metadata": {},
   "source": [
    "To perform additional complex-valued functions such as sines, cosines, or square roots, use the `cmath` module:"
   ]
  },
  {
   "cell_type": "code",
   "execution_count": 427,
   "metadata": {},
   "outputs": [
    {
     "data": {
      "text/plain": [
       "(24.83130584894638-11.356612711218174j)"
      ]
     },
     "execution_count": 427,
     "metadata": {},
     "output_type": "execute_result"
    }
   ],
   "source": [
    "import cmath\n",
    "cmath.sin(a)"
   ]
  },
  {
   "cell_type": "code",
   "execution_count": 428,
   "metadata": {},
   "outputs": [
    {
     "data": {
      "text/plain": [
       "(-11.36423470640106-24.814651485634187j)"
      ]
     },
     "execution_count": 428,
     "metadata": {},
     "output_type": "execute_result"
    }
   ],
   "source": [
    "cmath.cos(a)"
   ]
  },
  {
   "cell_type": "code",
   "execution_count": 429,
   "metadata": {},
   "outputs": [
    {
     "data": {
      "text/plain": [
       "(-4.829809383269385-5.5920560936409816j)"
      ]
     },
     "execution_count": 429,
     "metadata": {},
     "output_type": "execute_result"
    }
   ],
   "source": [
    "cmath.exp(a)"
   ]
  },
  {
   "cell_type": "markdown",
   "metadata": {},
   "source": [
    "### Discussion"
   ]
  },
  {
   "cell_type": "markdown",
   "metadata": {},
   "source": [
    "Most of Python's math-related modules are aware of complex values.  \n",
    "For example, if you use `numpy`, it is straightforward to make arrays of complex values and perform operations on them:"
   ]
  },
  {
   "cell_type": "code",
   "execution_count": 430,
   "metadata": {},
   "outputs": [
    {
     "data": {
      "text/plain": [
       "array([ 2.+3.j,  4.+5.j,  6.-7.j,  8.+9.j])"
      ]
     },
     "execution_count": 430,
     "metadata": {},
     "output_type": "execute_result"
    }
   ],
   "source": [
    "import numpy as np\n",
    "a = np.array([2+3j, 4+5j, 6-7j, 8+9j])\n",
    "a"
   ]
  },
  {
   "cell_type": "code",
   "execution_count": 431,
   "metadata": {},
   "outputs": [
    {
     "data": {
      "text/plain": [
       "array([  4.+3.j,   6.+5.j,   8.-7.j,  10.+9.j])"
      ]
     },
     "execution_count": 431,
     "metadata": {},
     "output_type": "execute_result"
    }
   ],
   "source": [
    "a + 2"
   ]
  },
  {
   "cell_type": "code",
   "execution_count": 432,
   "metadata": {},
   "outputs": [
    {
     "data": {
      "text/plain": [
       "array([    9.15449915  -4.16890696j,   -56.16227422 -48.50245524j,\n",
       "        -153.20827755-526.47684926j,  4008.42651446-589.49948373j])"
      ]
     },
     "execution_count": 432,
     "metadata": {},
     "output_type": "execute_result"
    }
   ],
   "source": [
    "np.sin(a)"
   ]
  },
  {
   "cell_type": "markdown",
   "metadata": {},
   "source": [
    "Python's standard mathematical functions do not produce complex values by default, so it is unlikely that such a value would accidentally show up in your code."
   ]
  },
  {
   "cell_type": "raw",
   "metadata": {},
   "source": [
    "import math\n",
    "math.sqrt(-1)\n",
    "\n",
    "---------------------------------------------------------------------------\n",
    "ValueError                                Traceback (most recent call last)\n",
    "<ipython-input-74-6557c4e6d55f> in <module>()\n",
    "      1 import math\n",
    "----> 2 math.sqrt(-1)\n",
    "\n",
    "ValueError: math domain error"
   ]
  },
  {
   "cell_type": "markdown",
   "metadata": {},
   "source": [
    "If you want complex numbers to be produced as a result, you have to explicitly use `cmath` or declare the use of a complex type in libraries that know about them."
   ]
  },
  {
   "cell_type": "code",
   "execution_count": 433,
   "metadata": {},
   "outputs": [
    {
     "data": {
      "text/plain": [
       "1j"
      ]
     },
     "execution_count": 433,
     "metadata": {},
     "output_type": "execute_result"
    }
   ],
   "source": [
    "import cmath\n",
    "cmath.sqrt(-1)"
   ]
  },
  {
   "cell_type": "markdown",
   "metadata": {},
   "source": [
    "## [Working with Infinity and NaNs](http://chimera.labs.oreilly.com/books/1230000000393/ch03.html#_working_with_infinity_and_nans)"
   ]
  },
  {
   "cell_type": "markdown",
   "metadata": {},
   "source": [
    "### Problem"
   ]
  },
  {
   "cell_type": "markdown",
   "metadata": {},
   "source": [
    "You need to create or test for the floating-point values of infinity, negative infinity, or NaN (not a number)."
   ]
  },
  {
   "cell_type": "markdown",
   "metadata": {},
   "source": [
    "### Solution"
   ]
  },
  {
   "cell_type": "markdown",
   "metadata": {},
   "source": [
    "Python has no special syntax to represent these floating-point values, but they can be created using `float()`."
   ]
  },
  {
   "cell_type": "code",
   "execution_count": 434,
   "metadata": {},
   "outputs": [
    {
     "data": {
      "text/plain": [
       "inf"
      ]
     },
     "execution_count": 434,
     "metadata": {},
     "output_type": "execute_result"
    }
   ],
   "source": [
    "a = float('inf')\n",
    "a"
   ]
  },
  {
   "cell_type": "code",
   "execution_count": 435,
   "metadata": {},
   "outputs": [
    {
     "data": {
      "text/plain": [
       "-inf"
      ]
     },
     "execution_count": 435,
     "metadata": {},
     "output_type": "execute_result"
    }
   ],
   "source": [
    "b = float('-inf')\n",
    "b"
   ]
  },
  {
   "cell_type": "code",
   "execution_count": 436,
   "metadata": {},
   "outputs": [
    {
     "data": {
      "text/plain": [
       "nan"
      ]
     },
     "execution_count": 436,
     "metadata": {},
     "output_type": "execute_result"
    }
   ],
   "source": [
    "c = float('nan')\n",
    "c"
   ]
  },
  {
   "cell_type": "markdown",
   "metadata": {},
   "source": [
    "To test for the presence of these values, use the `math.isinf()` and `math.isnan()` functions."
   ]
  },
  {
   "cell_type": "code",
   "execution_count": 437,
   "metadata": {},
   "outputs": [
    {
     "data": {
      "text/plain": [
       "True"
      ]
     },
     "execution_count": 437,
     "metadata": {},
     "output_type": "execute_result"
    }
   ],
   "source": [
    "math.isinf(a)"
   ]
  },
  {
   "cell_type": "code",
   "execution_count": 438,
   "metadata": {},
   "outputs": [
    {
     "data": {
      "text/plain": [
       "True"
      ]
     },
     "execution_count": 438,
     "metadata": {},
     "output_type": "execute_result"
    }
   ],
   "source": [
    "math.isnan(c)"
   ]
  },
  {
   "cell_type": "code",
   "execution_count": 439,
   "metadata": {},
   "outputs": [
    {
     "data": {
      "text/plain": [
       "False"
      ]
     },
     "execution_count": 439,
     "metadata": {},
     "output_type": "execute_result"
    }
   ],
   "source": [
    "math.isnan(b)"
   ]
  },
  {
   "cell_type": "markdown",
   "metadata": {},
   "source": [
    "### Discussion"
   ]
  },
  {
   "cell_type": "markdown",
   "metadata": {},
   "source": [
    "For more detailed information about these special floating-point values, you should refer to the [IEEE 754 specification](https://en.wikipedia.org/wiki/IEEE_754).  \n",
    "However, there are a few tricky details to be aware of, especially related to comparisons and operators.  \n",
    "Infinite values will propagate in calculations in a mathematical manner."
   ]
  },
  {
   "cell_type": "code",
   "execution_count": 440,
   "metadata": {},
   "outputs": [
    {
     "data": {
      "text/plain": [
       "inf"
      ]
     },
     "execution_count": 440,
     "metadata": {},
     "output_type": "execute_result"
    }
   ],
   "source": [
    "a = float('inf')\n",
    "a"
   ]
  },
  {
   "cell_type": "code",
   "execution_count": 441,
   "metadata": {},
   "outputs": [
    {
     "data": {
      "text/plain": [
       "inf"
      ]
     },
     "execution_count": 441,
     "metadata": {},
     "output_type": "execute_result"
    }
   ],
   "source": [
    "a + 45"
   ]
  },
  {
   "cell_type": "code",
   "execution_count": 442,
   "metadata": {},
   "outputs": [
    {
     "data": {
      "text/plain": [
       "inf"
      ]
     },
     "execution_count": 442,
     "metadata": {},
     "output_type": "execute_result"
    }
   ],
   "source": [
    "a * 10"
   ]
  },
  {
   "cell_type": "code",
   "execution_count": 443,
   "metadata": {},
   "outputs": [
    {
     "data": {
      "text/plain": [
       "0.0"
      ]
     },
     "execution_count": 443,
     "metadata": {},
     "output_type": "execute_result"
    }
   ],
   "source": [
    "10 / a"
   ]
  },
  {
   "cell_type": "markdown",
   "metadata": {},
   "source": [
    "However, certain operations are undefined and will result in an NaN."
   ]
  },
  {
   "cell_type": "code",
   "execution_count": 444,
   "metadata": {},
   "outputs": [
    {
     "data": {
      "text/plain": [
       "inf"
      ]
     },
     "execution_count": 444,
     "metadata": {},
     "output_type": "execute_result"
    }
   ],
   "source": [
    "a = float('inf')\n",
    "a"
   ]
  },
  {
   "cell_type": "code",
   "execution_count": 445,
   "metadata": {},
   "outputs": [
    {
     "data": {
      "text/plain": [
       "nan"
      ]
     },
     "execution_count": 445,
     "metadata": {},
     "output_type": "execute_result"
    }
   ],
   "source": [
    "a / a"
   ]
  },
  {
   "cell_type": "code",
   "execution_count": 446,
   "metadata": {},
   "outputs": [
    {
     "data": {
      "text/plain": [
       "-inf"
      ]
     },
     "execution_count": 446,
     "metadata": {},
     "output_type": "execute_result"
    }
   ],
   "source": [
    "b = float('-inf')\n",
    "b"
   ]
  },
  {
   "cell_type": "code",
   "execution_count": 447,
   "metadata": {},
   "outputs": [
    {
     "data": {
      "text/plain": [
       "nan"
      ]
     },
     "execution_count": 447,
     "metadata": {},
     "output_type": "execute_result"
    }
   ],
   "source": [
    "a + b "
   ]
  },
  {
   "cell_type": "markdown",
   "metadata": {},
   "source": [
    "NaN values propagate through all operations without raising an exception."
   ]
  },
  {
   "cell_type": "code",
   "execution_count": 448,
   "metadata": {},
   "outputs": [
    {
     "data": {
      "text/plain": [
       "nan"
      ]
     },
     "execution_count": 448,
     "metadata": {},
     "output_type": "execute_result"
    }
   ],
   "source": [
    "c = float('nan')\n",
    "c"
   ]
  },
  {
   "cell_type": "code",
   "execution_count": 449,
   "metadata": {},
   "outputs": [
    {
     "data": {
      "text/plain": [
       "nan"
      ]
     },
     "execution_count": 449,
     "metadata": {},
     "output_type": "execute_result"
    }
   ],
   "source": [
    "c + 23"
   ]
  },
  {
   "cell_type": "code",
   "execution_count": 450,
   "metadata": {},
   "outputs": [
    {
     "data": {
      "text/plain": [
       "nan"
      ]
     },
     "execution_count": 450,
     "metadata": {},
     "output_type": "execute_result"
    }
   ],
   "source": [
    "c / 2"
   ]
  },
  {
   "cell_type": "code",
   "execution_count": 451,
   "metadata": {},
   "outputs": [
    {
     "data": {
      "text/plain": [
       "nan"
      ]
     },
     "execution_count": 451,
     "metadata": {},
     "output_type": "execute_result"
    }
   ],
   "source": [
    "c * 2"
   ]
  },
  {
   "cell_type": "code",
   "execution_count": 452,
   "metadata": {},
   "outputs": [
    {
     "data": {
      "text/plain": [
       "nan"
      ]
     },
     "execution_count": 452,
     "metadata": {},
     "output_type": "execute_result"
    }
   ],
   "source": [
    "math.sqrt(c)"
   ]
  },
  {
   "cell_type": "code",
   "execution_count": 453,
   "metadata": {},
   "outputs": [
    {
     "data": {
      "text/plain": [
       "nan"
      ]
     },
     "execution_count": 453,
     "metadata": {},
     "output_type": "execute_result"
    }
   ],
   "source": [
    "c / b"
   ]
  },
  {
   "cell_type": "markdown",
   "metadata": {},
   "source": [
    "A subtle feature of NaN values is that they never compare as equal."
   ]
  },
  {
   "cell_type": "code",
   "execution_count": 454,
   "metadata": {},
   "outputs": [
    {
     "data": {
      "text/plain": [
       "False"
      ]
     },
     "execution_count": 454,
     "metadata": {},
     "output_type": "execute_result"
    }
   ],
   "source": [
    "c = float('nan')\n",
    "d = float('nan')\n",
    "c == d"
   ]
  },
  {
   "cell_type": "code",
   "execution_count": 455,
   "metadata": {},
   "outputs": [
    {
     "data": {
      "text/plain": [
       "False"
      ]
     },
     "execution_count": 455,
     "metadata": {},
     "output_type": "execute_result"
    }
   ],
   "source": [
    "c is d"
   ]
  },
  {
   "cell_type": "markdown",
   "metadata": {},
   "source": [
    "Because of this, the only safe way to test for a NaN value is to use `math.isnan()`, as shown in this recipe.  \n",
    "Sometimes programmers want to change Python’s behavior to raise exceptions when operations result in an infinite or NaN result.  \n",
    "The `fpectl` module can be used to adjust this behavior, but it is not enabled in a standard Python build, it’s platform-dependent, and really only intended for expert-level programmers.  \n",
    "See the [online Python documentation](https://docs.python.org/3/library/fpectl.html) for further details."
   ]
  },
  {
   "cell_type": "markdown",
   "metadata": {},
   "source": [
    "## [Calculating with Fractions](http://chimera.labs.oreilly.com/books/1230000000393/ch03.html#_calculating_with_fractions)"
   ]
  },
  {
   "cell_type": "markdown",
   "metadata": {
    "collapsed": true
   },
   "source": [
    "### Problem"
   ]
  },
  {
   "cell_type": "markdown",
   "metadata": {},
   "source": [
    "You have entered a time machine and suddenly find yourself working on elementary-level homework problems involving fractions.  \n",
    "Or perhaps you’re writing code to make calculations involving measurements made in your wood shop."
   ]
  },
  {
   "cell_type": "markdown",
   "metadata": {},
   "source": [
    "### Solution"
   ]
  },
  {
   "cell_type": "markdown",
   "metadata": {},
   "source": [
    "Use the `fractions` module."
   ]
  },
  {
   "cell_type": "code",
   "execution_count": 456,
   "metadata": {},
   "outputs": [
    {
     "name": "stdout",
     "output_type": "stream",
     "text": [
      "27/16\n",
      "35/64\n"
     ]
    }
   ],
   "source": [
    "from fractions import Fraction\n",
    "\n",
    "a = Fraction(5, 4)\n",
    "b = Fraction(7, 16)\n",
    "print(a + b)\n",
    "print(a * b)"
   ]
  },
  {
   "cell_type": "code",
   "execution_count": 457,
   "metadata": {},
   "outputs": [
    {
     "name": "stdout",
     "output_type": "stream",
     "text": [
      "35/64\n",
      "35\n",
      "64\n"
     ]
    }
   ],
   "source": [
    "# Getting the numerator and denominator:\n",
    "c = a * b\n",
    "print(c)\n",
    "print(c.numerator)\n",
    "print(c.denominator)"
   ]
  },
  {
   "cell_type": "code",
   "execution_count": 458,
   "metadata": {},
   "outputs": [
    {
     "data": {
      "text/plain": [
       "0.546875"
      ]
     },
     "execution_count": 458,
     "metadata": {},
     "output_type": "execute_result"
    }
   ],
   "source": [
    "# Converting to a float:\n",
    "float(c)"
   ]
  },
  {
   "cell_type": "code",
   "execution_count": 459,
   "metadata": {},
   "outputs": [
    {
     "name": "stdout",
     "output_type": "stream",
     "text": [
      "4/7\n"
     ]
    }
   ],
   "source": [
    "# Limiting the denominator of a value:\n",
    "print(c.limit_denominator(8))"
   ]
  },
  {
   "cell_type": "code",
   "execution_count": 460,
   "metadata": {},
   "outputs": [
    {
     "data": {
      "text/plain": [
       "Fraction(15, 4)"
      ]
     },
     "execution_count": 460,
     "metadata": {},
     "output_type": "execute_result"
    }
   ],
   "source": [
    "# Converting a float to a fraction:\n",
    "x = 3.75\n",
    "y = Fraction(*x.as_integer_ratio())\n",
    "y"
   ]
  },
  {
   "cell_type": "markdown",
   "metadata": {},
   "source": [
    "### Discussion"
   ]
  },
  {
   "cell_type": "markdown",
   "metadata": {},
   "source": [
    "Calculating with fractions doesn’t arise often in most programs, but there are situations where it might make sense to use them.  \n",
    "For example, allowing a program to accept units of measurement in fractions and performing calculations with them in that form might alleviate the need for a user to manually make conversions to decimals or floats."
   ]
  },
  {
   "cell_type": "markdown",
   "metadata": {},
   "source": [
    "## [Calculating with Large Numerical Arrays](http://chimera.labs.oreilly.com/books/1230000000393/ch03.html#calculatingwithlargenumerical)"
   ]
  },
  {
   "cell_type": "markdown",
   "metadata": {},
   "source": [
    "### Problem"
   ]
  },
  {
   "cell_type": "markdown",
   "metadata": {},
   "source": [
    "You need to perform calculations on large numerical datasets, such as arrays or grids."
   ]
  },
  {
   "cell_type": "markdown",
   "metadata": {},
   "source": [
    "### Solution"
   ]
  },
  {
   "cell_type": "markdown",
   "metadata": {},
   "source": [
    "For any heavy computation involving arrays, use the [NumPy library](http://www.numpy.org/).  \n",
    "The major feature of `NumPy` is that it gives Python an array object that is much more efficient and better suited for mathematical calculation than a standard Python list.  \n",
    "Here is a short example illustrating important behavioral differences between lists and `NumPy` arrays:"
   ]
  },
  {
   "cell_type": "code",
   "execution_count": 461,
   "metadata": {},
   "outputs": [
    {
     "data": {
      "text/plain": [
       "[1, 2, 3, 4, 1, 2, 3, 4]"
      ]
     },
     "execution_count": 461,
     "metadata": {},
     "output_type": "execute_result"
    }
   ],
   "source": [
    "# Python lists:\n",
    "x = [1, 2, 3, 4]\n",
    "y = [5, 6, 7, 8]\n",
    "x * 2"
   ]
  },
  {
   "cell_type": "raw",
   "metadata": {},
   "source": [
    "x + 10\n",
    "\n",
    "---------------------------------------------------------------------------\n",
    "TypeError                                 Traceback (most recent call last)\n",
    "<ipython-input-100-f51880e8756d> in <module>()\n",
    "----> 1 x + 10\n",
    "\n",
    "TypeError: can only concatenate list (not \"int\") to list"
   ]
  },
  {
   "cell_type": "code",
   "execution_count": 462,
   "metadata": {},
   "outputs": [
    {
     "data": {
      "text/plain": [
       "[1, 2, 3, 4, 5, 6, 7, 8]"
      ]
     },
     "execution_count": 462,
     "metadata": {},
     "output_type": "execute_result"
    }
   ],
   "source": [
    "x + y"
   ]
  },
  {
   "cell_type": "markdown",
   "metadata": {},
   "source": [
    "Now let's transform those lists into numpy arrays:"
   ]
  },
  {
   "cell_type": "code",
   "execution_count": 463,
   "metadata": {},
   "outputs": [
    {
     "data": {
      "text/plain": [
       "array([2, 4, 6, 8])"
      ]
     },
     "execution_count": 463,
     "metadata": {},
     "output_type": "execute_result"
    }
   ],
   "source": [
    "import numpy as np\n",
    "ax = np.array([1, 2, 3, 4])\n",
    "ay = np.array([5, 6, 7, 8])\n",
    "ax * 2"
   ]
  },
  {
   "cell_type": "code",
   "execution_count": 464,
   "metadata": {},
   "outputs": [
    {
     "data": {
      "text/plain": [
       "array([11, 12, 13, 14])"
      ]
     },
     "execution_count": 464,
     "metadata": {},
     "output_type": "execute_result"
    }
   ],
   "source": [
    "ax + 10"
   ]
  },
  {
   "cell_type": "code",
   "execution_count": 465,
   "metadata": {},
   "outputs": [
    {
     "data": {
      "text/plain": [
       "array([ 6,  8, 10, 12])"
      ]
     },
     "execution_count": 465,
     "metadata": {},
     "output_type": "execute_result"
    }
   ],
   "source": [
    "ax + ay"
   ]
  },
  {
   "cell_type": "code",
   "execution_count": 466,
   "metadata": {},
   "outputs": [
    {
     "data": {
      "text/plain": [
       "array([ 5, 12, 21, 32])"
      ]
     },
     "execution_count": 466,
     "metadata": {},
     "output_type": "execute_result"
    }
   ],
   "source": [
    "ax * ay"
   ]
  },
  {
   "cell_type": "markdown",
   "metadata": {},
   "source": [
    "As you can see, basic mathematical operations involving arrays behave differently.  \n",
    "Specifically, [scalar operations](https://en.wikipedia.org/wiki/Scalar_%28mathematics%29) (e.g., ax * 2 or ax + 10) apply the operation on an element-by-element basis.  \n",
    "In addition, performing math operations when both operands are arrays applies the operation to all elements and produces a new array.  \n",
    "The fact that math operations apply to all of the elements simultaneously makes it very easy and fast to compute functions across an entire array.  \n",
    "For example, if you want to compute the value of a polynomial:"
   ]
  },
  {
   "cell_type": "code",
   "execution_count": 467,
   "metadata": {},
   "outputs": [
    {
     "data": {
      "text/plain": [
       "array([ 8, 15, 28, 47])"
      ]
     },
     "execution_count": 467,
     "metadata": {},
     "output_type": "execute_result"
    }
   ],
   "source": [
    "def f(x):\n",
    "    return 3*x**2 - 2*x + 7\n",
    "\n",
    "f(ax)"
   ]
  },
  {
   "cell_type": "markdown",
   "metadata": {},
   "source": [
    "Numpy provides a collection of \"universal functions\" that also allow for array operations.  \n",
    "These are replacements for similar functions normally found in the `math` module."
   ]
  },
  {
   "cell_type": "code",
   "execution_count": 468,
   "metadata": {},
   "outputs": [
    {
     "data": {
      "text/plain": [
       "array([ 1.        ,  1.41421356,  1.73205081,  2.        ])"
      ]
     },
     "execution_count": 468,
     "metadata": {},
     "output_type": "execute_result"
    }
   ],
   "source": [
    "np.sqrt(ax)"
   ]
  },
  {
   "cell_type": "code",
   "execution_count": 469,
   "metadata": {},
   "outputs": [
    {
     "data": {
      "text/plain": [
       "array([ 0.54030231, -0.41614684, -0.9899925 , -0.65364362])"
      ]
     },
     "execution_count": 469,
     "metadata": {},
     "output_type": "execute_result"
    }
   ],
   "source": [
    "np.cos(ax)"
   ]
  },
  {
   "cell_type": "markdown",
   "metadata": {},
   "source": [
    "Using universal functions can be hundreds of times faster than looping over the array elements one at a time and performing calculations using functions in the `math` module.  \n",
    "Thus, you should prefer their use whenever possible.  \n",
    "Under the covers, `NumPy` arrays are allocated in the same manner as in C or Fortran.  \n",
    "Namely, they are large, contiguous memory regions consisting of a homogenous data type.  \n",
    "Because of this, it’s possible to make arrays much larger than anything you would normally put into a Python list.  \n",
    "For example, if you want to make a two-dimensional grid of 10,000 by 10,000 floats, it’s not an issue:"
   ]
  },
  {
   "cell_type": "code",
   "execution_count": 470,
   "metadata": {},
   "outputs": [
    {
     "data": {
      "text/plain": [
       "array([[ 0.,  0.,  0., ...,  0.,  0.,  0.],\n",
       "       [ 0.,  0.,  0., ...,  0.,  0.,  0.],\n",
       "       [ 0.,  0.,  0., ...,  0.,  0.,  0.],\n",
       "       ..., \n",
       "       [ 0.,  0.,  0., ...,  0.,  0.,  0.],\n",
       "       [ 0.,  0.,  0., ...,  0.,  0.,  0.],\n",
       "       [ 0.,  0.,  0., ...,  0.,  0.,  0.]])"
      ]
     },
     "execution_count": 470,
     "metadata": {},
     "output_type": "execute_result"
    }
   ],
   "source": [
    "grid = np.zeros(shape=(10000,10000), dtype=float)\n",
    "grid"
   ]
  },
  {
   "cell_type": "markdown",
   "metadata": {},
   "source": [
    "All of the usual operations still apply to all of the elements simultaneously:"
   ]
  },
  {
   "cell_type": "code",
   "execution_count": 471,
   "metadata": {},
   "outputs": [
    {
     "data": {
      "text/plain": [
       "array([[ 10.,  10.,  10., ...,  10.,  10.,  10.],\n",
       "       [ 10.,  10.,  10., ...,  10.,  10.,  10.],\n",
       "       [ 10.,  10.,  10., ...,  10.,  10.,  10.],\n",
       "       ..., \n",
       "       [ 10.,  10.,  10., ...,  10.,  10.,  10.],\n",
       "       [ 10.,  10.,  10., ...,  10.,  10.,  10.],\n",
       "       [ 10.,  10.,  10., ...,  10.,  10.,  10.]])"
      ]
     },
     "execution_count": 471,
     "metadata": {},
     "output_type": "execute_result"
    }
   ],
   "source": [
    "grid += 10\n",
    "grid"
   ]
  },
  {
   "cell_type": "code",
   "execution_count": 472,
   "metadata": {},
   "outputs": [
    {
     "data": {
      "text/plain": [
       "array([[-0.54402111, -0.54402111, -0.54402111, ..., -0.54402111,\n",
       "        -0.54402111, -0.54402111],\n",
       "       [-0.54402111, -0.54402111, -0.54402111, ..., -0.54402111,\n",
       "        -0.54402111, -0.54402111],\n",
       "       [-0.54402111, -0.54402111, -0.54402111, ..., -0.54402111,\n",
       "        -0.54402111, -0.54402111],\n",
       "       ..., \n",
       "       [-0.54402111, -0.54402111, -0.54402111, ..., -0.54402111,\n",
       "        -0.54402111, -0.54402111],\n",
       "       [-0.54402111, -0.54402111, -0.54402111, ..., -0.54402111,\n",
       "        -0.54402111, -0.54402111],\n",
       "       [-0.54402111, -0.54402111, -0.54402111, ..., -0.54402111,\n",
       "        -0.54402111, -0.54402111]])"
      ]
     },
     "execution_count": 472,
     "metadata": {},
     "output_type": "execute_result"
    }
   ],
   "source": [
    "np.sin(grid)"
   ]
  },
  {
   "cell_type": "markdown",
   "metadata": {},
   "source": [
    "One extremely notable aspect of `NumPy` is the manner in which it extends Python’s list indexing functionality -- especially with multidimensional arrays.  \n",
    "To illustrate, make a simple two-dimensional array and try some experiments:"
   ]
  },
  {
   "cell_type": "code",
   "execution_count": 473,
   "metadata": {},
   "outputs": [
    {
     "data": {
      "text/plain": [
       "array([[ 1,  2,  3,  4],\n",
       "       [ 5,  6,  7,  8],\n",
       "       [ 9, 10, 11, 12]])"
      ]
     },
     "execution_count": 473,
     "metadata": {},
     "output_type": "execute_result"
    }
   ],
   "source": [
    "a = np.array([[1, 2, 3, 4], [5, 6, 7, 8], [9, 10, 11, 12]])\n",
    "a"
   ]
  },
  {
   "cell_type": "code",
   "execution_count": 474,
   "metadata": {},
   "outputs": [
    {
     "data": {
      "text/plain": [
       "array([5, 6, 7, 8])"
      ]
     },
     "execution_count": 474,
     "metadata": {},
     "output_type": "execute_result"
    }
   ],
   "source": [
    "# Select row 1:\n",
    "a[1]"
   ]
  },
  {
   "cell_type": "code",
   "execution_count": 475,
   "metadata": {},
   "outputs": [
    {
     "data": {
      "text/plain": [
       "array([ 2,  6, 10])"
      ]
     },
     "execution_count": 475,
     "metadata": {},
     "output_type": "execute_result"
    }
   ],
   "source": [
    "# Select column 1:\n",
    "a[:,1]"
   ]
  },
  {
   "cell_type": "code",
   "execution_count": 476,
   "metadata": {},
   "outputs": [
    {
     "name": "stdout",
     "output_type": "stream",
     "text": [
      "[[ 6  7]\n",
      " [10 11]]\n"
     ]
    },
    {
     "data": {
      "text/plain": [
       "array([[ 1,  2,  3,  4],\n",
       "       [ 5, 16, 17,  8],\n",
       "       [ 9, 20, 21, 12]])"
      ]
     },
     "execution_count": 476,
     "metadata": {},
     "output_type": "execute_result"
    }
   ],
   "source": [
    "# Select a subregion and change it:\n",
    "print(a[1:3, 1:3])\n",
    "a[1:3, 1:3] += 10\n",
    "a"
   ]
  },
  {
   "cell_type": "code",
   "execution_count": 477,
   "metadata": {},
   "outputs": [
    {
     "name": "stdout",
     "output_type": "stream",
     "text": [
      "[[ 1  2  3  4]\n",
      " [ 5 16 17  8]\n",
      " [ 9 20 21 12]]\n",
      "[[101 103 105 107]\n",
      " [105 117 119 111]\n",
      " [109 121 123 115]]\n"
     ]
    }
   ],
   "source": [
    "# Broadcast a row vector across an operation on all rows:\n",
    "print(a)\n",
    "print(a + [100, 101, 102, 103])"
   ]
  },
  {
   "cell_type": "code",
   "execution_count": 478,
   "metadata": {},
   "outputs": [
    {
     "data": {
      "text/plain": [
       "array([[ 1,  2,  3,  4],\n",
       "       [ 5, 10, 10,  8],\n",
       "       [ 9, 10, 10, 10]])"
      ]
     },
     "execution_count": 478,
     "metadata": {},
     "output_type": "execute_result"
    }
   ],
   "source": [
    "# Conditional assignment on an array:\n",
    "np.where(a < 10, a, 10)"
   ]
  },
  {
   "cell_type": "markdown",
   "metadata": {},
   "source": [
    "### Discussion"
   ]
  },
  {
   "cell_type": "markdown",
   "metadata": {},
   "source": [
    "NumPy is the foundation for a huge number of science and engineering libraries in Python.  \n",
    "It is also one of the largest and most complicated modules in widespread use.  \n",
    "That said, it’s still possible to accomplish useful things with NumPy by starting with simple examples and playing around.  \n",
    "One note about usage is that it is relatively common to use the statement import numpy as np, as shown in the solution.  \n",
    "This simply shortens the name to something that’s more convenient to type over and over again in your program.  \n",
    "For more information, you definitely need to visit http://www.numpy.org."
   ]
  },
  {
   "cell_type": "markdown",
   "metadata": {},
   "source": [
    "## [Performing Matrix and Linear Algebra Calculations](http://chimera.labs.oreilly.com/books/1230000000393/ch03.html#_performing_matrix_and_linear_algebra_calculations)"
   ]
  },
  {
   "cell_type": "markdown",
   "metadata": {},
   "source": [
    "### Problem"
   ]
  },
  {
   "cell_type": "markdown",
   "metadata": {},
   "source": [
    "You need to perform matrix and linear algebra operations, such as matrix multiplication, finding determinants, solving linear equations, and so on."
   ]
  },
  {
   "cell_type": "markdown",
   "metadata": {},
   "source": [
    "### Solution"
   ]
  },
  {
   "cell_type": "markdown",
   "metadata": {},
   "source": [
    "The [NumPy library](http://www.numpy.org/) has a `matrix` object that can be used for this purpose.  \n",
    "Matrices are somewhat similar to the array objects described in [\"Calculating with Large Numerical Arrays\"](http://chimera.labs.oreilly.com/books/1230000000393/ch03.html#calculatingwithlargenumerical), but follow linear algebra rules for computation.  \n",
    "Here is an example that illustrates a few essential features:"
   ]
  },
  {
   "cell_type": "code",
   "execution_count": 479,
   "metadata": {},
   "outputs": [
    {
     "data": {
      "text/plain": [
       "matrix([[ 1, -2,  3],\n",
       "        [ 0,  4,  5],\n",
       "        [ 7,  8, -9]])"
      ]
     },
     "execution_count": 479,
     "metadata": {},
     "output_type": "execute_result"
    }
   ],
   "source": [
    "import numpy as np\n",
    "\n",
    "m = np.matrix([[1,-2,3],[0,4,5],[7,8,-9]])\n",
    "m"
   ]
  },
  {
   "cell_type": "code",
   "execution_count": 480,
   "metadata": {},
   "outputs": [
    {
     "data": {
      "text/plain": [
       "matrix([[ 1,  0,  7],\n",
       "        [-2,  4,  8],\n",
       "        [ 3,  5, -9]])"
      ]
     },
     "execution_count": 480,
     "metadata": {},
     "output_type": "execute_result"
    }
   ],
   "source": [
    "# Return matrix transpose:\n",
    "m.T"
   ]
  },
  {
   "cell_type": "code",
   "execution_count": 481,
   "metadata": {},
   "outputs": [
    {
     "data": {
      "text/plain": [
       "matrix([[ 0.33043478, -0.02608696,  0.09565217],\n",
       "        [-0.15217391,  0.13043478,  0.02173913],\n",
       "        [ 0.12173913,  0.09565217, -0.0173913 ]])"
      ]
     },
     "execution_count": 481,
     "metadata": {},
     "output_type": "execute_result"
    }
   ],
   "source": [
    "# Return matrix inverse:\n",
    "m.I"
   ]
  },
  {
   "cell_type": "code",
   "execution_count": 482,
   "metadata": {},
   "outputs": [
    {
     "name": "stdout",
     "output_type": "stream",
     "text": [
      "[[2]\n",
      " [3]\n",
      " [4]]\n",
      "[[ 8]\n",
      " [32]\n",
      " [ 2]]\n"
     ]
    }
   ],
   "source": [
    "# Create a vector and multiply it by our matrix:\n",
    "v = np.matrix([[2],[3],[4]])\n",
    "print(v)\n",
    "print(m * v)"
   ]
  },
  {
   "cell_type": "markdown",
   "metadata": {},
   "source": [
    "More operations can be found in the `numpy.linalg` subpackage."
   ]
  },
  {
   "cell_type": "code",
   "execution_count": 483,
   "metadata": {},
   "outputs": [
    {
     "name": "stdout",
     "output_type": "stream",
     "text": [
      "[[ 1 -2  3]\n",
      " [ 0  4  5]\n",
      " [ 7  8 -9]]\n",
      "-230.0\n"
     ]
    }
   ],
   "source": [
    "import numpy.linalg\n",
    "\n",
    "# Determinant:\n",
    "print(m)\n",
    "print(numpy.linalg.det(m))"
   ]
  },
  {
   "cell_type": "code",
   "execution_count": 484,
   "metadata": {},
   "outputs": [
    {
     "data": {
      "text/plain": [
       "array([-13.11474312,   2.75956154,   6.35518158])"
      ]
     },
     "execution_count": 484,
     "metadata": {},
     "output_type": "execute_result"
    }
   ],
   "source": [
    "# Eigenvalues:\n",
    "numpy.linalg.eigvals(m)"
   ]
  },
  {
   "cell_type": "code",
   "execution_count": 485,
   "metadata": {},
   "outputs": [
    {
     "data": {
      "text/plain": [
       "matrix([[ 0.96521739],\n",
       "        [ 0.17391304],\n",
       "        [ 0.46086957]])"
      ]
     },
     "execution_count": 485,
     "metadata": {},
     "output_type": "execute_result"
    }
   ],
   "source": [
    "# Solve for x in mx = v\n",
    "x = numpy.linalg.solve(m, v)\n",
    "x"
   ]
  },
  {
   "cell_type": "code",
   "execution_count": 486,
   "metadata": {},
   "outputs": [
    {
     "data": {
      "text/plain": [
       "matrix([[ 2.],\n",
       "        [ 3.],\n",
       "        [ 4.]])"
      ]
     },
     "execution_count": 486,
     "metadata": {},
     "output_type": "execute_result"
    }
   ],
   "source": [
    "m * x"
   ]
  },
  {
   "cell_type": "code",
   "execution_count": 487,
   "metadata": {},
   "outputs": [
    {
     "data": {
      "text/plain": [
       "matrix([[2],\n",
       "        [3],\n",
       "        [4]])"
      ]
     },
     "execution_count": 487,
     "metadata": {},
     "output_type": "execute_result"
    }
   ],
   "source": [
    "v"
   ]
  },
  {
   "cell_type": "markdown",
   "metadata": {},
   "source": [
    "### Discussion"
   ]
  },
  {
   "cell_type": "markdown",
   "metadata": {},
   "source": [
    "Linear algebra is obviously a huge topic that’s far beyond the scope of this cookbook.  \n",
    "However, if you need to manipulate matrices and vectors, NumPy is a good starting point.  \n",
    "Visit http://www.numpy.org for more detailed information."
   ]
  },
  {
   "cell_type": "markdown",
   "metadata": {},
   "source": [
    "## [Picking Things at Random](http://chimera.labs.oreilly.com/books/1230000000393/ch03.html#_picking_things_at_random)"
   ]
  },
  {
   "cell_type": "markdown",
   "metadata": {
    "collapsed": true
   },
   "source": [
    "### Problem"
   ]
  },
  {
   "cell_type": "markdown",
   "metadata": {},
   "source": [
    "You want to pick random items out of a sequence or generate random numbers."
   ]
  },
  {
   "cell_type": "markdown",
   "metadata": {},
   "source": [
    "### Solution"
   ]
  },
  {
   "cell_type": "markdown",
   "metadata": {},
   "source": [
    "The `random` module has various functions for random numbers and picking random items.  \n",
    "For example, to pick a random item out of a sequence, use `random.choice()`:"
   ]
  },
  {
   "cell_type": "code",
   "execution_count": 488,
   "metadata": {},
   "outputs": [
    {
     "name": "stdout",
     "output_type": "stream",
     "text": [
      "2\n",
      "5\n",
      "3\n",
      "1\n",
      "6\n"
     ]
    }
   ],
   "source": [
    "import random\n",
    "\n",
    "values = [1, 2, 3, 4, 5, 6]\n",
    "print(random.choice(values))\n",
    "print(random.choice(values))\n",
    "print(random.choice(values))\n",
    "print(random.choice(values))\n",
    "print(random.choice(values))"
   ]
  },
  {
   "cell_type": "markdown",
   "metadata": {},
   "source": [
    "To take a sampling of `n` items where selected items are removed from further consideration (sampling without replacement), use `random.sample()` instead."
   ]
  },
  {
   "cell_type": "code",
   "execution_count": 489,
   "metadata": {},
   "outputs": [
    {
     "name": "stdout",
     "output_type": "stream",
     "text": [
      "[2, 5]\n",
      "[5, 1]\n",
      "[6, 4, 1]\n",
      "[5, 1, 2]\n",
      "[6, 5, 3, 1]\n"
     ]
    }
   ],
   "source": [
    "print(random.sample(values, 2))\n",
    "print(random.sample(values, 2))\n",
    "print(random.sample(values, 3))\n",
    "print(random.sample(values, 3))\n",
    "print(random.sample(values, 4))"
   ]
  },
  {
   "cell_type": "markdown",
   "metadata": {},
   "source": [
    "If you simply want to shuffle items in a sequence in place, use `random.shuffle()`:"
   ]
  },
  {
   "cell_type": "code",
   "execution_count": 490,
   "metadata": {},
   "outputs": [
    {
     "data": {
      "text/plain": [
       "[6, 5, 3, 4, 1, 2]"
      ]
     },
     "execution_count": 490,
     "metadata": {},
     "output_type": "execute_result"
    }
   ],
   "source": [
    "random.shuffle(values)\n",
    "values"
   ]
  },
  {
   "cell_type": "code",
   "execution_count": 491,
   "metadata": {},
   "outputs": [
    {
     "data": {
      "text/plain": [
       "[5, 3, 4, 6, 2, 1]"
      ]
     },
     "execution_count": 491,
     "metadata": {},
     "output_type": "execute_result"
    }
   ],
   "source": [
    "random.shuffle(values)\n",
    "values"
   ]
  },
  {
   "cell_type": "code",
   "execution_count": 492,
   "metadata": {},
   "outputs": [
    {
     "data": {
      "text/plain": [
       "[2, 1, 6, 4, 5, 3]"
      ]
     },
     "execution_count": 492,
     "metadata": {},
     "output_type": "execute_result"
    }
   ],
   "source": [
    "random.shuffle(values)\n",
    "values"
   ]
  },
  {
   "cell_type": "markdown",
   "metadata": {},
   "source": [
    "To produce random integers, use `random.randint()`:"
   ]
  },
  {
   "cell_type": "code",
   "execution_count": 493,
   "metadata": {},
   "outputs": [
    {
     "name": "stdout",
     "output_type": "stream",
     "text": [
      "2\n",
      "2\n",
      "3\n",
      "0\n",
      "0\n"
     ]
    }
   ],
   "source": [
    "print(random.randint(0,10))\n",
    "print(random.randint(0,10))\n",
    "print(random.randint(0,10))\n",
    "print(random.randint(0,10))\n",
    "print(random.randint(0,10))"
   ]
  },
  {
   "cell_type": "markdown",
   "metadata": {},
   "source": [
    "to produce uniform floating-point values in the range 0 to 1, use `random.random()`:"
   ]
  },
  {
   "cell_type": "code",
   "execution_count": 494,
   "metadata": {},
   "outputs": [
    {
     "name": "stdout",
     "output_type": "stream",
     "text": [
      "0.1569886094818821\n",
      "0.5744546715177569\n",
      "0.0568203746559216\n",
      "0.2938195363283753\n",
      "0.9494094382950605\n"
     ]
    }
   ],
   "source": [
    "print(random.random())\n",
    "print(random.random())\n",
    "print(random.random())\n",
    "print(random.random())\n",
    "print(random.random())"
   ]
  },
  {
   "cell_type": "markdown",
   "metadata": {},
   "source": [
    "To get `n` random bits expressed as an integer, `use random.getrandbits()`:"
   ]
  },
  {
   "cell_type": "code",
   "execution_count": 495,
   "metadata": {},
   "outputs": [
    {
     "name": "stdout",
     "output_type": "stream",
     "text": [
      "586\n",
      "663765668044339865214286291613\n",
      "555824540709666369916210481933578878134958166764171590355443\n",
      "573344503027149437841363898830194791026097435434483882345561286752010387264863293361059520\n"
     ]
    }
   ],
   "source": [
    "print(random.getrandbits(10))\n",
    "print(random.getrandbits(100))\n",
    "print(random.getrandbits(200))\n",
    "print(random.getrandbits(300))"
   ]
  },
  {
   "cell_type": "markdown",
   "metadata": {},
   "source": [
    "### Discussion"
   ]
  },
  {
   "cell_type": "markdown",
   "metadata": {},
   "source": [
    "The `random` module computes random numbers using the [Mersenne Twister algorithm](https://en.wikipedia.org/wiki/Mersenne_Twister).  \n",
    "This is a deterministic algorithm, but you can alter the initial seed by using the `random.seed()` function."
   ]
  },
  {
   "cell_type": "raw",
   "metadata": {},
   "source": [
    "random.seed()            # Seed based on system time or os.urandom()\n",
    "random.seed(12345)       # Seed based on integer given\n",
    "random.seed(b'bytedata') # Seed based on byte data"
   ]
  },
  {
   "cell_type": "markdown",
   "metadata": {},
   "source": [
    "In addition to the functionality shown, `random()` includes functions for uniform, Gaussian, and other [probabality distributions](https://en.wikipedia.org/wiki/Probability_distribution).  \n",
    "For example, `random.uniform()` computes uniformly distributed numbers, and `random.gauss()` computes normally distributed numbers.  \n",
    "Consult the documentation for information on other supported distributions.  \n",
    "Functions in `random()` should not be used in programs related to cryptography.  \n",
    "If you need such functionality, consider using functions in the `ssl` module instead.  \n",
    "For example, `ssl.RAND_bytes()` can be used to generate a cryptographically secure sequence of random bytes."
   ]
  },
  {
   "cell_type": "markdown",
   "metadata": {},
   "source": [
    "## [Converting Days to Seconds, and Other Basic Time Conversions](http://chimera.labs.oreilly.com/books/1230000000393/ch03.html#_converting_days_to_seconds_and_other_basic_time_conversions)"
   ]
  },
  {
   "cell_type": "markdown",
   "metadata": {},
   "source": [
    "### Problem"
   ]
  },
  {
   "cell_type": "markdown",
   "metadata": {},
   "source": [
    "You have code that needs to perform simple time conversions, like days to seconds, hours to minutes, and so on."
   ]
  },
  {
   "cell_type": "markdown",
   "metadata": {},
   "source": [
    "### Solution"
   ]
  },
  {
   "cell_type": "markdown",
   "metadata": {},
   "source": [
    "To perform conversions and arithmetic involving different units of time, use the `datetime` module.  \n",
    "For example, to represent an interval of time, create a `timedelta` instance, like this:"
   ]
  },
  {
   "cell_type": "code",
   "execution_count": 496,
   "metadata": {},
   "outputs": [
    {
     "data": {
      "text/plain": [
       "datetime.timedelta(2, 21600)"
      ]
     },
     "execution_count": 496,
     "metadata": {},
     "output_type": "execute_result"
    }
   ],
   "source": [
    "from datetime import timedelta\n",
    "\n",
    "a = timedelta(days=2, hours=6)\n",
    "a"
   ]
  },
  {
   "cell_type": "code",
   "execution_count": 497,
   "metadata": {},
   "outputs": [
    {
     "data": {
      "text/plain": [
       "datetime.timedelta(0, 16200)"
      ]
     },
     "execution_count": 497,
     "metadata": {},
     "output_type": "execute_result"
    }
   ],
   "source": [
    "b = timedelta(hours=4.5)\n",
    "b"
   ]
  },
  {
   "cell_type": "code",
   "execution_count": 498,
   "metadata": {},
   "outputs": [
    {
     "data": {
      "text/plain": [
       "datetime.timedelta(2, 37800)"
      ]
     },
     "execution_count": 498,
     "metadata": {},
     "output_type": "execute_result"
    }
   ],
   "source": [
    "c = a + b\n",
    "c"
   ]
  },
  {
   "cell_type": "code",
   "execution_count": 499,
   "metadata": {},
   "outputs": [
    {
     "data": {
      "text/plain": [
       "2"
      ]
     },
     "execution_count": 499,
     "metadata": {},
     "output_type": "execute_result"
    }
   ],
   "source": [
    "c.days"
   ]
  },
  {
   "cell_type": "code",
   "execution_count": 500,
   "metadata": {},
   "outputs": [
    {
     "data": {
      "text/plain": [
       "37800"
      ]
     },
     "execution_count": 500,
     "metadata": {},
     "output_type": "execute_result"
    }
   ],
   "source": [
    "c.seconds"
   ]
  },
  {
   "cell_type": "code",
   "execution_count": 501,
   "metadata": {},
   "outputs": [
    {
     "data": {
      "text/plain": [
       "10.5"
      ]
     },
     "execution_count": 501,
     "metadata": {},
     "output_type": "execute_result"
    }
   ],
   "source": [
    "c.seconds / 3600"
   ]
  },
  {
   "cell_type": "code",
   "execution_count": 502,
   "metadata": {},
   "outputs": [
    {
     "data": {
      "text/plain": [
       "58.5"
      ]
     },
     "execution_count": 502,
     "metadata": {},
     "output_type": "execute_result"
    }
   ],
   "source": [
    "c.total_seconds() / 3600"
   ]
  },
  {
   "cell_type": "markdown",
   "metadata": {},
   "source": [
    "If you need to represent specific dates and times, create `datetime` instances and use the standard mathematical operations to manipulate them."
   ]
  },
  {
   "cell_type": "code",
   "execution_count": 503,
   "metadata": {},
   "outputs": [
    {
     "data": {
      "text/plain": [
       "datetime.datetime(2017, 11, 9, 0, 0)"
      ]
     },
     "execution_count": 503,
     "metadata": {},
     "output_type": "execute_result"
    }
   ],
   "source": [
    "from datetime import datetime\n",
    "\n",
    "a = datetime(2017, 11, 9)\n",
    "a"
   ]
  },
  {
   "cell_type": "code",
   "execution_count": 504,
   "metadata": {},
   "outputs": [
    {
     "data": {
      "text/plain": [
       "datetime.datetime(2017, 11, 19, 0, 0)"
      ]
     },
     "execution_count": 504,
     "metadata": {},
     "output_type": "execute_result"
    }
   ],
   "source": [
    "a + timedelta(days=10)"
   ]
  },
  {
   "cell_type": "code",
   "execution_count": 505,
   "metadata": {},
   "outputs": [
    {
     "data": {
      "text/plain": [
       "datetime.datetime(2017, 12, 25, 0, 0)"
      ]
     },
     "execution_count": 505,
     "metadata": {},
     "output_type": "execute_result"
    }
   ],
   "source": [
    "b = datetime(2017, 12, 25)\n",
    "b"
   ]
  },
  {
   "cell_type": "code",
   "execution_count": 506,
   "metadata": {},
   "outputs": [
    {
     "data": {
      "text/plain": [
       "datetime.timedelta(46)"
      ]
     },
     "execution_count": 506,
     "metadata": {},
     "output_type": "execute_result"
    }
   ],
   "source": [
    "d = b - a\n",
    "d"
   ]
  },
  {
   "cell_type": "code",
   "execution_count": 507,
   "metadata": {},
   "outputs": [
    {
     "data": {
      "text/plain": [
       "46"
      ]
     },
     "execution_count": 507,
     "metadata": {},
     "output_type": "execute_result"
    }
   ],
   "source": [
    "d.days"
   ]
  },
  {
   "cell_type": "code",
   "execution_count": 508,
   "metadata": {},
   "outputs": [
    {
     "data": {
      "text/plain": [
       "datetime.datetime(2017, 11, 12, 3, 30, 31, 544057)"
      ]
     },
     "execution_count": 508,
     "metadata": {},
     "output_type": "execute_result"
    }
   ],
   "source": [
    "now = datetime.today()\n",
    "now"
   ]
  },
  {
   "cell_type": "code",
   "execution_count": 509,
   "metadata": {},
   "outputs": [
    {
     "data": {
      "text/plain": [
       "datetime.datetime(2017, 11, 12, 3, 40, 31, 544057)"
      ]
     },
     "execution_count": 509,
     "metadata": {},
     "output_type": "execute_result"
    }
   ],
   "source": [
    "now + timedelta(minutes=10)"
   ]
  },
  {
   "cell_type": "markdown",
   "metadata": {},
   "source": [
    "When making calculations, it should be noted that `datetime` is aware of leap years."
   ]
  },
  {
   "cell_type": "code",
   "execution_count": 510,
   "metadata": {},
   "outputs": [
    {
     "name": "stdout",
     "output_type": "stream",
     "text": [
      "1 day, 0:00:00\n"
     ]
    },
    {
     "data": {
      "text/plain": [
       "1"
      ]
     },
     "execution_count": 510,
     "metadata": {},
     "output_type": "execute_result"
    }
   ],
   "source": [
    "a = datetime(2017, 3, 1)\n",
    "b = datetime(2017, 2, 28)\n",
    "print(a - b)\n",
    "(a - b).days"
   ]
  },
  {
   "cell_type": "code",
   "execution_count": 511,
   "metadata": {},
   "outputs": [
    {
     "name": "stdout",
     "output_type": "stream",
     "text": [
      "2\n"
     ]
    },
    {
     "data": {
      "text/plain": [
       "datetime.timedelta(2)"
      ]
     },
     "execution_count": 511,
     "metadata": {},
     "output_type": "execute_result"
    }
   ],
   "source": [
    "c = datetime(2016, 3, 1)\n",
    "d = datetime(2016, 2, 28)\n",
    "print((c - d).days)\n",
    "c - d"
   ]
  },
  {
   "cell_type": "markdown",
   "metadata": {},
   "source": [
    "### Discussion"
   ]
  },
  {
   "cell_type": "markdown",
   "metadata": {},
   "source": [
    "For most basic date and time manipulation problems, the `datetime` module will suffice.  \n",
    "If you need to perform more complex date manipulations, such as dealing with time zones, fuzzy time ranges, calculating the dates of holidays, and so forth, look at the `dateutil` module.  \n",
    "To illustrate, many similar time calculations can be performed with the `dateutil.relativedelta()` function.  \n",
    "However, one notable feature is that it fills in some gaps pertaining to the handling of months (and their differing number of days)."
   ]
  },
  {
   "cell_type": "raw",
   "metadata": {},
   "source": [
    "a = datetime(2012, 9, 23)\n",
    "a + timedelta(months=1)\n",
    "\n",
    "---------------------------------------------------------------------------\n",
    "TypeError                                 Traceback (most recent call last)\n",
    "<ipython-input-292-fa857133478e> in <module>()\n",
    "      1 a = datetime(2012, 9, 23)\n",
    "----> 2 a + timedelta(months=1)\n",
    "\n",
    "TypeError: 'months' is an invalid keyword argument for this function"
   ]
  },
  {
   "cell_type": "code",
   "execution_count": 512,
   "metadata": {},
   "outputs": [
    {
     "data": {
      "text/plain": [
       "datetime.datetime(2017, 4, 1, 0, 0)"
      ]
     },
     "execution_count": 512,
     "metadata": {},
     "output_type": "execute_result"
    }
   ],
   "source": [
    "from dateutil.relativedelta import relativedelta\n",
    "\n",
    "a + relativedelta(months=+1)"
   ]
  },
  {
   "cell_type": "code",
   "execution_count": 513,
   "metadata": {},
   "outputs": [
    {
     "data": {
      "text/plain": [
       "datetime.datetime(2017, 7, 1, 0, 0)"
      ]
     },
     "execution_count": 513,
     "metadata": {},
     "output_type": "execute_result"
    }
   ],
   "source": [
    "a + relativedelta(months=+4)"
   ]
  },
  {
   "cell_type": "code",
   "execution_count": 514,
   "metadata": {},
   "outputs": [
    {
     "data": {
      "text/plain": [
       "datetime.timedelta(299)"
      ]
     },
     "execution_count": 514,
     "metadata": {},
     "output_type": "execute_result"
    }
   ],
   "source": [
    "# Time between two dates:\n",
    "b = datetime(2017, 12, 25)\n",
    "d = b - a\n",
    "d"
   ]
  },
  {
   "cell_type": "code",
   "execution_count": 515,
   "metadata": {},
   "outputs": [
    {
     "data": {
      "text/plain": [
       "relativedelta(months=+9, days=+24)"
      ]
     },
     "execution_count": 515,
     "metadata": {},
     "output_type": "execute_result"
    }
   ],
   "source": [
    "d = relativedelta(b, a)\n",
    "d"
   ]
  },
  {
   "cell_type": "code",
   "execution_count": 516,
   "metadata": {},
   "outputs": [
    {
     "data": {
      "text/plain": [
       "9"
      ]
     },
     "execution_count": 516,
     "metadata": {},
     "output_type": "execute_result"
    }
   ],
   "source": [
    "d.months"
   ]
  },
  {
   "cell_type": "code",
   "execution_count": 517,
   "metadata": {},
   "outputs": [
    {
     "data": {
      "text/plain": [
       "24"
      ]
     },
     "execution_count": 517,
     "metadata": {},
     "output_type": "execute_result"
    }
   ],
   "source": [
    "d.days"
   ]
  },
  {
   "cell_type": "markdown",
   "metadata": {},
   "source": [
    "## [Determining Last Friday’s Date](http://chimera.labs.oreilly.com/books/1230000000393/ch03.html#_determining_last_friday_8217_s_date)"
   ]
  },
  {
   "cell_type": "markdown",
   "metadata": {},
   "source": [
    "### Problem"
   ]
  },
  {
   "cell_type": "markdown",
   "metadata": {},
   "source": [
    "You want a general solution for finding a date for the last occurrence of a day of the week.  \n",
    "Let's use Friday as an example."
   ]
  },
  {
   "cell_type": "markdown",
   "metadata": {},
   "source": [
    "### Solution"
   ]
  },
  {
   "cell_type": "markdown",
   "metadata": {},
   "source": [
    "Python's `datetime` module has utility functions and classes to help perform calcuations like this.  \n",
    "A decent, generic solution to this problem looks like this:"
   ]
  },
  {
   "cell_type": "code",
   "execution_count": 518,
   "metadata": {},
   "outputs": [
    {
     "data": {
      "text/plain": [
       "datetime.datetime(2017, 11, 10, 3, 30, 31, 609794)"
      ]
     },
     "execution_count": 518,
     "metadata": {},
     "output_type": "execute_result"
    }
   ],
   "source": [
    "from datetime import datetime, timedelta\n",
    "\n",
    "weekdays = ['Monday', 'Tuesday', 'Wednesday', 'Thursday', 'Friday', 'Saturday', 'Sunday']\n",
    "\n",
    "def get_previous_byday(dayname, start_date=None):\n",
    "    if start_date is None:\n",
    "        start_date = datetime.today()\n",
    "    day_num = start_date.weekday()\n",
    "    day_num_target = weekdays.index(dayname)\n",
    "    days_ago = (7 + day_num - day_num_target) % 7\n",
    "    if days_ago == 0:\n",
    "        days_ago = 7\n",
    "    target_date = start_date - timedelta(days=days_ago)\n",
    "    return target_date\n",
    "    \n",
    "get_previous_byday('Friday')"
   ]
  },
  {
   "cell_type": "markdown",
   "metadata": {},
   "source": [
    "And, we can try out a couple more days:"
   ]
  },
  {
   "cell_type": "code",
   "execution_count": 519,
   "metadata": {},
   "outputs": [
    {
     "data": {
      "text/plain": [
       "datetime.datetime(2017, 11, 7, 3, 30, 31, 615522)"
      ]
     },
     "execution_count": 519,
     "metadata": {},
     "output_type": "execute_result"
    }
   ],
   "source": [
    "get_previous_byday('Tuesday')"
   ]
  },
  {
   "cell_type": "code",
   "execution_count": 520,
   "metadata": {},
   "outputs": [
    {
     "data": {
      "text/plain": [
       "datetime.datetime(2017, 11, 11, 3, 30, 31, 620437)"
      ]
     },
     "execution_count": 520,
     "metadata": {},
     "output_type": "execute_result"
    }
   ],
   "source": [
    "get_previous_byday('Saturday')"
   ]
  },
  {
   "cell_type": "markdown",
   "metadata": {},
   "source": [
    "The optional `start_date` can be supplied using another `datetime` instance."
   ]
  },
  {
   "cell_type": "code",
   "execution_count": 521,
   "metadata": {},
   "outputs": [
    {
     "data": {
      "text/plain": [
       "datetime.datetime(2012, 12, 16, 0, 0)"
      ]
     },
     "execution_count": 521,
     "metadata": {},
     "output_type": "execute_result"
    }
   ],
   "source": [
    "get_previous_byday('Sunday', datetime(2012, 12, 21))"
   ]
  },
  {
   "cell_type": "markdown",
   "metadata": {},
   "source": [
    "### Discussion"
   ]
  },
  {
   "cell_type": "markdown",
   "metadata": {},
   "source": [
    "This recipe works by mapping the start date and the target date to their numeric position in the week (with `Monday` as day 0).  \n",
    "Modular arithmetic is then used to figure out how many days ago the target date last occurred.  \n",
    "From there, the desired date is calculated from the start date by subtracting an appropriate `timedelta` instance.  \n",
    "If you’re performing a lot of date calculations like this, you may be better off installing the `python-dateutil` package instead.  \n",
    "For example, here is an example of performing the same calculation using the `relativedelta()` function from `dateutil`:"
   ]
  },
  {
   "cell_type": "code",
   "execution_count": 522,
   "metadata": {},
   "outputs": [
    {
     "data": {
      "text/plain": [
       "datetime.datetime(2017, 11, 12, 3, 30, 31, 631841)"
      ]
     },
     "execution_count": 522,
     "metadata": {},
     "output_type": "execute_result"
    }
   ],
   "source": [
    "from datetime import datetime\n",
    "from dateutil.relativedelta import relativedelta\n",
    "from dateutil.rrule import *\n",
    "\n",
    "d = datetime.now()\n",
    "d"
   ]
  },
  {
   "cell_type": "code",
   "execution_count": 523,
   "metadata": {},
   "outputs": [
    {
     "name": "stdout",
     "output_type": "stream",
     "text": [
      "2017-11-12 03:30:31.631841\n"
     ]
    }
   ],
   "source": [
    "print(d)"
   ]
  },
  {
   "cell_type": "code",
   "execution_count": 524,
   "metadata": {},
   "outputs": [
    {
     "name": "stdout",
     "output_type": "stream",
     "text": [
      "2017-11-17 03:30:31.631841\n"
     ]
    }
   ],
   "source": [
    "# Next Friday:\n",
    "print(d + relativedelta(weekday=FR))"
   ]
  },
  {
   "cell_type": "code",
   "execution_count": 525,
   "metadata": {},
   "outputs": [
    {
     "name": "stdout",
     "output_type": "stream",
     "text": [
      "2017-11-10 03:30:31.631841\n"
     ]
    }
   ],
   "source": [
    "# Last Friday:\n",
    "print(d + relativedelta(weekday=FR(-1)))"
   ]
  },
  {
   "cell_type": "markdown",
   "metadata": {},
   "source": [
    "## [Finding the Date Range for the Current Month](http://chimera.labs.oreilly.com/books/1230000000393/ch03.html#_finding_the_date_range_for_the_current_month)"
   ]
  },
  {
   "cell_type": "markdown",
   "metadata": {
    "collapsed": true
   },
   "source": [
    "### Problem"
   ]
  },
  {
   "cell_type": "markdown",
   "metadata": {},
   "source": [
    "You have some code that needs to loop over each date in the current month, and you want an efficient way to calcualte that date range."
   ]
  },
  {
   "cell_type": "markdown",
   "metadata": {},
   "source": [
    "### Solution"
   ]
  },
  {
   "cell_type": "markdown",
   "metadata": {},
   "source": [
    "Looping over the dates doesn’t require building a list of all the dates ahead of time.  \n",
    "You can just calculate the starting and stopping date in the range, then use `datetime.timedelta` objects to increment the date as you go.  \n",
    "Here’s a function that takes any `datetime` object, and returns a tuple containing the first date of the month and the starting date of the next month:"
   ]
  },
  {
   "cell_type": "code",
   "execution_count": 526,
   "metadata": {
    "collapsed": true
   },
   "outputs": [],
   "source": [
    "from datetime import datetime, date, timedelta\n",
    "import calendar\n",
    "\n",
    "def get_month_range(start_date=None):\n",
    "    if start_date is None:\n",
    "        start_date = date.today().replace(day=1)\n",
    "    _, days_in_month = calendar.monthrange(start_date.year, start_date.month)\n",
    "    end_date = start_date + timedelta(days=days_in_month)\n",
    "    return (start_date, end_date)"
   ]
  },
  {
   "cell_type": "markdown",
   "metadata": {},
   "source": [
    "With this function, it's pretty simple to loop over the date range:"
   ]
  },
  {
   "cell_type": "code",
   "execution_count": 527,
   "metadata": {},
   "outputs": [
    {
     "name": "stdout",
     "output_type": "stream",
     "text": [
      "2017-11-01\n",
      "2017-11-02\n",
      "2017-11-03\n",
      "2017-11-04\n",
      "2017-11-05\n",
      "2017-11-06\n",
      "2017-11-07\n",
      "2017-11-08\n",
      "2017-11-09\n",
      "2017-11-10\n",
      "2017-11-11\n",
      "2017-11-12\n",
      "2017-11-13\n",
      "2017-11-14\n",
      "2017-11-15\n",
      "2017-11-16\n",
      "2017-11-17\n",
      "2017-11-18\n",
      "2017-11-19\n",
      "2017-11-20\n",
      "2017-11-21\n",
      "2017-11-22\n",
      "2017-11-23\n",
      "2017-11-24\n",
      "2017-11-25\n",
      "2017-11-26\n",
      "2017-11-27\n",
      "2017-11-28\n",
      "2017-11-29\n",
      "2017-11-30\n"
     ]
    }
   ],
   "source": [
    "a_day = timedelta(days=1)\n",
    "first_day, last_day = get_month_range()\n",
    "while first_day < last_day:\n",
    "    print(first_day)\n",
    "    first_day += a_day"
   ]
  },
  {
   "cell_type": "markdown",
   "metadata": {},
   "source": [
    "### Discussion"
   ]
  },
  {
   "cell_type": "markdown",
   "metadata": {},
   "source": [
    "This recipe works by first calculating a date correponding to the first day of the month.  \n",
    "A quick way to do this is to use the `replace()` method of a `date` or `datetime` object to simply set the `days` attribute to 1.  \n",
    "One nice thing about the `replace()` method is that it creates the same kind of object that you started with.  \n",
    "Thus, if the input was a `date` instance, the result is a `date`.  \n",
    "Likewise, if the input was a `datetime` instance, you get a `datetime` instance.  \n",
    "After that, the `calendar.monthrange()` function is used to find out how many days are in the month in question.  \n",
    "Any time you need to get basic information about calendars, the `calendar` module can be useful.  \n",
    "`monthrange()` is only one such function that returns a tuple containing the day of the week along with the number of days in the month."
   ]
  },
  {
   "cell_type": "markdown",
   "metadata": {},
   "source": [
    "Once the number of days in the month is known, the ending date is calculated by adding an appropriate `timedelta` to the starting date.  \n",
    "It’s subtle, but an important aspect of this recipe is that the ending date is not to be included in the range (it is actually the first day of the next month).  \n",
    "This mirrors the behavior of Python’s slices and range operations, which also never include the end point.  \n",
    "To loop over the date range, standard math and comparison operators are used.  \n",
    "For example, `timedelta` instances can be used to increment the date.  \n",
    "The `<` operator is used to check whether a date comes before the ending date."
   ]
  },
  {
   "cell_type": "markdown",
   "metadata": {},
   "source": [
    "Ideally, it would be nice to create a function that works like the built-in `range()` function, but for dates.  \n",
    "Fortunately, this is extremely easy to implement using a generator:"
   ]
  },
  {
   "cell_type": "code",
   "execution_count": 528,
   "metadata": {
    "collapsed": true
   },
   "outputs": [],
   "source": [
    "def date_range(start, stop, step):\n",
    "    while start < stop:\n",
    "        yield start\n",
    "        start += step"
   ]
  },
  {
   "cell_type": "markdown",
   "metadata": {},
   "source": [
    "Here is an example of it in use:"
   ]
  },
  {
   "cell_type": "code",
   "execution_count": 529,
   "metadata": {},
   "outputs": [
    {
     "name": "stdout",
     "output_type": "stream",
     "text": [
      "2017-11-01 00:00:00\n",
      "2017-11-01 06:00:00\n",
      "2017-11-01 12:00:00\n",
      "2017-11-01 18:00:00\n",
      "2017-11-02 00:00:00\n",
      "2017-11-02 06:00:00\n",
      "2017-11-02 12:00:00\n",
      "2017-11-02 18:00:00\n",
      "2017-11-03 00:00:00\n",
      "2017-11-03 06:00:00\n",
      "2017-11-03 12:00:00\n",
      "2017-11-03 18:00:00\n",
      "2017-11-04 00:00:00\n",
      "2017-11-04 06:00:00\n",
      "2017-11-04 12:00:00\n",
      "2017-11-04 18:00:00\n",
      "2017-11-05 00:00:00\n",
      "2017-11-05 06:00:00\n",
      "2017-11-05 12:00:00\n",
      "2017-11-05 18:00:00\n",
      "2017-11-06 00:00:00\n",
      "2017-11-06 06:00:00\n",
      "2017-11-06 12:00:00\n",
      "2017-11-06 18:00:00\n",
      "2017-11-07 00:00:00\n",
      "2017-11-07 06:00:00\n",
      "2017-11-07 12:00:00\n",
      "2017-11-07 18:00:00\n",
      "2017-11-08 00:00:00\n",
      "2017-11-08 06:00:00\n",
      "2017-11-08 12:00:00\n",
      "2017-11-08 18:00:00\n",
      "2017-11-09 00:00:00\n",
      "2017-11-09 06:00:00\n",
      "2017-11-09 12:00:00\n",
      "2017-11-09 18:00:00\n",
      "2017-11-10 00:00:00\n",
      "2017-11-10 06:00:00\n",
      "2017-11-10 12:00:00\n",
      "2017-11-10 18:00:00\n",
      "2017-11-11 00:00:00\n",
      "2017-11-11 06:00:00\n",
      "2017-11-11 12:00:00\n",
      "2017-11-11 18:00:00\n",
      "2017-11-12 00:00:00\n",
      "2017-11-12 06:00:00\n",
      "2017-11-12 12:00:00\n",
      "2017-11-12 18:00:00\n",
      "2017-11-13 00:00:00\n",
      "2017-11-13 06:00:00\n",
      "2017-11-13 12:00:00\n",
      "2017-11-13 18:00:00\n",
      "2017-11-14 00:00:00\n",
      "2017-11-14 06:00:00\n",
      "2017-11-14 12:00:00\n",
      "2017-11-14 18:00:00\n",
      "2017-11-15 00:00:00\n",
      "2017-11-15 06:00:00\n",
      "2017-11-15 12:00:00\n",
      "2017-11-15 18:00:00\n",
      "2017-11-16 00:00:00\n",
      "2017-11-16 06:00:00\n",
      "2017-11-16 12:00:00\n",
      "2017-11-16 18:00:00\n",
      "2017-11-17 00:00:00\n",
      "2017-11-17 06:00:00\n",
      "2017-11-17 12:00:00\n",
      "2017-11-17 18:00:00\n",
      "2017-11-18 00:00:00\n",
      "2017-11-18 06:00:00\n",
      "2017-11-18 12:00:00\n",
      "2017-11-18 18:00:00\n",
      "2017-11-19 00:00:00\n",
      "2017-11-19 06:00:00\n",
      "2017-11-19 12:00:00\n",
      "2017-11-19 18:00:00\n",
      "2017-11-20 00:00:00\n",
      "2017-11-20 06:00:00\n",
      "2017-11-20 12:00:00\n",
      "2017-11-20 18:00:00\n",
      "2017-11-21 00:00:00\n",
      "2017-11-21 06:00:00\n",
      "2017-11-21 12:00:00\n",
      "2017-11-21 18:00:00\n",
      "2017-11-22 00:00:00\n",
      "2017-11-22 06:00:00\n",
      "2017-11-22 12:00:00\n",
      "2017-11-22 18:00:00\n",
      "2017-11-23 00:00:00\n",
      "2017-11-23 06:00:00\n",
      "2017-11-23 12:00:00\n",
      "2017-11-23 18:00:00\n",
      "2017-11-24 00:00:00\n",
      "2017-11-24 06:00:00\n",
      "2017-11-24 12:00:00\n",
      "2017-11-24 18:00:00\n",
      "2017-11-25 00:00:00\n",
      "2017-11-25 06:00:00\n",
      "2017-11-25 12:00:00\n",
      "2017-11-25 18:00:00\n",
      "2017-11-26 00:00:00\n",
      "2017-11-26 06:00:00\n",
      "2017-11-26 12:00:00\n",
      "2017-11-26 18:00:00\n",
      "2017-11-27 00:00:00\n",
      "2017-11-27 06:00:00\n",
      "2017-11-27 12:00:00\n",
      "2017-11-27 18:00:00\n",
      "2017-11-28 00:00:00\n",
      "2017-11-28 06:00:00\n",
      "2017-11-28 12:00:00\n",
      "2017-11-28 18:00:00\n",
      "2017-11-29 00:00:00\n",
      "2017-11-29 06:00:00\n",
      "2017-11-29 12:00:00\n",
      "2017-11-29 18:00:00\n",
      "2017-11-30 00:00:00\n",
      "2017-11-30 06:00:00\n",
      "2017-11-30 12:00:00\n",
      "2017-11-30 18:00:00\n"
     ]
    }
   ],
   "source": [
    "for d in date_range(datetime(2017, 11, 1),\n",
    "                    datetime(2017, 12, 1), timedelta(hours=6)):\n",
    "    print(d)"
   ]
  },
  {
   "cell_type": "markdown",
   "metadata": {},
   "source": [
    "Again, a major part of the ease of implementation is that dates and times can be manipulated using standard math and comparison operators."
   ]
  },
  {
   "cell_type": "markdown",
   "metadata": {},
   "source": [
    "## [Converting Strings into Datetimes](http://chimera.labs.oreilly.com/books/1230000000393/ch03.html#_converting_strings_into_datetimes)"
   ]
  },
  {
   "cell_type": "markdown",
   "metadata": {
    "collapsed": true
   },
   "source": [
    "### Problem"
   ]
  },
  {
   "cell_type": "markdown",
   "metadata": {},
   "source": [
    "Your application receives temporal data in string format, but you want to convert those strings into `datetime` objects in order to perform nonstring operations on them."
   ]
  },
  {
   "cell_type": "markdown",
   "metadata": {},
   "source": [
    "### Solution"
   ]
  },
  {
   "cell_type": "markdown",
   "metadata": {},
   "source": [
    "Python's standard `datetime` module can do this."
   ]
  },
  {
   "cell_type": "code",
   "execution_count": 530,
   "metadata": {},
   "outputs": [
    {
     "data": {
      "text/plain": [
       "datetime.timedelta(11, 12631, 697282)"
      ]
     },
     "execution_count": 530,
     "metadata": {},
     "output_type": "execute_result"
    }
   ],
   "source": [
    "from datetime import datetime\n",
    "\n",
    "text = '2017-11-1'\n",
    "y = datetime.strptime(text, '%Y-%m-%d')\n",
    "z = datetime.now()\n",
    "diff = z - y\n",
    "diff"
   ]
  },
  {
   "cell_type": "markdown",
   "metadata": {},
   "source": [
    "### Discussion"
   ]
  },
  {
   "cell_type": "markdown",
   "metadata": {},
   "source": [
    "The `datetime.strptime()` method supports a host of formatting codes, like `%Y` for the four-digit year and `%m` for the two-digit month.  \n",
    "It’s also worth noting that these formatting placeholders also work in reverse, in case you need to represent a `datetime` object in string output and make it look nice.  \n",
    "For example, let’s say you have some code that generates a `datetime` object, but you need to format a nice, human-readable date to put in the header of an auto-generated letter or report:"
   ]
  },
  {
   "cell_type": "code",
   "execution_count": 531,
   "metadata": {},
   "outputs": [
    {
     "data": {
      "text/plain": [
       "datetime.datetime(2017, 11, 12, 3, 30, 31, 697282)"
      ]
     },
     "execution_count": 531,
     "metadata": {},
     "output_type": "execute_result"
    }
   ],
   "source": [
    "z"
   ]
  },
  {
   "cell_type": "code",
   "execution_count": 532,
   "metadata": {},
   "outputs": [
    {
     "data": {
      "text/plain": [
       "'Sunday November 12, 2017'"
      ]
     },
     "execution_count": 532,
     "metadata": {},
     "output_type": "execute_result"
    }
   ],
   "source": [
    "nice_z = datetime.strftime(z, '%A %B %d, %Y')\n",
    "nice_z"
   ]
  },
  {
   "cell_type": "markdown",
   "metadata": {},
   "source": [
    "It’s worth noting that the performance of `strptime()` is often much worse than you might expect, due to the fact that it’s written in pure Python and it has to deal with all sorts of system locale settings.  \n",
    "If you are parsing a lot of dates in your code and you know the precise format, you will probably get much better performance by cooking up a custom solution instead.  \n",
    "For example, if you knew that the dates were of the form \"YYYY-MM-DD,\" you could write a function like this:"
   ]
  },
  {
   "cell_type": "code",
   "execution_count": 533,
   "metadata": {
    "collapsed": true
   },
   "outputs": [],
   "source": [
    "from datetime import datetime\n",
    "\n",
    "def parse_ymd(s):\n",
    "    year_s, mon_s, day_s = s.split('-')\n",
    "    return datetime(int(year_s), int(mon_s), int(day_s))"
   ]
  },
  {
   "cell_type": "markdown",
   "metadata": {},
   "source": [
    "When tested, this function runs over seven times faster than `datetime.strptime()`.  \n",
    "This is probably something to consider if you're processing large amounts of data involving dates."
   ]
  },
  {
   "cell_type": "markdown",
   "metadata": {},
   "source": [
    "## [Manipulating Dates Involving Time Zones](http://chimera.labs.oreilly.com/books/1230000000393/ch03.html#_manipulating_dates_involving_time_zones)"
   ]
  },
  {
   "cell_type": "markdown",
   "metadata": {
    "collapsed": true
   },
   "source": [
    "### Problem"
   ]
  },
  {
   "cell_type": "markdown",
   "metadata": {},
   "source": [
    "You had a conference call scheduled for December 21, 2012, at 9:30 a.m. in Chicago.  \n",
    "At what local time did your friend in Bangalore, India, have to show up to attend?"
   ]
  },
  {
   "cell_type": "markdown",
   "metadata": {},
   "source": [
    "### Solution"
   ]
  },
  {
   "cell_type": "markdown",
   "metadata": {},
   "source": [
    "For almost any problem involving time zones, you should use the [pytz module](https://pypi.python.org/pypi/pytz).  \n",
    "This package provides the [Olson time zone database](https://en.wikipedia.org/wiki/Tz_database), which is the de facto standard for time zone information found in many languages and operating systems.  \n",
    "A major use of `pytz` is in localizing simple dates created with the `datetime` library.  \n",
    "For example, here is how you would represent a date in Chicago time:"
   ]
  },
  {
   "cell_type": "code",
   "execution_count": 534,
   "metadata": {},
   "outputs": [
    {
     "name": "stdout",
     "output_type": "stream",
     "text": [
      "2017-11-12 09:30:00\n"
     ]
    }
   ],
   "source": [
    "from datetime import datetime\n",
    "from pytz import timezone\n",
    "import pytz\n",
    "\n",
    "d = datetime(2017, 11, 12, 9, 30, 0)\n",
    "print(d)"
   ]
  },
  {
   "cell_type": "code",
   "execution_count": 535,
   "metadata": {},
   "outputs": [
    {
     "name": "stdout",
     "output_type": "stream",
     "text": [
      "2017-11-12 09:30:00-06:00\n"
     ]
    }
   ],
   "source": [
    "# Localize the date for Chicago:\n",
    "central = timezone('US/Central')\n",
    "loc_d = central.localize(d)\n",
    "print(loc_d)"
   ]
  },
  {
   "cell_type": "markdown",
   "metadata": {},
   "source": [
    "Once the date has been localized, it can be converted to other time zones.  \n",
    "To find the same time in Bangalore, you would do this:"
   ]
  },
  {
   "cell_type": "code",
   "execution_count": 536,
   "metadata": {},
   "outputs": [
    {
     "name": "stdout",
     "output_type": "stream",
     "text": [
      "2017-11-12 21:00:00+05:30\n"
     ]
    }
   ],
   "source": [
    "# Convert to Bangalore time:\n",
    "bang_d = loc_d.astimezone(timezone('Asia/Kolkata'))\n",
    "print(bang_d)"
   ]
  },
  {
   "cell_type": "markdown",
   "metadata": {},
   "source": [
    "If you are going to perform arithmetic with localized dates, you need to be particularly aware of daylight saving transitions and other details.  \n",
    "For example, in 2013, U.S. standard daylight saving time started on March 13, 2:00 a.m. local time (at which point, time skipped ahead one hour).  \n",
    "If you’re performing naive arithmetic, you’ll get it wrong:"
   ]
  },
  {
   "cell_type": "code",
   "execution_count": 537,
   "metadata": {},
   "outputs": [
    {
     "name": "stdout",
     "output_type": "stream",
     "text": [
      "2013-03-10 01:45:00-06:00\n"
     ]
    }
   ],
   "source": [
    "d = datetime(2013, 3, 10, 1, 45)\n",
    "loc_d = central.localize(d)\n",
    "print(loc_d)"
   ]
  },
  {
   "cell_type": "code",
   "execution_count": 538,
   "metadata": {},
   "outputs": [
    {
     "name": "stdout",
     "output_type": "stream",
     "text": [
      "2013-03-10 02:15:00-06:00\n"
     ]
    }
   ],
   "source": [
    "later = loc_d + timedelta(minutes=30)\n",
    "print(later)  # Time change is ignored:"
   ]
  },
  {
   "cell_type": "markdown",
   "metadata": {},
   "source": [
    "The answer is wrong because it doesn't account for the one-hour skip in the local time.  \n",
    "To fix this, use the `normalize()` method of the time zone."
   ]
  },
  {
   "cell_type": "code",
   "execution_count": 539,
   "metadata": {},
   "outputs": [
    {
     "name": "stdout",
     "output_type": "stream",
     "text": [
      "2013-03-10 03:15:00-05:00\n"
     ]
    }
   ],
   "source": [
    "from datetime import timedelta\n",
    "\n",
    "later = central.normalize(loc_d + timedelta(minutes=30))\n",
    "print(later)"
   ]
  },
  {
   "cell_type": "markdown",
   "metadata": {},
   "source": [
    "### Discusssion"
   ]
  },
  {
   "cell_type": "markdown",
   "metadata": {},
   "source": [
    "To keep your head from completely exploding, a common strategy for localized date handling is to convert all dates to UTC time and to use that for all internal storage and manipulation."
   ]
  },
  {
   "cell_type": "code",
   "execution_count": 540,
   "metadata": {},
   "outputs": [
    {
     "name": "stdout",
     "output_type": "stream",
     "text": [
      "2013-03-10 01:45:00-06:00\n"
     ]
    }
   ],
   "source": [
    "print(loc_d)"
   ]
  },
  {
   "cell_type": "code",
   "execution_count": 541,
   "metadata": {},
   "outputs": [
    {
     "name": "stdout",
     "output_type": "stream",
     "text": [
      "2013-03-10 07:45:00+00:00\n"
     ]
    }
   ],
   "source": [
    "utc_d = loc_d.astimezone(pytz.utc)\n",
    "print(utc_d)"
   ]
  },
  {
   "cell_type": "markdown",
   "metadata": {},
   "source": [
    "Once in UTC, you don’t have to worry about issues related to daylight saving time and other matters.  \n",
    "Thus, you can simply perform normal date arithmetic as before.  \n",
    "Should you want to output the date in localized time, just convert it to the appropriate time zone afterward."
   ]
  },
  {
   "cell_type": "code",
   "execution_count": 542,
   "metadata": {},
   "outputs": [
    {
     "name": "stdout",
     "output_type": "stream",
     "text": [
      "2013-03-10 03:15:00-05:00\n"
     ]
    }
   ],
   "source": [
    "later_utc = utc_d + timedelta(minutes=30)\n",
    "print(later_utc.astimezone(central))"
   ]
  },
  {
   "cell_type": "markdown",
   "metadata": {},
   "source": [
    "One issue in working with time zones is simply figuring out what time zone names to use.  \n",
    "For example, in this recipe, how was it known that \"Asia/Kolkata\" was the correct time zone name for India?  \n",
    "To find out, you can consult the `pytz.country_timezones` dictionary using the ISO 3166 country code as a key."
   ]
  },
  {
   "cell_type": "code",
   "execution_count": 543,
   "metadata": {},
   "outputs": [
    {
     "data": {
      "text/plain": [
       "['Asia/Kolkata']"
      ]
     },
     "execution_count": 543,
     "metadata": {},
     "output_type": "execute_result"
    }
   ],
   "source": [
    "pytz.country_timezones['IN']"
   ]
  },
  {
   "cell_type": "code",
   "execution_count": null,
   "metadata": {
    "collapsed": true
   },
   "outputs": [],
   "source": []
  }
 ],
 "metadata": {
  "kernelspec": {
   "display_name": "Python 3",
   "language": "python",
   "name": "python3"
  },
  "language_info": {
   "codemirror_mode": {
    "name": "ipython",
    "version": 3
   },
   "file_extension": ".py",
   "mimetype": "text/x-python",
   "name": "python",
   "nbconvert_exporter": "python",
   "pygments_lexer": "ipython3",
   "version": "3.6.1"
  }
 },
 "nbformat": 4,
 "nbformat_minor": 2
}
