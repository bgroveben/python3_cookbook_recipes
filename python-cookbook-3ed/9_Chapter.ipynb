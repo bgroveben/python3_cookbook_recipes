{
 "cells": [
  {
   "cell_type": "markdown",
   "metadata": {},
   "source": [
    "# Chapter 9  \n",
    "## Metaprogramming"
   ]
  },
  {
   "cell_type": "markdown",
   "metadata": {},
   "source": [
    "One of the most important mantras of software development is \"don’t repeat yourself.\"  \n",
    "That is, any time you are faced with a problem of creating highly repetitive code (or cutting and pasting source code), it often pays to look for a more elegant solution.  \n",
    "In Python, such problems are often solved under the category of \"metaprogramming.\"  \n",
    "In a nutshell, metaprogramming is about creating functions and classes whose main goal is to manipulate code by modifying, generating, or wrapping existing code.  \n",
    "The main features for this include decorators, class decorators, and metaclasses.  \n",
    "However, a variety of other useful topics -- including signature objects, execution of code with exec(), and inspecting the internals of functions and classes -- enter the picture.  \n",
    "The main purpose of this chapter is to explore various metaprogramming techniques and to give examples of how they can be used to customize the behavior of Python to your own whims."
   ]
  },
  {
   "cell_type": "markdown",
   "metadata": {},
   "source": [
    "## 9.1 Putting a Wrapper Around a Function"
   ]
  },
  {
   "cell_type": "markdown",
   "metadata": {},
   "source": [
    "### Problem"
   ]
  },
  {
   "cell_type": "markdown",
   "metadata": {},
   "source": [
    "You want to put a wrapper layer around a function that adds extra processing, such as logging, timing, and so forth."
   ]
  },
  {
   "cell_type": "markdown",
   "metadata": {},
   "source": [
    "### Solution"
   ]
  },
  {
   "cell_type": "markdown",
   "metadata": {},
   "source": [
    "You can define a decorator function to wrap a function with extra code."
   ]
  },
  {
   "cell_type": "code",
   "execution_count": 177,
   "metadata": {},
   "outputs": [],
   "source": [
    "import time\n",
    "from functools import wraps\n",
    "\n",
    "def timethis(func):\n",
    "    \"\"\"\n",
    "    Decorator that reports the execution time.\n",
    "    \"\"\"\n",
    "    @wraps(func)\n",
    "    def wrapper(*args, **kwargs):\n",
    "        start = time.time()\n",
    "        result = func(*args, **kwargs)\n",
    "        end = time.time()\n",
    "        print(func.__name__, end-start)\n",
    "        return result\n",
    "    return wrapper"
   ]
  },
  {
   "cell_type": "markdown",
   "metadata": {},
   "source": [
    "Now let's make our decorator useful."
   ]
  },
  {
   "cell_type": "code",
   "execution_count": 178,
   "metadata": {},
   "outputs": [],
   "source": [
    "@timethis\n",
    "def countdown(n):\n",
    "    \"\"\"\n",
    "    Yes, just a countdown.\n",
    "    \"\"\"\n",
    "    while n > 0:\n",
    "        n -= 1"
   ]
  },
  {
   "cell_type": "code",
   "execution_count": 179,
   "metadata": {},
   "outputs": [
    {
     "name": "stdout",
     "output_type": "stream",
     "text": [
      "countdown 0.0005559921264648438\n"
     ]
    }
   ],
   "source": [
    "countdown(10000)"
   ]
  },
  {
   "cell_type": "code",
   "execution_count": 180,
   "metadata": {},
   "outputs": [
    {
     "name": "stdout",
     "output_type": "stream",
     "text": [
      "countdown 0.006033897399902344\n"
     ]
    }
   ],
   "source": [
    "countdown(100000)"
   ]
  },
  {
   "cell_type": "markdown",
   "metadata": {},
   "source": [
    "### Discussion"
   ]
  },
  {
   "cell_type": "markdown",
   "metadata": {},
   "source": [
    "A decorator is a function that accepts a function as input and returns a new function as output.  \n",
    "Whenever you write code like the following:"
   ]
  },
  {
   "cell_type": "code",
   "execution_count": 181,
   "metadata": {},
   "outputs": [],
   "source": [
    "@timethis\n",
    "def countdown(n):\n",
    "    '''do something'''"
   ]
  },
  {
   "cell_type": "markdown",
   "metadata": {},
   "source": [
    "it's the same as if you had executed these separate steps:"
   ]
  },
  {
   "cell_type": "code",
   "execution_count": 182,
   "metadata": {},
   "outputs": [],
   "source": [
    "def countdown(n):\n",
    "    '''...'''\n",
    "countdown = timethis(countdown)"
   ]
  },
  {
   "cell_type": "markdown",
   "metadata": {},
   "source": [
    "Python's built-in decorators, like `@staticmethod`, `@classmethod`, and `@property` work in the same way.  \n",
    "For example, the following two code fragments will give an equivalent result:"
   ]
  },
  {
   "cell_type": "code",
   "execution_count": 183,
   "metadata": {},
   "outputs": [],
   "source": [
    "class A:\n",
    "    @classmethod\n",
    "    def method(cls):\n",
    "        pass\n",
    "    \n",
    "class B:\n",
    "    # Equivalent definition of a class method.\n",
    "    def method(cls):\n",
    "        pass\n",
    "    method = classmethod(method)"
   ]
  },
  {
   "cell_type": "markdown",
   "metadata": {},
   "source": [
    "The code inside a decorator typically involves creating a new function that accepts any arguments using `*args` and `**kwargs`, as shown with the `wrapper()` function in this recipe.  \n",
    "Inside this function, you place a call to the original input function and return its result.  \n",
    "However, you also place whatever extra code you want to add, like our timing function.  \n",
    "The newly created function wrapper is returned as a result and takes the place of the original function.  \n",
    "It’s critical to emphasize that decorators generally do not alter the calling signature or return value of the function being wrapped.  \n",
    "The use of `*args` and `**kwargs` is there to make sure that any input arguments can be accepted.  \n",
    "The return value of a decorator is almost always the result of calling `func(*args, **kwargs)`, where `func` is the original unwrapped function.  \n",
    "When first learning about decorators, it is usually very easy to get started with some simple examples, such as the one shown.  \n",
    "However, if you are going to write decorators for real, there are some subtle details to consider.  \n",
    "For example, the use of the decorator `@wraps(func)` in the solution is an easy to forget but important technicality related to preserving function metadata, which is described in the next recipe.  \n",
    "The next few recipes that follow fill in some details that will be important if you wish to write decorator functions of your own."
   ]
  },
  {
   "cell_type": "markdown",
   "metadata": {},
   "source": [
    "## 9.2. Preserving Function Metadata When Writing Decorators"
   ]
  },
  {
   "cell_type": "markdown",
   "metadata": {},
   "source": [
    "### Problem"
   ]
  },
  {
   "cell_type": "markdown",
   "metadata": {},
   "source": [
    "You've written a decorator, but when you apply it to a function, important metadata such as the name, docstring, annotations, and calling signature are lost."
   ]
  },
  {
   "cell_type": "markdown",
   "metadata": {},
   "source": [
    "### Solution"
   ]
  },
  {
   "cell_type": "markdown",
   "metadata": {},
   "source": [
    "Whenever you define a decorator, you should always remember to apply the `@wraps` decorator from the `functools` library to the underlying wrapper function."
   ]
  },
  {
   "cell_type": "code",
   "execution_count": 184,
   "metadata": {},
   "outputs": [],
   "source": [
    "import time\n",
    "from functools import wraps\n",
    "\n",
    "def timethis(func):\n",
    "    \"\"\"\n",
    "    Decorator that reports execution time.\n",
    "    \"\"\"\n",
    "    @wraps(func)\n",
    "    def wrapper(*args, **kwargs):\n",
    "        start = time.time()\n",
    "        result = func(*args, **kwargs)\n",
    "        end = time.time()\n",
    "        print(func.__name__, end-start)\n",
    "        return result\n",
    "    return wrapper"
   ]
  },
  {
   "cell_type": "markdown",
   "metadata": {},
   "source": [
    "Let's use the decorator and examine the resulting function metadata:"
   ]
  },
  {
   "cell_type": "code",
   "execution_count": 185,
   "metadata": {},
   "outputs": [],
   "source": [
    "@timethis\n",
    "def countdown(n:int):\n",
    "    \"\"\"\n",
    "    Countdown the integers.\n",
    "    \"\"\"\n",
    "    while n > 0:\n",
    "        n -= 1"
   ]
  },
  {
   "cell_type": "code",
   "execution_count": 186,
   "metadata": {},
   "outputs": [
    {
     "name": "stdout",
     "output_type": "stream",
     "text": [
      "countdown 0.0005950927734375\n"
     ]
    }
   ],
   "source": [
    "countdown(10000)"
   ]
  },
  {
   "cell_type": "code",
   "execution_count": 187,
   "metadata": {},
   "outputs": [
    {
     "name": "stdout",
     "output_type": "stream",
     "text": [
      "countdown 0.006791830062866211\n"
     ]
    }
   ],
   "source": [
    "countdown(100000)"
   ]
  },
  {
   "cell_type": "code",
   "execution_count": 188,
   "metadata": {},
   "outputs": [
    {
     "data": {
      "text/plain": [
       "'countdown'"
      ]
     },
     "execution_count": 188,
     "metadata": {},
     "output_type": "execute_result"
    }
   ],
   "source": [
    "countdown.__name__"
   ]
  },
  {
   "cell_type": "code",
   "execution_count": 189,
   "metadata": {},
   "outputs": [
    {
     "data": {
      "text/plain": [
       "'\\n    Countdown the integers.\\n    '"
      ]
     },
     "execution_count": 189,
     "metadata": {},
     "output_type": "execute_result"
    }
   ],
   "source": [
    "countdown.__doc__"
   ]
  },
  {
   "cell_type": "code",
   "execution_count": 190,
   "metadata": {},
   "outputs": [
    {
     "data": {
      "text/plain": [
       "{'n': int}"
      ]
     },
     "execution_count": 190,
     "metadata": {},
     "output_type": "execute_result"
    }
   ],
   "source": [
    "countdown.__annotations__"
   ]
  },
  {
   "cell_type": "markdown",
   "metadata": {},
   "source": [
    "### Discussion"
   ]
  },
  {
   "cell_type": "markdown",
   "metadata": {},
   "source": [
    "Copying decorator metadata is an important part of writing decorators.  \n",
    "If you forget to use `@wraps`, you’ll find that the decorated function loses all sorts of useful information.  \n",
    "For instance, if omitted, the metadata in the last example would look like this:"
   ]
  },
  {
   "cell_type": "raw",
   "metadata": {},
   "source": [
    ">>> countdown.__name__\n",
    "'wrapper'\n",
    ">>> countdown.__doc__\n",
    ">>> countdown.__annotations__\n",
    "{}\n",
    ">>>"
   ]
  },
  {
   "cell_type": "markdown",
   "metadata": {},
   "source": [
    "An important feature of the `@wraps` decorator is that it makes the wrapped function available to you in the `__wrapped__` attribute.  \n",
    "For example, if you want to access the wrapped function directly, you could do this:"
   ]
  },
  {
   "cell_type": "raw",
   "metadata": {},
   "source": [
    ">>> countdown.__wrapped__(100000)\n",
    ">>>"
   ]
  },
  {
   "cell_type": "markdown",
   "metadata": {},
   "source": [
    "The presence of the `__wrapped__` attribute also makes decorated functions properly expose the underlying signature of the wrapped function."
   ]
  },
  {
   "cell_type": "code",
   "execution_count": 191,
   "metadata": {},
   "outputs": [
    {
     "name": "stdout",
     "output_type": "stream",
     "text": [
      "(n:int)\n"
     ]
    }
   ],
   "source": [
    "from inspect import signature\n",
    "print(signature(countdown))"
   ]
  },
  {
   "cell_type": "markdown",
   "metadata": {},
   "source": [
    "One common question that sometimes arises is how to make a decorator that directly copies the calling signature of the original function being wrapped (as opposed to using `*args` and `**kwargs`).  \n",
    "In general, this is difficult to implement without resorting to some trick involving the generator of code strings and `exec()`.  \n",
    "Frankly, you’re usually best off using `@wraps` and relying on the fact that the underlying function signature can be propagated by access to the underlying `__wrapped__` attribute.  \n",
    "See Recipe 9.16 for more information about signatures."
   ]
  },
  {
   "cell_type": "markdown",
   "metadata": {},
   "source": [
    "## 9.3. Unwrapping a Decorator"
   ]
  },
  {
   "cell_type": "markdown",
   "metadata": {},
   "source": [
    "### Problem"
   ]
  },
  {
   "cell_type": "markdown",
   "metadata": {},
   "source": [
    "A decorator has been applied to a function, but you want to overrride it and gain access to the original unwrapped function."
   ]
  },
  {
   "cell_type": "markdown",
   "metadata": {},
   "source": [
    "### Solution"
   ]
  },
  {
   "cell_type": "markdown",
   "metadata": {},
   "source": [
    "Assuming that the decorator has been implemented properly using `@wraps` (see Recipe 9.2), you can usually gain access to the original function by accessing the `__wrapped__` attribute."
   ]
  },
  {
   "cell_type": "raw",
   "metadata": {},
   "source": [
    "@somedecorator\n",
    "def add(x, y):\n",
    "    return x + y\n",
    "\n",
    ">>> orig_add = add.__wrapped__\n",
    ">>> orig_add(3, 4)\n",
    "7\n",
    ">>>"
   ]
  },
  {
   "cell_type": "markdown",
   "metadata": {},
   "source": [
    "### Discussion"
   ]
  },
  {
   "cell_type": "markdown",
   "metadata": {},
   "source": [
    "Gaining direct access to the unwrapped function behind a decorator can be useful for debugging, introspection, and other operations involving functions.  \n",
    "However, this recipe only works if the implementation of a decorator properly copies metadata using `@wraps` from the functools module or sets the `__wrapped__` attribute directly.  \n",
    "If multiple decorators have been applied to a function, the behavior of accessing `__wrapped__` is currently undefined and should probably be avoided.  \n",
    "In Python 3.3, it bypasses all of the layers.  \n",
    "For example, suppose you have code like this:"
   ]
  },
  {
   "cell_type": "code",
   "execution_count": 192,
   "metadata": {},
   "outputs": [],
   "source": [
    "from functools import wraps\n",
    "\n",
    "def decorator1(func):\n",
    "    @wraps(func)\n",
    "    def wrapper(*args, **kwargs):\n",
    "        print('Decorator 1')\n",
    "        return func(*args, **kwargs)\n",
    "    return wrapper\n",
    "\n",
    "def decorator2(func):\n",
    "    @wraps(func)\n",
    "    def wrapper(*args, **kwargs):\n",
    "        print('Decorator 2')\n",
    "        return func(*args, **kwargs)\n",
    "    return wrapper"
   ]
  },
  {
   "cell_type": "code",
   "execution_count": 193,
   "metadata": {},
   "outputs": [],
   "source": [
    "@decorator1\n",
    "@decorator2\n",
    "def add(x, y):\n",
    "    return x + y"
   ]
  },
  {
   "cell_type": "markdown",
   "metadata": {},
   "source": [
    "Now let's call the decorated function and the original function through `__wrapped__`."
   ]
  },
  {
   "cell_type": "code",
   "execution_count": 194,
   "metadata": {},
   "outputs": [
    {
     "name": "stdout",
     "output_type": "stream",
     "text": [
      "Decorator 1\n",
      "Decorator 2\n"
     ]
    },
    {
     "data": {
      "text/plain": [
       "5"
      ]
     },
     "execution_count": 194,
     "metadata": {},
     "output_type": "execute_result"
    }
   ],
   "source": [
    "add(2, 3)"
   ]
  },
  {
   "cell_type": "code",
   "execution_count": 195,
   "metadata": {},
   "outputs": [
    {
     "name": "stdout",
     "output_type": "stream",
     "text": [
      "Decorator 2\n"
     ]
    },
    {
     "data": {
      "text/plain": [
       "5"
      ]
     },
     "execution_count": 195,
     "metadata": {},
     "output_type": "execute_result"
    }
   ],
   "source": [
    "add.__wrapped__(2, 3)"
   ]
  },
  {
   "cell_type": "markdown",
   "metadata": {},
   "source": [
    "However, this behavior has been reported as a bug (see `http://bugs.python.org/issue17482`) and may be changed to expose the proper decorator chain in a future release.\n",
    "Last, but not least, be aware that not all decorators utilize `@wraps`, and thus, they may not work as described.  \n",
    "In particular, the built-in decorators `@staticmethod` and `@classmethod` create descriptor objects that don’t follow this convention (instead, they store the original function in a `__func__` attribute).  \n",
    "Your mileage may vary."
   ]
  },
  {
   "cell_type": "markdown",
   "metadata": {},
   "source": [
    "## 9.4. Defining a Decorator That Takes Arguments"
   ]
  },
  {
   "cell_type": "markdown",
   "metadata": {},
   "source": [
    "### Problem"
   ]
  },
  {
   "cell_type": "markdown",
   "metadata": {},
   "source": [
    "You want to write a decorator function that takes arguments."
   ]
  },
  {
   "cell_type": "markdown",
   "metadata": {},
   "source": [
    "### Solution"
   ]
  },
  {
   "cell_type": "markdown",
   "metadata": {},
   "source": [
    "Let’s illustrate the process of accepting arguments with an example.  \n",
    "Suppose you want to write a decorator that adds logging to a function, but allows the user to specify the logging level and other details as arguments.  \n",
    "Here is how you might define the decorator:"
   ]
  },
  {
   "cell_type": "code",
   "execution_count": 196,
   "metadata": {},
   "outputs": [],
   "source": [
    "from functools import wraps\n",
    "import logging\n",
    "\n",
    "def logged(level, name=None, message=None):\n",
    "    \"\"\"\n",
    "    Add logging to a function.\n",
    "    If name and message aren't specified, they default to the function's module and name.\n",
    "    \"\"\"\n",
    "    def decorate(func):\n",
    "        logname = name if name else func.__module__\n",
    "        log = logging.getLogger(logname)\n",
    "        logmsg = message if message else func.__name__\n",
    "        \n",
    "        @wraps(func)\n",
    "        def wrapper(*args, **kwargs):\n",
    "            log.level(level, logmsg)\n",
    "            return func(*args, **kwargs)\n",
    "        return wrapper\n",
    "    return decorate"
   ]
  },
  {
   "cell_type": "markdown",
   "metadata": {},
   "source": [
    "Test drive our code:"
   ]
  },
  {
   "cell_type": "code",
   "execution_count": 197,
   "metadata": {},
   "outputs": [],
   "source": [
    "@logged(logging.DEBUG)\n",
    "def add(x, y):\n",
    "    return x + y\n",
    "\n",
    "@logged(logging.CRITICAL, 'example')\n",
    "def spam():\n",
    "    print('Spam!')"
   ]
  },
  {
   "cell_type": "markdown",
   "metadata": {},
   "source": [
    "On first glance, the implementation looks tricky, but the idea is relatively simple.  \n",
    "The outermost function `logged()` accepts the desired arguments and simply makes them available to the inner functions of the decorator.  \n",
    "The inner function `decorate()` accepts a function and puts a wrapper around it as normal.  \n",
    "The key part is that the wrapper is allowed to use the arguments passed to `logged()`."
   ]
  },
  {
   "cell_type": "markdown",
   "metadata": {},
   "source": [
    "### Discussion"
   ]
  },
  {
   "cell_type": "markdown",
   "metadata": {},
   "source": [
    "Writing a decorator that takes arguments is tricky because of the underlying calling sequence involved.  \n",
    "For example, if you have code like this:"
   ]
  },
  {
   "cell_type": "raw",
   "metadata": {},
   "source": [
    "@decorator(x, y, z)\n",
    "def func(a, b):\n",
    "    pass"
   ]
  },
  {
   "cell_type": "markdown",
   "metadata": {},
   "source": [
    "The decoration process evaluates as follows:"
   ]
  },
  {
   "cell_type": "raw",
   "metadata": {},
   "source": [
    "def func(a, b):\n",
    "    pass\n",
    "\n",
    "func = decorator(x, y, z)(func)"
   ]
  },
  {
   "cell_type": "markdown",
   "metadata": {},
   "source": [
    "Carefully observe that the result of `decorator(x, y, z)` must be a callable which, in turn, takes a function as input and wraps it.  \n",
    "See Recipe 9.7 for another example of a decorator taking arguments."
   ]
  },
  {
   "cell_type": "markdown",
   "metadata": {},
   "source": [
    "## 9.5. Defining a Decorator with User Adjustable Attributes"
   ]
  },
  {
   "cell_type": "markdown",
   "metadata": {},
   "source": [
    "### Problem"
   ]
  },
  {
   "cell_type": "markdown",
   "metadata": {},
   "source": [
    "You want to write a decorator function that wraps a function, but has user adjustable attributes that can be used to control the behavior of the decorator at runtime."
   ]
  },
  {
   "cell_type": "markdown",
   "metadata": {},
   "source": [
    "### Solution"
   ]
  },
  {
   "cell_type": "markdown",
   "metadata": {},
   "source": [
    "Here is a solution that expands on the last recipe by introducing accessor functions that change internal variables through the use of nonlocal variable declarations.  \n",
    "The accessor functions are then attached to the wrapper function as function attributes."
   ]
  },
  {
   "cell_type": "code",
   "execution_count": 198,
   "metadata": {},
   "outputs": [],
   "source": [
    "from functools import wraps, partial\n",
    "import logging\n",
    "\n",
    "# Utility decorator to attach a function as an attribute of obj:\n",
    "def attach_wrapper(obj, func=None):\n",
    "    if func is None:\n",
    "        return partial(attach_wrapper, obj)\n",
    "    setattr(obj, func.__name__, func)\n",
    "    return func\n",
    "def logged(level, name=None, message=None):\n",
    "    \"\"\"\n",
    "    Add logging to a function.\n",
    "    If name and message aren't specified, they default to the function's module and name.\n",
    "    \"\"\"\n",
    "    def decorate(func):\n",
    "        logname = name if name else func.__module__\n",
    "        log = logging.getLogger(logname)\n",
    "        logmsg = message if message else func.__name__\n",
    "        \n",
    "        @wraps(func)\n",
    "        def wrapper(*args, **kwargs):\n",
    "            log.log(level, logmsg)\n",
    "            return func(*args, **kwargs)\n",
    "        \n",
    "        # Attach setter functions:\n",
    "        @attach_wrapper(wrapper)\n",
    "        def set_level(newlevel):\n",
    "            nonlocal level\n",
    "            level = newlevel\n",
    "            \n",
    "        @attach_wrapper(wrapper)\n",
    "        def set_message(newmsg):\n",
    "            nonlocal logmsg\n",
    "            logmsg = newmsg\n",
    "            \n",
    "        return wrapper\n",
    "    return decorate\n",
    "\n",
    "# Example use:\n",
    "@logged(logging.DEBUG)\n",
    "def add(x, y):\n",
    "    return x + y\n",
    "\n",
    "@logged(logging.CRITICAL, 'example')\n",
    "def spam():\n",
    "    print('Spam!')"
   ]
  },
  {
   "cell_type": "markdown",
   "metadata": {},
   "source": [
    "Here is an interactive session that shows the various attributes being changed after definition:"
   ]
  },
  {
   "cell_type": "code",
   "execution_count": 199,
   "metadata": {},
   "outputs": [
    {
     "name": "stderr",
     "output_type": "stream",
     "text": [
      "DEBUG:__main__:add\n"
     ]
    },
    {
     "data": {
      "text/plain": [
       "5"
      ]
     },
     "execution_count": 199,
     "metadata": {},
     "output_type": "execute_result"
    }
   ],
   "source": [
    "import logging\n",
    "logging.basicConfig(level=logging.DEBUG)\n",
    "add(2, 3)"
   ]
  },
  {
   "cell_type": "code",
   "execution_count": 200,
   "metadata": {},
   "outputs": [
    {
     "name": "stderr",
     "output_type": "stream",
     "text": [
      "DEBUG:__main__:Add called\n"
     ]
    },
    {
     "data": {
      "text/plain": [
       "5"
      ]
     },
     "execution_count": 200,
     "metadata": {},
     "output_type": "execute_result"
    }
   ],
   "source": [
    "# Change the log message:\n",
    "add.set_message('Add called')\n",
    "add(2, 3)"
   ]
  },
  {
   "cell_type": "code",
   "execution_count": 201,
   "metadata": {},
   "outputs": [
    {
     "name": "stderr",
     "output_type": "stream",
     "text": [
      "WARNING:__main__:Add called\n"
     ]
    },
    {
     "data": {
      "text/plain": [
       "5"
      ]
     },
     "execution_count": 201,
     "metadata": {},
     "output_type": "execute_result"
    }
   ],
   "source": [
    "# Change the log level:\n",
    "add.set_level(logging.WARNING)\n",
    "add(2, 3)"
   ]
  },
  {
   "cell_type": "markdown",
   "metadata": {},
   "source": [
    "### Discussion"
   ]
  },
  {
   "cell_type": "markdown",
   "metadata": {},
   "source": [
    "The key to this recipe lies in the accessor functions, like `set_message()` and `set_level()`, that get attached to the wrapper as attributes.  \n",
    "Each of these accessors allows internal parameters to be adjusted through the use of nonlocal assignments.  \n",
    "An added feature of this recipe is that the accessor functions will propagate through multiple levels of decoration if all of your decorators use `@functools.wraps`.  \n",
    "For example, suppose you introduced an additional decorator, such as the `@timethis` decorator from Recipe 9.2, and wrote code like this:"
   ]
  },
  {
   "cell_type": "code",
   "execution_count": 202,
   "metadata": {},
   "outputs": [],
   "source": [
    "@timethis\n",
    "@logged(logging.DEBUG)\n",
    "def countdown(n):\n",
    "    while n > 0:\n",
    "        n -= 1"
   ]
  },
  {
   "cell_type": "code",
   "execution_count": 203,
   "metadata": {},
   "outputs": [
    {
     "name": "stderr",
     "output_type": "stream",
     "text": [
      "DEBUG:__main__:countdown\n"
     ]
    },
    {
     "name": "stdout",
     "output_type": "stream",
     "text": [
      "countdown 0.0014388561248779297\n"
     ]
    }
   ],
   "source": [
    "countdown(10000)"
   ]
  },
  {
   "cell_type": "code",
   "execution_count": 204,
   "metadata": {},
   "outputs": [
    {
     "name": "stderr",
     "output_type": "stream",
     "text": [
      "WARNING:__main__:Ground control to Major Tom, prepare for blastoff\n"
     ]
    },
    {
     "name": "stdout",
     "output_type": "stream",
     "text": [
      "countdown 0.0016770362854003906\n"
     ]
    }
   ],
   "source": [
    "countdown.set_level(logging.WARNING)\n",
    "countdown.set_message(\"Ground control to Major Tom, prepare for blastoff\")\n",
    "countdown(10000)"
   ]
  },
  {
   "cell_type": "markdown",
   "metadata": {},
   "source": [
    "If the decorators are composed in the exact opposite order, everything still works exactly the same:"
   ]
  },
  {
   "cell_type": "code",
   "execution_count": 205,
   "metadata": {},
   "outputs": [],
   "source": [
    "@logged(logging.DEBUG)\n",
    "@timethis\n",
    "def countdown(n):\n",
    "    while n > 0:\n",
    "        n -= 1"
   ]
  },
  {
   "cell_type": "markdown",
   "metadata": {},
   "source": [
    "You can make additional modifications, such as writing accessor functions to return the values of varous settings:"
   ]
  },
  {
   "cell_type": "raw",
   "metadata": {},
   "source": [
    "# ...\n",
    "@attach_wrapper(wrapper)\n",
    "def get_level():\n",
    "    return level\n",
    "# ..."
   ]
  },
  {
   "cell_type": "markdown",
   "metadata": {},
   "source": [
    "Or an alternative:"
   ]
  },
  {
   "cell_type": "raw",
   "metadata": {},
   "source": [
    "# ...\n",
    "wrapper.get_level = lambda: level\n",
    "# ..."
   ]
  },
  {
   "cell_type": "markdown",
   "metadata": {},
   "source": [
    "One extremely subtle facet of this recipe is the choice to use accessor functions in the first place.  \n",
    "For example, you might consider an alternative formulation solely based on direct access to function attributes like this:"
   ]
  },
  {
   "cell_type": "raw",
   "metadata": {},
   "source": [
    "# ... \n",
    "@wraps(func)\n",
    "def wrapper(*args, **kwargs):\n",
    "    wrapper.log.log(wrapper.level, wrapper.logmsg)\n",
    "    return func(*args, **kwargs)\n",
    "\n",
    "# Now attach adjustable attributes:\n",
    "wrapper.level = level\n",
    "wrapper.logmsg = logmsg\n",
    "wrapper.log = log\n",
    "# ..."
   ]
  },
  {
   "cell_type": "markdown",
   "metadata": {},
   "source": [
    "This approach would work to a point, but only if it was the topmost decorator.  \n",
    "If you had another decorator applied on top, such as the `@timethis` example, it would shadow the underlying attributes and make them unavailable for modification.  \n",
    "The use of accessor functions avoids this limitation.  \n",
    "The solution shown in this recipe might also be a possible alternative for decorators defined as classes, as shown in Recipe 9.9."
   ]
  },
  {
   "cell_type": "markdown",
   "metadata": {},
   "source": [
    "## 9.6. Defining a Decorator That Takes an Optional Argument"
   ]
  },
  {
   "cell_type": "markdown",
   "metadata": {},
   "source": [
    "### Problem"
   ]
  },
  {
   "cell_type": "markdown",
   "metadata": {},
   "source": [
    "You would like to write a single decorator that can be used without arguments, such as `@decorator`, or with optional arguments, such as `@decorator(x,y,z)`.  \n",
    "However, there seems to be no straightforward way to do it due to differences in calling conventions between simple decorators and decorators taking arguments."
   ]
  },
  {
   "cell_type": "markdown",
   "metadata": {},
   "source": [
    "### Solution"
   ]
  },
  {
   "cell_type": "markdown",
   "metadata": {},
   "source": [
    "Here is a variant of the logging code shown in Recipe 9.5 that defines a decorator according to our specifications:"
   ]
  },
  {
   "cell_type": "code",
   "execution_count": 206,
   "metadata": {},
   "outputs": [],
   "source": [
    "from functools import wraps, partial\n",
    "import logging\n",
    "\n",
    "def logged(func=None, *, level=logging.DEBUG, name=None, message=None):\n",
    "    if func is None:\n",
    "        return partial(logged, level=level, name=name, message=message)\n",
    "    \n",
    "    logname = name if name else func.__module__\n",
    "    log = logging.getLogger(logname)\n",
    "    logmsg = message if message else func.__name__\n",
    "    \n",
    "    @wraps(func)\n",
    "    def wrapper(*args, **kwargs):\n",
    "        log.log(level, logmsg)\n",
    "        return func(*args, **kwargs)\n",
    "    return wrapper"
   ]
  },
  {
   "cell_type": "markdown",
   "metadata": {},
   "source": [
    "Now for a demonstration:"
   ]
  },
  {
   "cell_type": "code",
   "execution_count": 207,
   "metadata": {},
   "outputs": [],
   "source": [
    "@logged\n",
    "def add(x, y):\n",
    "    return x + y\n",
    "\n",
    "@logged(level=logging.CRITICAL, name = 'demonstration')\n",
    "def spam():\n",
    "    print('Spam Ahoy!')"
   ]
  },
  {
   "cell_type": "markdown",
   "metadata": {},
   "source": [
    "As you can see from the example, the decorator can be used in both a simple form such as `@logged`, or with optional arguments supplied, like with `@logged(level=logging.CRITICAL, name='example')`."
   ]
  },
  {
   "cell_type": "markdown",
   "metadata": {},
   "source": [
    "### Discussion"
   ]
  },
  {
   "cell_type": "markdown",
   "metadata": {},
   "source": [
    "The problem addressed by this recipe is really one of programming consistency.  \n",
    "When using decorators, most programmers are used to applying them without any arguments at all or with arguments, as shown in the example.  \n",
    "Technically speaking, a decorator where all arguments are optional could be applied, like this:"
   ]
  },
  {
   "cell_type": "code",
   "execution_count": 208,
   "metadata": {},
   "outputs": [],
   "source": [
    "@logged()\n",
    "def add(x, y):\n",
    "    return x + y"
   ]
  },
  {
   "cell_type": "markdown",
   "metadata": {},
   "source": [
    "However, this is not a form that’s especially common, and might lead to common usage errors if programmers forget to add the extra parentheses.  \n",
    "The recipe simply makes the decorator work with or without parentheses in a consistent way.  \n",
    "To understand how the code works, you need to have a firm understanding of how decorators get applied to functions as well as their calling conventions.  \n",
    "For a simple decorator such as this:"
   ]
  },
  {
   "cell_type": "code",
   "execution_count": 209,
   "metadata": {},
   "outputs": [],
   "source": [
    "@logged\n",
    "def add(x, y):\n",
    "    return x + y"
   ]
  },
  {
   "cell_type": "markdown",
   "metadata": {},
   "source": [
    "The calling sequence is as follows:"
   ]
  },
  {
   "cell_type": "code",
   "execution_count": 210,
   "metadata": {},
   "outputs": [],
   "source": [
    "def add(x, y):\n",
    "    return x + y\n",
    "add = logged(add)"
   ]
  },
  {
   "cell_type": "markdown",
   "metadata": {},
   "source": [
    "In this case, the function to be wrapped is simply passed to logged as the first argument.  \n",
    "Thus, in the solution, the first argument of `logged()` is the function being wrapped.  \n",
    "All of the other arguments must have default values.  \n",
    "For a decorator taking arguments such as this:"
   ]
  },
  {
   "cell_type": "code",
   "execution_count": 211,
   "metadata": {},
   "outputs": [],
   "source": [
    "@logged(level=logging.CRITICAL, name='demonstration')\n",
    "def spam():\n",
    "    print('Spam Alert!')"
   ]
  },
  {
   "cell_type": "markdown",
   "metadata": {},
   "source": [
    "The calling sequence goes:"
   ]
  },
  {
   "cell_type": "code",
   "execution_count": 212,
   "metadata": {},
   "outputs": [],
   "source": [
    "def spam():\n",
    "    print('Spam Alert!')\n",
    "spam = logged(level=logging.CRITICAL, name ='demonstration')(spam)"
   ]
  },
  {
   "cell_type": "markdown",
   "metadata": {},
   "source": [
    "On the initial invocation of `logged()`, the function to be wrapped is not passed.  \n",
    "Thus, in the decorator, it has to be optional.  \n",
    "This, in turn, forces the other arguments to be specified by keyword.  \n",
    "Furthermore, when arguments are passed, a decorator is supposed to return a function that accepts the function and wraps it (see Recipe 9.5).  \n",
    "To do this, the solution uses a clever trick involving `functools.partial`.  \n",
    "Specifically, it simply returns a partially applied version of itself where all arguments are fixed except for the function to be wrapped.  \n",
    "See Recipe 7.8 for more details about using `partial()`."
   ]
  },
  {
   "cell_type": "markdown",
   "metadata": {},
   "source": [
    "## 9.7. Enforcing Type Checking on a Function Using a Decorator"
   ]
  },
  {
   "cell_type": "markdown",
   "metadata": {},
   "source": [
    "### Problem"
   ]
  },
  {
   "cell_type": "markdown",
   "metadata": {},
   "source": [
    "You want to optionally enforce type checking of function arguments as a kind of assertion or contract."
   ]
  },
  {
   "cell_type": "markdown",
   "metadata": {},
   "source": [
    "### Solution"
   ]
  },
  {
   "cell_type": "markdown",
   "metadata": {},
   "source": [
    "Before showing the solution code, the aim of this recipe is to have a means of enforcing type contracts on the input arguments to a function.  \n",
    "Here is a short example that illustrates the idea:"
   ]
  },
  {
   "cell_type": "raw",
   "metadata": {},
   "source": [
    "@typeassert(int, int)\n",
    "def add(x, y):\n",
    "    return x + y\n",
    "\n",
    ">>> add(2, 'hello')\n",
    "\n",
    "Traceback (most recent call last):\n",
    "TypeError: Argument y must be <class 'int'>\n",
    "    \n",
    ">>>"
   ]
  },
  {
   "cell_type": "markdown",
   "metadata": {},
   "source": [
    "Here is an implementation of the `@typeassert` decorator:"
   ]
  },
  {
   "cell_type": "code",
   "execution_count": 213,
   "metadata": {},
   "outputs": [],
   "source": [
    "from inspect import signature\n",
    "from functools import wraps\n",
    "\n",
    "def typeassert(*ty_args, **ty_kwargs):\n",
    "    def decorate(func):\n",
    "        # If in optimized mode, disable type checking\n",
    "        if not __debug__:\n",
    "            return func\n",
    "        \n",
    "        # Map function argument names to supplied types\n",
    "        sig = signature(func)\n",
    "        bound_types = sig.bind_partial(*ty_args, **ty_kwargs).arguments\n",
    "        \n",
    "        @wraps(func)\n",
    "        def wrapper(*args, **kwargs):\n",
    "            bound_values = sig.bind(*args, **kwargs)\n",
    "            # Enforce type assertions across supplied arguments\n",
    "            for name, value in bound_values.arguments.items():\n",
    "                if name in bound_types:\n",
    "                    if not isinstance(value, bound_types[name]):\n",
    "                        raise TypeError(\n",
    "                            'Argument {} must be {}'.format(name, bound_types[name])\n",
    "                        )\n",
    "            return func(*args, **kwargs)\n",
    "        return wrapper\n",
    "    return decorate"
   ]
  },
  {
   "cell_type": "markdown",
   "metadata": {},
   "source": [
    "You will find that this decorator is rather flexible, allowing types to be specified for all or a subset of a function’s arguments.  \n",
    "Moreover, types can be specified by position or by keyword."
   ]
  },
  {
   "cell_type": "code",
   "execution_count": 214,
   "metadata": {},
   "outputs": [],
   "source": [
    "@typeassert(int, z=int)\n",
    "def spam(x, y, z=42):\n",
    "    print(x, y, z)"
   ]
  },
  {
   "cell_type": "code",
   "execution_count": 215,
   "metadata": {},
   "outputs": [
    {
     "name": "stdout",
     "output_type": "stream",
     "text": [
      "1 2 3\n"
     ]
    }
   ],
   "source": [
    "spam(1, 2, 3)"
   ]
  },
  {
   "cell_type": "code",
   "execution_count": 216,
   "metadata": {},
   "outputs": [
    {
     "name": "stdout",
     "output_type": "stream",
     "text": [
      "1 hello 3\n"
     ]
    }
   ],
   "source": [
    "spam(1, 'hello', 3)"
   ]
  },
  {
   "cell_type": "raw",
   "metadata": {},
   "source": [
    "spam(1, 'hello', 'world')\n",
    "\n",
    "---------------------------------------------------------------------------\n",
    "TypeError                                 Traceback (most recent call last)\n",
    "<ipython-input-46-8d4a9d293d7c> in <module>()\n",
    "----> 1 spam(1, 'hello', 'world')\n",
    "\n",
    "<ipython-input-42-75890bdad34e> in wrapper(*args, **kwargs)\n",
    "     20                     if not isinstance(value, bound_types[name]):\n",
    "     21                         raise TypeError(\n",
    "---> 22                             'Argument {} must be {}'.format(name, bound_types[name])\n",
    "     23                         )\n",
    "     24             return func(*args, **kwargs)\n",
    "\n",
    "TypeError: Argument z must be <class 'int'>\n"
   ]
  },
  {
   "cell_type": "markdown",
   "metadata": {},
   "source": [
    "### Discussion"
   ]
  },
  {
   "cell_type": "markdown",
   "metadata": {},
   "source": [
    "This recipe is an advanced decorator example that introduces a number of important and useful concepts.  \n",
    "First, one aspect of decorators is that they only get applied once, at the time of function definition.  \n",
    "In certain cases, you may want to disable the functionality added by a decorator.  \n",
    "To do this, simply have your decorator function return the function unwrapped.  \n",
    "In the solution, the following code fragment returns the function unmodified if the value of the global `__debug__` variable is set to `False`, which is the case when Python executes in optimized mode with the `-O` or `-OO` options to the interpreter."
   ]
  },
  {
   "cell_type": "code",
   "execution_count": 217,
   "metadata": {},
   "outputs": [],
   "source": [
    "# ...\n",
    "def decorate(func):\n",
    "    # If in optimized mode, disable type checking\n",
    "    if not __debug__:\n",
    "        return func\n",
    "    # ..."
   ]
  },
  {
   "cell_type": "markdown",
   "metadata": {},
   "source": [
    "Next, a tricky part of writing this decorator is that it involves examining and working with the argument signature of the function being wrapped.  \n",
    "Your tool of choice here should be the `inspect.signature()` function.  \n",
    "Simply stated, it allows you to extract signature information from a callable."
   ]
  },
  {
   "cell_type": "code",
   "execution_count": 218,
   "metadata": {},
   "outputs": [],
   "source": [
    "from inspect import signature\n",
    "def spam(x, y, z=42):\n",
    "    pass"
   ]
  },
  {
   "cell_type": "code",
   "execution_count": 219,
   "metadata": {},
   "outputs": [
    {
     "name": "stdout",
     "output_type": "stream",
     "text": [
      "(x, y, z=42)\n"
     ]
    }
   ],
   "source": [
    "sig = signature(spam)\n",
    "print(sig)"
   ]
  },
  {
   "cell_type": "code",
   "execution_count": 220,
   "metadata": {},
   "outputs": [
    {
     "data": {
      "text/plain": [
       "mappingproxy({'x': <Parameter \"x\">,\n",
       "              'y': <Parameter \"y\">,\n",
       "              'z': <Parameter \"z=42\">})"
      ]
     },
     "execution_count": 220,
     "metadata": {},
     "output_type": "execute_result"
    }
   ],
   "source": [
    "sig.parameters"
   ]
  },
  {
   "cell_type": "code",
   "execution_count": 221,
   "metadata": {},
   "outputs": [
    {
     "data": {
      "text/plain": [
       "'z'"
      ]
     },
     "execution_count": 221,
     "metadata": {},
     "output_type": "execute_result"
    }
   ],
   "source": [
    "sig.parameters['z'].name"
   ]
  },
  {
   "cell_type": "code",
   "execution_count": 222,
   "metadata": {},
   "outputs": [
    {
     "data": {
      "text/plain": [
       "42"
      ]
     },
     "execution_count": 222,
     "metadata": {},
     "output_type": "execute_result"
    }
   ],
   "source": [
    "sig.parameters['z'].default"
   ]
  },
  {
   "cell_type": "code",
   "execution_count": 223,
   "metadata": {},
   "outputs": [
    {
     "data": {
      "text/plain": [
       "<_ParameterKind.POSITIONAL_OR_KEYWORD: 1>"
      ]
     },
     "execution_count": 223,
     "metadata": {},
     "output_type": "execute_result"
    }
   ],
   "source": [
    "sig.parameters['z'].kind"
   ]
  },
  {
   "cell_type": "markdown",
   "metadata": {},
   "source": [
    "In the first part of our decorator, we use the `bind_partial()` method of signatures to perform a partial binding of the supplied types to argument names.  \n",
    "Here is an example of what happens:"
   ]
  },
  {
   "cell_type": "code",
   "execution_count": 224,
   "metadata": {},
   "outputs": [
    {
     "data": {
      "text/plain": [
       "<BoundArguments (x=<class 'int'>, z=<class 'int'>)>"
      ]
     },
     "execution_count": 224,
     "metadata": {},
     "output_type": "execute_result"
    }
   ],
   "source": [
    "bound_types = sig.bind_partial(int, z=int)\n",
    "bound_types"
   ]
  },
  {
   "cell_type": "code",
   "execution_count": 225,
   "metadata": {},
   "outputs": [
    {
     "data": {
      "text/plain": [
       "OrderedDict([('x', int), ('z', int)])"
      ]
     },
     "execution_count": 225,
     "metadata": {},
     "output_type": "execute_result"
    }
   ],
   "source": [
    "bound_types.arguments"
   ]
  },
  {
   "cell_type": "markdown",
   "metadata": {},
   "source": [
    "In this partial binding, you will notice that missing arguments are simply ignored, which is the case with argument y.  \n",
    "However, the most important part of the binding is the creation of the ordered dictionary `bound_types.arguments`.  \n",
    "This dictionary maps the argument names to the supplied values in the same order as the function signature.  \n",
    "In the case of our decorator, this mapping contains the type assertions that we’re going to enforce.  \n",
    "In the actual wrapper function made by the decorator, the `sig.bind()` method is used.  \n",
    "The `bind()` method is like `bind_partial()` except that it does not allow for missing arguments.  \n",
    "So, here is what happens:"
   ]
  },
  {
   "cell_type": "code",
   "execution_count": 226,
   "metadata": {},
   "outputs": [
    {
     "data": {
      "text/plain": [
       "OrderedDict([('x', 1), ('y', 2), ('z', 3)])"
      ]
     },
     "execution_count": 226,
     "metadata": {},
     "output_type": "execute_result"
    }
   ],
   "source": [
    "bound_values = sig.bind(1, 2, 3)\n",
    "bound_values.arguments"
   ]
  },
  {
   "cell_type": "markdown",
   "metadata": {},
   "source": [
    "Using this mapping, enforcing the required assertions is pretty straightforward:"
   ]
  },
  {
   "cell_type": "code",
   "execution_count": 227,
   "metadata": {},
   "outputs": [],
   "source": [
    "for name, value in bound_values.arguments.items():\n",
    "    if name in bound_types.arguments:\n",
    "        if not isinstance(value, bound_types.arguments[name]):\n",
    "            raise TypeError()"
   ]
  },
  {
   "cell_type": "markdown",
   "metadata": {},
   "source": [
    "A somewhat subtle aspect of the solution is that the assertions do not get applied to unsupplied arguments with default values.  \n",
    "For example, this code works, even though the default value of items is of the \"wrong\" type:"
   ]
  },
  {
   "cell_type": "code",
   "execution_count": 228,
   "metadata": {},
   "outputs": [],
   "source": [
    "@typeassert(int, list)\n",
    "def bar(x, items = None):\n",
    "    if items is None:\n",
    "        items = []\n",
    "    items.append(x)\n",
    "    return items"
   ]
  },
  {
   "cell_type": "code",
   "execution_count": 229,
   "metadata": {},
   "outputs": [
    {
     "data": {
      "text/plain": [
       "[2]"
      ]
     },
     "execution_count": 229,
     "metadata": {},
     "output_type": "execute_result"
    }
   ],
   "source": [
    "bar(2)"
   ]
  },
  {
   "cell_type": "raw",
   "metadata": {},
   "source": [
    "bar(2, 3)\n",
    "\n",
    "---------------------------------------------------------------------------\n",
    "TypeError                                 Traceback (most recent call last)\n",
    "<ipython-input-62-5946e87f0b3f> in <module>()\n",
    "----> 1 bar(2, 3)\n",
    "\n",
    "<ipython-input-42-75890bdad34e> in wrapper(*args, **kwargs)\n",
    "     20                     if not isinstance(value, bound_types[name]):\n",
    "     21                         raise TypeError(\n",
    "---> 22                             'Argument {} must be {}'.format(name, bound_types[name])\n",
    "     23                         )\n",
    "     24             return func(*args, **kwargs)\n",
    "\n",
    "TypeError: Argument items must be <class 'list'>\n"
   ]
  },
  {
   "cell_type": "code",
   "execution_count": 230,
   "metadata": {},
   "outputs": [
    {
     "data": {
      "text/plain": [
       "[1, 2, 3, 4]"
      ]
     },
     "execution_count": 230,
     "metadata": {},
     "output_type": "execute_result"
    }
   ],
   "source": [
    "bar(4, [1, 2, 3])"
   ]
  },
  {
   "cell_type": "markdown",
   "metadata": {},
   "source": [
    "A final point of design discussion might be the use of decorator arguments versus function annotations.  \n",
    "For example, why not write the decorator to look at annotations like this?"
   ]
  },
  {
   "cell_type": "raw",
   "metadata": {},
   "source": [
    "@typeassert\n",
    "def spam(x:int, y, x:int = 42):\n",
    "    print(x, y, z)"
   ]
  },
  {
   "cell_type": "markdown",
   "metadata": {},
   "source": [
    "One possible reason for not using annotations is that each argument to a function can only have a single annotation assigned.  \n",
    "Thus, if the annotations are used for type assertions, they can’t really be used for anything else.  \n",
    "Likewise, the `@typeassert` decorator won’t work with functions that use annotations for a different purpose.  \n",
    "By using decorator arguments, as shown in the solution, the decorator becomes a lot more general purpose and can be used with any function whatsoever -- even functions that use annotations.  \n",
    "More information about function signature objects can be found in PEP 362, as well as the documentation for the `inspect` module.  \n",
    "Recipe 9.16 also has an additional example."
   ]
  },
  {
   "cell_type": "markdown",
   "metadata": {},
   "source": [
    "## 9.8. Defining Decorators As Part of a Class"
   ]
  },
  {
   "cell_type": "markdown",
   "metadata": {},
   "source": [
    "### Problem"
   ]
  },
  {
   "cell_type": "markdown",
   "metadata": {},
   "source": [
    "You want to define a decorator inside a class definition and apply it to other functions or methods."
   ]
  },
  {
   "cell_type": "markdown",
   "metadata": {},
   "source": [
    "### Solution"
   ]
  },
  {
   "cell_type": "markdown",
   "metadata": {},
   "source": [
    "Before you define a decorator inside a class, you need to decide whether it is applied as an instance or a class method.  \n",
    "Let's take a look at the difference:"
   ]
  },
  {
   "cell_type": "code",
   "execution_count": 231,
   "metadata": {},
   "outputs": [],
   "source": [
    "from functools import wraps\n",
    "\n",
    "class A:\n",
    "    # Decorator as an instance method\n",
    "    def decorator1(self, func):\n",
    "        @wraps(func)\n",
    "        def wrapper(*args, **kwargs):\n",
    "            print('Decorator 1 as an instance method.')\n",
    "            return func(*args, **kwargs)\n",
    "        return wrapper\n",
    "    \n",
    "    # Decorator as a class method\n",
    "    @classmethod\n",
    "    def decorator2(cls, func):\n",
    "        @wraps(func)\n",
    "        def wrapper(*args, **kwargs):\n",
    "            print('Decorator 2 as a class method.')\n",
    "            return func(*args, **kwargs)\n",
    "        return wrapper"
   ]
  },
  {
   "cell_type": "markdown",
   "metadata": {},
   "source": [
    "Here is how we can apply our decorators:"
   ]
  },
  {
   "cell_type": "code",
   "execution_count": 232,
   "metadata": {},
   "outputs": [],
   "source": [
    "# As an instance method\n",
    "a = A()\n",
    "\n",
    "@a.decorator1\n",
    "def spam():\n",
    "    pass"
   ]
  },
  {
   "cell_type": "code",
   "execution_count": 233,
   "metadata": {},
   "outputs": [],
   "source": [
    "# As a class method\n",
    "@A.decorator2\n",
    "def foo():\n",
    "    pass"
   ]
  },
  {
   "cell_type": "markdown",
   "metadata": {},
   "source": [
    "Notice that one is applied from instance `a` and the other is applied from class `A`."
   ]
  },
  {
   "cell_type": "markdown",
   "metadata": {},
   "source": [
    "### Discussion"
   ]
  },
  {
   "cell_type": "markdown",
   "metadata": {},
   "source": [
    "Defining decorators in a class might look odd at first glance, but there are examples of this in the standard library.  \n",
    "In particular, the built-in `@property` decorator is actually a class with `getter()`, `setter()`, and `deleter()` methods that each act as a decorator."
   ]
  },
  {
   "cell_type": "code",
   "execution_count": 234,
   "metadata": {},
   "outputs": [],
   "source": [
    "class Person:\n",
    "    # Create a property instance\n",
    "    first_name = property()\n",
    "    \n",
    "    # Apply decorator methods\n",
    "    @first_name.getter\n",
    "    def first_name(self):\n",
    "        return self._first_name\n",
    "    \n",
    "    @first_name.setter\n",
    "    def first_name(self, value):\n",
    "        if not isinstance(value, str):\n",
    "            raise TypeError('Must be a string')\n",
    "        self._first_name = value"
   ]
  },
  {
   "cell_type": "markdown",
   "metadata": {},
   "source": [
    "The key reason why it’s defined in this way is that the various decorator methods are manipulating state on the associated property instance.  \n",
    "So, if you ever had a problem where decorators needed to record or combine information behind the scenes, it’s a sensible approach.  \n",
    "A common confusion when writing decorators in classes is getting tripped up by the proper use of the extra `self` or `cls` arguments in the decorator code itself.  \n",
    "Although the outermost decorator function, such as `decorator1()` or `decorator2()`, needs to provide a `self` or `cls` argument (since they’re part of a class), the wrapper function created inside doesn’t generally need to include an extra argument.  \n",
    "This is why the `wrapper()` function created in both decorators doesn’t include a `self` argument.  \n",
    "The only time you would ever need this argument is in situations where you actually needed to access parts of an instance in the wrapper.  \n",
    "Otherwise, you just don’t have to worry about it.  \n",
    "A final subtle facet of having decorators defined in a class concerns their potential use with inheritance.  \n",
    "For example, suppose you want to apply one of the decorators defined in class `A` to methods defined in a subclass `B`.  \n",
    "To do that, you would need to write code like this:"
   ]
  },
  {
   "cell_type": "code",
   "execution_count": 235,
   "metadata": {},
   "outputs": [],
   "source": [
    "class B(A):\n",
    "    @A.decorator2\n",
    "    def bar(self):\n",
    "        pass"
   ]
  },
  {
   "cell_type": "markdown",
   "metadata": {},
   "source": [
    "In particular, the decorator in question has to be defined as a class method and you have to explicitly use the name of the superclass `A` when applying it.  \n",
    "You can’t use a name such as @`B.decorator2`, because at the time of method definition, class `B` has not yet been created."
   ]
  },
  {
   "cell_type": "markdown",
   "metadata": {},
   "source": [
    "## 9.9 Defining Decorators As Classes"
   ]
  },
  {
   "cell_type": "markdown",
   "metadata": {},
   "source": [
    "### Problem"
   ]
  },
  {
   "cell_type": "markdown",
   "metadata": {},
   "source": [
    "You want to wrap functions with a decorator, but the result is going to be a callable instance.  \n",
    "You need your decorator to work both inside and outside class definitions."
   ]
  },
  {
   "cell_type": "markdown",
   "metadata": {},
   "source": [
    "### Solution"
   ]
  },
  {
   "cell_type": "markdown",
   "metadata": {},
   "source": [
    "To define a decorator as an instance, you need to make sure it implements the `__call__()` and `__get__()` methods.  \n",
    "For example, this code defines a class that puts a simple profiling layer around another function:"
   ]
  },
  {
   "cell_type": "code",
   "execution_count": 236,
   "metadata": {},
   "outputs": [],
   "source": [
    "import types\n",
    "from functools import wraps\n",
    "\n",
    "class Profiled:\n",
    "    def __init__(self, func):\n",
    "        wraps(func)(self)\n",
    "        self.ncalls = 0\n",
    "        \n",
    "    def __call__(self, *args, **kwargs):\n",
    "        self.ncalls += 1\n",
    "        return self.__wrapped__(*args, **kwargs)\n",
    "    \n",
    "    def __get__(self, instance, cls):\n",
    "        if instance is None:\n",
    "            return self\n",
    "        else:\n",
    "            return types.MethodType(self, instance)"
   ]
  },
  {
   "cell_type": "markdown",
   "metadata": {},
   "source": [
    "You can use this class like a decorator either inside or outside of another class:"
   ]
  },
  {
   "cell_type": "code",
   "execution_count": 237,
   "metadata": {},
   "outputs": [],
   "source": [
    "@Profiled\n",
    "def add(x, y):\n",
    "    return x + y\n",
    "\n",
    "class Spam:\n",
    "    @Profiled\n",
    "    def bar(self, x):\n",
    "        print(self, x)"
   ]
  },
  {
   "cell_type": "code",
   "execution_count": 238,
   "metadata": {},
   "outputs": [
    {
     "data": {
      "text/plain": [
       "5"
      ]
     },
     "execution_count": 238,
     "metadata": {},
     "output_type": "execute_result"
    }
   ],
   "source": [
    "add(2, 3)"
   ]
  },
  {
   "cell_type": "code",
   "execution_count": 239,
   "metadata": {},
   "outputs": [
    {
     "data": {
      "text/plain": [
       "9"
      ]
     },
     "execution_count": 239,
     "metadata": {},
     "output_type": "execute_result"
    }
   ],
   "source": [
    "add(4, 5)"
   ]
  },
  {
   "cell_type": "code",
   "execution_count": 240,
   "metadata": {},
   "outputs": [
    {
     "data": {
      "text/plain": [
       "2"
      ]
     },
     "execution_count": 240,
     "metadata": {},
     "output_type": "execute_result"
    }
   ],
   "source": [
    "add.ncalls"
   ]
  },
  {
   "cell_type": "code",
   "execution_count": 241,
   "metadata": {},
   "outputs": [
    {
     "name": "stdout",
     "output_type": "stream",
     "text": [
      "<__main__.Spam object at 0x1086c0198> 1\n"
     ]
    }
   ],
   "source": [
    "s = Spam()\n",
    "s.bar(1)"
   ]
  },
  {
   "cell_type": "code",
   "execution_count": 242,
   "metadata": {},
   "outputs": [
    {
     "name": "stdout",
     "output_type": "stream",
     "text": [
      "<__main__.Spam object at 0x1086c0198> 2\n"
     ]
    }
   ],
   "source": [
    "s.bar(2)"
   ]
  },
  {
   "cell_type": "code",
   "execution_count": 243,
   "metadata": {},
   "outputs": [
    {
     "name": "stdout",
     "output_type": "stream",
     "text": [
      "<__main__.Spam object at 0x1086c0198> 3\n"
     ]
    }
   ],
   "source": [
    "s.bar(3)"
   ]
  },
  {
   "cell_type": "code",
   "execution_count": 244,
   "metadata": {},
   "outputs": [
    {
     "data": {
      "text/plain": [
       "3"
      ]
     },
     "execution_count": 244,
     "metadata": {},
     "output_type": "execute_result"
    }
   ],
   "source": [
    "Spam.bar.ncalls"
   ]
  },
  {
   "cell_type": "markdown",
   "metadata": {},
   "source": [
    "### Discussion"
   ]
  },
  {
   "cell_type": "markdown",
   "metadata": {},
   "source": [
    "Defining a decorator as a class is usually straightforward.  \n",
    "However, there are some rather subtle details that deserve more explanation, especially if you plan to apply the decorator to instance methods.  \n",
    "First, the use of the `functools.wraps()` function serves the same purpose here as it does in normal decorators -- namely to copy important metadata from the wrapped function to the callable instance.  \n",
    "Second, it is common to overlook the `__get__()` method shown in the solution.  \n",
    "If you omit the `__get__()` and keep all of the other code the same, you’ll find that bizarre things happen when you try to invoke decorated instance methods.  \n",
    "The reason it breaks is that whenever functions implementing methods are looked up in a class, their `__get__()` method is invoked as part of the descriptor protocol, which is described in Recipe 8.9.  \n",
    "In this case, the purpose of `__get__()` is to create a bound method object which ultimately supplies the self argument to the method."
   ]
  },
  {
   "cell_type": "code",
   "execution_count": 245,
   "metadata": {},
   "outputs": [],
   "source": [
    "s = Spam()\n",
    "def grok(self, x):\n",
    "    pass"
   ]
  },
  {
   "cell_type": "code",
   "execution_count": 246,
   "metadata": {},
   "outputs": [
    {
     "data": {
      "text/plain": [
       "<bound method grok of <__main__.Spam object at 0x1086c0048>>"
      ]
     },
     "execution_count": 246,
     "metadata": {},
     "output_type": "execute_result"
    }
   ],
   "source": [
    "grok.__get__(s, Spam)"
   ]
  },
  {
   "cell_type": "markdown",
   "metadata": {},
   "source": [
    "In this recipe, the `__get__()` method is there to make sure bound method objects get created properly.  `type.MethodType()` creates a bound method manually for use here.  \n",
    "Bound methods only get created if an instance is being used.  \n",
    "If the method is accessed on a class, the instance argument to `__get__()` is set to `None` and the `Profiled` instance itself is just returned.  \n",
    "This makes it possible for someone to extract its `ncalls` attribute, as shown.  \n",
    "If you want to avoid some of this of this mess, you might consider an alternative formulation of the decorator using closures and nonlocal variables, as described in Recipe 9.5."
   ]
  },
  {
   "cell_type": "code",
   "execution_count": 247,
   "metadata": {},
   "outputs": [],
   "source": [
    "import types\n",
    "from functools import wraps\n",
    "\n",
    "def profiled(func):\n",
    "    ncalls =0\n",
    "    @wraps(func)\n",
    "    def wrapper(*args, **kwargs):\n",
    "        nonlocal ncalls\n",
    "        ncalls += 1\n",
    "        return func(*args, **kwargs)\n",
    "    wrapper.ncalls = lambda: ncalls\n",
    "    return wrapper\n",
    "\n",
    "# Example\n",
    "@profiled\n",
    "def add(x, y):\n",
    "    return x + y"
   ]
  },
  {
   "cell_type": "markdown",
   "metadata": {},
   "source": [
    "Now access to `ncalls` is provided through a function attached as a function attribute."
   ]
  },
  {
   "cell_type": "code",
   "execution_count": 248,
   "metadata": {},
   "outputs": [
    {
     "data": {
      "text/plain": [
       "5"
      ]
     },
     "execution_count": 248,
     "metadata": {},
     "output_type": "execute_result"
    }
   ],
   "source": [
    "add(2, 3)"
   ]
  },
  {
   "cell_type": "code",
   "execution_count": 249,
   "metadata": {},
   "outputs": [
    {
     "data": {
      "text/plain": [
       "9"
      ]
     },
     "execution_count": 249,
     "metadata": {},
     "output_type": "execute_result"
    }
   ],
   "source": [
    "add(4, 5)"
   ]
  },
  {
   "cell_type": "code",
   "execution_count": 250,
   "metadata": {},
   "outputs": [
    {
     "data": {
      "text/plain": [
       "2"
      ]
     },
     "execution_count": 250,
     "metadata": {},
     "output_type": "execute_result"
    }
   ],
   "source": [
    "add.ncalls()"
   ]
  },
  {
   "cell_type": "markdown",
   "metadata": {},
   "source": [
    "## 9.10. Applying Decorators to Class and Static Methods"
   ]
  },
  {
   "cell_type": "markdown",
   "metadata": {},
   "source": [
    "### Problem"
   ]
  },
  {
   "cell_type": "markdown",
   "metadata": {},
   "source": [
    "You want to apply a decorator to a class or static method."
   ]
  },
  {
   "cell_type": "markdown",
   "metadata": {},
   "source": [
    "### Solution"
   ]
  },
  {
   "cell_type": "markdown",
   "metadata": {},
   "source": [
    "Applying decorators to class and static methods is straightforward, but make sure that your decorators are applied before `@classmethod` or `@staticmethod`."
   ]
  },
  {
   "cell_type": "code",
   "execution_count": 251,
   "metadata": {},
   "outputs": [],
   "source": [
    "import time\n",
    "from functools import wraps\n",
    "\n",
    "# A simple timing function:\n",
    "def timethis(func):\n",
    "    @wraps(func)\n",
    "    def wrapper(*args, **kwargs):\n",
    "        start = time.time()\n",
    "        r = func(*args, **kwargs)\n",
    "        end = time.time()\n",
    "        print(end-start)\n",
    "        return r\n",
    "    return wrapper"
   ]
  },
  {
   "cell_type": "markdown",
   "metadata": {},
   "source": [
    "Now we can write a class illustrating the application of this decorator to different kinds of methods."
   ]
  },
  {
   "cell_type": "code",
   "execution_count": 252,
   "metadata": {},
   "outputs": [],
   "source": [
    "class Spam:\n",
    "    @timethis\n",
    "    def instance_method(self, n):\n",
    "        print(self, n)\n",
    "        while n > 0:\n",
    "            n -= 1\n",
    "            \n",
    "    @classmethod\n",
    "    @timethis\n",
    "    def static_method(n):\n",
    "        print(n)\n",
    "        while n > 0:\n",
    "            n -= 1"
   ]
  },
  {
   "cell_type": "markdown",
   "metadata": {},
   "source": [
    "The resulting class and static methods should operate normally, but have the extra timing."
   ]
  },
  {
   "cell_type": "code",
   "execution_count": 253,
   "metadata": {},
   "outputs": [
    {
     "name": "stdout",
     "output_type": "stream",
     "text": [
      "<__main__.Spam object at 0x1086c0d68> 100000\n",
      "0.006611347198486328\n"
     ]
    }
   ],
   "source": [
    "s = Spam()\n",
    "s.instance_method(100000)"
   ]
  },
  {
   "cell_type": "markdown",
   "metadata": {},
   "source": [
    "### Discussion"
   ]
  },
  {
   "cell_type": "markdown",
   "metadata": {},
   "source": [
    "If you don't properly order the decorators you will probably get an error."
   ]
  },
  {
   "cell_type": "code",
   "execution_count": 254,
   "metadata": {},
   "outputs": [],
   "source": [
    "class Spam:\n",
    "    # ...\n",
    "    @timethis\n",
    "    @staticmethod\n",
    "    def static_method(n):\n",
    "        print(n)\n",
    "        while n > 0:\n",
    "            n -= 1"
   ]
  },
  {
   "cell_type": "raw",
   "metadata": {},
   "source": [
    ">>> Spam.static_method(10000)\n",
    ">>>\n",
    "\n",
    "---------------------------------------------------------------------------\n",
    "TypeError                                 Traceback (most recent call last)\n",
    "<ipython-input-84-f68ba150b864> in <module>()\n",
    "----> 1 Spam.static_method(10000)\n",
    "\n",
    "<ipython-input-75-0c459b5bc802> in wrapper(*args, **kwargs)\n",
    "      7     def wrapper(*args, **kwargs):\n",
    "      8         start = time.time()\n",
    "----> 9         r = func(*args, **kwargs)\n",
    "     10         end = time.time()\n",
    "     11         print(end-start)\n",
    "\n",
    "TypeError: 'staticmethod' object is not callable"
   ]
  },
  {
   "cell_type": "markdown",
   "metadata": {},
   "source": [
    "The problem here is that `@classmethod` and `@staticmethod` don’t actually create objects that are directly callable.  \n",
    "Instead, they create special descriptor objects, as described in Recipe 8.9.  \n",
    "Thus, if you try to use them like functions in another decorator, the decorator will crash.  \n",
    "Making sure that these decorators appear first in the decorator list fixes the problem.  \n",
    "One situation where this recipe is of critical importance is in defining class and static methods in abstract base classes, as described in Recipe 8.12.  \n",
    "For example, if you want to define an abstract class method, you can use this code:"
   ]
  },
  {
   "cell_type": "code",
   "execution_count": 255,
   "metadata": {},
   "outputs": [],
   "source": [
    "from abc import ABCMeta, abstractmethod\n",
    "\n",
    "class A(metaclass=ABCMeta):\n",
    "    @classmethod\n",
    "    @abstractmethod\n",
    "    def method(cls):\n",
    "        pass"
   ]
  },
  {
   "cell_type": "markdown",
   "metadata": {},
   "source": [
    "In this code, the order of `@classmethod` and `@abstractmethod` matters.  \n",
    "If you flip the two decorators around, everything breaks."
   ]
  },
  {
   "cell_type": "markdown",
   "metadata": {},
   "source": [
    "## 9.11. Writing Decorators That Add Arguments to Wrapped Functions"
   ]
  },
  {
   "cell_type": "markdown",
   "metadata": {},
   "source": [
    "### Problem"
   ]
  },
  {
   "cell_type": "markdown",
   "metadata": {},
   "source": [
    "You want to write a decorator that adds an extra argument to the calling signature of the wrapped function.  \n",
    "However, the added argument can’t interfere with the existing calling conventions of the function.  "
   ]
  },
  {
   "cell_type": "markdown",
   "metadata": {},
   "source": [
    "### Solution"
   ]
  },
  {
   "cell_type": "markdown",
   "metadata": {},
   "source": [
    "Extra arguments can be injected into the calling signature using keyword-only arguments.  \n",
    "Consider the following decorator:  "
   ]
  },
  {
   "cell_type": "code",
   "execution_count": 256,
   "metadata": {},
   "outputs": [],
   "source": [
    "from functools import wraps\n",
    "\n",
    "def optional_debug(func):\n",
    "    @wraps(func)\n",
    "    def wrapper(*args, debug=False, **kwargs):\n",
    "        if debug:\n",
    "            print('Calling', func.__name__)\n",
    "        return func(*args, **kwargs)\n",
    "    return wrapper"
   ]
  },
  {
   "cell_type": "markdown",
   "metadata": {},
   "source": [
    "Here is an example of how the decorator works:"
   ]
  },
  {
   "cell_type": "code",
   "execution_count": 257,
   "metadata": {},
   "outputs": [],
   "source": [
    "@optional_debug\n",
    "def spam(a, b, c):\n",
    "    print(a, b, c)"
   ]
  },
  {
   "cell_type": "code",
   "execution_count": 258,
   "metadata": {},
   "outputs": [
    {
     "name": "stdout",
     "output_type": "stream",
     "text": [
      "1 2 3\n"
     ]
    }
   ],
   "source": [
    "spam(1,2,3)"
   ]
  },
  {
   "cell_type": "code",
   "execution_count": 259,
   "metadata": {},
   "outputs": [
    {
     "name": "stdout",
     "output_type": "stream",
     "text": [
      "Calling spam\n",
      "1 2 3\n"
     ]
    }
   ],
   "source": [
    "spam(1,2,3, debug=True)"
   ]
  },
  {
   "cell_type": "markdown",
   "metadata": {},
   "source": [
    "### Discussion"
   ]
  },
  {
   "cell_type": "markdown",
   "metadata": {},
   "source": [
    "Adding arguments to the signature of wrapped functions is not the most common example of using decorators.  \n",
    "However, it might be a useful technique in avoiding certain kinds of code replication patterns.  "
   ]
  },
  {
   "cell_type": "code",
   "execution_count": 260,
   "metadata": {},
   "outputs": [],
   "source": [
    "def a(x, debug=False):\n",
    "    if debug:\n",
    "        print('Calling a')\n",
    "    # ...\n",
    "    \n",
    "def b(x, y, z, debug=False):\n",
    "    if debug:\n",
    "        print('Calling b')\n",
    "    # ...\n",
    "    \n",
    "def c(x, y, debug=False):\n",
    "    if debug:\n",
    "        print('Calling c')"
   ]
  },
  {
   "cell_type": "markdown",
   "metadata": {},
   "source": [
    "You can now refactor:"
   ]
  },
  {
   "cell_type": "code",
   "execution_count": 261,
   "metadata": {},
   "outputs": [],
   "source": [
    "@optional_debug\n",
    "def a(x):\n",
    "    \"\"\"\n",
    "    ...\n",
    "    \"\"\"\n",
    "    \n",
    "@optional_debug\n",
    "def b(x, y, z):\n",
    "    \"\"\"\n",
    "    ...\n",
    "    \"\"\"\n",
    "    \n",
    "@optional_debug\n",
    "def c(x, y):\n",
    "    \"\"\"\n",
    "    @optional_debug\n",
    "    \"\"\""
   ]
  },
  {
   "cell_type": "markdown",
   "metadata": {},
   "source": [
    "The implementation of this recipe relies on the fact that keyword-only arguments are easy to add to functions that also accept `*args` and `**kwargs` parameters.  \n",
    "By using a keyword-only argument, it gets singled out as a special case and removed from subsequent calls that only use the remaining positional and keyword arguments.  \n",
    "One tricky part here concerns a potential name clash between the added argument and the arguments of the function being wrapped.  \n",
    "For example, if the `@optional_debug` decorator was applied to a function that already had a debug argument, then it would break.  \n",
    "If that’s a concern, an extra check could be added:"
   ]
  },
  {
   "cell_type": "code",
   "execution_count": 262,
   "metadata": {},
   "outputs": [],
   "source": [
    "from functools import wraps\n",
    "import inspect\n",
    "\n",
    "def optional_debug(func):\n",
    "    if 'debug' in inspect.getfullargspec(func).args:\n",
    "        raise TypeError('debug argument already defined')\n",
    "        \n",
    "    @wraps(func)\n",
    "    def wrapper(*args, debug=False, **kwargs):\n",
    "        if debug:\n",
    "            print('Calling', func.__name__)\n",
    "        return func(*args, **kwargs)\n",
    "    return wrapper"
   ]
  },
  {
   "cell_type": "markdown",
   "metadata": {},
   "source": [
    "A final refinement to this recipe concerns the proper management of function signatures.  \n",
    "An astute programmer will realize that the signature of wrapped functions is wrong."
   ]
  },
  {
   "cell_type": "code",
   "execution_count": 263,
   "metadata": {},
   "outputs": [
    {
     "name": "stdout",
     "output_type": "stream",
     "text": [
      "(x, y)\n"
     ]
    }
   ],
   "source": [
    "@optional_debug\n",
    "def add(x, y):\n",
    "    return x + y\n",
    "\n",
    "import inspect\n",
    "print(inspect.signature(add))"
   ]
  },
  {
   "cell_type": "markdown",
   "metadata": {},
   "source": [
    "Great, how do we fix the problem?"
   ]
  },
  {
   "cell_type": "code",
   "execution_count": 264,
   "metadata": {},
   "outputs": [],
   "source": [
    "from functools import wraps\n",
    "import inspect\n",
    "\n",
    "def optional_debug(func):\n",
    "    if 'debug' in inspect.getfullargspec(func).args:\n",
    "        raise TypeError('debug argument already defined')\n",
    "        \n",
    "    @wraps(func)\n",
    "    def wrapper(*args, debug=False, **kwargs):\n",
    "        if debug:\n",
    "            print('Calling', func.__name__)\n",
    "        return func(*args, **kwargs)\n",
    "    \n",
    "    sig = inspect.signature(func)\n",
    "    parms = list((sig.parameters.values()))\n",
    "    parms.append(inspect.Parameter('debug',\n",
    "                                   inspect.Parameter.KEYWORD_ONLY,\n",
    "                                   default=False))\n",
    "    wrapper.__signature__ = sig.replace(parameters=parms)\n",
    "    return wrapper"
   ]
  },
  {
   "cell_type": "markdown",
   "metadata": {},
   "source": [
    "With this change, the signature of the wrapper will now correctly reflect the presence of the `debug` argument."
   ]
  },
  {
   "cell_type": "code",
   "execution_count": 265,
   "metadata": {},
   "outputs": [
    {
     "name": "stdout",
     "output_type": "stream",
     "text": [
      "(x, y, *, debug=False)\n"
     ]
    }
   ],
   "source": [
    "@optional_debug\n",
    "def add(x,y):\n",
    "    return x + y\n",
    "\n",
    "print(inspect.signature(add))"
   ]
  },
  {
   "cell_type": "code",
   "execution_count": 266,
   "metadata": {},
   "outputs": [
    {
     "data": {
      "text/plain": [
       "5"
      ]
     },
     "execution_count": 266,
     "metadata": {},
     "output_type": "execute_result"
    }
   ],
   "source": [
    "add(2,3)"
   ]
  },
  {
   "cell_type": "markdown",
   "metadata": {},
   "source": [
    "See Recipe 9.16 for more information about function signatures."
   ]
  },
  {
   "cell_type": "markdown",
   "metadata": {},
   "source": [
    "## 9.12. Using Decorators to Patch Class Definitions"
   ]
  },
  {
   "cell_type": "markdown",
   "metadata": {},
   "source": [
    "### Problem"
   ]
  },
  {
   "cell_type": "markdown",
   "metadata": {},
   "source": [
    "\n",
    "You want to inspect or rewrite portions of a class definition to alter its behavior, but without using inheritance or metaclasses."
   ]
  },
  {
   "cell_type": "markdown",
   "metadata": {},
   "source": [
    "### Solution"
   ]
  },
  {
   "cell_type": "markdown",
   "metadata": {},
   "source": [
    "This is a perfect use for a class decorator.  \n",
    "Here is a class decorator that rewrites the `__getattribute__` special method to perform logging."
   ]
  },
  {
   "cell_type": "code",
   "execution_count": 267,
   "metadata": {},
   "outputs": [],
   "source": [
    "def log_getattribute(cls):\n",
    "    # Get the original implementation\n",
    "    orig_getattribute = cls.__getattribute__\n",
    "    \n",
    "    # Make a new definition\n",
    "    def new_getattribute(self, name):\n",
    "        print('getting:', name)\n",
    "        return orig_getattribute(self, name)\n",
    "    \n",
    "    # Attach to the class and return\n",
    "    cls.__getattribute__ = new_getattribute\n",
    "    return cls"
   ]
  },
  {
   "cell_type": "code",
   "execution_count": 268,
   "metadata": {},
   "outputs": [],
   "source": [
    "# Example use:\n",
    "@log_getattribute\n",
    "class A:\n",
    "    def __init__(self, x):\n",
    "        self.x = x\n",
    "    def spam(self):\n",
    "        pass"
   ]
  },
  {
   "cell_type": "markdown",
   "metadata": {},
   "source": [
    "Let's use this class in the solution:"
   ]
  },
  {
   "cell_type": "code",
   "execution_count": 269,
   "metadata": {},
   "outputs": [
    {
     "name": "stdout",
     "output_type": "stream",
     "text": [
      "getting: x\n"
     ]
    },
    {
     "data": {
      "text/plain": [
       "42"
      ]
     },
     "execution_count": 269,
     "metadata": {},
     "output_type": "execute_result"
    }
   ],
   "source": [
    "a = A(42)\n",
    "a.x"
   ]
  },
  {
   "cell_type": "code",
   "execution_count": 270,
   "metadata": {},
   "outputs": [
    {
     "name": "stdout",
     "output_type": "stream",
     "text": [
      "getting: spam\n"
     ]
    }
   ],
   "source": [
    "a.spam()"
   ]
  },
  {
   "cell_type": "markdown",
   "metadata": {},
   "source": [
    "### Discussion"
   ]
  },
  {
   "cell_type": "markdown",
   "metadata": {},
   "source": [
    "Class decorators can often be used as a straightforward alternative to other more advanced techniques involving mixins or metaclasses.  \n",
    "For example, an alternative implementation of the solution might involve inheritance, as in the following:"
   ]
  },
  {
   "cell_type": "code",
   "execution_count": 271,
   "metadata": {},
   "outputs": [],
   "source": [
    "class LoggedGetattribute:\n",
    "    def __getattribute__(self, name):\n",
    "        print('getting:', name)\n",
    "        return super().__getattribute__(name)"
   ]
  },
  {
   "cell_type": "code",
   "execution_count": 272,
   "metadata": {},
   "outputs": [],
   "source": [
    "# Example:\n",
    "class A(LoggedGetattribute):\n",
    "    def __init__(self, x):\n",
    "        self.x = x\n",
    "    def spam(self):\n",
    "        pass"
   ]
  },
  {
   "cell_type": "markdown",
   "metadata": {},
   "source": [
    "This works, but to understand it, you have to have some awareness of the method resolution order, `super()`, and other aspects of inheritance, as described in Recipe 8.7.  \n",
    "In some sense, the class decorator solution is much more direct in how it operates, and it doesn’t introduce new dependencies into the inheritance hierarchy.  \n",
    "As it turns out, it’s also just a bit faster, due to not relying on the `super()` function.  \n",
    "If you are applying multiple class decorators to a class, the application order might matter.  \n",
    "For example, a decorator that replaces a method with an entirely new implementation would probably need to be applied before a decorator that simply wraps an existing method with some extra logic.  \n",
    "See Recipe 8.13 for another example of class decorators in action."
   ]
  },
  {
   "cell_type": "markdown",
   "metadata": {},
   "source": [
    "## 9.13. Using a Metaclass to Control Instance Creation"
   ]
  },
  {
   "cell_type": "markdown",
   "metadata": {},
   "source": [
    "### Problem"
   ]
  },
  {
   "cell_type": "markdown",
   "metadata": {},
   "source": [
    "You want to change the way in which instances are created in order to implement singletons, caching, or other similar features."
   ]
  },
  {
   "cell_type": "markdown",
   "metadata": {},
   "source": [
    "### Solution"
   ]
  },
  {
   "cell_type": "markdown",
   "metadata": {},
   "source": [
    "With Python, once you define a class, you call it like a function to create instances."
   ]
  },
  {
   "cell_type": "code",
   "execution_count": 273,
   "metadata": {},
   "outputs": [],
   "source": [
    "class Spam:\n",
    "    def __init__(self, name):\n",
    "        self.name = name"
   ]
  },
  {
   "cell_type": "code",
   "execution_count": 274,
   "metadata": {},
   "outputs": [],
   "source": [
    "a = Spam('Alpha')\n",
    "b = Spam('Beta')"
   ]
  },
  {
   "cell_type": "markdown",
   "metadata": {},
   "source": [
    "If you want to customize this step, you can do it by defining a metaclass and reimplementing its `__call__()` method in some way.  \n",
    "To illustrate, suppose that you didn’t want anyone creating instances at all:"
   ]
  },
  {
   "cell_type": "code",
   "execution_count": 275,
   "metadata": {},
   "outputs": [],
   "source": [
    "class NoInstances(type):\n",
    "    def __call__(self, *args, **kwargs):\n",
    "        raise TypeError(\"No direct instantiation\")\n",
    "        \n",
    "# Example\n",
    "class Spam(metaclass=NoInstances):\n",
    "    @staticmethod\n",
    "    def grok(x):\n",
    "        print('Spam.grok')"
   ]
  },
  {
   "cell_type": "markdown",
   "metadata": {},
   "source": [
    "In this case, users can call the defined static method, but it’s impossible to create an instance in the normal way."
   ]
  },
  {
   "cell_type": "code",
   "execution_count": 276,
   "metadata": {},
   "outputs": [
    {
     "name": "stdout",
     "output_type": "stream",
     "text": [
      "Spam.grok\n"
     ]
    }
   ],
   "source": [
    "Spam.grok(42)"
   ]
  },
  {
   "cell_type": "raw",
   "metadata": {},
   "source": [
    "s = Spam()\n",
    "\n",
    "---------------------------------------------------------------------------\n",
    "TypeError                                 Traceback (most recent call last)\n",
    "<ipython-input-106-ee1b074714bf> in <module>()\n",
    "----> 1 s = Spam()\n",
    "\n",
    "<ipython-input-103-4ca1056ad3e1> in __call__(self, *args, **kwargs)\n",
    "      1 class NoInstances(type):\n",
    "      2     def __call__(self, *args, **kwargs):\n",
    "----> 3         raise TypeError(\"No direct instantiation\")\n",
    "      4 \n",
    "      5 # Example\n",
    "\n",
    "TypeError: No direct instantiation"
   ]
  },
  {
   "cell_type": "markdown",
   "metadata": {},
   "source": [
    "Now, suppose you want to implement the singleton pattern, which is a class where only one instance is ever created:"
   ]
  },
  {
   "cell_type": "code",
   "execution_count": 277,
   "metadata": {},
   "outputs": [],
   "source": [
    "class Singleton(type):\n",
    "    def __init__(self, *args, **kwargs):\n",
    "        self.__instance = None\n",
    "        super().__init__(*args, **kwargs)\n",
    "        \n",
    "    def __call__(self, *args, **kwargs):\n",
    "        if self.__instance is None:\n",
    "            self.__instance = super().__call__(*args, **kwargs)\n",
    "            return self.__instance\n",
    "        else:\n",
    "            return self.__instance"
   ]
  },
  {
   "cell_type": "markdown",
   "metadata": {},
   "source": [
    "Now an example:"
   ]
  },
  {
   "cell_type": "code",
   "execution_count": 278,
   "metadata": {},
   "outputs": [],
   "source": [
    "class Spam(metaclass=Singleton):\n",
    "    def __init__(self):\n",
    "        print(\"Creating Spam\")"
   ]
  },
  {
   "cell_type": "markdown",
   "metadata": {},
   "source": [
    "In this case, only one instance is ever created."
   ]
  },
  {
   "cell_type": "code",
   "execution_count": 279,
   "metadata": {},
   "outputs": [
    {
     "name": "stdout",
     "output_type": "stream",
     "text": [
      "Creating Spam\n"
     ]
    }
   ],
   "source": [
    "a = Spam()"
   ]
  },
  {
   "cell_type": "code",
   "execution_count": 280,
   "metadata": {},
   "outputs": [
    {
     "data": {
      "text/plain": [
       "True"
      ]
     },
     "execution_count": 280,
     "metadata": {},
     "output_type": "execute_result"
    }
   ],
   "source": [
    "b = Spam()\n",
    "a is b"
   ]
  },
  {
   "cell_type": "code",
   "execution_count": 281,
   "metadata": {},
   "outputs": [
    {
     "data": {
      "text/plain": [
       "True"
      ]
     },
     "execution_count": 281,
     "metadata": {},
     "output_type": "execute_result"
    }
   ],
   "source": [
    "c = Spam()\n",
    "a is c"
   ]
  },
  {
   "cell_type": "code",
   "execution_count": 282,
   "metadata": {},
   "outputs": [
    {
     "data": {
      "text/plain": [
       "True"
      ]
     },
     "execution_count": 282,
     "metadata": {},
     "output_type": "execute_result"
    }
   ],
   "source": [
    "b is c"
   ]
  },
  {
   "cell_type": "markdown",
   "metadata": {},
   "source": [
    "Finally, suppose you want to create cached instances, as described in Recipe 8.25.  \n",
    "Here’s a metaclass that implements it:"
   ]
  },
  {
   "cell_type": "code",
   "execution_count": 283,
   "metadata": {},
   "outputs": [],
   "source": [
    "import weakref\n",
    "\n",
    "class Cached(type):\n",
    "    def __init__(self, *args, **kwargs):\n",
    "        super().__init__(*args, **kwargs)\n",
    "        self.__cache = weakref.WeakValueDictionary()\n",
    "        \n",
    "    def __call__(self, *args):\n",
    "        if args in self.__cache:\n",
    "            return self.__cache[args]\n",
    "        else:\n",
    "            obj = super().__call__(*args)\n",
    "            self.__cache[args] = obj\n",
    "            return obj"
   ]
  },
  {
   "cell_type": "code",
   "execution_count": 284,
   "metadata": {},
   "outputs": [],
   "source": [
    "# Example\n",
    "class Spam(metaclass=Cached):\n",
    "    def __init__(self, name):\n",
    "        print(\"Creating Spam({!r})\".format(name))\n",
    "        self.name = name"
   ]
  },
  {
   "cell_type": "code",
   "execution_count": 285,
   "metadata": {},
   "outputs": [
    {
     "name": "stdout",
     "output_type": "stream",
     "text": [
      "Creating Spam('Alpha')\n"
     ]
    }
   ],
   "source": [
    "a = Spam('Alpha')"
   ]
  },
  {
   "cell_type": "code",
   "execution_count": 286,
   "metadata": {},
   "outputs": [
    {
     "name": "stdout",
     "output_type": "stream",
     "text": [
      "Creating Spam('Beta')\n"
     ]
    }
   ],
   "source": [
    "b = Spam('Beta')"
   ]
  },
  {
   "cell_type": "code",
   "execution_count": 287,
   "metadata": {},
   "outputs": [],
   "source": [
    "c = Spam('Alpha')  # Cached"
   ]
  },
  {
   "cell_type": "code",
   "execution_count": 288,
   "metadata": {},
   "outputs": [
    {
     "data": {
      "text/plain": [
       "False"
      ]
     },
     "execution_count": 288,
     "metadata": {},
     "output_type": "execute_result"
    }
   ],
   "source": [
    "a is b"
   ]
  },
  {
   "cell_type": "code",
   "execution_count": 289,
   "metadata": {},
   "outputs": [
    {
     "data": {
      "text/plain": [
       "True"
      ]
     },
     "execution_count": 289,
     "metadata": {},
     "output_type": "execute_result"
    }
   ],
   "source": [
    "a is c  # Cached value returned"
   ]
  },
  {
   "cell_type": "markdown",
   "metadata": {},
   "source": [
    "### Discussion"
   ]
  },
  {
   "cell_type": "markdown",
   "metadata": {},
   "source": [
    "Using a metaclass to implement various instance creation patterns can often be a much more elegant approach than other solutions not involving metaclasses.  \n",
    "For example, if you didn’t use a metaclass, you might have to hide the classes behind some kind of extra factory function.  \n",
    "For example, to get a singleton, you might use a hack such as the following:"
   ]
  },
  {
   "cell_type": "code",
   "execution_count": 290,
   "metadata": {},
   "outputs": [],
   "source": [
    "class _Spam:\n",
    "    def __init__(self):\n",
    "        print('Creating Spam')\n",
    "        \n",
    "_spam_instance = None\n",
    "def Spam():\n",
    "    global _spam_instance\n",
    "    if _spam_instance is not None:\n",
    "        return _spam_instance\n",
    "    else:\n",
    "        _spam_instance = _Spam()\n",
    "        return _spam_instance"
   ]
  },
  {
   "cell_type": "markdown",
   "metadata": {},
   "source": [
    "Although the solution involving metaclasses involves a much more advanced concept, the resulting code feels cleaner and less hacked together.  \n",
    "See Recipe 8.25 for more information on creating cached instances, weak references, and other details."
   ]
  },
  {
   "cell_type": "markdown",
   "metadata": {},
   "source": [
    "## 9.14. Capturing Class Attribute Definition Order"
   ]
  },
  {
   "cell_type": "markdown",
   "metadata": {},
   "source": [
    "### Problem"
   ]
  },
  {
   "cell_type": "markdown",
   "metadata": {},
   "source": [
    "You want to automatically record the order in which attributes and methods are defined inside a class body so that you can use it in various operations such as serializing and mapping to databases."
   ]
  },
  {
   "cell_type": "markdown",
   "metadata": {},
   "source": [
    "### Solution"
   ]
  },
  {
   "cell_type": "markdown",
   "metadata": {},
   "source": [
    "Capturing information about the body of class definition is easily accomplished through the use of a metaclass.  \n",
    "Here is an example of a metaclass that uses an `OrderedDict` to capture definition order of descriptors:"
   ]
  },
  {
   "cell_type": "code",
   "execution_count": 291,
   "metadata": {},
   "outputs": [],
   "source": [
    "from collections import OrderedDict\n",
    "\n",
    "# A set of descriptors for various types\n",
    "class Typed:\n",
    "    _expected_type = type(None)\n",
    "    def __init__(self, name=None):\n",
    "        self._name = name\n",
    "        \n",
    "    def __set__(self, instance, value):\n",
    "        if not isinstance(value, self._expected_type):\n",
    "            raise TypeError('Expected ' + str(self._expected_type))\n",
    "        instance.__dict__[self._name] = value\n",
    "        \n",
    "class Integer(Typed):\n",
    "    _expected_type = int\n",
    "    \n",
    "class Float(Typed):\n",
    "    _expected_type = float\n",
    "    \n",
    "class String(Typed):\n",
    "    _expected_type = str\n",
    "    \n",
    "# Metaclass that uses an OrderedDict for the class body\n",
    "class OrderedMeta(type):\n",
    "    def __new__(cls, clsname, bases, clsdict):\n",
    "        d = dict(clsdict)\n",
    "        order = []\n",
    "        for name, value in clsdict.items():\n",
    "            if isinstance(value, Typed):\n",
    "                value._name = name\n",
    "                order.append(name)\n",
    "        d['_order'] = order\n",
    "        return type.__new__(cls, clsname, bases, d)\n",
    "\n",
    "@classmethod\n",
    "def __prepare__(cls, clsname, bases):\n",
    "    return OrderedDict()"
   ]
  },
  {
   "cell_type": "markdown",
   "metadata": {},
   "source": [
    "In this metaclass, the definition order of descriptors is captured by using an `Ordered Dict` during the execution of the class body.  \n",
    "The resulting order of names is then extracted from the dictionary and stored into a class attribute `_order`.  \n",
    "This can then be used by methods of the class in various ways.  \n",
    "For example, here is a simple class that uses the ordering to implement a method for serializing the instance data as a line of CSV data:"
   ]
  },
  {
   "cell_type": "code",
   "execution_count": 292,
   "metadata": {},
   "outputs": [],
   "source": [
    "class Structure(metaclass=OrderedMeta):\n",
    "    def as_csv(self):\n",
    "        return ','.join(str(getattr(self, name)) for name in self._order)\n",
    "    \n",
    "# Example use\n",
    "class Stock(Structure):\n",
    "    name = String()\n",
    "    shares = Integer()\n",
    "    price = Float()\n",
    "    def __init__(self, name, shares, price):\n",
    "        self.name = name\n",
    "        self.shares = shares\n",
    "        self.price = price"
   ]
  },
  {
   "cell_type": "code",
   "execution_count": 293,
   "metadata": {},
   "outputs": [
    {
     "data": {
      "text/plain": [
       "'GOOG'"
      ]
     },
     "execution_count": 293,
     "metadata": {},
     "output_type": "execute_result"
    }
   ],
   "source": [
    "s = Stock('GOOG',100,490.1)\n",
    "s.name"
   ]
  },
  {
   "cell_type": "code",
   "execution_count": 294,
   "metadata": {},
   "outputs": [
    {
     "data": {
      "text/plain": [
       "'GOOG,100,490.1'"
      ]
     },
     "execution_count": 294,
     "metadata": {},
     "output_type": "execute_result"
    }
   ],
   "source": [
    "s.as_csv()"
   ]
  },
  {
   "cell_type": "raw",
   "metadata": {},
   "source": [
    "t = Stock('AAPL','a lot', 610.23)\n",
    "\n",
    "Traceback (most recent call last):\n",
    "  File \"<stdin>\", line 1, in <module>\n",
    "  File \"dupmethod.py\", line 34, in __init__\n",
    "TypeError: shares expects <class 'int'>\n",
    ">>>"
   ]
  },
  {
   "cell_type": "markdown",
   "metadata": {},
   "source": [
    "### Discussion"
   ]
  },
  {
   "cell_type": "markdown",
   "metadata": {},
   "source": [
    "The key to this recipe is the `__prepare__()` method, which is defined in the `OrderedMeta` metaclass.  \n",
    "This method is invoked immediately at the start of a class definition with the class name and base classes.  \n",
    "It must then return a mapping object to use when processing the class body.  \n",
    "By returning an `OrderedDict` instead of a normal dictionary, the resulting definition order is easily captured.  \n",
    "It is possible to extend this functionality even further if you are willing to make your own dictionary-like objects. For example, consider this variant of the solution that rejects duplicate definitions:"
   ]
  },
  {
   "cell_type": "code",
   "execution_count": 295,
   "metadata": {},
   "outputs": [],
   "source": [
    "class NoDupOrderedDict(OrderedDict):\n",
    "    def __init__(self, clsname):\n",
    "        self.clsname = clsname\n",
    "        super().__init__()\n",
    "    def __setitem__(self, name, value):\n",
    "        if name in self:\n",
    "            raise TypeError('{} already defined in {}'.format(name, self.clsname))\n",
    "        super().__setitem__(name, value)\n",
    "        \n",
    "class OrederdMeta(type):\n",
    "    def __new__(cls, clsname, bases, clsdict):\n",
    "        d = dict(clsdict)\n",
    "        d['_order'] = [name for name in clsdict if name[0] != '_']\n",
    "        return type.__new__(cls, clsname, bases, d)\n",
    "    \n",
    "    @classmethod\n",
    "    def __prepare__(cls, clsname, bases):\n",
    "        return NoDupOrderedDict(clsname)"
   ]
  },
  {
   "cell_type": "markdown",
   "metadata": {},
   "source": [
    "Now see what happens when you use this class and make a class with duplicate entries:"
   ]
  },
  {
   "cell_type": "code",
   "execution_count": 296,
   "metadata": {},
   "outputs": [],
   "source": [
    "class A(metaclass=OrderedMeta):\n",
    "    def spam(self):\n",
    "        pass\n",
    "    def spam(self):\n",
    "        pass"
   ]
  },
  {
   "cell_type": "raw",
   "metadata": {},
   "source": [
    "Traceback (most recent call last):\n",
    "  File \"<stdin>\", line 1, in <module>\n",
    "  File \"<stdin>\", line 4, in A\n",
    "  File \"dupmethod2.py\", line 25, in __setitem__\n",
    "    (name, self.clsname))\n",
    "TypeError: spam already defined in A\n",
    ">>>"
   ]
  },
  {
   "cell_type": "markdown",
   "metadata": {},
   "source": [
    "An important part this recipe concerns the treatment of the modified dictionary in the metaclass `__new__()` method.  \n",
    "Even though the class was defined using an alternative dictionary, you still have to convert this dictionary to a proper `dict` instance when making the final class object.  \n",
    "This is the purpose of the `d = dict(clsdict)` statement.  \n",
    "Being able to capture definition order is a subtle but important feature for certain kinds of applications.  \n",
    "For instance, in an object relational mapper, classes might be written in a manner similar to that shown in the example:"
   ]
  },
  {
   "cell_type": "raw",
   "metadata": {},
   "source": [
    "class Stock(Model):\n",
    "    name = String()\n",
    "    shares = Integer()\n",
    "    price = Float()"
   ]
  },
  {
   "cell_type": "markdown",
   "metadata": {},
   "source": [
    "Underneath the covers, the code might want to capture the definition order to map objects to tuples or rows in a database table, similar to the functionality of the `as_csv()` method in the example.  \n",
    "The solution shown is very straightforward and often simpler than alternative approaches which typically involve maintaining hidden counters within the descriptor classes."
   ]
  },
  {
   "cell_type": "markdown",
   "metadata": {},
   "source": [
    "## 9.15. Defining a Metaclass That Takes Optional Arguments"
   ]
  },
  {
   "cell_type": "markdown",
   "metadata": {},
   "source": [
    "### Problem"
   ]
  },
  {
   "cell_type": "markdown",
   "metadata": {},
   "source": [
    "You want to define a metaclass that allows class definitions to supply optional arguments, possibly to control or configure aspects of processing during type creation."
   ]
  },
  {
   "cell_type": "markdown",
   "metadata": {},
   "source": [
    "### Solution"
   ]
  },
  {
   "cell_type": "markdown",
   "metadata": {},
   "source": [
    "When defining classes, Python allows a metaclass to be specified using the `metaclass` keyword argument in the class statement.  \n",
    "For example, with abstract base classes:"
   ]
  },
  {
   "cell_type": "code",
   "execution_count": 297,
   "metadata": {},
   "outputs": [],
   "source": [
    "from abc import ABCMeta, abstractmethod\n",
    "\n",
    "class IStream(metaclass=ABCMeta):\n",
    "    @abstractmethod\n",
    "    def read(self, maxsize=None):\n",
    "        pass\n",
    "    \n",
    "    @abstractmethod\n",
    "    def write(self, data):\n",
    "        pass"
   ]
  },
  {
   "cell_type": "markdown",
   "metadata": {},
   "source": [
    "However, in custom metaclasses, additional keyword arguments can be supplied:"
   ]
  },
  {
   "cell_type": "raw",
   "metadata": {},
   "source": [
    "class Spam(metaclass=MyMeta, debug=True, synchronize=True):"
   ]
  },
  {
   "cell_type": "markdown",
   "metadata": {},
   "source": [
    "To support such keyword arguments in a metaclass, make sure you define them on the `__prepare__()`, `__new__()`, and `__init__()` methods using keyword-only arguments, like this:"
   ]
  },
  {
   "cell_type": "code",
   "execution_count": 298,
   "metadata": {},
   "outputs": [],
   "source": [
    "class MyMeta(type):\n",
    "    # Optional\n",
    "    @classmethod\n",
    "    def __prepare__(cls, name, bases, *, debug=False, synchronize=False):\n",
    "        \"\"\"\n",
    "        Custom processing takes place here\n",
    "        \"\"\"\n",
    "        # ...\n",
    "        return super().__prepare__(name, bases)\n",
    "    \n",
    "    # Required\n",
    "    def __new__(cls, name, bases, ns, *, debug=False, synchronize=False):\n",
    "        \"\"\"\n",
    "        Custom processing\n",
    "        \"\"\"\n",
    "        # ...\n",
    "        return super().__new__(cls, name, bases, ns)\n",
    "    \n",
    "    # Required\n",
    "    def __init__(self, name, bases, ns, *, debug=False, synchronize=False):\n",
    "        \"\"\"\n",
    "        More custom processing\n",
    "        \"\"\"\n",
    "        super().__init__(name, bases, ns)"
   ]
  },
  {
   "cell_type": "markdown",
   "metadata": {},
   "source": [
    "### Discussion"
   ]
  },
  {
   "cell_type": "markdown",
   "metadata": {},
   "source": [
    "Adding optional keyword arguments to a metaclass requires that you understand all of the steps involved in class creation, because the extra arguments are passed to every method involved.  \n",
    "The `__prepare__()` method is called first and used to create the class namespace prior to the body of any class definition being processed.  \n",
    "Normally, this method simply returns a dictionary or other mapping object.  \n",
    "The `__new__()` method is used to instantiate the resulting type object.  \n",
    "It is called after the class body has been fully executed.  \n",
    "The `__init__()` method is called last and used to perform any additional initialization steps."
   ]
  },
  {
   "cell_type": "markdown",
   "metadata": {},
   "source": [
    "When writing metaclasses, it is somewhat common to only define a `__new__()` or `__init__()` method, but not both.  \n",
    "However, if extra keyword arguments are going to be accepted, then both methods must be provided and given compatible signatures.  \n",
    "The default `__prepare__()` method accepts any set of keyword arguments, but ignores them.  \n",
    "You only need to define it yourself if the extra arguments would somehow affect management of the class namespace creation.  \n",
    "The use of keyword-only arguments in this recipe reflects the fact that such arguments will only be supplied by keyword during class creation.  \n",
    "The specification of keyword arguments to configure a metaclass might be viewed as an alternative to using class variables for a similar purpose.  \n",
    "Examine the following code:"
   ]
  },
  {
   "cell_type": "raw",
   "metadata": {},
   "source": [
    "class Spam(metaclass=MyMeta):\n",
    "    debug = True\n",
    "    synchronize = True\n",
    "    ..."
   ]
  },
  {
   "cell_type": "markdown",
   "metadata": {},
   "source": [
    "The advantage to supplying such parameters as an argument is that they don’t pollute the class namespace with extra names that only pertain to class creation and not the subsequent execution of statements in the class.  \n",
    "In addition, they are available to the `__prepare__()` method, which runs prior to processing any statements in the class body.  \n",
    "Class variables, on the other hand, would only be accessible in the `__new__()` and `__init__()` methods of a metaclass."
   ]
  },
  {
   "cell_type": "markdown",
   "metadata": {},
   "source": [
    "## 9.16. Enforcing an Argument Signature on `*args` and `**kwargs`"
   ]
  },
  {
   "cell_type": "markdown",
   "metadata": {},
   "source": [
    "### Problem"
   ]
  },
  {
   "cell_type": "markdown",
   "metadata": {},
   "source": [
    "You’ve written a function or method that uses `*args` and `**kwargs`, so that it can be general purpose, but you would also like to check the passed arguments to see if they match a specific function calling signature."
   ]
  },
  {
   "cell_type": "markdown",
   "metadata": {},
   "source": [
    "### Solution"
   ]
  },
  {
   "cell_type": "markdown",
   "metadata": {},
   "source": [
    "For any problem where you want to manipulate function calling signatures, you should use the signature features found in the inspect module.  \n",
    "Two classes, `Signature` and `Parameter`, are of particular interest here.  \n",
    "Here is an interactive example of creating a function signature:"
   ]
  },
  {
   "cell_type": "code",
   "execution_count": 299,
   "metadata": {},
   "outputs": [
    {
     "name": "stdout",
     "output_type": "stream",
     "text": [
      "(x, y=42, *, z=None)\n"
     ]
    }
   ],
   "source": [
    "from inspect import Signature, Parameter\n",
    "\n",
    "# Make a signature for a func(x, y=42, *, z=None)\n",
    "parms = [ Parameter('x', Parameter.POSITIONAL_OR_KEYWORD),\n",
    "          Parameter('y', Parameter.POSITIONAL_OR_KEYWORD, default=42),\n",
    "          Parameter('z', Parameter.KEYWORD_ONLY, default=None) ]\n",
    "sig = Signature(parms)\n",
    "print(sig)"
   ]
  },
  {
   "cell_type": "markdown",
   "metadata": {},
   "source": [
    "Once you have a signature object, you can easily bind it to `*args` and `**kwargs` using the signature's `bind()` method."
   ]
  },
  {
   "cell_type": "code",
   "execution_count": 300,
   "metadata": {},
   "outputs": [],
   "source": [
    "def func(*args, **kwargs):\n",
    "    bound_values = sig.bind(*args, **kwargs)\n",
    "    for name, value in bound_values.arguments.items():\n",
    "        print(name, value)"
   ]
  },
  {
   "cell_type": "code",
   "execution_count": 301,
   "metadata": {},
   "outputs": [
    {
     "name": "stdout",
     "output_type": "stream",
     "text": [
      "x 1\n",
      "y 2\n",
      "z 3\n"
     ]
    }
   ],
   "source": [
    "# Examples:\n",
    "func(1, 2, z=3)"
   ]
  },
  {
   "cell_type": "code",
   "execution_count": 302,
   "metadata": {},
   "outputs": [
    {
     "name": "stdout",
     "output_type": "stream",
     "text": [
      "x 1\n"
     ]
    }
   ],
   "source": [
    "func(1)"
   ]
  },
  {
   "cell_type": "code",
   "execution_count": 303,
   "metadata": {},
   "outputs": [
    {
     "name": "stdout",
     "output_type": "stream",
     "text": [
      "x 1\n",
      "z 3\n"
     ]
    }
   ],
   "source": [
    "func(1, z=3)"
   ]
  },
  {
   "cell_type": "code",
   "execution_count": 304,
   "metadata": {},
   "outputs": [
    {
     "name": "stdout",
     "output_type": "stream",
     "text": [
      "x 1\n",
      "y 2\n"
     ]
    }
   ],
   "source": [
    "func(y=2, x=1)"
   ]
  },
  {
   "cell_type": "raw",
   "metadata": {},
   "source": [
    "func(1, 2, 3, 4)\n",
    "\n",
    "---------------------------------------------------------------------------\n",
    "TypeError                                 Traceback (most recent call last)\n",
    "<ipython-input-129-87bb19a3011a> in <module>()\n",
    "----> 1 func(1, 2, 3, 4)\n",
    "\n",
    "<ipython-input-124-b9c79a6b444d> in func(*args, **kwargs)\n",
    "      1 def func(*args, **kwargs):\n",
    "----> 2     bound_values = sig.bind(*args, **kwargs)\n",
    "      3     for name, value in bound_values.arguments.items():\n",
    "      4         print(name, value)\n",
    "\n",
    "~/.pyenv/versions/3.6.1/lib/python3.6/inspect.py in bind(*args, **kwargs)\n",
    "   2931         if the passed arguments can not be bound.\n",
    "   2932         \"\"\"\n",
    "-> 2933         return args[0]._bind(args[1:], kwargs)\n",
    "   2934 \n",
    "   2935     def bind_partial(*args, **kwargs):\n",
    "\n",
    "~/.pyenv/versions/3.6.1/lib/python3.6/inspect.py in _bind(self, args, kwargs, partial)\n",
    "   2858                         # argument\n",
    "   2859                         raise TypeError(\n",
    "-> 2860                             'too many positional arguments') from None\n",
    "   2861 \n",
    "   2862                     if param.kind == _VAR_POSITIONAL:\n",
    "\n",
    "TypeError: too many positional arguments"
   ]
  },
  {
   "cell_type": "markdown",
   "metadata": {},
   "source": [
    "As you can see, the binding of a signature to the passed arguments enforces all of the usual function calling rules concerning required arguments, defaults, duplicates, and so forth.  \n",
    "Here is a more concrete example of enforcing function signatures. In this code, a base class has defined an extremely general-purpose version of `__init__()`, but subclasses are expected to supply an expected signature."
   ]
  },
  {
   "cell_type": "code",
   "execution_count": 305,
   "metadata": {},
   "outputs": [],
   "source": [
    "from inspect import Signature, Parameter\n",
    "\n",
    "def make_sig(*names):\n",
    "    parms = [Parameter(name, Parameter.POSITIONAL_OR_KEYWORD)\n",
    "             for name in names]\n",
    "    return Signature(parms)\n",
    "\n",
    "class Structure:\n",
    "    __signature__ = make_sig()\n",
    "    def __init__(self, *args, **kwargs):\n",
    "        bound_values = self.__signature__.bind(*args, **kwargs)\n",
    "        for name, value in bound_values.arguments.items():\n",
    "            setattr(self, name, value)"
   ]
  },
  {
   "cell_type": "markdown",
   "metadata": {},
   "source": [
    "Example use:"
   ]
  },
  {
   "cell_type": "code",
   "execution_count": 306,
   "metadata": {},
   "outputs": [],
   "source": [
    "class Stock(Structure):\n",
    "    __signature__ = make_sig('name', 'shares', 'price')\n",
    "    \n",
    "class Point(Structure):\n",
    "    __signature__ = make_sig('x', 'y')"
   ]
  },
  {
   "cell_type": "code",
   "execution_count": 307,
   "metadata": {},
   "outputs": [
    {
     "name": "stdout",
     "output_type": "stream",
     "text": [
      "(name, shares, price)\n"
     ]
    }
   ],
   "source": [
    "import inspect\n",
    "print(inspect.signature(Stock))"
   ]
  },
  {
   "cell_type": "code",
   "execution_count": 308,
   "metadata": {},
   "outputs": [],
   "source": [
    "s1 = Stock('ACME', 100, 490.1)"
   ]
  },
  {
   "cell_type": "raw",
   "metadata": {},
   "source": [
    "s2 = Stock('ACME', 100)\n",
    "\n",
    "---------------------------------------------------------------------------\n",
    "TypeError                                 Traceback (most recent call last)\n",
    "<ipython-input-134-39f0ea31793d> in <module>()\n",
    "----> 1 s2 = Stock('ACME', 100)\n",
    "\n",
    "<ipython-input-130-f1de56c5774d> in __init__(self, *args, **kwargs)\n",
    "      9     __signature__ = make_sig()\n",
    "     10     def __init__(self, *args, **kwargs):\n",
    "---> 11         bound_values = self.__signature__.bind(*args, **kwargs)\n",
    "     12         for name, value in bound_values.arguments.items():\n",
    "     13             setattr(self, name, value)\n",
    "\n",
    "~/.pyenv/versions/3.6.1/lib/python3.6/inspect.py in bind(*args, **kwargs)\n",
    "   2931         if the passed arguments can not be bound.\n",
    "   2932         \"\"\"\n",
    "-> 2933         return args[0]._bind(args[1:], kwargs)\n",
    "   2934 \n",
    "   2935     def bind_partial(*args, **kwargs):\n",
    "\n",
    "~/.pyenv/versions/3.6.1/lib/python3.6/inspect.py in _bind(self, args, kwargs, partial)\n",
    "   2846                             msg = 'missing a required argument: {arg!r}'\n",
    "   2847                             msg = msg.format(arg=param.name)\n",
    "-> 2848                             raise TypeError(msg) from None\n",
    "   2849             else:\n",
    "   2850                 # We have a positional argument to process\n",
    "\n",
    "TypeError: missing a required argument: 'price'"
   ]
  },
  {
   "cell_type": "markdown",
   "metadata": {},
   "source": [
    "### Discussion"
   ]
  },
  {
   "cell_type": "markdown",
   "metadata": {},
   "source": [
    "The use of functions involving `*args` and `**kwargs` is very common when trying to make general-purpose libraries, write decorators or implement proxies.  \n",
    "However, one downside of such functions is that if you want to implement your own argument checking, it can quickly become an unwieldy mess.  \n",
    "As an example, see Recipe 8.11.  \n",
    "The use of a signature object simplifies this.  \n",
    "In the last example of the solution, it might make sense to create signature objects through the use of a custom metaclass.  \n",
    "Here is an alternative implementation that shows how to do this:"
   ]
  },
  {
   "cell_type": "code",
   "execution_count": 309,
   "metadata": {},
   "outputs": [],
   "source": [
    "from inspect import Signature, Parameter\n",
    "\n",
    "def make_sig(*names):\n",
    "    parms = [Parameter(name, Parameter.POSITIONAL_OR_KEYWORD)\n",
    "            for name in names]\n",
    "    return Signature(parms)\n",
    "\n",
    "class StructureMeta(type):\n",
    "    def __new__(cls, clsname, bases, clsdict):\n",
    "        clsdict['__signature__'] = make_sig(*clsdict.get('_fields',[]))\n",
    "        return super().__new__(cls, clsname, bases, clsdict)\n",
    "    \n",
    "class Structure(metaclass=StructureMeta):\n",
    "    _fields = []\n",
    "    def __init__(self, *args, **kwargs):\n",
    "        bound_values = self.__signature__.bind(*args, **kwargs)\n",
    "        for name, value in bound_values.arguments.items():\n",
    "            setattr(self, name, value)"
   ]
  },
  {
   "cell_type": "code",
   "execution_count": 310,
   "metadata": {},
   "outputs": [],
   "source": [
    "class Stock(Structure):\n",
    "    _fields = ['name', 'shares', 'price']\n",
    "    \n",
    "class Point(Structure):\n",
    "    _fields = ['x', 'y']"
   ]
  },
  {
   "cell_type": "markdown",
   "metadata": {},
   "source": [
    "When defining custom signatures, it is often useful to store the signature in a special attribute `__signature__`, as shown.  \n",
    "If you do this, code that uses the inspect module to perform introspection will see the signature and report it as the calling convention."
   ]
  },
  {
   "cell_type": "code",
   "execution_count": 311,
   "metadata": {},
   "outputs": [
    {
     "name": "stdout",
     "output_type": "stream",
     "text": [
      "(name, shares, price)\n"
     ]
    }
   ],
   "source": [
    "import inspect\n",
    "\n",
    "print(inspect.signature(Stock))"
   ]
  },
  {
   "cell_type": "code",
   "execution_count": 312,
   "metadata": {},
   "outputs": [
    {
     "name": "stdout",
     "output_type": "stream",
     "text": [
      "(x, y)\n"
     ]
    }
   ],
   "source": [
    "print(inspect.signature(Point))"
   ]
  },
  {
   "cell_type": "markdown",
   "metadata": {},
   "source": [
    "## 9.17. Enforcing Coding Conventions in Classes"
   ]
  },
  {
   "cell_type": "markdown",
   "metadata": {},
   "source": [
    "### Problem"
   ]
  },
  {
   "cell_type": "markdown",
   "metadata": {},
   "source": [
    "Your program consists of a large class hierarchy and you would like to enforce certain kinds of coding conventions or perform diagnostics to help maintain programmer sanity."
   ]
  },
  {
   "cell_type": "markdown",
   "metadata": {},
   "source": [
    "### Solution"
   ]
  },
  {
   "cell_type": "markdown",
   "metadata": {},
   "source": [
    "If you want to monitor the definition of classes, you can often do it by defining a metaclass. \n",
    "A basic metaclass is usually defined by inheriting from type and redefining its `__new__()` method or `__init__()` method."
   ]
  },
  {
   "cell_type": "code",
   "execution_count": 313,
   "metadata": {},
   "outputs": [],
   "source": [
    "class MyMeta(type):\n",
    "    def __new__(self, clsname, bases, clsdict):\n",
    "        \"\"\"\n",
    "        clsname -> name of the class being defined\n",
    "        bases -> tuple of base classes\n",
    "        clsdict -> class dictionary\n",
    "        \"\"\"\n",
    "        return super().__new__(cls, clsname, bases, clsdict)"
   ]
  },
  {
   "cell_type": "markdown",
   "metadata": {},
   "source": [
    "The `__init__()` method is called after the instance has been created by `__new__()`, but before it is returned to the caller. \n",
    "If `__init__()` is defined instead:"
   ]
  },
  {
   "cell_type": "code",
   "execution_count": 314,
   "metadata": {},
   "outputs": [],
   "source": [
    "class MyMeta(type):\n",
    "    def __init__(self, clsname, bases, clsdict):\n",
    "        \"\"\"\n",
    "        clsname -> name of the class being defined\n",
    "        bases -> tuple of base classes\n",
    "        clsdict -> class dictionary\n",
    "        \"\"\"\n",
    "        super().__init__(clsname, bases, clsdict)"
   ]
  },
  {
   "cell_type": "markdown",
   "metadata": {},
   "source": [
    "To use a metaclass, you would generally incorporate it into a top-level base class from which other objects inherit."
   ]
  },
  {
   "cell_type": "code",
   "execution_count": 315,
   "metadata": {},
   "outputs": [],
   "source": [
    "class Root(metaclass=MyMeta):\n",
    "    pass\n",
    "\n",
    "class A(Root):\n",
    "    pass\n",
    "\n",
    "class B(Root):\n",
    "    pass"
   ]
  },
  {
   "cell_type": "markdown",
   "metadata": {},
   "source": [
    "A key feature of a metaclass is that it allows you to examine the contents of a class at the time of definition.  \n",
    "Inside the redefined `__init__()` method, you are free to inspect the class dictionary, base classes, and more.  \n",
    "Moreover, once a metaclass has been specified for a class, it gets inherited by all of the subclasses.  \n",
    "Thus, a sneaky framework builder can specify a metaclass for one of the top-level classes in a large hierarchy and capture the definition of all classes under it.  \n",
    "As a concrete albeit whimsical example, here is a metaclass that rejects any class definition containing methods with mixed-case names:"
   ]
  },
  {
   "cell_type": "raw",
   "metadata": {},
   "source": [
    "class NoMixedCaseMeta(type):\n",
    "    def __new__(cls, clsname, bases, clsdict):\n",
    "        for name in clsdict:\n",
    "            if name.lower() != name:\n",
    "                raise TypeError('Bad attribute name: ' + name)\n",
    "        return super().__new__(cls, clsname, bases, clsdict)\n",
    "\n",
    "class Root(metaclass=NoMixedCaseMeta):\n",
    "    pass\n",
    "\n",
    "class A(Root):\n",
    "    def foo_bar(self):\n",
    "        \"\"\"\n",
    "        No error\n",
    "        \"\"\"\n",
    "        pass\n",
    "    \n",
    "class B(Root):\n",
    "    def fooBar(self):\n",
    "        \"\"\"\n",
    "        TypeError\n",
    "        \"\"\"\n",
    "        pass"
   ]
  },
  {
   "cell_type": "raw",
   "metadata": {},
   "source": [
    "---------------------------------------------------------------------------\n",
    "TypeError                                 Traceback (most recent call last)\n",
    "<ipython-input-141-ab229dc2c788> in <module>()\n",
    "     16         pass\n",
    "     17 \n",
    "---> 18 class B(Root):\n",
    "     19     def fooBar(self):\n",
    "     20         \"\"\"\n",
    "\n",
    "<ipython-input-141-ab229dc2c788> in __new__(cls, clsname, bases, clsdict)\n",
    "      3         for name in clsdict:\n",
    "      4             if name.lower() != name:\n",
    "----> 5                 raise TypeError('Bad attribute name: ' + name)\n",
    "      6         return super().__new__(cls, clsname, bases, clsdict)\n",
    "      7 \n",
    "\n",
    "TypeError: Bad attribute name: fooBar"
   ]
  },
  {
   "cell_type": "markdown",
   "metadata": {},
   "source": [
    "As a more advanced and useful example, here is a metaclass that checks the definition of redefined methods to make sure they have the same calling signature as the original method in the superclass."
   ]
  },
  {
   "cell_type": "code",
   "execution_count": 316,
   "metadata": {},
   "outputs": [],
   "source": [
    "from inspect import signature\n",
    "import logging\n",
    "\n",
    "class MatchSignaturesMeta(type):\n",
    "    def __init__(self, clsname, bases, clsdict):\n",
    "        super().__init__(clsname, bases, clsdict)\n",
    "        sup = super(self, self)\n",
    "        for name, value in clsdict.items():\n",
    "            if name.startswith('_') or not callable(value):\n",
    "                continue\n",
    "            # Get the previous definition (if any) and compare signatures\n",
    "            prev_dfn = getattr(sup,name,None)\n",
    "            if prev_dfn:\n",
    "                prev_sig = signature(prev_dfn)\n",
    "                val_sig = signature(value)\n",
    "                if prev_sig != val_sig:\n",
    "                    logging.warning('Signature mismatch in %s. %s != %s',\n",
    "                                   value.__qualname__, prev_sig, val_sig)"
   ]
  },
  {
   "cell_type": "code",
   "execution_count": 317,
   "metadata": {},
   "outputs": [],
   "source": [
    "# An Example:\n",
    "class Root(metaclass=MatchSignaturesMeta):\n",
    "    pass\n",
    "\n",
    "class A(Root):\n",
    "    def foo(self, x, y):\n",
    "        pass\n",
    "    \n",
    "    def spam(self, x, *, z):\n",
    "        pass"
   ]
  },
  {
   "cell_type": "code",
   "execution_count": 318,
   "metadata": {},
   "outputs": [
    {
     "name": "stderr",
     "output_type": "stream",
     "text": [
      "WARNING:root:Signature mismatch in B.foo. (self, x, y) != (self, a, b)\n",
      "WARNING:root:Signature mismatch in B.spam. (self, x, *, z) != (self, x, z)\n"
     ]
    }
   ],
   "source": [
    "# Class with redefined methods, but slightly different signatures:\n",
    "class B(A):\n",
    "    def foo(self, a, b):\n",
    "        pass\n",
    "    \n",
    "    def spam(self, x, z):\n",
    "        pass"
   ]
  },
  {
   "cell_type": "markdown",
   "metadata": {},
   "source": [
    "Such warnings might be useful in catching subtle program bugs.  \n",
    "For example, code that relies on keyword argument passing to a method will break if a subclass changes the argument names."
   ]
  },
  {
   "cell_type": "markdown",
   "metadata": {},
   "source": [
    "### Discussion"
   ]
  },
  {
   "cell_type": "markdown",
   "metadata": {},
   "source": [
    "In large object-oriented programs, it can sometimes be useful to put class definitions under the control of a metaclass.  \n",
    "The metaclass can observe class definitions and be used to alert programmers to potential problems that might go unnoticed, like using incompatible method signatures.  \n",
    "One might argue that such errors would be better caught by program analysis tools or IDEs.  \n",
    "To be sure, such tools are useful.  \n",
    "However, if you’re creating a framework or library that’s going to be used by others, you often don’t have any control over the rigor of their development practices.  \n",
    "Thus, for certain kinds of applications, it might make sense to put a bit of extra checking in a metaclass if such checking would result in a better user experience.  \n",
    "The choice of redefining `__new__()` or `__init__()` in a metaclass depends on how you want to work with the resulting class.  "
   ]
  },
  {
   "cell_type": "markdown",
   "metadata": {},
   "source": [
    "The `__new__()` method is invoked prior to class creation and is typically used when a metaclass wants to alter the class definition in some way by changing the contents of the class dictionary.  \n",
    "The `__init__()` method is invoked after a class has been created, and is useful if you want to write code that works with the fully formed class object.  \n",
    "In the last example, this is essential since it is using the `super()` function to search for prior definitions.  \n",
    "This only works once the class instance has been created and the underlying method resolution order has been set.  \n",
    "The last example also illustrates the use of Python’s function signature objects.  \n",
    "Essentially, the metaclass takes each callable definition in a class, searches for a prior definition (if any), and then simply compares their calling signatures using `inspect.signature()`.\n",
    "Last, but not least, the line of code that uses `super(self, self)` is not a typo.  \n",
    "When working with a metaclass, it’s important to realize that the `self` is actually a class object.  \n",
    "So, that statement is actually being used to find definitions located further up the class hierarchy that make up the parents of `self`."
   ]
  },
  {
   "cell_type": "markdown",
   "metadata": {},
   "source": [
    "## 9.18. Defining Classes Programmatically"
   ]
  },
  {
   "cell_type": "markdown",
   "metadata": {},
   "source": [
    "### Problem"
   ]
  },
  {
   "cell_type": "markdown",
   "metadata": {},
   "source": [
    "You’re writing code that ultimately needs to create a new class object.  \n",
    "You’ve thought about emitting class source code to a string and using a function such as `exec()` to evaluate it, but you’d prefer a more elegant solution."
   ]
  },
  {
   "cell_type": "markdown",
   "metadata": {},
   "source": [
    "### Solution"
   ]
  },
  {
   "cell_type": "markdown",
   "metadata": {},
   "source": [
    "You can use the function `types.new_class()` to instantiate new class objects.  \n",
    "All you need to do is provide the name of the class, tuple of parent classes, keyword arguments, and a callback that populates the class dictionary with members."
   ]
  },
  {
   "cell_type": "code",
   "execution_count": 319,
   "metadata": {},
   "outputs": [],
   "source": [
    "def __init__(self, name, shares, price):\n",
    "    self.name = name\n",
    "    self.shares = shares\n",
    "    self.price = price\n",
    "    \n",
    "def cost(self):\n",
    "    return self.shares * self.price\n",
    "\n",
    "cls_dict = {\n",
    "    '__init__' : __init__,\n",
    "    'cost' : cost,\n",
    "}\n",
    "\n",
    "# Make a class\n",
    "import types\n",
    "\n",
    "Stock = types.new_class('Stock', (), {}, lambda ns: ns.update(cls_dict))\n",
    "Stock.__module__ = __name__"
   ]
  },
  {
   "cell_type": "markdown",
   "metadata": {},
   "source": [
    "Now you can create a class object:"
   ]
  },
  {
   "cell_type": "code",
   "execution_count": 320,
   "metadata": {},
   "outputs": [
    {
     "data": {
      "text/plain": [
       "<__main__.Stock at 0x1086dad30>"
      ]
     },
     "execution_count": 320,
     "metadata": {},
     "output_type": "execute_result"
    }
   ],
   "source": [
    "s = Stock('ACME', 50, 91.1)\n",
    "s"
   ]
  },
  {
   "cell_type": "code",
   "execution_count": 321,
   "metadata": {},
   "outputs": [
    {
     "data": {
      "text/plain": [
       "4555.0"
      ]
     },
     "execution_count": 321,
     "metadata": {},
     "output_type": "execute_result"
    }
   ],
   "source": [
    "s.cost()"
   ]
  },
  {
   "cell_type": "markdown",
   "metadata": {},
   "source": [
    "A subtle facet of the solution is the assignment to `Stock.__module__` after the call to `types.new_class()`.  \n",
    "Whenever a class is defined, its `__module__` attribute contains the name of the module in which it was defined.  \n",
    "This name is used to produce the output made by methods such as `__repr__()`.  \n",
    "It’s also used by various libraries, such as `pickle`.  \n",
    "Thus, in order for the class you make to be \"proper,\" you need to make sure this attribute is set accordingly.  \n",
    "If the class you want to create involves a different metaclass, it would be specified in the third argument to `types.new_class()`."
   ]
  },
  {
   "cell_type": "code",
   "execution_count": 322,
   "metadata": {},
   "outputs": [
    {
     "data": {
      "text/plain": [
       "__main__.Stock"
      ]
     },
     "execution_count": 322,
     "metadata": {},
     "output_type": "execute_result"
    }
   ],
   "source": [
    "import abc\n",
    "\n",
    "Stock = types.new_class('Stock', (), {'metaclass': abc.ABCMeta}, lambda ns: ns.update(cls_dict))\n",
    "Stock.__module__ = __name__\n",
    "Stock"
   ]
  },
  {
   "cell_type": "code",
   "execution_count": 323,
   "metadata": {},
   "outputs": [
    {
     "data": {
      "text/plain": [
       "abc.ABCMeta"
      ]
     },
     "execution_count": 323,
     "metadata": {},
     "output_type": "execute_result"
    }
   ],
   "source": [
    "type(Stock)"
   ]
  },
  {
   "cell_type": "markdown",
   "metadata": {},
   "source": [
    "The third argument may also contain other keyword arguments.  \n",
    "For example, a class definition like this:"
   ]
  },
  {
   "cell_type": "raw",
   "metadata": {},
   "source": [
    "class Spam(Base, debug=True, typecheck=False):\n",
    "    ..."
   ]
  },
  {
   "cell_type": "markdown",
   "metadata": {},
   "source": [
    "would translate to a `new_class()` call similar to this:"
   ]
  },
  {
   "cell_type": "raw",
   "metadata": {},
   "source": [
    "Spam = types.new_class('Spam', (Base,),\n",
    "                       {'debug': True, 'typecheck': False},\n",
    "                       lambda ns: ns.update(cls_dict))"
   ]
  },
  {
   "cell_type": "markdown",
   "metadata": {},
   "source": [
    "The fourth argument to `new_class()` is the most mysterious, but it is a function that receives the mapping object being used for the class namespace as input.  \n",
    "This is normally a dictionary, but it’s actually whatever object gets returned by the` __prepare__()` method, as described in Recipe 9.14.  \n",
    "This function should add new entries to the namespace using the `update()` method (as shown) or other mapping operations."
   ]
  },
  {
   "cell_type": "markdown",
   "metadata": {},
   "source": [
    "### Discussion"
   ]
  },
  {
   "cell_type": "markdown",
   "metadata": {},
   "source": [
    "Being able to manufacture new class objects can be useful in certain contexts.  \n",
    "One of the more familiar examples involves the `collections.namedtuple()` function."
   ]
  },
  {
   "cell_type": "code",
   "execution_count": 324,
   "metadata": {},
   "outputs": [
    {
     "data": {
      "text/plain": [
       "__main__.Stock"
      ]
     },
     "execution_count": 324,
     "metadata": {},
     "output_type": "execute_result"
    }
   ],
   "source": [
    "import collections\n",
    "\n",
    "Stock = collections.namedtuple('Stock', ['name', 'shares', 'price'])\n",
    "Stock"
   ]
  },
  {
   "cell_type": "markdown",
   "metadata": {},
   "source": [
    "`namedtuple()` uses `exec()` instead of the technique shown here.  \n",
    "However, here is a simple variant that creates a class directly:"
   ]
  },
  {
   "cell_type": "code",
   "execution_count": 325,
   "metadata": {},
   "outputs": [],
   "source": [
    "import operator\n",
    "import types\n",
    "import sys\n",
    "\n",
    "def named_tuple(classname, fieldnames):\n",
    "    \"\"\"\n",
    "    Populate a dictionary of field property accessors\n",
    "    \"\"\"\n",
    "    cls_dict = { name: property(operator.itemgetter(n))\n",
    "                 for n, name in enumerate(fieldnames) }\n",
    "    \n",
    "    # Make a __new__ function and add it to the class dictionary\n",
    "    def __new__(cls, *args):\n",
    "        if len(args) != len(fieldnames):\n",
    "            raise TypeError('Expected {} arguments'.format(len(fieldnames)))\n",
    "        return tuple.__new__(cls, args)\n",
    "    \n",
    "    cls_dict['__new__'] = __new__\n",
    "    \n",
    "    # Create the class:\n",
    "    cls = types.new_class(classname, (tuple,), {},\n",
    "                          lambda ns: ns.update(cls_dict))\n",
    "    \n",
    "    # Set the module to that of the caller:\n",
    "    cls.__module__ = sys._getframe(1).f_globals['__name__']\n",
    "    return cls"
   ]
  },
  {
   "cell_type": "markdown",
   "metadata": {},
   "source": [
    "The last part of this code uses a so-called \"frame hack\" involving `sys._getframe()` to obtain the module name of the caller.  \n",
    "Another example of frame hacking appears in Recipe 2.15.  \n",
    "The following example shows how the preceding code works:  "
   ]
  },
  {
   "cell_type": "code",
   "execution_count": 326,
   "metadata": {},
   "outputs": [
    {
     "data": {
      "text/plain": [
       "__main__.Point"
      ]
     },
     "execution_count": 326,
     "metadata": {},
     "output_type": "execute_result"
    }
   ],
   "source": [
    "Point = named_tuple('Point', ['x', 'y'])\n",
    "Point"
   ]
  },
  {
   "cell_type": "code",
   "execution_count": 327,
   "metadata": {},
   "outputs": [
    {
     "data": {
      "text/plain": [
       "2"
      ]
     },
     "execution_count": 327,
     "metadata": {},
     "output_type": "execute_result"
    }
   ],
   "source": [
    "p = Point(4, 5)\n",
    "len(p)"
   ]
  },
  {
   "cell_type": "code",
   "execution_count": 328,
   "metadata": {},
   "outputs": [
    {
     "data": {
      "text/plain": [
       "4"
      ]
     },
     "execution_count": 328,
     "metadata": {},
     "output_type": "execute_result"
    }
   ],
   "source": [
    "p.x"
   ]
  },
  {
   "cell_type": "code",
   "execution_count": 329,
   "metadata": {},
   "outputs": [
    {
     "data": {
      "text/plain": [
       "5"
      ]
     },
     "execution_count": 329,
     "metadata": {},
     "output_type": "execute_result"
    }
   ],
   "source": [
    "p.y"
   ]
  },
  {
   "cell_type": "raw",
   "metadata": {},
   "source": [
    "p.x = 2\n",
    "\n",
    "\n",
    ">>> AttributeError                            \n",
    "Traceback (most recent call last)\n",
    "<ipython-input-154-6bf7f157f4bc> in <module>()\n",
    "----> 1 p.x = 2\n",
    "\n",
    "AttributeError: can't set attribute"
   ]
  },
  {
   "cell_type": "code",
   "execution_count": 330,
   "metadata": {},
   "outputs": [
    {
     "name": "stdout",
     "output_type": "stream",
     "text": [
      "4 5\n"
     ]
    }
   ],
   "source": [
    "print('%s %s' % p)"
   ]
  },
  {
   "cell_type": "markdown",
   "metadata": {},
   "source": [
    "One important aspect of the technique used in this recipe is its proper support for metaclasses.  \n",
    "You might be inclined to create a class directly by instantiating a metaclass directly."
   ]
  },
  {
   "cell_type": "code",
   "execution_count": 331,
   "metadata": {},
   "outputs": [],
   "source": [
    "Stock = type('Stock', (), cls_dict)"
   ]
  },
  {
   "cell_type": "markdown",
   "metadata": {},
   "source": [
    "The problem is that this approach skips certain critical steps, such as invocation of the metaclass `__prepare__()` method.  \n",
    "By using `types.new_class()` instead, you ensure that all of the necessary initialization steps get carried out.  \n",
    "For instance, the callback function that’s given as the fourth argument to `types.new_class()` receives the mapping object that’s returned by the `__prepare__()` method.  \n",
    "If you only want to carry out the preparation step, use `types.prepare_class()`."
   ]
  },
  {
   "cell_type": "code",
   "execution_count": 332,
   "metadata": {},
   "outputs": [],
   "source": [
    "import types\n",
    "\n",
    "metaclass, kwargs, ns = types.prepare_class('Stock', (), {'metaclass': type})"
   ]
  },
  {
   "cell_type": "markdown",
   "metadata": {},
   "source": [
    "This finds the appropriate metaclass and invokes its `__prepare__()` method.  \n",
    "The metaclass, remaining keyword arguments, and prepared namespace are then returned.  \n",
    "For more information, see PEP 3115, as well as the Python documentation."
   ]
  },
  {
   "cell_type": "markdown",
   "metadata": {},
   "source": [
    "## 9.19. Initializing Class Members at Definition Time"
   ]
  },
  {
   "cell_type": "markdown",
   "metadata": {},
   "source": [
    "### Problem"
   ]
  },
  {
   "cell_type": "markdown",
   "metadata": {},
   "source": [
    "You want to initialize parts of a class definition once at the time a class is defined, not when instances are created."
   ]
  },
  {
   "cell_type": "markdown",
   "metadata": {},
   "source": [
    "### Solution"
   ]
  },
  {
   "cell_type": "markdown",
   "metadata": {},
   "source": [
    "Performing initialization or setup actions at the time of class definition is a classic use of metaclasses.  \n",
    "Essentially, a metaclass is triggered at the point of a definition, at which point you can perform additional steps.  \n",
    "Here is an example that uses this idea to create classes similar to named tuples from the `collections` module:"
   ]
  },
  {
   "cell_type": "code",
   "execution_count": 333,
   "metadata": {},
   "outputs": [],
   "source": [
    "import operator\n",
    "\n",
    "class StructTupleMeta(type):\n",
    "    def __init__(cls, *args, **kwargs):\n",
    "        super().__init__(*args, **kwargs)\n",
    "        for n, name in enumerate(cls._fields):\n",
    "            setattr(cls, name, property(operator.itemgetter(n)))\n",
    "            \n",
    "class StructTuple(tuple, metaclass=StructTupleMeta):\n",
    "    _fields = []\n",
    "    def __new__(cls, *args):\n",
    "        if len(args) != len(cls._fields):\n",
    "            raise ValueError('{} arguments required'.format(len(cls._fields)))\n",
    "        return super().__new__(cls,args)"
   ]
  },
  {
   "cell_type": "markdown",
   "metadata": {},
   "source": [
    "This code allows simple tuple-based data structures to be defined, like so:"
   ]
  },
  {
   "cell_type": "code",
   "execution_count": 334,
   "metadata": {},
   "outputs": [],
   "source": [
    "class Stock(StructTuple):\n",
    "    _fields = ['name', 'shares', 'price']\n",
    "    \n",
    "class Point(StructTuple):\n",
    "    _fields = ['x', 'y']"
   ]
  },
  {
   "cell_type": "markdown",
   "metadata": {},
   "source": [
    "Now for a quick demonstration:"
   ]
  },
  {
   "cell_type": "code",
   "execution_count": 335,
   "metadata": {},
   "outputs": [
    {
     "data": {
      "text/plain": [
       "('ACME', 50, 91.1)"
      ]
     },
     "execution_count": 335,
     "metadata": {},
     "output_type": "execute_result"
    }
   ],
   "source": [
    "s = Stock('ACME', 50, 91.1)\n",
    "s"
   ]
  },
  {
   "cell_type": "code",
   "execution_count": 336,
   "metadata": {},
   "outputs": [
    {
     "data": {
      "text/plain": [
       "'ACME'"
      ]
     },
     "execution_count": 336,
     "metadata": {},
     "output_type": "execute_result"
    }
   ],
   "source": [
    "s[0]"
   ]
  },
  {
   "cell_type": "code",
   "execution_count": 337,
   "metadata": {},
   "outputs": [
    {
     "data": {
      "text/plain": [
       "'ACME'"
      ]
     },
     "execution_count": 337,
     "metadata": {},
     "output_type": "execute_result"
    }
   ],
   "source": [
    "s.name"
   ]
  },
  {
   "cell_type": "code",
   "execution_count": 338,
   "metadata": {},
   "outputs": [
    {
     "data": {
      "text/plain": [
       "4555.0"
      ]
     },
     "execution_count": 338,
     "metadata": {},
     "output_type": "execute_result"
    }
   ],
   "source": [
    "s.shares * s.price"
   ]
  },
  {
   "cell_type": "code",
   "execution_count": 339,
   "metadata": {},
   "outputs": [
    {
     "data": {
      "text/plain": [
       "50"
      ]
     },
     "execution_count": 339,
     "metadata": {},
     "output_type": "execute_result"
    }
   ],
   "source": [
    "s.shares"
   ]
  },
  {
   "cell_type": "raw",
   "metadata": {},
   "source": [
    "s.shares = 23\n",
    "\n",
    ">>>\n",
    "---------------------------------------------------------------------------\n",
    "AttributeError                            Traceback (most recent call last)\n",
    "<ipython-input-164-4917879e547b> in <module>()\n",
    "----> 1 s.shares = 23\n",
    "\n",
    "AttributeError: can't set attribute"
   ]
  },
  {
   "cell_type": "markdown",
   "metadata": {},
   "source": [
    "### Discussion"
   ]
  },
  {
   "cell_type": "markdown",
   "metadata": {},
   "source": [
    "In this recipe, the `StructTupleMeta` class takes the listing of attribute names in the `_fields` class attribute and turns them into property methods that access a particular tuple slot.  \n",
    "The `operator.itemgetter()` function creates an accessor function and the `property()` function turns it into a property.  \n",
    "The trickiest part of this recipe is knowing when the different initialization steps occur.  \n",
    "The `__init__()` method in `StructTupleMeta` is only called once for each class that is defined.  \n",
    "The `cls` argument is the class that has just been defined.  \n",
    "Essentially, the code is using the `_fields` class variable to take the newly defined class and add some new parts to it.  \n",
    "The `StructTuple` class serves as a common base class for users to inherit from.  \n",
    "The `__new__()` method in that class is responsible for making new instances.  \n",
    "The use of `__new__()` here is a bit unusual, but is partly related to the fact that we’re modifying the calling signature of tuples so that we can create instances with code that uses a calling convention like this:"
   ]
  },
  {
   "cell_type": "raw",
   "metadata": {},
   "source": [
    "s = Stock('ACME', 50, 91.1)\n",
    "s = Stock(('ACME', 50, 91.1))\n",
    "\n",
    ">>>\n",
    "---------------------------------------------------------------------------\n",
    "ValueError                                Traceback (most recent call last)\n",
    "<ipython-input-165-590b39ad753b> in <module>()\n",
    "      1 s = Stock('ACME', 50, 91.1)\n",
    "----> 2 s = Stock(('ACME', 50, 91.1))\n",
    "\n",
    "<ipython-input-157-c69e92105ce1> in __new__(cls, *args)\n",
    "     11     def __new__(cls, *args):\n",
    "     12         if len(args) != len(cls._fields):\n",
    "---> 13             raise ValueError('{} arguments required'.format(len(cls._fields)))\n",
    "     14         return super().__new__(cls,args)\n",
    "\n",
    "ValueError: 3 arguments required"
   ]
  },
  {
   "cell_type": "markdown",
   "metadata": {},
   "source": [
    "Unlike `__init__()`, the `__new__()` method gets triggered before an instance is created.  \n",
    "Since tuples are immutable, it’s not possible to make any changes to them once they have been created.  \n",
    "An `__init__()` function gets triggered too late in the instance creation process to do what we want.  \n",
    "That’s why `__new__()` has been defined.  \n",
    "Although this is a short recipe, careful study will reward the reader with a deep insight about how Python classes are defined, how instances are created, and the points at which different methods of metaclasses and classes are invoked.  \n",
    "PEP 422 may provide an alternative means for performing the task described in this recipe.  \n",
    "However, as of this writing, it has not been adopted or accepted.  \n",
    "Nevertheless, it might be worth a look in case you’re working with a version of Python newer than Python 3.3."
   ]
  },
  {
   "cell_type": "markdown",
   "metadata": {},
   "source": [
    "## 9.20. Implementing Multiple Dispatch with Function Annotations"
   ]
  },
  {
   "cell_type": "markdown",
   "metadata": {},
   "source": [
    "### Problem"
   ]
  },
  {
   "cell_type": "markdown",
   "metadata": {},
   "source": [
    "You’ve learned about function argument annotations and you might be able to use them to implement multiple-dispatch (method overloading) based on types.  \n",
    "However, you’re not quite sure what’s involved, or if it’s even a good idea."
   ]
  },
  {
   "cell_type": "markdown",
   "metadata": {},
   "source": [
    "### Solution"
   ]
  },
  {
   "cell_type": "markdown",
   "metadata": {},
   "source": [
    "This recipe is based on a simple observation—namely, that since Python allows arguments to be annotated, perhaps it might be possible to write code like this:"
   ]
  },
  {
   "cell_type": "code",
   "execution_count": 340,
   "metadata": {},
   "outputs": [
    {
     "name": "stdout",
     "output_type": "stream",
     "text": [
      "Bar 2: 2 3\n",
      "Bar 2: hello 0\n"
     ]
    }
   ],
   "source": [
    "class Spam:\n",
    "    def bar(self, x:int, y:int):\n",
    "        print('Bar 1:', x, y)\n",
    "    def bar(self, s:str, n:int = 0):\n",
    "        print('Bar 2:', s, n)\n",
    "        \n",
    "s = Spam()\n",
    "s.bar(2,3)\n",
    "s.bar('hello')"
   ]
  },
  {
   "cell_type": "markdown",
   "metadata": {},
   "source": [
    "Here is the start of a solution that does just that, using a combination of metaclasses and descriptors:"
   ]
  },
  {
   "cell_type": "code",
   "execution_count": 341,
   "metadata": {},
   "outputs": [],
   "source": [
    "# multiple.py\n",
    "\n",
    "import inspect\n",
    "import types\n",
    "\n",
    "\n",
    "class MultiMethod:\n",
    "    '''\n",
    "    Represents a single multimethod.\n",
    "    '''\n",
    "    def __init__(self, name):\n",
    "        self._methods = {}\n",
    "        self.__name__ = name\n",
    "        \n",
    "    def register(self, meth):\n",
    "        '''\n",
    "        Register a new method as a multimethod\n",
    "        '''\n",
    "        sig = inspect.signature(meth)\n",
    "        # Build a type signature from a method's annotations:\n",
    "        types = []\n",
    "        for name, parm in sig.parameters.items():\n",
    "            if name == 'self':\n",
    "                continue\n",
    "            if parm.annotation is inspect.Parameter.empty:\n",
    "                raise TypeError(\n",
    "                    'Argument {} must be annotated with a type'.format(name)\n",
    "                )\n",
    "            if not isinstance(parm.annotation, type):\n",
    "                raise TypeError(\n",
    "                    'Argument {} annotation must be a type'.format(name)\n",
    "                )\n",
    "            if parm.default is not inspect.Parameter.empty:\n",
    "                self._method[tuple(types)] = meth\n",
    "            types.append(parm.annotation)\n",
    "            \n",
    "        self._methods[tuple(types)] = meth\n",
    "    \n",
    "    def __call__(self, *args):\n",
    "        '''\n",
    "        Call a method based on a type signature of the arguments.\n",
    "        '''\n",
    "        types = tuple(type(arg) for arg in args[1:])\n",
    "        meth = self._methods.get(types, None)\n",
    "        if meth:\n",
    "            return meth(*args)\n",
    "        else:\n",
    "            raise TypeError('No matching method for types {}'.format(types))\n",
    "            \n",
    "    def __get__(self, instance, cls):\n",
    "        '''\n",
    "        Descriptor method needed to make calls work in a class.\n",
    "        '''\n",
    "        if instance is not None:\n",
    "            return types.MethodType(self, instance)\n",
    "        else:\n",
    "            return self\n",
    "        \n",
    "\n",
    "class MultiDict(dict):\n",
    "    '''\n",
    "    Special dictionary to build multimethods in a metaclass\n",
    "    '''\n",
    "    def __setitem__(self, key, value):\n",
    "        if key in self:\n",
    "            # If the key already exists, it must be a multimethod or a callable.\n",
    "            current_value = self[key]\n",
    "            if isinstance(current_value, MultiMethod):\n",
    "                current_value.register(value)\n",
    "            else:\n",
    "                mvalue = MultiMethod(key)\n",
    "                mvalue.register(current_value)\n",
    "                mvalue.register(value)\n",
    "                super().__setitem__(key, mvalue)\n",
    "        else:\n",
    "            super().__setitem__(key, value)\n",
    "            \n",
    "            \n",
    "class MultipleMeta(type):\n",
    "    '''\n",
    "    Metaclass that allows multiple dispatch of methods.\n",
    "    '''\n",
    "    def __new__(cls, clsname, bases, clsdict):\n",
    "        return type.__new__(cls, clsname, bases, dict(clsdict))\n",
    "    \n",
    "    @classmethod\n",
    "    def __prepare(cls, clsname, bases):\n",
    "        return MultiDict()"
   ]
  },
  {
   "cell_type": "markdown",
   "metadata": {},
   "source": [
    "Now for a test drive:"
   ]
  },
  {
   "cell_type": "code",
   "execution_count": 342,
   "metadata": {},
   "outputs": [],
   "source": [
    "class Spam(metaclass=MultipleMeta):\n",
    "    def bar(self, x:int, y:int):\n",
    "        print('Bar 1:', x, y)\n",
    "    def bar(self, s:str, n:int = 0):\n",
    "        print('Bar 2:', s, n)"
   ]
  },
  {
   "cell_type": "markdown",
   "metadata": {},
   "source": [
    "This example overloads the `__init__` method:"
   ]
  },
  {
   "cell_type": "code",
   "execution_count": 343,
   "metadata": {},
   "outputs": [],
   "source": [
    "import time\n",
    "\n",
    "class Date(metaclass=MultipleMeta):\n",
    "    def __init__(self, year:int, month:int, day:int):\n",
    "        self.year = year\n",
    "        self.month = month\n",
    "        self.day = day\n",
    "        \n",
    "    def __init__(self):\n",
    "        t = time.localtime()\n",
    "        self.__init__(t.tm_year, t.tm_mon, t.tm_mday)"
   ]
  },
  {
   "cell_type": "code",
   "execution_count": 344,
   "metadata": {},
   "outputs": [
    {
     "name": "stdout",
     "output_type": "stream",
     "text": [
      "Bar 2: 2 3\n"
     ]
    }
   ],
   "source": [
    "s = Spam()\n",
    "s.bar(2, 3)"
   ]
  },
  {
   "cell_type": "code",
   "execution_count": 345,
   "metadata": {},
   "outputs": [
    {
     "name": "stdout",
     "output_type": "stream",
     "text": [
      "Bar 2: hello 0\n"
     ]
    }
   ],
   "source": [
    "s.bar('hello')"
   ]
  },
  {
   "cell_type": "code",
   "execution_count": 346,
   "metadata": {},
   "outputs": [
    {
     "name": "stdout",
     "output_type": "stream",
     "text": [
      "Bar 2: hello 5\n"
     ]
    }
   ],
   "source": [
    "s.bar('hello', 5)"
   ]
  },
  {
   "cell_type": "code",
   "execution_count": 347,
   "metadata": {},
   "outputs": [
    {
     "name": "stdout",
     "output_type": "stream",
     "text": [
      "Bar 2: 2 hello\n"
     ]
    }
   ],
   "source": [
    "s.bar(2, 'hello')"
   ]
  },
  {
   "cell_type": "raw",
   "metadata": {},
   "source": [
    "d = Date(2019, 1, 2)\n",
    "# Get today's date:\n",
    "e = Date()\n",
    "e.year\n",
    "\n",
    ">>>\n",
    "---------------------------------------------------------------------------\n",
    "TypeError                                 Traceback (most recent call last)\n",
    "<ipython-input-175-cbff4b0492fd> in <module>()\n",
    "----> 1 d = Date(2019, 1, 2)\n",
    "      2 # Get today's date:\n",
    "      3 e = Date()\n",
    "      4 e.year\n",
    "\n",
    "TypeError: __init__() takes 1 positional argument but 4 were given"
   ]
  },
  {
   "cell_type": "markdown",
   "metadata": {},
   "source": [
    "### Discussion"
   ]
  },
  {
   "cell_type": "markdown",
   "metadata": {},
   "source": [
    "Honestly, there might be too much magic going on in this recipe to make it applicable to real-world code.  \n",
    "However, it does dive into some of the inner workings of metaclasses and descriptors, and reinforces some of their concepts.  \n",
    "Thus, even though you might not apply this recipe directly, some of its underlying ideas might influence other pro‐ gramming techniques involving metaclasses, descriptors, and function annotations.  \n",
    "The main idea in the implementation is relatively simple.  \n",
    "The `MutipleMeta` metaclass uses its `__prepare__()` method to supply a custom class dictionary as an instance of `MultiDict`.  \n",
    "Unlike a normal dictionary, `MultiDict` checks to see whether entries already exist when items are set.  \n",
    "If so, the duplicate entries get merged together inside an instance of `MultiMethod`.  \n",
    "Instances of `MultiMethod` collect methods by building a mapping from type signatures to functions.  \n",
    "During construction, function annotations are used to collect these signatures and build the mapping.  \n",
    "This takes place in the `MultiMethod.register()` method.  \n",
    "One critical part of this mapping is that for multimethods, types must be specified on all of the arguments or else an error occurs.  \n",
    "To make `MultiMethod` instances emulate a callable, the `__call__()` method is implemented.  \n",
    "This method builds a type tuple from all of the arguments except `self`, looks up the method in the internal map, and invokes the appropriate method.  \n",
    "The `__get__()` is required to make `MultiMethod` instances operate correctly inside class definitions.  \n",
    "In the implementation, it’s being used to create proper bound methods."
   ]
  },
  {
   "cell_type": "code",
   "execution_count": 348,
   "metadata": {},
   "outputs": [
    {
     "data": {
      "text/plain": [
       "<bound method Spam.bar of <__main__.Spam object at 0x1086ee160>>"
      ]
     },
     "execution_count": 348,
     "metadata": {},
     "output_type": "execute_result"
    }
   ],
   "source": [
    "b = s.bar\n",
    "b"
   ]
  },
  {
   "cell_type": "code",
   "execution_count": 349,
   "metadata": {},
   "outputs": [
    {
     "data": {
      "text/plain": [
       "<__main__.Spam at 0x1086ee160>"
      ]
     },
     "execution_count": 349,
     "metadata": {},
     "output_type": "execute_result"
    }
   ],
   "source": [
    "b.__self__"
   ]
  },
  {
   "cell_type": "code",
   "execution_count": 350,
   "metadata": {},
   "outputs": [
    {
     "data": {
      "text/plain": [
       "<function __main__.Spam.bar(self, s:str, n:int=0)>"
      ]
     },
     "execution_count": 350,
     "metadata": {},
     "output_type": "execute_result"
    }
   ],
   "source": [
    "b.__func__"
   ]
  },
  {
   "cell_type": "code",
   "execution_count": 351,
   "metadata": {},
   "outputs": [
    {
     "name": "stdout",
     "output_type": "stream",
     "text": [
      "Bar 2: 2 3\n"
     ]
    }
   ],
   "source": [
    "b(2, 3)"
   ]
  },
  {
   "cell_type": "code",
   "execution_count": 352,
   "metadata": {},
   "outputs": [
    {
     "name": "stdout",
     "output_type": "stream",
     "text": [
      "Bar 2: hello 0\n"
     ]
    }
   ],
   "source": [
    "b('hello')"
   ]
  },
  {
   "cell_type": "markdown",
   "metadata": {},
   "source": [
    "To be sure, there are a lot of moving parts to this recipe.  \n",
    "However, it’s all a little unfortunate considering how many limitations there are.  \n",
    "For one, the solution doesn’t work with keyword arguments:"
   ]
  },
  {
   "cell_type": "code",
   "execution_count": null,
   "metadata": {},
   "outputs": [],
   "source": []
  }
 ],
 "metadata": {
  "kernelspec": {
   "display_name": "Python 3",
   "language": "python",
   "name": "python3"
  },
  "language_info": {
   "codemirror_mode": {
    "name": "ipython",
    "version": 3
   },
   "file_extension": ".py",
   "mimetype": "text/x-python",
   "name": "python",
   "nbconvert_exporter": "python",
   "pygments_lexer": "ipython3",
   "version": "3.6.1"
  }
 },
 "nbformat": 4,
 "nbformat_minor": 2
}
