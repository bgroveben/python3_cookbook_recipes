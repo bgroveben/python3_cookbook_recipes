{
 "cells": [
  {
   "cell_type": "markdown",
   "metadata": {},
   "source": [
    "# Chapter 4. Iterators and Generators"
   ]
  },
  {
   "cell_type": "markdown",
   "metadata": {},
   "source": [
    "Iteration is one of Python’s strongest features.  \n",
    "At a high level, you might simply view iteration as a way to process items in a sequence.  \n",
    "However, there is so much more that is possible, such as creating your own iterator objects, applying useful iteration patterns in the itertools module, making generator functions, and so forth.  \n",
    "This chapter aims to address common problems involving iteration."
   ]
  },
  {
   "cell_type": "markdown",
   "metadata": {},
   "source": [
    "## [Manually Consuming an Iterator](http://chimera.labs.oreilly.com/books/1230000000393/ch04.html#_manually_consuming_an_iterator)"
   ]
  },
  {
   "cell_type": "markdown",
   "metadata": {
    "collapsed": true
   },
   "source": [
    "### Problem"
   ]
  },
  {
   "cell_type": "markdown",
   "metadata": {},
   "source": [
    "You need to process items in an iterable, but for whatever reason, you can't or don't want to use a for loop."
   ]
  },
  {
   "cell_type": "markdown",
   "metadata": {},
   "source": [
    "### Solution"
   ]
  },
  {
   "cell_type": "markdown",
   "metadata": {},
   "source": [
    "To manually consume an iterable, use the `next()` function and write your code to catch the `StopIteration` exception.  \n",
    "This example manually reads lines from a file:"
   ]
  },
  {
   "cell_type": "code",
   "execution_count": 14,
   "metadata": {},
   "outputs": [
    {
     "name": "stdout",
     "output_type": "stream",
     "text": [
      "Python Ipsum: Your source for Python-flavored placeholder text.\n",
      "http://pythonipsum.com/\n",
      "\n",
      "Lambda raspberrypi beautiful test script. Kwargs integration itertools dict reduce egg import cython.\n",
      "\n",
      "Django integration functools unit object kwargs functools dictionary cython. Cython integration exception. Lambda integration diversity bdfl. Return integration exception self dunder. Python integration mercurial bdfl python lambda generator. Kwargs raspberrypi decorator unit cython import. Cython raspberrypi exception unit future klass exception. Python integration community. Object raspberrypi community bdfl cython import method.\n",
      "\n",
      "Method raspberrypi diversity 2to3 return yield unit yield guido. Method integration mercurial unit import python exception dictionary. Django raspberrypi functools self import. Python integration mercurial dict return klass. Lambda integration mercurial 2to3 cython zen.\n",
      "\n",
      "Import raspberrypi community pypi reduce dunder pyladies functools. Lambda raspberrypi decorator bdfl. Python integration generator pypy script. Gevent integration generator pypy lambda jinja decorator arduino dict zip.\n",
      "\n",
      "Method integration coroutine unit import cython implicit django python. Return raspberrypi functools pypi method gil dunder. Dunder raspberrypi decorator list reduce numpy. Future raspberrypi coroutine bdfl python egg gevent python functools descriptor.\n"
     ]
    }
   ],
   "source": [
    "with open('python_ipsum.txt') as f:\n",
    "    try:\n",
    "        while True:\n",
    "            line = next(f)\n",
    "            print(line, end='')\n",
    "    except StopIteration:\n",
    "        pass\n",
    "f.close()"
   ]
  },
  {
   "cell_type": "markdown",
   "metadata": {},
   "source": [
    "Normally, `StopIteration` is used to signal the end of iteration.  \n",
    "However, if you're using `next()` manually (as shown), you can also instruct it to return a terminating value, such as `None`, instead."
   ]
  },
  {
   "cell_type": "code",
   "execution_count": 15,
   "metadata": {},
   "outputs": [
    {
     "name": "stdout",
     "output_type": "stream",
     "text": [
      "Python Ipsum: Your source for Python-flavored placeholder text.\n",
      "http://pythonipsum.com/\n",
      "\n",
      "Lambda raspberrypi beautiful test script. Kwargs integration itertools dict reduce egg import cython.\n",
      "\n",
      "Django integration functools unit object kwargs functools dictionary cython. Cython integration exception. Lambda integration diversity bdfl. Return integration exception self dunder. Python integration mercurial bdfl python lambda generator. Kwargs raspberrypi decorator unit cython import. Cython raspberrypi exception unit future klass exception. Python integration community. Object raspberrypi community bdfl cython import method.\n",
      "\n",
      "Method raspberrypi diversity 2to3 return yield unit yield guido. Method integration mercurial unit import python exception dictionary. Django raspberrypi functools self import. Python integration mercurial dict return klass. Lambda integration mercurial 2to3 cython zen.\n",
      "\n",
      "Import raspberrypi community pypi reduce dunder pyladies functools. Lambda raspberrypi decorator bdfl. Python integration generator pypy script. Gevent integration generator pypy lambda jinja decorator arduino dict zip.\n",
      "\n",
      "Method integration coroutine unit import cython implicit django python. Return raspberrypi functools pypi method gil dunder. Dunder raspberrypi decorator list reduce numpy. Future raspberrypi coroutine bdfl python egg gevent python functools descriptor.\n"
     ]
    }
   ],
   "source": [
    "with open('python_ipsum.txt') as f:\n",
    "    while True:\n",
    "        line = next(f, None)\n",
    "        if line is None:\n",
    "            break\n",
    "        print(line, end='')\n",
    "f.close()"
   ]
  },
  {
   "cell_type": "markdown",
   "metadata": {},
   "source": [
    "### Discussion"
   ]
  },
  {
   "cell_type": "markdown",
   "metadata": {},
   "source": [
    "In most cases, the `for` statement is used to consume an iterable.  \n",
    "However, every now and then, a problem calls for more precise control over the underlying iteration mechanism.  \n",
    "Thus, it is useful to know what actually happens.  \n",
    "The following example illustrates the basic mechanics of what happens during iteration:"
   ]
  },
  {
   "cell_type": "code",
   "execution_count": 16,
   "metadata": {},
   "outputs": [
    {
     "data": {
      "text/plain": [
       "1"
      ]
     },
     "execution_count": 16,
     "metadata": {},
     "output_type": "execute_result"
    }
   ],
   "source": [
    "items = [1, 2, 3]\n",
    "# Get the iterator:\n",
    "it = iter(items)  # Invokes items.__iter__()\n",
    "# Run the iterator:\n",
    "next(it)          # Invokes it.__next__()"
   ]
  },
  {
   "cell_type": "code",
   "execution_count": 17,
   "metadata": {},
   "outputs": [
    {
     "data": {
      "text/plain": [
       "2"
      ]
     },
     "execution_count": 17,
     "metadata": {},
     "output_type": "execute_result"
    }
   ],
   "source": [
    "next(it)"
   ]
  },
  {
   "cell_type": "code",
   "execution_count": 18,
   "metadata": {},
   "outputs": [
    {
     "data": {
      "text/plain": [
       "3"
      ]
     },
     "execution_count": 18,
     "metadata": {},
     "output_type": "execute_result"
    }
   ],
   "source": [
    "next(it)"
   ]
  },
  {
   "cell_type": "raw",
   "metadata": {},
   "source": [
    "next(it)\n",
    "\n",
    "---------------------------------------------------------------------------\n",
    "StopIteration                             Traceback (most recent call last)\n",
    "<ipython-input-8-2cdb14c0d4d6> in <module>()\n",
    "----> 1 next(it)\n",
    "\n",
    "StopIteration:"
   ]
  },
  {
   "cell_type": "markdown",
   "metadata": {},
   "source": [
    "Subsequent recipes in this chapter expand on iteration techniques, and knowledge of the basic iterator protocol is assumed.  \n",
    "Be sure to tuck this first recipe away in your memory."
   ]
  },
  {
   "cell_type": "markdown",
   "metadata": {},
   "source": [
    "## [Delegating Iteration](http://chimera.labs.oreilly.com/books/1230000000393/ch04.html#delegate_iteration)"
   ]
  },
  {
   "cell_type": "code",
   "execution_count": null,
   "metadata": {
    "collapsed": true
   },
   "outputs": [],
   "source": []
  }
 ],
 "metadata": {
  "kernelspec": {
   "display_name": "Python 3",
   "language": "python",
   "name": "python3"
  },
  "language_info": {
   "codemirror_mode": {
    "name": "ipython",
    "version": 3
   },
   "file_extension": ".py",
   "mimetype": "text/x-python",
   "name": "python",
   "nbconvert_exporter": "python",
   "pygments_lexer": "ipython3",
   "version": "3.6.1"
  }
 },
 "nbformat": 4,
 "nbformat_minor": 2
}
