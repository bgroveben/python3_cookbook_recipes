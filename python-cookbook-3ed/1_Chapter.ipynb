{
 "cells": [
  {
   "cell_type": "markdown",
   "metadata": {},
   "source": [
    "# Chapter 1. Data Structures and Algorithms"
   ]
  },
  {
   "cell_type": "markdown",
   "metadata": {},
   "source": [
    "Python provides a variety of useful built-in data structures, such as lists, sets, and dictionaries.  \n",
    "For the most part, the use of these structures is straightforward.  \n",
    "However, common questions concerning searching, sorting, ordering, and filtering often arise.  \n",
    "Thus, the goal of this chapter is to discuss common data structures and algorithms involving data.  \n",
    "In addition, treatment is given to the various data structures contained in the `collections` module."
   ]
  },
  {
   "cell_type": "markdown",
   "metadata": {},
   "source": [
    "## Unpacking a Sequence into Separate Variables"
   ]
  },
  {
   "cell_type": "markdown",
   "metadata": {},
   "source": [
    "### Problem"
   ]
  },
  {
   "cell_type": "markdown",
   "metadata": {},
   "source": [
    "You have an $n$-element tuple or sequence that you would like to unpack into a collection of $n$ variables."
   ]
  },
  {
   "cell_type": "markdown",
   "metadata": {},
   "source": [
    "### Solution"
   ]
  },
  {
   "cell_type": "markdown",
   "metadata": {},
   "source": [
    "Any sequence (or iterable) can be unpacked into variables using a simple assignment operation.  \n",
    "The only requirement is that the number of variables and structure match the sequence.  \n",
    "For example:"
   ]
  },
  {
   "cell_type": "code",
   "execution_count": 17,
   "metadata": {},
   "outputs": [
    {
     "name": "stdout",
     "output_type": "stream",
     "text": [
      "x: 4\n",
      "y: 5\n",
      "\n",
      "name: ACME\n",
      "date: (2012, 12, 21)\n",
      "\n",
      "name: ACME\n",
      "year: 2012\n",
      "month: 12\n",
      "day: 21\n"
     ]
    }
   ],
   "source": [
    "p = (4, 5)\n",
    "x, y = p\n",
    "print(\"x: {}\".format(x))\n",
    "print(\"y: {}\".format(y))\n",
    "print() \n",
    "\n",
    "data = [ 'ACME', 50, 91.1, (2012, 12, 21) ]\n",
    "name, shares, price, date = data\n",
    "print(\"name: {}\".format(name))\n",
    "print(\"date: {}\".format(date))\n",
    "print()\n",
    "\n",
    "name, shares, price, (year, month, day) = data\n",
    "print(\"name: {}\".format(name))\n",
    "print(\"year: {}\".format(year))\n",
    "print(\"month: {}\".format(month))\n",
    "print(\"day: {}\".format(day))"
   ]
  },
  {
   "cell_type": "markdown",
   "metadata": {},
   "source": [
    "If there is a mismatch in the number of elements, you'll get an error.  \n",
    "For example:"
   ]
  },
  {
   "cell_type": "raw",
   "metadata": {},
   "source": [
    ">>> p = (4, 5)\n",
    ">>> x, y, z = p\n",
    "\n",
    "ValueError                                Traceback (most recent call last)\n",
    "<ipython-input-2-c6231ccc0a30> in <module>()\n",
    "      1 p = (4, 5)\n",
    "----> 2 x, y, z = p\n",
    "\n",
    "ValueError: not enough values to unpack (expected 3, got 2)\n",
    ">>>"
   ]
  },
  {
   "cell_type": "markdown",
   "metadata": {},
   "source": [
    "### Discussion"
   ]
  },
  {
   "cell_type": "markdown",
   "metadata": {},
   "source": [
    "Unpacking actually works with any object that happens to be iterable, not just tuples or lists.  \n",
    "This includes strings, files, iterators, and generators.  \n",
    "For example:"
   ]
  },
  {
   "cell_type": "code",
   "execution_count": 18,
   "metadata": {},
   "outputs": [
    {
     "name": "stdout",
     "output_type": "stream",
     "text": [
      "a: H\n",
      "e: o\n"
     ]
    }
   ],
   "source": [
    "s = 'Hello'\n",
    "a, b, c, d, e = s\n",
    "print(\"a: {}\".format(a))\n",
    "print(\"e: {}\".format(e))"
   ]
  },
  {
   "cell_type": "markdown",
   "metadata": {},
   "source": [
    "When unpacking, you may sometimes want to discard certain values.  \n",
    "Python has no special syntax for this, but you can often just pick a throwaway variable name for it.  \n",
    "For example:"
   ]
  },
  {
   "cell_type": "code",
   "execution_count": 19,
   "metadata": {},
   "outputs": [
    {
     "name": "stdout",
     "output_type": "stream",
     "text": [
      "shares: 50\n",
      "price: 91.1\n"
     ]
    }
   ],
   "source": [
    "data = [ 'ACME', 50, 91.1, (2012, 12, 21) ]\n",
    "_, shares, price, _ = data\n",
    "print(\"shares: {}\".format(shares))\n",
    "print(\"price: {}\".format(price))"
   ]
  },
  {
   "cell_type": "markdown",
   "metadata": {},
   "source": [
    "Just make sure that the variable name you pick isn't being used for something else already."
   ]
  },
  {
   "cell_type": "markdown",
   "metadata": {},
   "source": [
    "## Unpacking Elements from Iterables of Arbitrary Length"
   ]
  },
  {
   "cell_type": "markdown",
   "metadata": {},
   "source": [
    "### Problem"
   ]
  },
  {
   "cell_type": "markdown",
   "metadata": {},
   "source": [
    "You need to unpack $n$ elements from an iterable, but the iterable may be longer than $n$ elements, causing a \"too many values to unpack\" exception."
   ]
  },
  {
   "cell_type": "markdown",
   "metadata": {},
   "source": [
    "### Solution"
   ]
  },
  {
   "cell_type": "markdown",
   "metadata": {},
   "source": [
    "Python \"star expressions\" can be used to address this problem.  \n",
    "For example, suppose you run a course and decide at the end of the semester that you're going to drop the first and last homework grades, and only average the rest of them.  \n",
    "If there are only four assignments, maybe you simply unpack all four, but what if there are 24?  \n",
    "A star expression makes it easy:"
   ]
  },
  {
   "cell_type": "code",
   "execution_count": 20,
   "metadata": {
    "collapsed": true
   },
   "outputs": [],
   "source": [
    "def drop_first_last(grades):\n",
    "    first, *middle, last = grades\n",
    "    return avg(middle)"
   ]
  },
  {
   "cell_type": "markdown",
   "metadata": {},
   "source": [
    "As another use case, suppose you have user records that consist of a name and email address, followed by an arbitrary number of phone numbers.  \n",
    "You could unpack the records like this:"
   ]
  },
  {
   "cell_type": "code",
   "execution_count": 21,
   "metadata": {},
   "outputs": [
    {
     "name": "stdout",
     "output_type": "stream",
     "text": [
      "name: Dave\n",
      "email: dave@example.com\n",
      "phone_numbers: ['773-555-1212', '847-555-1212']\n"
     ]
    }
   ],
   "source": [
    "user_record = ('Dave', 'dave@example.com', '773-555-1212', '847-555-1212')\n",
    "name, email, *phone_numbers = user_record\n",
    "print(\"name: {}\".format(name))\n",
    "print(\"email: {}\".format(email))\n",
    "print(\"phone_numbers: {}\".format(phone_numbers))"
   ]
  },
  {
   "cell_type": "markdown",
   "metadata": {},
   "source": [
    "It’s worth noting that the phone_numbers variable will always be a list, regardless of how many phone numbers are unpacked (including none).  \n",
    "Thus, any code that uses phone_numbers won’t have to account for the possibility that it might not be a list or perform any kind of additional type checking.  \n",
    "The starred variable can also be the first one in the list.  \n",
    "For example, say you have a sequence of values representing your company’s sales figures for the last eight quarters.  \n",
    "If you want to see how the most recent quarter stacks up to the average of the first seven, you could do something like this:"
   ]
  },
  {
   "cell_type": "raw",
   "metadata": {},
   "source": [
    "*trailing_qtrs, current_qtr = sales_record\n",
    "trailing_avg = sum(trailing_qtrs) / len(trailing_qtrs)\n",
    "return avg_comparison(trailing_avg, current_qtr)"
   ]
  },
  {
   "cell_type": "markdown",
   "metadata": {},
   "source": [
    "Let's give this operation a try:"
   ]
  },
  {
   "cell_type": "code",
   "execution_count": 22,
   "metadata": {},
   "outputs": [
    {
     "name": "stdout",
     "output_type": "stream",
     "text": [
      "trailing_qtrs: [10, 8, 7, 1, 9, 5, 10]\n",
      "current_qtr: 3\n",
      "trailing_avg: 7.142857142857143\n"
     ]
    }
   ],
   "source": [
    "sales_record = [10, 8, 7, 1, 9, 5, 10, 3]\n",
    "*trailing_qtrs, current_qtr = sales_record\n",
    "trailing_avg = sum(trailing_qtrs) / len(trailing_qtrs)\n",
    "\n",
    "print(\"trailing_qtrs: {}\".format(trailing_qtrs))\n",
    "print(\"current_qtr: {}\".format(current_qtr))\n",
    "print(\"trailing_avg: {}\".format(trailing_avg))"
   ]
  },
  {
   "cell_type": "markdown",
   "metadata": {},
   "source": [
    "### Discussion"
   ]
  },
  {
   "cell_type": "markdown",
   "metadata": {},
   "source": [
    "Extended iterable unpacking is tailor-made for unpacking iterables of unknown or arbitrary length.  \n",
    "Oftentimes, these iterables have some known component or pattern in their construction (e.g. \"everything after element 1 is a phone number\"), and star unpacking lets the developer leverage those patterns easily instead of performing acrobatics to get at the relevant elements in the iterable.  \n",
    "It is worth noting that the star syntax can be especially useful when iterating over a sequence of tuples of varying length.  \n",
    "For example, perhaps a sequence of tagged tuples:"
   ]
  },
  {
   "cell_type": "code",
   "execution_count": 23,
   "metadata": {},
   "outputs": [
    {
     "name": "stdout",
     "output_type": "stream",
     "text": [
      "foo 1 2\n",
      "bar hello\n",
      "foo 3 4\n"
     ]
    }
   ],
   "source": [
    "records = [\n",
    "    ('foo', 1, 2),\n",
    "    ('bar', 'hello'),\n",
    "    ('foo', 3, 4)\n",
    "]\n",
    "\n",
    "def do_foo(x, y):\n",
    "    print('foo', x, y)\n",
    "    \n",
    "def do_bar(s):\n",
    "    print('bar', s)\n",
    "    \n",
    "for tag, *args in records:\n",
    "    if tag == 'foo':\n",
    "        do_foo(*args)\n",
    "    elif tag == 'bar':\n",
    "        do_bar(*args)\n",
    "    else:\n",
    "        print(\"Something went wrong. Try again.\")"
   ]
  },
  {
   "cell_type": "markdown",
   "metadata": {},
   "source": [
    "Star unpacking an also be useful when combined with certain kinds of string processing operations, such as splitting.  \n",
    "For example:"
   ]
  },
  {
   "cell_type": "code",
   "execution_count": 24,
   "metadata": {},
   "outputs": [
    {
     "name": "stdout",
     "output_type": "stream",
     "text": [
      "uname: nobody\n",
      "fields: ['*', '-2', '-2', 'Unprivileged User']\n",
      "homedir: /var/empty\n",
      "sh: /usr/bin/false\n"
     ]
    }
   ],
   "source": [
    "line = 'nobody:*:-2:-2:Unprivileged User:/var/empty:/usr/bin/false'\n",
    "uname, *fields, homedir, sh = line.split(':')\n",
    "print(\"uname: {}\".format(uname))\n",
    "print(\"fields: {}\".format(fields))\n",
    "print(\"homedir: {}\".format(homedir))\n",
    "print(\"sh: {}\".format(sh))"
   ]
  },
  {
   "cell_type": "markdown",
   "metadata": {},
   "source": [
    "Sometimes you might want to unpack values and throw them away.  \n",
    "You can't just specify a bare * when unpacking, but you could use a common throwaway variable name, such as _ or `ign` (ignore).  \n",
    "For example:"
   ]
  },
  {
   "cell_type": "code",
   "execution_count": 25,
   "metadata": {},
   "outputs": [
    {
     "name": "stdout",
     "output_type": "stream",
     "text": [
      "name: ACME\n",
      "year: 2017\n"
     ]
    }
   ],
   "source": [
    "record = ('ACME', 50, 123.45, (12, 18, 2017))\n",
    "name, *_, (*_, year) = record\n",
    "print(\"name: {}\".format(name))\n",
    "print(\"year: {}\".format(year))"
   ]
  },
  {
   "cell_type": "markdown",
   "metadata": {},
   "source": [
    "There is a certain similarity between star unpacking and list-processing features of various functional languages.  \n",
    "For example, if you have a list, you can easily split it into head and tail components like this:"
   ]
  },
  {
   "cell_type": "code",
   "execution_count": 26,
   "metadata": {},
   "outputs": [
    {
     "name": "stdout",
     "output_type": "stream",
     "text": [
      "head: 1\n",
      "tail: [10, 7, 4, 5, 9]\n"
     ]
    }
   ],
   "source": [
    "items = [1, 10, 7, 4, 5, 9]\n",
    "head, *tail = items\n",
    "print(\"head: {}\".format(head))\n",
    "print(\"tail: {}\".format(tail))"
   ]
  },
  {
   "cell_type": "markdown",
   "metadata": {},
   "source": [
    "One could imagine writing functions that perform such splitting in order to carry out some kind of clever recursive algorithm, like this:"
   ]
  },
  {
   "cell_type": "code",
   "execution_count": 27,
   "metadata": {},
   "outputs": [
    {
     "data": {
      "text/plain": [
       "36"
      ]
     },
     "execution_count": 27,
     "metadata": {},
     "output_type": "execute_result"
    }
   ],
   "source": [
    "def add_up(items):\n",
    "    head, *tail = items\n",
    "    return head + add_up(tail) if tail else head\n",
    "\n",
    "add_up(items)"
   ]
  },
  {
   "cell_type": "markdown",
   "metadata": {},
   "source": [
    "However, be aware that recursion really isn't a strong Python feature due to the [inherent recursion limit](https://docs.python.org/3/library/sys.html#sys.getrecursionlimit).  \n",
    "Thus, this last example might be nothing more than an academic curiosity in practice."
   ]
  },
  {
   "cell_type": "markdown",
   "metadata": {},
   "source": [
    "## Keeping the Last N Items"
   ]
  },
  {
   "cell_type": "code",
   "execution_count": null,
   "metadata": {
    "collapsed": true
   },
   "outputs": [],
   "source": []
  }
 ],
 "metadata": {
  "kernelspec": {
   "display_name": "Python 3",
   "language": "python",
   "name": "python3"
  },
  "language_info": {
   "codemirror_mode": {
    "name": "ipython",
    "version": 3
   },
   "file_extension": ".py",
   "mimetype": "text/x-python",
   "name": "python",
   "nbconvert_exporter": "python",
   "pygments_lexer": "ipython3",
   "version": "3.6.1"
  }
 },
 "nbformat": 4,
 "nbformat_minor": 2
}
