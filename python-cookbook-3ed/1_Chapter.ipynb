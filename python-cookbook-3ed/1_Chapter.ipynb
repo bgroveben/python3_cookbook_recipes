{
 "cells": [
  {
   "cell_type": "markdown",
   "metadata": {},
   "source": [
    "# Chapter 1. Data Structures and Algorithms"
   ]
  },
  {
   "cell_type": "markdown",
   "metadata": {},
   "source": [
    "Python provides a variety of useful built-in data structures, such as lists, sets, and dictionaries.  \n",
    "For the most part, the use of these structures is straightforward.  \n",
    "However, common questions concerning searching, sorting, ordering, and filtering often arise.  \n",
    "Thus, the goal of this chapter is to discuss common data structures and algorithms involving data.  \n",
    "In addition, treatment is given to the various data structures contained in the `collections` module."
   ]
  },
  {
   "cell_type": "markdown",
   "metadata": {},
   "source": [
    "## Unpacking a Sequence into Separate Variables"
   ]
  },
  {
   "cell_type": "markdown",
   "metadata": {},
   "source": [
    "### Problem"
   ]
  },
  {
   "cell_type": "markdown",
   "metadata": {},
   "source": [
    "You have an $n$-element tuple or sequence that you would like to unpack into a collection of $n$ variables."
   ]
  },
  {
   "cell_type": "markdown",
   "metadata": {},
   "source": [
    "### Solution"
   ]
  },
  {
   "cell_type": "markdown",
   "metadata": {},
   "source": [
    "Any sequence (or iterable) can be unpacked into variables using a simple assignment operation.  \n",
    "The only requirement is that the number of variables and structure match the sequence.  \n",
    "For example:"
   ]
  },
  {
   "cell_type": "code",
   "execution_count": 1,
   "metadata": {},
   "outputs": [
    {
     "name": "stdout",
     "output_type": "stream",
     "text": [
      "x: 4\n",
      "y: 5\n",
      "\n",
      "name: ACME\n",
      "date: (2012, 12, 21)\n",
      "\n",
      "name: ACME\n",
      "year: 2012\n",
      "month: 12\n",
      "day: 21\n"
     ]
    }
   ],
   "source": [
    "p = (4, 5)\n",
    "x, y = p\n",
    "print(\"x: {}\".format(x))\n",
    "print(\"y: {}\".format(y))\n",
    "print() \n",
    "\n",
    "data = [ 'ACME', 50, 91.1, (2012, 12, 21) ]\n",
    "name, shares, price, date = data\n",
    "print(\"name: {}\".format(name))\n",
    "print(\"date: {}\".format(date))\n",
    "print()\n",
    "\n",
    "name, shares, price, (year, month, day) = data\n",
    "print(\"name: {}\".format(name))\n",
    "print(\"year: {}\".format(year))\n",
    "print(\"month: {}\".format(month))\n",
    "print(\"day: {}\".format(day))"
   ]
  },
  {
   "cell_type": "markdown",
   "metadata": {},
   "source": [
    "If there is a mismatch in the number of elements, you'll get an error.  \n",
    "For example:"
   ]
  },
  {
   "cell_type": "raw",
   "metadata": {},
   "source": [
    ">>> p = (4, 5)\n",
    ">>> x, y, z = p\n",
    "\n",
    "ValueError                                Traceback (most recent call last)\n",
    "<ipython-input-2-c6231ccc0a30> in <module>()\n",
    "      1 p = (4, 5)\n",
    "----> 2 x, y, z = p\n",
    "\n",
    "ValueError: not enough values to unpack (expected 3, got 2)\n",
    ">>>"
   ]
  },
  {
   "cell_type": "markdown",
   "metadata": {},
   "source": [
    "### Discussion"
   ]
  },
  {
   "cell_type": "markdown",
   "metadata": {},
   "source": [
    "Unpacking actually works with any object that happens to be iterable, not just tuples or lists.  \n",
    "This includes strings, files, iterators, and generators.  \n",
    "For example:"
   ]
  },
  {
   "cell_type": "code",
   "execution_count": 2,
   "metadata": {},
   "outputs": [
    {
     "name": "stdout",
     "output_type": "stream",
     "text": [
      "a: H\n",
      "e: o\n"
     ]
    }
   ],
   "source": [
    "s = 'Hello'\n",
    "a, b, c, d, e = s\n",
    "print(\"a: {}\".format(a))\n",
    "print(\"e: {}\".format(e))"
   ]
  },
  {
   "cell_type": "markdown",
   "metadata": {},
   "source": [
    "When unpacking, you may sometimes want to discard certain values.  \n",
    "Python has no special syntax for this, but you can often just pick a throwaway variable name for it.  \n",
    "For example:"
   ]
  },
  {
   "cell_type": "code",
   "execution_count": 3,
   "metadata": {},
   "outputs": [
    {
     "name": "stdout",
     "output_type": "stream",
     "text": [
      "shares: 50\n",
      "price: 91.1\n"
     ]
    }
   ],
   "source": [
    "data = [ 'ACME', 50, 91.1, (2012, 12, 21) ]\n",
    "_, shares, price, _ = data\n",
    "print(\"shares: {}\".format(shares))\n",
    "print(\"price: {}\".format(price))"
   ]
  },
  {
   "cell_type": "markdown",
   "metadata": {},
   "source": [
    "Just make sure that the variable name you pick isn't being used for something else already."
   ]
  },
  {
   "cell_type": "markdown",
   "metadata": {},
   "source": [
    "## Unpacking Elements from Iterables of Arbitrary Length"
   ]
  },
  {
   "cell_type": "code",
   "execution_count": null,
   "metadata": {
    "collapsed": true
   },
   "outputs": [],
   "source": []
  }
 ],
 "metadata": {
  "kernelspec": {
   "display_name": "Python 3",
   "language": "python",
   "name": "python3"
  },
  "language_info": {
   "codemirror_mode": {
    "name": "ipython",
    "version": 3
   },
   "file_extension": ".py",
   "mimetype": "text/x-python",
   "name": "python",
   "nbconvert_exporter": "python",
   "pygments_lexer": "ipython3",
   "version": "3.6.1"
  }
 },
 "nbformat": 4,
 "nbformat_minor": 2
}
