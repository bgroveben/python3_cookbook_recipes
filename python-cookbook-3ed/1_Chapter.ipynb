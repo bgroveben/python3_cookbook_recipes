{
 "cells": [
  {
   "cell_type": "markdown",
   "metadata": {},
   "source": [
    "# [Chapter 1. Data Structures and Algorithms](http://chimera.labs.oreilly.com/books/1230000000393/ch01.html)"
   ]
  },
  {
   "cell_type": "markdown",
   "metadata": {},
   "source": [
    "Python provides a variety of useful built-in data structures, such as lists, sets, and dictionaries.  \n",
    "For the most part, the use of these structures is straightforward.  \n",
    "However, common questions concerning searching, sorting, ordering, and filtering often arise.  \n",
    "Thus, the goal of this chapter is to discuss common data structures and algorithms involving data.  \n",
    "In addition, treatment is given to the various data structures contained in the `collections` module."
   ]
  },
  {
   "cell_type": "markdown",
   "metadata": {},
   "source": [
    "## [Unpacking a Sequence into Separate Variables](http://chimera.labs.oreilly.com/books/1230000000393/ch01.html#iterableunpack)"
   ]
  },
  {
   "cell_type": "markdown",
   "metadata": {},
   "source": [
    "### Problem"
   ]
  },
  {
   "cell_type": "markdown",
   "metadata": {},
   "source": [
    "You have an $n$-element tuple or sequence that you would like to unpack into a collection of $n$ variables."
   ]
  },
  {
   "cell_type": "markdown",
   "metadata": {},
   "source": [
    "### Solution"
   ]
  },
  {
   "cell_type": "markdown",
   "metadata": {},
   "source": [
    "Any sequence (or iterable) can be unpacked into variables using a simple assignment operation.  \n",
    "The only requirement is that the number of variables and structure match the sequence.  \n",
    "For example:"
   ]
  },
  {
   "cell_type": "code",
   "execution_count": 1,
   "metadata": {},
   "outputs": [
    {
     "name": "stdout",
     "output_type": "stream",
     "text": [
      "x: 4\n",
      "y: 5\n",
      "\n",
      "name: ACME\n",
      "date: (2012, 12, 21)\n",
      "\n",
      "name: ACME\n",
      "year: 2012\n",
      "month: 12\n",
      "day: 21\n"
     ]
    }
   ],
   "source": [
    "p = (4, 5)\n",
    "x, y = p\n",
    "print(\"x: {}\".format(x))\n",
    "print(\"y: {}\".format(y))\n",
    "print() \n",
    "\n",
    "data = [ 'ACME', 50, 91.1, (2012, 12, 21) ]\n",
    "name, shares, price, date = data\n",
    "print(\"name: {}\".format(name))\n",
    "print(\"date: {}\".format(date))\n",
    "print()\n",
    "\n",
    "name, shares, price, (year, month, day) = data\n",
    "print(\"name: {}\".format(name))\n",
    "print(\"year: {}\".format(year))\n",
    "print(\"month: {}\".format(month))\n",
    "print(\"day: {}\".format(day))"
   ]
  },
  {
   "cell_type": "markdown",
   "metadata": {},
   "source": [
    "If there is a mismatch in the number of elements, you'll get an error.  \n",
    "For example:"
   ]
  },
  {
   "cell_type": "raw",
   "metadata": {},
   "source": [
    ">>> p = (4, 5)\n",
    ">>> x, y, z = p\n",
    "\n",
    "ValueError                                Traceback (most recent call last)\n",
    "<ipython-input-2-c6231ccc0a30> in <module>()\n",
    "      1 p = (4, 5)\n",
    "----> 2 x, y, z = p\n",
    "\n",
    "ValueError: not enough values to unpack (expected 3, got 2)\n",
    ">>>"
   ]
  },
  {
   "cell_type": "markdown",
   "metadata": {},
   "source": [
    "### Discussion"
   ]
  },
  {
   "cell_type": "markdown",
   "metadata": {},
   "source": [
    "Unpacking actually works with any object that happens to be iterable, not just tuples or lists.  \n",
    "This includes strings, files, iterators, and generators.  \n",
    "For example:"
   ]
  },
  {
   "cell_type": "code",
   "execution_count": 2,
   "metadata": {},
   "outputs": [
    {
     "name": "stdout",
     "output_type": "stream",
     "text": [
      "a: H\n",
      "e: o\n"
     ]
    }
   ],
   "source": [
    "s = 'Hello'\n",
    "a, b, c, d, e = s\n",
    "print(\"a: {}\".format(a))\n",
    "print(\"e: {}\".format(e))"
   ]
  },
  {
   "cell_type": "markdown",
   "metadata": {},
   "source": [
    "When unpacking, you may sometimes want to discard certain values.  \n",
    "Python has no special syntax for this, but you can often just pick a throwaway variable name for it.  \n",
    "For example:"
   ]
  },
  {
   "cell_type": "code",
   "execution_count": 3,
   "metadata": {},
   "outputs": [
    {
     "name": "stdout",
     "output_type": "stream",
     "text": [
      "shares: 50\n",
      "price: 91.1\n"
     ]
    }
   ],
   "source": [
    "data = [ 'ACME', 50, 91.1, (2012, 12, 21) ]\n",
    "_, shares, price, _ = data\n",
    "print(\"shares: {}\".format(shares))\n",
    "print(\"price: {}\".format(price))"
   ]
  },
  {
   "cell_type": "markdown",
   "metadata": {},
   "source": [
    "Just make sure that the variable name you pick isn't being used for something else already."
   ]
  },
  {
   "cell_type": "markdown",
   "metadata": {},
   "source": [
    "## [Unpacking Elements from Iterables of Arbitrary Length](http://chimera.labs.oreilly.com/books/1230000000393/ch01.html#_unpacking_elements_from_iterables_of_arbitrary_length)"
   ]
  },
  {
   "cell_type": "markdown",
   "metadata": {},
   "source": [
    "### Problem"
   ]
  },
  {
   "cell_type": "markdown",
   "metadata": {},
   "source": [
    "You need to unpack $n$ elements from an iterable, but the iterable may be longer than $n$ elements, causing a \"too many values to unpack\" exception."
   ]
  },
  {
   "cell_type": "markdown",
   "metadata": {},
   "source": [
    "### Solution"
   ]
  },
  {
   "cell_type": "markdown",
   "metadata": {},
   "source": [
    "Python \"star expressions\" can be used to address this problem.  \n",
    "For example, suppose you run a course and decide at the end of the semester that you're going to drop the first and last homework grades, and only average the rest of them.  \n",
    "If there are only four assignments, maybe you simply unpack all four, but what if there are 24?  \n",
    "A star expression makes it easy:"
   ]
  },
  {
   "cell_type": "code",
   "execution_count": 4,
   "metadata": {
    "collapsed": true
   },
   "outputs": [],
   "source": [
    "def drop_first_last(grades):\n",
    "    first, *middle, last = grades\n",
    "    return avg(middle)"
   ]
  },
  {
   "cell_type": "markdown",
   "metadata": {},
   "source": [
    "As another use case, suppose you have user records that consist of a name and email address, followed by an arbitrary number of phone numbers.  \n",
    "You could unpack the records like this:"
   ]
  },
  {
   "cell_type": "code",
   "execution_count": 5,
   "metadata": {},
   "outputs": [
    {
     "name": "stdout",
     "output_type": "stream",
     "text": [
      "name: Dave\n",
      "email: dave@example.com\n",
      "phone_numbers: ['773-555-1212', '847-555-1212']\n"
     ]
    }
   ],
   "source": [
    "user_record = ('Dave', 'dave@example.com', '773-555-1212', '847-555-1212')\n",
    "name, email, *phone_numbers = user_record\n",
    "print(\"name: {}\".format(name))\n",
    "print(\"email: {}\".format(email))\n",
    "print(\"phone_numbers: {}\".format(phone_numbers))"
   ]
  },
  {
   "cell_type": "markdown",
   "metadata": {},
   "source": [
    "It’s worth noting that the phone_numbers variable will always be a list, regardless of how many phone numbers are unpacked (including none).  \n",
    "Thus, any code that uses phone_numbers won’t have to account for the possibility that it might not be a list or perform any kind of additional type checking.  \n",
    "The starred variable can also be the first one in the list.  \n",
    "For example, say you have a sequence of values representing your company’s sales figures for the last eight quarters.  \n",
    "If you want to see how the most recent quarter stacks up to the average of the first seven, you could do something like this:"
   ]
  },
  {
   "cell_type": "raw",
   "metadata": {},
   "source": [
    "*trailing_qtrs, current_qtr = sales_record\n",
    "trailing_avg = sum(trailing_qtrs) / len(trailing_qtrs)\n",
    "return avg_comparison(trailing_avg, current_qtr)"
   ]
  },
  {
   "cell_type": "markdown",
   "metadata": {},
   "source": [
    "Let's give this operation a try:"
   ]
  },
  {
   "cell_type": "code",
   "execution_count": 6,
   "metadata": {},
   "outputs": [
    {
     "name": "stdout",
     "output_type": "stream",
     "text": [
      "trailing_qtrs: [10, 8, 7, 1, 9, 5, 10]\n",
      "current_qtr: 3\n",
      "trailing_avg: 7.142857142857143\n"
     ]
    }
   ],
   "source": [
    "sales_record = [10, 8, 7, 1, 9, 5, 10, 3]\n",
    "*trailing_qtrs, current_qtr = sales_record\n",
    "trailing_avg = sum(trailing_qtrs) / len(trailing_qtrs)\n",
    "\n",
    "print(\"trailing_qtrs: {}\".format(trailing_qtrs))\n",
    "print(\"current_qtr: {}\".format(current_qtr))\n",
    "print(\"trailing_avg: {}\".format(trailing_avg))"
   ]
  },
  {
   "cell_type": "markdown",
   "metadata": {},
   "source": [
    "### Discussion"
   ]
  },
  {
   "cell_type": "markdown",
   "metadata": {},
   "source": [
    "Extended iterable unpacking is tailor-made for unpacking iterables of unknown or arbitrary length.  \n",
    "Oftentimes, these iterables have some known component or pattern in their construction (e.g. \"everything after element 1 is a phone number\"), and star unpacking lets the developer leverage those patterns easily instead of performing acrobatics to get at the relevant elements in the iterable.  \n",
    "It is worth noting that the star syntax can be especially useful when iterating over a sequence of tuples of varying length.  \n",
    "For example, perhaps a sequence of tagged tuples:"
   ]
  },
  {
   "cell_type": "code",
   "execution_count": 7,
   "metadata": {},
   "outputs": [
    {
     "name": "stdout",
     "output_type": "stream",
     "text": [
      "foo 1 2\n",
      "bar hello\n",
      "foo 3 4\n"
     ]
    }
   ],
   "source": [
    "records = [\n",
    "    ('foo', 1, 2),\n",
    "    ('bar', 'hello'),\n",
    "    ('foo', 3, 4)\n",
    "]\n",
    "\n",
    "def do_foo(x, y):\n",
    "    print('foo', x, y)\n",
    "    \n",
    "def do_bar(s):\n",
    "    print('bar', s)\n",
    "    \n",
    "for tag, *args in records:\n",
    "    if tag == 'foo':\n",
    "        do_foo(*args)\n",
    "    elif tag == 'bar':\n",
    "        do_bar(*args)\n",
    "    else:\n",
    "        print(\"Something went wrong. Try again.\")"
   ]
  },
  {
   "cell_type": "markdown",
   "metadata": {},
   "source": [
    "Star unpacking an also be useful when combined with certain kinds of string processing operations, such as splitting.  \n",
    "For example:"
   ]
  },
  {
   "cell_type": "code",
   "execution_count": 8,
   "metadata": {},
   "outputs": [
    {
     "name": "stdout",
     "output_type": "stream",
     "text": [
      "uname: nobody\n",
      "fields: ['*', '-2', '-2', 'Unprivileged User']\n",
      "homedir: /var/empty\n",
      "sh: /usr/bin/false\n"
     ]
    }
   ],
   "source": [
    "line = 'nobody:*:-2:-2:Unprivileged User:/var/empty:/usr/bin/false'\n",
    "uname, *fields, homedir, sh = line.split(':')\n",
    "print(\"uname: {}\".format(uname))\n",
    "print(\"fields: {}\".format(fields))\n",
    "print(\"homedir: {}\".format(homedir))\n",
    "print(\"sh: {}\".format(sh))"
   ]
  },
  {
   "cell_type": "markdown",
   "metadata": {},
   "source": [
    "Sometimes you might want to unpack values and throw them away.  \n",
    "You can't just specify a bare * when unpacking, but you could use a common throwaway variable name, such as _ or `ign` (ignore).  \n",
    "For example:"
   ]
  },
  {
   "cell_type": "code",
   "execution_count": 9,
   "metadata": {},
   "outputs": [
    {
     "name": "stdout",
     "output_type": "stream",
     "text": [
      "name: ACME\n",
      "year: 2017\n"
     ]
    }
   ],
   "source": [
    "record = ('ACME', 50, 123.45, (12, 18, 2017))\n",
    "name, *_, (*_, year) = record\n",
    "print(\"name: {}\".format(name))\n",
    "print(\"year: {}\".format(year))"
   ]
  },
  {
   "cell_type": "markdown",
   "metadata": {},
   "source": [
    "There is a certain similarity between star unpacking and list-processing features of various functional languages.  \n",
    "For example, if you have a list, you can easily split it into head and tail components like this:"
   ]
  },
  {
   "cell_type": "code",
   "execution_count": 10,
   "metadata": {},
   "outputs": [
    {
     "name": "stdout",
     "output_type": "stream",
     "text": [
      "head: 1\n",
      "tail: [10, 7, 4, 5, 9]\n"
     ]
    }
   ],
   "source": [
    "items = [1, 10, 7, 4, 5, 9]\n",
    "head, *tail = items\n",
    "print(\"head: {}\".format(head))\n",
    "print(\"tail: {}\".format(tail))"
   ]
  },
  {
   "cell_type": "markdown",
   "metadata": {},
   "source": [
    "One could imagine writing functions that perform such splitting in order to carry out some kind of clever recursive algorithm, like this:"
   ]
  },
  {
   "cell_type": "code",
   "execution_count": 11,
   "metadata": {},
   "outputs": [
    {
     "data": {
      "text/plain": [
       "36"
      ]
     },
     "execution_count": 11,
     "metadata": {},
     "output_type": "execute_result"
    }
   ],
   "source": [
    "def add_up(items):\n",
    "    head, *tail = items\n",
    "    return head + add_up(tail) if tail else head\n",
    "\n",
    "add_up(items)"
   ]
  },
  {
   "cell_type": "markdown",
   "metadata": {},
   "source": [
    "However, be aware that recursion really isn't a strong Python feature due to the [inherent recursion limit](https://docs.python.org/3/library/sys.html#sys.getrecursionlimit).  \n",
    "Thus, this last example might be nothing more than an academic curiosity in practice."
   ]
  },
  {
   "cell_type": "markdown",
   "metadata": {},
   "source": [
    "## [Keeping the Last N Items](http://chimera.labs.oreilly.com/books/1230000000393/ch01.html#_keeping_the_last_n_items)"
   ]
  },
  {
   "cell_type": "markdown",
   "metadata": {
    "collapsed": true
   },
   "source": [
    "### Problem"
   ]
  },
  {
   "cell_type": "markdown",
   "metadata": {},
   "source": [
    "You want to keep a limited history of the last few items seen during iteration or during some other kind of processing."
   ]
  },
  {
   "cell_type": "markdown",
   "metadata": {},
   "source": [
    "### Solution"
   ]
  },
  {
   "cell_type": "markdown",
   "metadata": {},
   "source": [
    "Keeping a limited history is a perfect use for a [collections.deque](https://docs.python.org/3/library/collections.html#collections.deque).  \n",
    "For example, the following code performs a simple text match on a sequence of lines and yields the matching line along with the previous $n$ lines of context when found:"
   ]
  },
  {
   "cell_type": "code",
   "execution_count": 12,
   "metadata": {},
   "outputs": [
    {
     "name": "stdout",
     "output_type": "stream",
     "text": [
      "Python Ipsum: Your source for Python-flavored placeholder text.\n",
      "http://pythonipsum.com/\n",
      "--------------------\n",
      "Python Ipsum: Your source for Python-flavored placeholder text.\n",
      "http://pythonipsum.com/\n",
      "\n",
      "Lambda raspberrypi beautiful test script. Kwargs integration itertools dict reduce egg import cython.\n",
      "\n",
      "Django integration functools unit object kwargs functools dictionary cython. Cython integration exception. Lambda integration diversity bdfl. Return integration exception self dunder. Python integration mercurial bdfl python lambda generator. Kwargs raspberrypi decorator unit cython import. Cython raspberrypi exception unit future klass exception. Python integration community. Object raspberrypi community bdfl cython import method.\n",
      "--------------------\n",
      "\n",
      "Lambda raspberrypi beautiful test script. Kwargs integration itertools dict reduce egg import cython.\n",
      "\n",
      "Django integration functools unit object kwargs functools dictionary cython. Cython integration exception. Lambda integration diversity bdfl. Return integration exception self dunder. Python integration mercurial bdfl python lambda generator. Kwargs raspberrypi decorator unit cython import. Cython raspberrypi exception unit future klass exception. Python integration community. Object raspberrypi community bdfl cython import method.\n",
      "\n",
      "Method raspberrypi diversity 2to3 return yield unit yield guido. Method integration mercurial unit import python exception dictionary. Django raspberrypi functools self import. Python integration mercurial dict return klass. Lambda integration mercurial 2to3 cython zen.\n",
      "--------------------\n",
      "\n",
      "Method raspberrypi diversity 2to3 return yield unit yield guido. Method integration mercurial unit import python exception dictionary. Django raspberrypi functools self import. Python integration mercurial dict return klass. Lambda integration mercurial 2to3 cython zen.\n",
      "\n",
      "Import raspberrypi community pypi reduce dunder pyladies functools. Lambda raspberrypi decorator bdfl. Python integration generator pypy script. Gevent integration generator pypy lambda jinja decorator arduino dict zip.\n",
      "\n",
      "Method integration coroutine unit import cython implicit django python. Return raspberrypi functools pypi method gil dunder. Dunder raspberrypi decorator list reduce numpy. Future raspberrypi coroutine bdfl python egg gevent python functools descriptor.\n",
      "--------------------\n"
     ]
    }
   ],
   "source": [
    "from collections import deque\n",
    "\n",
    "def search(lines, pattern, history=5):\n",
    "    previous_lines = deque(maxlen=history)\n",
    "    for line in lines:\n",
    "        if pattern in line:\n",
    "            yield line, previous_lines\n",
    "        previous_lines.append(line)\n",
    "        \n",
    "# Example use on a file:\n",
    "if __name__=='__main__':\n",
    "    with open('python_ipsum.txt') as f:\n",
    "        for line, prevlines in search(f, 'python', 5):\n",
    "            for pline in prevlines:\n",
    "                print(pline, end='')\n",
    "            print(line, end='')\n",
    "            print('-'*20)"
   ]
  },
  {
   "cell_type": "markdown",
   "metadata": {},
   "source": [
    "### Discussion"
   ]
  },
  {
   "cell_type": "markdown",
   "metadata": {},
   "source": [
    "When writing code to search for items, it is common to use a generator function involving `yield`, as shown in this recipe's solution.  \n",
    "This decouples the process of searching from the code that uses the results.  \n",
    "If you're new to generators, see [\"Creating New Iteration Patterns with Generators\"](http://chimera.labs.oreilly.com/books/1230000000393/ch04.html#_solution_59).  \n",
    "Using `deque(maxlen=n)` creates a fixed-sized queue.  \n",
    "When new items are added and the queue is full, the oldest item is automatically removed.  \n",
    "For example:"
   ]
  },
  {
   "cell_type": "code",
   "execution_count": 13,
   "metadata": {},
   "outputs": [
    {
     "name": "stdout",
     "output_type": "stream",
     "text": [
      "deque([1, 2, 3], maxlen=3)\n",
      "deque([2, 3, 4], maxlen=3)\n",
      "deque([3, 4, 5], maxlen=3)\n"
     ]
    }
   ],
   "source": [
    "q = deque(maxlen=3)\n",
    "q.append(1)\n",
    "q.append(2)\n",
    "q.append(3)\n",
    "print(q)\n",
    "q.append(4)\n",
    "print(q)\n",
    "q.append(5)\n",
    "print(q)"
   ]
  },
  {
   "cell_type": "markdown",
   "metadata": {},
   "source": [
    "Although you could manually perform such operations on a list (e.g., appending, deleting, and so on), the queue solution is far more elegant and runs a lot faster.  \n",
    "More generally, a `deque` can be used whenever you need a simple queue structure.  \n",
    "If you don't give it a maximum size, you get an unbounded queue that lets you append and pop items on either end, like this:"
   ]
  },
  {
   "cell_type": "code",
   "execution_count": 14,
   "metadata": {},
   "outputs": [
    {
     "name": "stdout",
     "output_type": "stream",
     "text": [
      "deque([1, 2, 3])\n",
      "deque([4, 1, 2, 3])\n",
      "deque([4, 1, 2])\n",
      "deque([1, 2])\n"
     ]
    }
   ],
   "source": [
    "q = deque()\n",
    "q.append(1)\n",
    "q.append(2)\n",
    "q.append(3)\n",
    "print(q)\n",
    "q.appendleft(4)\n",
    "print(q)\n",
    "q.pop()\n",
    "print(q)\n",
    "q.popleft()\n",
    "print(q)"
   ]
  },
  {
   "cell_type": "markdown",
   "metadata": {},
   "source": [
    "Adding or popping items from either end of a queue has $O(1)$ complexity.  \n",
    "This is unlike a [list](https://docs.python.org/3/library/stdtypes.html#list) where inserting or removing items from the front of a list is $O(n)$."
   ]
  },
  {
   "cell_type": "markdown",
   "metadata": {},
   "source": [
    "## [Finding the Largest or Smallest N Items](http://chimera.labs.oreilly.com/books/1230000000393/ch01.html#findingthelargestorsmallest)"
   ]
  },
  {
   "cell_type": "markdown",
   "metadata": {
    "collapsed": true
   },
   "source": [
    "### Problem"
   ]
  },
  {
   "cell_type": "markdown",
   "metadata": {},
   "source": [
    "You want to make a list of the largest or smallest $n$ items in a collection."
   ]
  },
  {
   "cell_type": "markdown",
   "metadata": {},
   "source": [
    "### Solution"
   ]
  },
  {
   "cell_type": "markdown",
   "metadata": {},
   "source": [
    "The [heapq](https://docs.python.org/3.6/library/heapq.html) module has two functions -- `nlargest()` and `nsmallest()` -- that do exactly what you want."
   ]
  },
  {
   "cell_type": "code",
   "execution_count": 15,
   "metadata": {},
   "outputs": [
    {
     "name": "stdout",
     "output_type": "stream",
     "text": [
      "heapq.nlargest(3, nums): [42, 37, 23]\n",
      "heapq.nsmallest(3, nums): [-4, 1, 2]\n"
     ]
    }
   ],
   "source": [
    "import heapq\n",
    "\n",
    "nums = [1, 8, 2, 23, 7, -4, 18, 23, 42, 37, 2]\n",
    "print(\"heapq.nlargest(3, nums): {}\".format(heapq.nlargest(3, nums)))\n",
    "print(\"heapq.nsmallest(3, nums): {}\".format(heapq.nsmallest(3, nums)))"
   ]
  },
  {
   "cell_type": "markdown",
   "metadata": {},
   "source": [
    "Both functions also accept a key parameter that allows them to be used with more complicated data structures."
   ]
  },
  {
   "cell_type": "code",
   "execution_count": 16,
   "metadata": {},
   "outputs": [
    {
     "name": "stdout",
     "output_type": "stream",
     "text": [
      "cheap: [{'name': 'YHOO', 'shares': 45, 'price': 16.35}, {'name': 'FB', 'shares': 200, 'price': 21.09}, {'name': 'HPQ', 'shares': 35, 'price': 31.75}]\n",
      "expensive: [{'name': 'AAPL', 'shares': 50, 'price': 543.22}, {'name': 'ACME', 'shares': 75, 'price': 115.65}, {'name': 'IBM', 'shares': 100, 'price': 91.1}]\n"
     ]
    }
   ],
   "source": [
    "portfolio = [\n",
    "   {'name': 'IBM', 'shares': 100, 'price': 91.1},\n",
    "   {'name': 'AAPL', 'shares': 50, 'price': 543.22},\n",
    "   {'name': 'FB', 'shares': 200, 'price': 21.09},\n",
    "   {'name': 'HPQ', 'shares': 35, 'price': 31.75},\n",
    "   {'name': 'YHOO', 'shares': 45, 'price': 16.35},\n",
    "   {'name': 'ACME', 'shares': 75, 'price': 115.65}\n",
    "]\n",
    "\n",
    "cheap = heapq.nsmallest(3, portfolio, key=lambda s: s['price'])\n",
    "print(\"cheap: {}\".format(cheap))\n",
    "expensive = heapq.nlargest(3, portfolio, key=lambda s: s['price'])\n",
    "print(\"expensive: {}\".format(expensive))"
   ]
  },
  {
   "cell_type": "markdown",
   "metadata": {},
   "source": [
    "### Discussion"
   ]
  },
  {
   "cell_type": "markdown",
   "metadata": {},
   "source": [
    "If you are looking for the $n$ smallest or largest items and $n$ is small compared to the overall size of the collection, these functions provide superior performance.  \n",
    "Undeneath the covers, they work by first converting the data into a list where items are ordered as a heap."
   ]
  },
  {
   "cell_type": "code",
   "execution_count": 17,
   "metadata": {},
   "outputs": [
    {
     "name": "stdout",
     "output_type": "stream",
     "text": [
      "myheap: [1, 8, 2, 23, 7, -4, 18, 23, 42, 37, 2]\n"
     ]
    }
   ],
   "source": [
    "import heapq\n",
    "\n",
    "nums = [1, 8, 2, 23, 7, -4, 18, 23, 42, 37, 2]\n",
    "myheap = list(nums)\n",
    "print(\"myheap: {}\".format(myheap))"
   ]
  },
  {
   "cell_type": "code",
   "execution_count": 18,
   "metadata": {},
   "outputs": [
    {
     "data": {
      "text/plain": [
       "[-4, 2, 1, 23, 7, 2, 18, 23, 42, 37, 8]"
      ]
     },
     "execution_count": 18,
     "metadata": {},
     "output_type": "execute_result"
    }
   ],
   "source": [
    "heapq.heapify(myheap)\n",
    "myheap"
   ]
  },
  {
   "cell_type": "markdown",
   "metadata": {},
   "source": [
    "The most important feature of a heap is that `heap[0]` is always the smallest item.  \n",
    "Moreover, subsequent items can be easily found using the `heapq.heappop()` method, which pops off the first item and replaces it with the next smallest item (an operation that requires O(log $n$) operations where $n$ is the size of the heap).  \n",
    "For example, to find the three smallest items, you would do this:"
   ]
  },
  {
   "cell_type": "code",
   "execution_count": 19,
   "metadata": {},
   "outputs": [
    {
     "data": {
      "text/plain": [
       "-4"
      ]
     },
     "execution_count": 19,
     "metadata": {},
     "output_type": "execute_result"
    }
   ],
   "source": [
    "heapq.heappop(myheap)"
   ]
  },
  {
   "cell_type": "code",
   "execution_count": 20,
   "metadata": {},
   "outputs": [
    {
     "data": {
      "text/plain": [
       "1"
      ]
     },
     "execution_count": 20,
     "metadata": {},
     "output_type": "execute_result"
    }
   ],
   "source": [
    "heapq.heappop(myheap)"
   ]
  },
  {
   "cell_type": "code",
   "execution_count": 21,
   "metadata": {},
   "outputs": [
    {
     "data": {
      "text/plain": [
       "2"
      ]
     },
     "execution_count": 21,
     "metadata": {},
     "output_type": "execute_result"
    }
   ],
   "source": [
    "heapq.heappop(myheap)"
   ]
  },
  {
   "cell_type": "markdown",
   "metadata": {},
   "source": [
    "The `nlargest()` and `nsmallest()` functions are most appropriate if you are trying to find a relatively small number of items.  \n",
    "If you are simply trying to find the single smallest or largest item ($n$=1), it is faster to use `min()` and `max()`. Similarly, if $n$ is about the same size as the collection itself, it is usually faster to sort it first and take a slice (i.e., use sorted(items)[:$n$] or sorted(items)[-$n$:]).  \n",
    "It should be noted that the actual implementation of `nlargest()` and `nsmallest()` is adaptive in how it operates and will carry out some of these optimizations on your behalf (e.g., using sorting if $n$ is close to the same size as the input).  \n",
    "Although it’s not necessary to use this recipe, the implementation of a heap is an interesting and worthwhile subject of study.  \n",
    "This can usually be found in any decent book on algorithms and data structures.  \n",
    "The documentation for the heapq module also discusses the underlying implementation details."
   ]
  },
  {
   "cell_type": "markdown",
   "metadata": {},
   "source": [
    "## [Implementing a Priority Queue](http://chimera.labs.oreilly.com/books/1230000000393/ch01.html#priorityqueue)"
   ]
  },
  {
   "cell_type": "markdown",
   "metadata": {},
   "source": [
    "### Problem"
   ]
  },
  {
   "cell_type": "markdown",
   "metadata": {},
   "source": [
    "You want to implement a queue that sorts items by a given priority and always returns the item with the highest priority on each pop operation."
   ]
  },
  {
   "cell_type": "markdown",
   "metadata": {},
   "source": [
    "### Solution"
   ]
  },
  {
   "cell_type": "markdown",
   "metadata": {},
   "source": [
    "The following class uses the `heapq` module to implement a simple priority queue:"
   ]
  },
  {
   "cell_type": "code",
   "execution_count": 22,
   "metadata": {
    "collapsed": true
   },
   "outputs": [],
   "source": [
    "import heapq\n",
    "\n",
    "class PriorityQueue:\n",
    "    def __init__(self):\n",
    "        self._queue = []\n",
    "        self._index = 0\n",
    "        \n",
    "    def pq_push(self, item, priority):\n",
    "        heapq.heappush(self._queue, (-priority, self._index, item))\n",
    "        self._index += 1\n",
    "        \n",
    "    def pq_pop(self):\n",
    "        return heapq.heappop(self._queue)[-1]"
   ]
  },
  {
   "cell_type": "markdown",
   "metadata": {},
   "source": [
    "Here is how it might be used:"
   ]
  },
  {
   "cell_type": "code",
   "execution_count": 23,
   "metadata": {},
   "outputs": [
    {
     "data": {
      "text/plain": [
       "Item('bar')"
      ]
     },
     "execution_count": 23,
     "metadata": {},
     "output_type": "execute_result"
    }
   ],
   "source": [
    "class Item:\n",
    "    def __init__(self, name):\n",
    "        self.name = name\n",
    "        \n",
    "    def __repr__(self):\n",
    "        return \"Item({!r})\".format(self.name)\n",
    "    \n",
    "q = PriorityQueue()\n",
    "q.pq_push(Item('foo'), 1)\n",
    "q.pq_push(Item('bar'), 5)\n",
    "q.pq_push(Item('spam'), 4)\n",
    "q.pq_push(Item('grok'), 1)\n",
    "q.pq_pop()"
   ]
  },
  {
   "cell_type": "code",
   "execution_count": 24,
   "metadata": {},
   "outputs": [
    {
     "data": {
      "text/plain": [
       "Item('spam')"
      ]
     },
     "execution_count": 24,
     "metadata": {},
     "output_type": "execute_result"
    }
   ],
   "source": [
    "q.pq_pop()"
   ]
  },
  {
   "cell_type": "code",
   "execution_count": 25,
   "metadata": {},
   "outputs": [
    {
     "data": {
      "text/plain": [
       "Item('foo')"
      ]
     },
     "execution_count": 25,
     "metadata": {},
     "output_type": "execute_result"
    }
   ],
   "source": [
    "q.pq_pop()"
   ]
  },
  {
   "cell_type": "code",
   "execution_count": 26,
   "metadata": {},
   "outputs": [
    {
     "data": {
      "text/plain": [
       "Item('grok')"
      ]
     },
     "execution_count": 26,
     "metadata": {},
     "output_type": "execute_result"
    }
   ],
   "source": [
    "q.pq_pop()"
   ]
  },
  {
   "cell_type": "markdown",
   "metadata": {},
   "source": [
    "Observe how the first `pop()` operation returned the item with the highest priority.  \n",
    "Also observe how the two items with the same priority (`foo` and `grok`) were returned in the same order in which they were inserted into the queue."
   ]
  },
  {
   "cell_type": "markdown",
   "metadata": {},
   "source": [
    "### Discussion"
   ]
  },
  {
   "cell_type": "markdown",
   "metadata": {
    "collapsed": true
   },
   "source": [
    "The core of this recipe concerns the use of the `heapq` module.  \n",
    "The functions `heapq.heappush()` and `heapq.heappop()` insert and remove items from a list `_queue` in a way such that the first item in the list has the smallest priority (as discussed in “Finding the Largest or Smallest N Items”).  \n",
    "The `heappop()` method always returns the \"smallest\" item, so that is the key to making the queue pop the correct items.  \n",
    "Moreover, since the push and pop operations have `O(log N)` complexity where `N` is the number of items in the heap, they are fairly efficient even for fairly large values of `N`."
   ]
  },
  {
   "cell_type": "markdown",
   "metadata": {},
   "source": [
    "In this recipe, the queue consists of tuples of the form `(-priority, index, item)`.  \n",
    "The `priority` value is negated to get the queue to sort items from highest priority to lowest priority.  \n",
    "This is the opposite of the normal heap ordering which sorts from lowest to highest value.  \n",
    "The role of the `index` variable is to properly order items with the same priority level.  \n",
    "By keeping a constantly increasing index, the items will be sorted according to the order in which they were inserted.  \n",
    "However, the index also serves an important role in making the comparison operations work for items that have the same priority level."
   ]
  },
  {
   "cell_type": "markdown",
   "metadata": {},
   "source": [
    "To elaborate on that, instances if Item in the example can't be ordered.  \n",
    "For example:"
   ]
  },
  {
   "cell_type": "raw",
   "metadata": {},
   "source": [
    "a = Item('foo')\n",
    "b = Item('bar')\n",
    "print(a < b)\n",
    "\n",
    "TypeError                                 Traceback (most recent call last)\n",
    "<ipython-input-27-a1b7ff1ab08d> in <module>()\n",
    "      1 a = Item('foo')\n",
    "      2 b = Item('bar')\n",
    "----> 3 print(a < b)\n",
    "\n",
    "TypeError: '<' not supported between instances of 'Item' and 'Item'"
   ]
  },
  {
   "cell_type": "markdown",
   "metadata": {},
   "source": [
    "If you make `(priority, item)` tuples, they can be compared as long as the priorities are different.  \n",
    "However, if two tuples with equal priorities are compared, the comparison fails as before.  \n",
    "For example:"
   ]
  },
  {
   "cell_type": "raw",
   "metadata": {},
   "source": [
    "a = (1, Item('foo'))\n",
    "b = (5, Item('bar'))\n",
    "print(a < b)\n",
    "True\n",
    "c = (1, Item('grok'))\n",
    "print(a < c)\n",
    "\n",
    "---------------------------------------------------------------------------\n",
    "TypeError                                 Traceback (most recent call last)\n",
    "<ipython-input-28-91f3b3133373> in <module>()\n",
    "      3 print(a < b)\n",
    "      4 c = (1, Item('grok'))\n",
    "----> 5 print(a < c)\n",
    "\n",
    "TypeError: '<' not supported between instances of 'Item' and 'Item'"
   ]
  },
  {
   "cell_type": "markdown",
   "metadata": {},
   "source": [
    "By introducing the extra index and making `(priority, index, item)` tuples, you avoid this problem entirely since no two tuples will ever have the same value for `index` (and Python never bother to compare the remaining tuple values once the result of comparison can be determined):"
   ]
  },
  {
   "cell_type": "code",
   "execution_count": 27,
   "metadata": {},
   "outputs": [
    {
     "name": "stdout",
     "output_type": "stream",
     "text": [
      "True\n",
      "True\n"
     ]
    }
   ],
   "source": [
    "a = (1, 0, Item('foo'))\n",
    "b = (5, 1, Item('bar'))\n",
    "c = (1, 2, Item('grok'))\n",
    "print(a < b)\n",
    "print(a < c)"
   ]
  },
  {
   "cell_type": "markdown",
   "metadata": {},
   "source": [
    "If you want to use this queue for communication between threads, you need to add appropriate locking and signaling. See “Communicating Between Threads” for an example of how to do this.  \n",
    "The documentation for the heapq module has further examples and discussion concerning the theory and implementation of heaps."
   ]
  },
  {
   "cell_type": "markdown",
   "metadata": {},
   "source": [
    "## [Mapping Keys to Multiple Values in a Dictionary](http://chimera.labs.oreilly.com/books/1230000000393/ch01.html#multidict)"
   ]
  },
  {
   "cell_type": "markdown",
   "metadata": {
    "collapsed": true
   },
   "source": [
    "### Problem"
   ]
  },
  {
   "cell_type": "markdown",
   "metadata": {},
   "source": [
    "You want to make a dictionary that maps keys to more than one value (a so-called \"multidict\")."
   ]
  },
  {
   "cell_type": "markdown",
   "metadata": {},
   "source": [
    "### Solution"
   ]
  },
  {
   "cell_type": "markdown",
   "metadata": {},
   "source": [
    "A dictionary is a mapping where each key is mapped to a single value.  \n",
    "If you want to map keys to multiple values, you need to store the multiple values in another container such as a list or set.  \n",
    "For example, you might make dictionaries like this:"
   ]
  },
  {
   "cell_type": "code",
   "execution_count": 28,
   "metadata": {
    "collapsed": true
   },
   "outputs": [],
   "source": [
    "d = {\n",
    "    'a' : [1, 2, 3],\n",
    "    'b' : [4, 5]\n",
    "}\n",
    "\n",
    "e = {\n",
    "    'a' : {1, 2, 3},\n",
    "    'b' : {4, 5}\n",
    "}"
   ]
  },
  {
   "cell_type": "markdown",
   "metadata": {},
   "source": [
    "The choice of whether or not to use lists or sets depends on intended use.  \n",
    "Use a list if you want to preserve the insertion order of the items.  \n",
    "Use a set if you want to eliminate duplicates (and don’t care about the order).  \n",
    "To easily construct such dictionaries, you can use `defaultdict` in the `collections` module.  \n",
    "A feature of `defaultdict` is that it automatically initializes the first value so you can simply focus on adding items.  \n",
    "For example:"
   ]
  },
  {
   "cell_type": "raw",
   "metadata": {},
   "source": [
    "d = defaultdict(list)\n",
    "d['a'].append(1)\n",
    "d['a'].append(2)\n",
    "d['b'].append(4)\n",
    "...\n",
    "\n",
    "d = defaultdict(set)\n",
    "d['a'].add(1)\n",
    "d['a'].add(2)\n",
    "d['b'].add(4)\n",
    "..."
   ]
  },
  {
   "cell_type": "markdown",
   "metadata": {},
   "source": [
    "One caution with `defaultdict` is that it will automatically create dictionary entries for keys accessed later on (even if they aren’t currently found in the dictionary).  \n",
    "If you don’t want this behavior, you might use `setdefault()` on an ordinary dictionary instead.  \n",
    "For example:"
   ]
  },
  {
   "cell_type": "raw",
   "metadata": {},
   "source": [
    "d = {}  # A regular dictionary\n",
    "d.setdefault('a', []).append(1)\n",
    "d.setdefault('a', []).append(2)\n",
    "d.setdefault('b', []).append(4)\n",
    "..."
   ]
  },
  {
   "cell_type": "markdown",
   "metadata": {},
   "source": [
    "However, many programmers find `setdefault()` to be a little unnatural -- not to mention the fact that it always creates a new instance of the initial value on each invocation (the empty list [] in the example)."
   ]
  },
  {
   "cell_type": "markdown",
   "metadata": {},
   "source": [
    "### Discussion"
   ]
  },
  {
   "cell_type": "markdown",
   "metadata": {},
   "source": [
    "In principle, constructing a multivalued dictionary is simple.  \n",
    "However, initialization of the first value can be messy if you try to do it yourself.  \n",
    "For example, you might have code that looks like this:"
   ]
  },
  {
   "cell_type": "raw",
   "metadata": {},
   "source": [
    "d = {}\n",
    "for key, value in pairs:\n",
    "    if key not in d:\n",
    "        d[key] = []\n",
    "    d[key].append(value)"
   ]
  },
  {
   "cell_type": "markdown",
   "metadata": {},
   "source": [
    "Using a `defaultdict` simply leads to much cleaner code:"
   ]
  },
  {
   "cell_type": "raw",
   "metadata": {},
   "source": [
    "d = defaultdict(list)\n",
    "for key, value in pairs:\n",
    "    d[key].append(value)"
   ]
  },
  {
   "cell_type": "markdown",
   "metadata": {},
   "source": [
    "This recipe is strongly related to the problem of grouping records together in data processing problems.  \n",
    "See “Grouping Records Together Based on a Field” for an example."
   ]
  },
  {
   "cell_type": "markdown",
   "metadata": {},
   "source": [
    "## [Keeping Dictionaries in Order](http://chimera.labs.oreilly.com/books/1230000000393/ch01.html#ordereddict)"
   ]
  },
  {
   "cell_type": "markdown",
   "metadata": {},
   "source": [
    "### Problem"
   ]
  },
  {
   "cell_type": "markdown",
   "metadata": {},
   "source": [
    "You want to create a dictionary, and you also want to control the order of the items when iterating or serializing."
   ]
  },
  {
   "cell_type": "markdown",
   "metadata": {},
   "source": [
    "### Solution"
   ]
  },
  {
   "cell_type": "markdown",
   "metadata": {},
   "source": [
    "To control the order of items in a dictionary, you can use an `OrderedDict` from the `collections` module.  \n",
    "It exactly preserves the original insertion order of the data when iterating.  \n",
    "Here's how that works:"
   ]
  },
  {
   "cell_type": "code",
   "execution_count": 29,
   "metadata": {},
   "outputs": [
    {
     "name": "stdout",
     "output_type": "stream",
     "text": [
      "foo 1\n",
      "bar 2\n",
      "spam 3\n",
      "grok 4\n"
     ]
    }
   ],
   "source": [
    "from collections import OrderedDict\n",
    "\n",
    "d = OrderedDict()\n",
    "d['foo'] = 1\n",
    "d['bar'] = 2\n",
    "d['spam'] = 3\n",
    "d['grok'] = 4\n",
    "\n",
    "# Outputs \"foo 1\", \"bar 2\", \"spam 3\", \"grok 4\"\n",
    "for key in d:\n",
    "    print(key, d[key])"
   ]
  },
  {
   "cell_type": "markdown",
   "metadata": {},
   "source": [
    "An `OrderedDict` can be particularly useful when you want to build a mapping that you may want to later serialize or encode into a different format.  \n",
    "For example, if you want to precisely control the order of fields appearing in a [JSON encoding](https://docs.python.org/3/library/json.html), first building the data in an `OrderedDict` will do the trick:"
   ]
  },
  {
   "cell_type": "code",
   "execution_count": 30,
   "metadata": {},
   "outputs": [
    {
     "data": {
      "text/plain": [
       "'{\"foo\": 1, \"bar\": 2, \"spam\": 3, \"grok\": 4}'"
      ]
     },
     "execution_count": 30,
     "metadata": {},
     "output_type": "execute_result"
    }
   ],
   "source": [
    "import json\n",
    "json.dumps(d)"
   ]
  },
  {
   "cell_type": "markdown",
   "metadata": {},
   "source": [
    "### Discussion"
   ]
  },
  {
   "cell_type": "markdown",
   "metadata": {},
   "source": [
    "An `OrderedDict` internally maintains a doubly linked list that orders the keys according to insertion order.  \n",
    "When a new item is first inserted, it is placed at the end of this list.  \n",
    "Subsequent reassignment of an existing key doesn't change the order."
   ]
  },
  {
   "cell_type": "markdown",
   "metadata": {},
   "source": [
    "Be aware that the size of an `OrderedDict` is more than twice as large as a normal dictionary due to the extra linked list that's created.  \n",
    "Thus, if you are going to build a data structure involving a large number of `OrderedDict` instances (like reading 100,000 lines of a CSV file into a list of `OrderedDict` instances), you would need to study the requirements of your application to determine if the benefits of using an `OrderedDict` outweighed the extra memory overhead."
   ]
  },
  {
   "cell_type": "markdown",
   "metadata": {},
   "source": [
    "## [Calculating with Dictionaries](http://chimera.labs.oreilly.com/books/1230000000393/ch01.html#dictcalc)"
   ]
  },
  {
   "cell_type": "markdown",
   "metadata": {
    "collapsed": true
   },
   "source": [
    "### Problem"
   ]
  },
  {
   "cell_type": "markdown",
   "metadata": {},
   "source": [
    "You want to perform various calculations (like minimum value, maximum value, sorting, and so forth) on a dictionary of data."
   ]
  },
  {
   "cell_type": "markdown",
   "metadata": {},
   "source": [
    "### Solution"
   ]
  },
  {
   "cell_type": "markdown",
   "metadata": {},
   "source": [
    "Consider a dictionary that maps stock names to prices:"
   ]
  },
  {
   "cell_type": "code",
   "execution_count": 31,
   "metadata": {
    "collapsed": true
   },
   "outputs": [],
   "source": [
    "prices = {\n",
    "    'ACME': 45.23,\n",
    "    'AAPL': 612.78,\n",
    "    'IBM': 205.55,\n",
    "    'HPQ': 37.20,\n",
    "    'FB': 10.75\n",
    "}"
   ]
  },
  {
   "cell_type": "markdown",
   "metadata": {},
   "source": [
    "In order to perform useful calculations on the dictionary contents, it is often useful to invert the keys and values of the dictionary using `zip()`.  \n",
    "In the following example, we find the minimum and maximum price and stock name:"
   ]
  },
  {
   "cell_type": "code",
   "execution_count": 32,
   "metadata": {},
   "outputs": [
    {
     "name": "stdout",
     "output_type": "stream",
     "text": [
      "min_price: (10.75, 'FB')\n",
      "max_price: (612.78, 'AAPL')\n"
     ]
    }
   ],
   "source": [
    "min_price = min(zip(prices.values(), prices.keys()))\n",
    "print(\"min_price: {}\".format(min_price))\n",
    "\n",
    "max_price = max(zip(prices.values(), prices.keys()))\n",
    "print(\"max_price: {}\".format(max_price))"
   ]
  },
  {
   "cell_type": "markdown",
   "metadata": {},
   "source": [
    "Similarly, to rank the data, use `zip()` with `sorted()`, as follows:"
   ]
  },
  {
   "cell_type": "code",
   "execution_count": 33,
   "metadata": {},
   "outputs": [
    {
     "name": "stdout",
     "output_type": "stream",
     "text": [
      "prices_sorted: \n",
      "[(10.75, 'FB'), (37.2, 'HPQ'), (45.23, 'ACME'), (205.55, 'IBM'), (612.78, 'AAPL')]\n"
     ]
    }
   ],
   "source": [
    "prices_sorted = sorted(zip(prices.values(), prices.keys()))\n",
    "print(\"prices_sorted: \\n{}\".format(prices_sorted))"
   ]
  },
  {
   "cell_type": "markdown",
   "metadata": {},
   "source": [
    "When doing these calculations, be aware that `zip()` creates an iterator that can only be consumed once.  \n",
    "For example, the following code will throw an error:"
   ]
  },
  {
   "cell_type": "raw",
   "metadata": {},
   "source": [
    "prices_and_names = zip(prices.values(), prices.keys())\n",
    "print(min(prices_and_names))\n",
    "print(max(prices_and_names))\n",
    "\n",
    "(10.75, 'FB')\n",
    "---------------------------------------------------------------------------\n",
    "ValueError                                Traceback (most recent call last)\n",
    "<ipython-input-64-44164e867e8a> in <module>()\n",
    "      1 prices_and_names = zip(prices.values(), prices.keys())\n",
    "      2 print(min(prices_and_names))\n",
    "----> 3 print(max(prices_and_names))\n",
    "\n",
    "ValueError: max() arg is an empty sequence"
   ]
  },
  {
   "cell_type": "markdown",
   "metadata": {},
   "source": [
    "### Discussion"
   ]
  },
  {
   "cell_type": "markdown",
   "metadata": {},
   "source": [
    "If you try to perform common data reductions on a dictionary, you will find that they only process the keys, not the values."
   ]
  },
  {
   "cell_type": "code",
   "execution_count": 34,
   "metadata": {},
   "outputs": [
    {
     "name": "stdout",
     "output_type": "stream",
     "text": [
      "min(prices): AAPL\n",
      "max(prices): IBM\n"
     ]
    }
   ],
   "source": [
    "print(\"min(prices): {}\".format(min(prices)))\n",
    "print(\"max(prices): {}\".format(max(prices)))"
   ]
  },
  {
   "cell_type": "markdown",
   "metadata": {},
   "source": [
    "This is probably not what you want because you're actually trying to perform a calculation involving the dictionary values.  \n",
    "You might try to fix this using the `values()` method of a dictionary:"
   ]
  },
  {
   "cell_type": "code",
   "execution_count": 35,
   "metadata": {},
   "outputs": [
    {
     "name": "stdout",
     "output_type": "stream",
     "text": [
      "min(prices.values()): 10.75\n",
      "max(prices.values()): 612.78\n"
     ]
    }
   ],
   "source": [
    "print(\"min(prices.values()): {}\".format(min(prices.values())))\n",
    "print(\"max(prices.values()): {}\".format(max(prices.values())))"
   ]
  },
  {
   "cell_type": "markdown",
   "metadata": {},
   "source": [
    "Unfortunately, this is often not exactly what you want either.  \n",
    "For example, you may want to know information about the corresponding keys(for instance, which stock has the lowest price?)."
   ]
  },
  {
   "cell_type": "markdown",
   "metadata": {},
   "source": [
    "You can get the key corresponding to the min or max value if you supply a key function to `min()` and `max()`."
   ]
  },
  {
   "cell_type": "code",
   "execution_count": 36,
   "metadata": {},
   "outputs": [
    {
     "data": {
      "text/plain": [
       "'FB'"
      ]
     },
     "execution_count": 36,
     "metadata": {},
     "output_type": "execute_result"
    }
   ],
   "source": [
    "min(prices, key=lambda k: prices[k])"
   ]
  },
  {
   "cell_type": "code",
   "execution_count": 37,
   "metadata": {},
   "outputs": [
    {
     "data": {
      "text/plain": [
       "'AAPL'"
      ]
     },
     "execution_count": 37,
     "metadata": {},
     "output_type": "execute_result"
    }
   ],
   "source": [
    "max(prices, key=lambda k: prices[k])"
   ]
  },
  {
   "cell_type": "markdown",
   "metadata": {},
   "source": [
    "However, to get the minimum *value*, you'll need to perform an extra lookup step:"
   ]
  },
  {
   "cell_type": "code",
   "execution_count": 38,
   "metadata": {},
   "outputs": [
    {
     "data": {
      "text/plain": [
       "10.75"
      ]
     },
     "execution_count": 38,
     "metadata": {},
     "output_type": "execute_result"
    }
   ],
   "source": [
    "min_value = prices[min(prices, key=lambda k: prices[k])]\n",
    "min_value"
   ]
  },
  {
   "cell_type": "markdown",
   "metadata": {},
   "source": [
    "The solution involving `zip()` solves the problem by \"inverting\" the dictionary into a sequence of `(value, key)` pairs.  \n",
    "When performing comparisons on such tuples, the value element is compared first, followed by the key.  \n",
    "This gives you exactly the behavior that you want and allows reductions and sorting to be easily performed on the dictionary contents using a single statement.  \n",
    "It should be noted that in calculations involving `(value, key)` pairs, the key will be used to determine the result in instances where multiple entries happen to have the same value.  \n",
    "For instance, in calculations such as `min()` and `max()`, the entry with the smallest or largest key will be returned if there happen to be duplicate values."
   ]
  },
  {
   "cell_type": "code",
   "execution_count": 39,
   "metadata": {},
   "outputs": [
    {
     "name": "stdout",
     "output_type": "stream",
     "text": [
      "min_price: (45.23, 'AAA')\n",
      "max_price: (45.23, 'ZZZ')\n"
     ]
    }
   ],
   "source": [
    "prices = { 'AAA' : 45.23, 'ZZZ' : 45.23}\n",
    "print(\"min_price: {}\".format(min(zip(prices.values(), prices.keys()))))\n",
    "print(\"max_price: {}\".format(max(zip(prices.values(), prices.keys()))))"
   ]
  },
  {
   "cell_type": "markdown",
   "metadata": {},
   "source": [
    "## [Finding Commonalities in Two Dictionaries](http://chimera.labs.oreilly.com/books/1230000000393/ch01.html#_finding_commonalities_in_two_dictionaries)"
   ]
  },
  {
   "cell_type": "markdown",
   "metadata": {},
   "source": [
    "### Problem"
   ]
  },
  {
   "cell_type": "markdown",
   "metadata": {},
   "source": [
    "You have two dictionaries and you want to find out what they might have in common (same keys, same values, etc.)."
   ]
  },
  {
   "cell_type": "markdown",
   "metadata": {},
   "source": [
    "### Solution"
   ]
  },
  {
   "cell_type": "markdown",
   "metadata": {},
   "source": [
    "Consider two dictionaries:"
   ]
  },
  {
   "cell_type": "code",
   "execution_count": 40,
   "metadata": {
    "collapsed": true
   },
   "outputs": [],
   "source": [
    "a = {\n",
    "    'x': 1,\n",
    "    'y': 2,\n",
    "    'z': 3\n",
    "}\n",
    "\n",
    "b = {\n",
    "    'w': 10,\n",
    "    'x': 11,\n",
    "    'y': 2\n",
    "}"
   ]
  },
  {
   "cell_type": "markdown",
   "metadata": {},
   "source": [
    "To find out what the two dictionaries have in common, simply perform common [set operations](https://docs.python.org/3/library/stdtypes.html#set) using the `keys()` or `items()` methods."
   ]
  },
  {
   "cell_type": "code",
   "execution_count": 41,
   "metadata": {},
   "outputs": [
    {
     "data": {
      "text/plain": [
       "{'x', 'y'}"
      ]
     },
     "execution_count": 41,
     "metadata": {},
     "output_type": "execute_result"
    }
   ],
   "source": [
    "# Find keys in common:\n",
    "a.keys() & b.keys()"
   ]
  },
  {
   "cell_type": "code",
   "execution_count": 42,
   "metadata": {},
   "outputs": [
    {
     "data": {
      "text/plain": [
       "{'z'}"
      ]
     },
     "execution_count": 42,
     "metadata": {},
     "output_type": "execute_result"
    }
   ],
   "source": [
    "# Find keys in a that are not in b:\n",
    "a.keys() - b.keys()"
   ]
  },
  {
   "cell_type": "code",
   "execution_count": 43,
   "metadata": {},
   "outputs": [
    {
     "data": {
      "text/plain": [
       "{('y', 2)}"
      ]
     },
     "execution_count": 43,
     "metadata": {},
     "output_type": "execute_result"
    }
   ],
   "source": [
    "# Find (key, value) pairs in common:\n",
    "a.items() & b.items()"
   ]
  },
  {
   "cell_type": "markdown",
   "metadata": {},
   "source": [
    "These kinds of operations can also be used to alter or filter dictionary contents.  \n",
    "For example, suppose you want to make a new dictionary with selected keys removed.  \n",
    "Here is some sample code using a [dictionary comprehension](http://www.diveintopython3.net/comprehensions.html#dictionarycomprehension):"
   ]
  },
  {
   "cell_type": "code",
   "execution_count": 44,
   "metadata": {},
   "outputs": [
    {
     "data": {
      "text/plain": [
       "{'x': 1, 'y': 2}"
      ]
     },
     "execution_count": 44,
     "metadata": {},
     "output_type": "execute_result"
    }
   ],
   "source": [
    "# Make a new dictionary with certain keys removed:\n",
    "c = {key: a[key] for key in a.keys() - {'z', 'w'}}\n",
    "c"
   ]
  },
  {
   "cell_type": "markdown",
   "metadata": {},
   "source": [
    "### Discussion"
   ]
  },
  {
   "cell_type": "markdown",
   "metadata": {},
   "source": [
    "A dictionary is a mapping between a set of keys and values.  \n",
    "The `keys()` method of a dictionary returns a keys-view object that exposes the keys.  \n",
    "A little-known feature of keys views is that they also support common set operations such as unions, intersections, and differences.  \n",
    "Thus, if you need to perform common set operations with dictionary keys, you can often just use the keys-view objects directly without first converting them into a set."
   ]
  },
  {
   "cell_type": "markdown",
   "metadata": {},
   "source": [
    "The `items()` method of a dictionary returns an items-view object consisting of `(key, value)` pairs.  \n",
    "This object supports similar set operations and can be used to perform operations such as finding out which key-value pairs two dictionaries have in common."
   ]
  },
  {
   "cell_type": "markdown",
   "metadata": {},
   "source": [
    "Although similar, the `values()` method of a dictionary does not support the set operations described in this recipe.  \n",
    "In part, this is due to the fact that unlike keys, the items contained in a values view aren’t guaranteed to be unique.  \n",
    "This alone makes certain set operations of questionable utility.  \n",
    "However, if you must perform such calculations, they can be accomplished by simply converting the values to a set first."
   ]
  },
  {
   "cell_type": "markdown",
   "metadata": {},
   "source": [
    "## [Removing Duplicates from a Sequence while Maintaining Order](http://chimera.labs.oreilly.com/books/1230000000393/ch01.html#_removing_duplicates_from_a_sequence_while_maintaining_order)"
   ]
  },
  {
   "cell_type": "markdown",
   "metadata": {},
   "source": [
    "### Problem"
   ]
  },
  {
   "cell_type": "markdown",
   "metadata": {},
   "source": [
    "You want to eliminate the duplicate values in a sequence, but preserve the order of the remaining items."
   ]
  },
  {
   "cell_type": "markdown",
   "metadata": {},
   "source": [
    "### Solution"
   ]
  },
  {
   "cell_type": "markdown",
   "metadata": {},
   "source": [
    "If the values in the sequence are hashable, the problem can be easily solved using a set and a generator."
   ]
  },
  {
   "cell_type": "code",
   "execution_count": 45,
   "metadata": {
    "collapsed": true
   },
   "outputs": [],
   "source": [
    "def deduplicate(items):\n",
    "    seen = set()\n",
    "    for item in items:\n",
    "        if item not in seen:\n",
    "            yield item\n",
    "            seen.add(item)"
   ]
  },
  {
   "cell_type": "markdown",
   "metadata": {},
   "source": [
    "Now let's make this function useful:"
   ]
  },
  {
   "cell_type": "code",
   "execution_count": 46,
   "metadata": {},
   "outputs": [
    {
     "data": {
      "text/plain": [
       "[1, 5, 2, 9, 10]"
      ]
     },
     "execution_count": 46,
     "metadata": {},
     "output_type": "execute_result"
    }
   ],
   "source": [
    "a = [1, 5, 2, 1, 9, 1, 5, 10]\n",
    "list(deduplicate(a))"
   ]
  },
  {
   "cell_type": "markdown",
   "metadata": {},
   "source": [
    "This only works if the items in the sequence are hashable.  \n",
    "If you are trying to eliminate duplicates in a sequence of unhashable types (such as dicts), you can make a change to this recipe, as follows:"
   ]
  },
  {
   "cell_type": "code",
   "execution_count": 47,
   "metadata": {
    "collapsed": true
   },
   "outputs": [],
   "source": [
    "def dedupe2(items, key=None):\n",
    "    seen = set()\n",
    "    for item in items:\n",
    "        val = item if key is None else key(item)\n",
    "        if val not in seen:\n",
    "            yield item\n",
    "            seen.add(val)"
   ]
  },
  {
   "cell_type": "code",
   "execution_count": 48,
   "metadata": {},
   "outputs": [
    {
     "data": {
      "text/plain": [
       "[1, 5, 2, 9, 10]"
      ]
     },
     "execution_count": 48,
     "metadata": {},
     "output_type": "execute_result"
    }
   ],
   "source": [
    "list(dedupe2(a))"
   ]
  },
  {
   "cell_type": "markdown",
   "metadata": {},
   "source": [
    "Here, the purpose of the `key` argument is to specify a function that converts sequence items into a hashable type for the purposes of duplicate detection."
   ]
  },
  {
   "cell_type": "code",
   "execution_count": 49,
   "metadata": {},
   "outputs": [
    {
     "data": {
      "text/plain": [
       "[{'x': 1, 'y': 2}, {'x': 1, 'y': 3}, {'x': 2, 'y': 4}]"
      ]
     },
     "execution_count": 49,
     "metadata": {},
     "output_type": "execute_result"
    }
   ],
   "source": [
    "a = [ {'x':1, 'y':2}, {'x':1, 'y':3}, {'x':1, 'y':2}, {'x':2, 'y':4} ]\n",
    "list(dedupe2(a, key=lambda d: (d['x'], d['y'])))"
   ]
  },
  {
   "cell_type": "code",
   "execution_count": 50,
   "metadata": {},
   "outputs": [
    {
     "data": {
      "text/plain": [
       "[{'x': 1, 'y': 2}, {'x': 2, 'y': 4}]"
      ]
     },
     "execution_count": 50,
     "metadata": {},
     "output_type": "execute_result"
    }
   ],
   "source": [
    "list(dedupe2(a, key=lambda d: d['x']))"
   ]
  },
  {
   "cell_type": "markdown",
   "metadata": {},
   "source": [
    "This latter solution also works nicely if you want to eliminate duplicates based on the value of a single field or attribute, or a larger data structure."
   ]
  },
  {
   "cell_type": "markdown",
   "metadata": {},
   "source": [
    "### Discussion"
   ]
  },
  {
   "cell_type": "markdown",
   "metadata": {},
   "source": [
    "If all you want to do is eliminate duplicates, it is often easy enough to make a set."
   ]
  },
  {
   "cell_type": "code",
   "execution_count": 51,
   "metadata": {},
   "outputs": [
    {
     "data": {
      "text/plain": [
       "[1, 5, 2, 1, 9, 1, 5, 10]"
      ]
     },
     "execution_count": 51,
     "metadata": {},
     "output_type": "execute_result"
    }
   ],
   "source": [
    "a = [1, 5, 2, 1, 9, 1, 5, 10]\n",
    "a"
   ]
  },
  {
   "cell_type": "code",
   "execution_count": 52,
   "metadata": {},
   "outputs": [
    {
     "data": {
      "text/plain": [
       "{1, 2, 5, 9, 10}"
      ]
     },
     "execution_count": 52,
     "metadata": {},
     "output_type": "execute_result"
    }
   ],
   "source": [
    "set(a)"
   ]
  },
  {
   "cell_type": "markdown",
   "metadata": {},
   "source": [
    "However, this approach doesn't preserve any kind of ordering.  \n",
    "So, the resulting data will be scrambled afterward.  \n",
    "The solution shown avoids this."
   ]
  },
  {
   "cell_type": "markdown",
   "metadata": {},
   "source": [
    "The use of a generator function in this recipe reflects the fact that you might want the function to be extremely general purpose -- not necessarily tied directly to list processing.  \n",
    "For example, if you want to read a file, eliminating duplicate lines, you could simply do this:"
   ]
  },
  {
   "cell_type": "raw",
   "metadata": {},
   "source": [
    "with open(somefile.extension, 'r') as f:\n",
    "    for line in dedupe2(f):\n",
    "        ..."
   ]
  },
  {
   "cell_type": "markdown",
   "metadata": {},
   "source": [
    "The specification of a `key` function mimics similar functionality in built-in functions such as `sorted()`, `min()`, and `max()`."
   ]
  },
  {
   "cell_type": "markdown",
   "metadata": {},
   "source": [
    "## [Naming a Slice](http://chimera.labs.oreilly.com/books/1230000000393/ch01.html#_naming_a_slice)"
   ]
  },
  {
   "cell_type": "markdown",
   "metadata": {
    "collapsed": true
   },
   "source": [
    "### Problem"
   ]
  },
  {
   "cell_type": "markdown",
   "metadata": {},
   "source": [
    "Your program has become an unreadable mess of hardcoded slice indices and you want to clean it up."
   ]
  },
  {
   "cell_type": "markdown",
   "metadata": {},
   "source": [
    "### Solution"
   ]
  },
  {
   "cell_type": "markdown",
   "metadata": {},
   "source": [
    "Suppose you have some code that is pulling specific data fields out of a record string with fixed fields, like a flat file or similar format."
   ]
  },
  {
   "cell_type": "code",
   "execution_count": 53,
   "metadata": {},
   "outputs": [
    {
     "data": {
      "text/plain": [
       "51325.0"
      ]
     },
     "execution_count": 53,
     "metadata": {},
     "output_type": "execute_result"
    }
   ],
   "source": [
    "######    0123456789012345678901234567890123456789012345678901234567890'\n",
    "record = '....................100          .......513.25     ..........'\n",
    "cost = int(record[20:32]) * float(record[40:48])\n",
    "cost"
   ]
  },
  {
   "cell_type": "markdown",
   "metadata": {},
   "source": [
    "Instead of doing that, why not name the slices like this?"
   ]
  },
  {
   "cell_type": "code",
   "execution_count": 54,
   "metadata": {},
   "outputs": [
    {
     "data": {
      "text/plain": [
       "51325.0"
      ]
     },
     "execution_count": 54,
     "metadata": {},
     "output_type": "execute_result"
    }
   ],
   "source": [
    "SHARES = slice(20, 32)\n",
    "PRICE = slice(40, 48)\n",
    "\n",
    "cost = int(record[SHARES]) * float(record[PRICE])\n",
    "cost"
   ]
  },
  {
   "cell_type": "markdown",
   "metadata": {},
   "source": [
    "In the latter version, you avoid having a lot of mysterious hardcoded indices, and what you're doing becomes much clearer."
   ]
  },
  {
   "cell_type": "markdown",
   "metadata": {},
   "source": [
    "### Discussion"
   ]
  },
  {
   "cell_type": "markdown",
   "metadata": {},
   "source": [
    "As a general rule, writing code with a lot of hardcoded index values leads to a readability and maintenance mess.  \n",
    "For example, if you come back to the code a year later, you'll look at it and wonder what you were thinking when you wrote it.  \n",
    "The solution shown is simply a way of more clearly stating what your code is actually doing.  \n",
    "In general, the built-in `slice()` creates a slice object that can be used anywhere a slice is allowed."
   ]
  },
  {
   "cell_type": "code",
   "execution_count": 55,
   "metadata": {},
   "outputs": [
    {
     "name": "stdout",
     "output_type": "stream",
     "text": [
      "[2, 3]\n",
      "[2, 3]\n",
      "[0, 1, 10, 11, 4, 5, 6]\n",
      "[0, 1, 4, 5, 6]\n"
     ]
    }
   ],
   "source": [
    "items = [0, 1, 2, 3, 4, 5, 6]\n",
    "a = slice(2, 4)\n",
    "print(items[2:4])\n",
    "print(items[a])\n",
    "items[a] = [10, 11]\n",
    "print(items)\n",
    "del items[a]\n",
    "print(items)"
   ]
  },
  {
   "cell_type": "markdown",
   "metadata": {},
   "source": [
    "If you have a `slice` instance `s`, you can get more information about it by looking at its `s.start`, `s.stop`, and `s.step` attributes, respectively."
   ]
  },
  {
   "cell_type": "code",
   "execution_count": 56,
   "metadata": {},
   "outputs": [
    {
     "name": "stdout",
     "output_type": "stream",
     "text": [
      "10\n",
      "50\n",
      "2\n"
     ]
    }
   ],
   "source": [
    "a = slice(10, 50, 2)\n",
    "print(a.start)\n",
    "print(a.stop)\n",
    "print(a.step)"
   ]
  },
  {
   "cell_type": "markdown",
   "metadata": {},
   "source": [
    "In addition, you can map a slice onto a sequence of a specific size by using its `indices(size)` method.  \n",
    "This returns a tuple `(start, stop, step)` where all values have been suitably limited to fit within bounds (so you can avoid `IndexError` exceptions when indexing)."
   ]
  },
  {
   "cell_type": "code",
   "execution_count": 57,
   "metadata": {},
   "outputs": [
    {
     "name": "stdout",
     "output_type": "stream",
     "text": [
      "(10, 10, 2)\n"
     ]
    }
   ],
   "source": [
    "s = 'HelloWorld'\n",
    "print(a.indices(len(s)))\n",
    "for i in range(*a.indices(len(s))):\n",
    "    print(s[i])"
   ]
  },
  {
   "cell_type": "markdown",
   "metadata": {},
   "source": [
    "### [Determining the Most Frequently Occuring Items in a Sequence](http://chimera.labs.oreilly.com/books/1230000000393/ch01.html#_determining_the_most_frequently_occurring_items_in_a_sequence)"
   ]
  },
  {
   "cell_type": "markdown",
   "metadata": {
    "collapsed": true
   },
   "source": [
    "### Problem"
   ]
  },
  {
   "cell_type": "markdown",
   "metadata": {},
   "source": [
    "You have a sequence of items, and you would like to determine the mos frequently occurring items in the sequence."
   ]
  },
  {
   "cell_type": "markdown",
   "metadata": {},
   "source": [
    "### Solution"
   ]
  },
  {
   "cell_type": "markdown",
   "metadata": {},
   "source": [
    "The [collections.Counter](https://docs.python.org/3/library/collections.html#collections.Counter) class is designed for just such a problem.  \n",
    "It even comes with a handy [most_common()](https://docs.python.org/3.6/library/collections.html#collections.Counter.most_common) method that will give you the answer.  \n",
    "To illustrate, let's say you have a list of words and you want to find out which words occur most often.  \n",
    "Here's how you would do it:"
   ]
  },
  {
   "cell_type": "code",
   "execution_count": 58,
   "metadata": {},
   "outputs": [
    {
     "data": {
      "text/plain": [
       "['look',\n",
       " 'into',\n",
       " 'my',\n",
       " 'eyes',\n",
       " 'look',\n",
       " 'into',\n",
       " 'my',\n",
       " 'eyes',\n",
       " 'the',\n",
       " 'eyes',\n",
       " 'the',\n",
       " 'eyes',\n",
       " 'the',\n",
       " 'eyes',\n",
       " 'not',\n",
       " 'around',\n",
       " 'the',\n",
       " 'eyes',\n",
       " \"don't\",\n",
       " 'look',\n",
       " 'around',\n",
       " 'the',\n",
       " 'eyes',\n",
       " 'look',\n",
       " 'into',\n",
       " 'my',\n",
       " 'eyes',\n",
       " \"you're\",\n",
       " 'under']"
      ]
     },
     "execution_count": 58,
     "metadata": {},
     "output_type": "execute_result"
    }
   ],
   "source": [
    "words = [\n",
    "   'look', 'into', 'my', 'eyes', 'look', 'into', 'my', 'eyes',\n",
    "   'the', 'eyes', 'the', 'eyes', 'the', 'eyes', 'not', 'around', 'the',\n",
    "   'eyes', \"don't\", 'look', 'around', 'the', 'eyes', 'look', 'into',\n",
    "   'my', 'eyes', \"you're\", 'under'\n",
    "]\n",
    "words"
   ]
  },
  {
   "cell_type": "code",
   "execution_count": 59,
   "metadata": {},
   "outputs": [
    {
     "name": "stdout",
     "output_type": "stream",
     "text": [
      "[('eyes', 8), ('the', 5), ('look', 4)]\n"
     ]
    }
   ],
   "source": [
    "from collections import Counter\n",
    "\n",
    "word_counts = Counter(words)\n",
    "top_three = word_counts.most_common(3)\n",
    "print(top_three)"
   ]
  },
  {
   "cell_type": "markdown",
   "metadata": {},
   "source": [
    "### Discussion"
   ]
  },
  {
   "cell_type": "markdown",
   "metadata": {},
   "source": [
    "As input, `Counter` objects can be fed any sequence of hashable input items.  \n",
    "Under the covers, a `Counter` is a dictionary that maps the items to the number of occurrences."
   ]
  },
  {
   "cell_type": "code",
   "execution_count": 60,
   "metadata": {},
   "outputs": [
    {
     "data": {
      "text/plain": [
       "1"
      ]
     },
     "execution_count": 60,
     "metadata": {},
     "output_type": "execute_result"
    }
   ],
   "source": [
    "word_counts['not']"
   ]
  },
  {
   "cell_type": "code",
   "execution_count": 61,
   "metadata": {},
   "outputs": [
    {
     "data": {
      "text/plain": [
       "8"
      ]
     },
     "execution_count": 61,
     "metadata": {},
     "output_type": "execute_result"
    }
   ],
   "source": [
    "word_counts['eyes']"
   ]
  },
  {
   "cell_type": "markdown",
   "metadata": {},
   "source": [
    "If you want to increment the count manually, simply use addition:"
   ]
  },
  {
   "cell_type": "code",
   "execution_count": 62,
   "metadata": {},
   "outputs": [
    {
     "data": {
      "text/plain": [
       "9"
      ]
     },
     "execution_count": 62,
     "metadata": {},
     "output_type": "execute_result"
    }
   ],
   "source": [
    "morewords = ['why','are','you','not','looking','in','my','eyes']\n",
    "\n",
    "for word in morewords:\n",
    "    word_counts[word] += 1\n",
    "    \n",
    "word_counts['eyes']"
   ]
  },
  {
   "cell_type": "markdown",
   "metadata": {},
   "source": [
    "Or you could use the `update()` method:"
   ]
  },
  {
   "cell_type": "code",
   "execution_count": 63,
   "metadata": {
    "collapsed": true
   },
   "outputs": [],
   "source": [
    "word_counts.update(morewords)"
   ]
  },
  {
   "cell_type": "markdown",
   "metadata": {},
   "source": [
    "A little-known feature of `Counter` instances is that they can easily be combined using various mathematical operations."
   ]
  },
  {
   "cell_type": "code",
   "execution_count": 65,
   "metadata": {},
   "outputs": [
    {
     "name": "stdout",
     "output_type": "stream",
     "text": [
      "a: Counter({'eyes': 8, 'the': 5, 'look': 4, 'into': 3, 'my': 3, 'around': 2, 'not': 1, \"don't\": 1, \"you're\": 1, 'under': 1})\n",
      "b: Counter({'why': 1, 'are': 1, 'you': 1, 'not': 1, 'looking': 1, 'in': 1, 'my': 1, 'eyes': 1})\n"
     ]
    }
   ],
   "source": [
    "a = Counter(words)\n",
    "b = Counter(morewords)\n",
    "print(\"a: {}\".format(a))\n",
    "print(\"b: {}\".format(b))"
   ]
  },
  {
   "cell_type": "code",
   "execution_count": 66,
   "metadata": {},
   "outputs": [
    {
     "name": "stdout",
     "output_type": "stream",
     "text": [
      "c: Counter({'eyes': 9, 'the': 5, 'look': 4, 'my': 4, 'into': 3, 'not': 2, 'around': 2, \"don't\": 1, \"you're\": 1, 'under': 1, 'why': 1, 'are': 1, 'you': 1, 'looking': 1, 'in': 1})\n"
     ]
    }
   ],
   "source": [
    "# Combine counts:\n",
    "c = a + b\n",
    "print(\"c: {}\".format(c))"
   ]
  },
  {
   "cell_type": "code",
   "execution_count": 67,
   "metadata": {},
   "outputs": [
    {
     "name": "stdout",
     "output_type": "stream",
     "text": [
      "d: Counter({'eyes': 7, 'the': 5, 'look': 4, 'into': 3, 'my': 2, 'around': 2, \"don't\": 1, \"you're\": 1, 'under': 1})\n"
     ]
    }
   ],
   "source": [
    "# Subtract counts:\n",
    "d = a - b\n",
    "print(\"d: {}\".format(d))"
   ]
  },
  {
   "cell_type": "markdown",
   "metadata": {},
   "source": [
    "Needless to say, `Counter` objects are a tremendously useful tool for almost any kind of problem where you need to tabulate and count data.  \n",
    "You should prefer this over manually written solutions involving dictionaries."
   ]
  },
  {
   "cell_type": "markdown",
   "metadata": {},
   "source": [
    "## [Sorting a List of Dictionaries by a Common Key](http://chimera.labs.oreilly.com/books/1230000000393/ch01.html#itemgetter)"
   ]
  },
  {
   "cell_type": "code",
   "execution_count": null,
   "metadata": {
    "collapsed": true
   },
   "outputs": [],
   "source": []
  }
 ],
 "metadata": {
  "kernelspec": {
   "display_name": "Python 3",
   "language": "python",
   "name": "python3"
  },
  "language_info": {
   "codemirror_mode": {
    "name": "ipython",
    "version": 3
   },
   "file_extension": ".py",
   "mimetype": "text/x-python",
   "name": "python",
   "nbconvert_exporter": "python",
   "pygments_lexer": "ipython3",
   "version": "3.6.1"
  }
 },
 "nbformat": 4,
 "nbformat_minor": 2
}
