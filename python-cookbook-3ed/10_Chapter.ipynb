{
 "cells": [
  {
   "cell_type": "markdown",
   "metadata": {},
   "source": [
    "# Chapter 10  \n",
    "## Modules and Packages"
   ]
  },
  {
   "cell_type": "markdown",
   "metadata": {},
   "source": [
    "Modules and packages are the core of any large project, and the Python installation itself.  \n",
    "This chapter focuses on common programming techniques involving modules and packages, such as how to organize packages, splitting large modules into multiple files, and creating namespace packages.  \n",
    "Recipes that allow you to customize the operation of the `import` statement itself are also given."
   ]
  },
  {
   "cell_type": "markdown",
   "metadata": {},
   "source": [
    "## 10.1. Making a Hierarchical Package of Modules"
   ]
  },
  {
   "cell_type": "markdown",
   "metadata": {},
   "source": [
    "### Problem"
   ]
  },
  {
   "cell_type": "markdown",
   "metadata": {},
   "source": [
    "You want to organize your code into a package consisting of a hierarchical collection of modules."
   ]
  },
  {
   "cell_type": "markdown",
   "metadata": {},
   "source": [
    "### Solution"
   ]
  },
  {
   "cell_type": "markdown",
   "metadata": {},
   "source": [
    "Making a package structure is simple.  \n",
    "Just organize your code as you wish on the filesystem and make sure that every directory defines an `__init__.py` file:"
   ]
  },
  {
   "cell_type": "raw",
   "metadata": {},
   "source": [
    "graphics/\n",
    "    __init__.py\n",
    "    primitive/\n",
    "         __init__.py\n",
    "         line.py\n",
    "         fill.py\n",
    "         text.py\n",
    "    formats/\n",
    "         __init__.py\n",
    "         png.py\n",
    "         jpg.py"
   ]
  },
  {
   "cell_type": "markdown",
   "metadata": {},
   "source": [
    "Once you have done this, you should be able to perform various `import` statements such as the following:"
   ]
  },
  {
   "cell_type": "raw",
   "metadata": {},
   "source": [
    "import graphics.primitive.line\n",
    "from graphics.primitive import line\n",
    "import graphics.formats.jpg as jpg"
   ]
  },
  {
   "cell_type": "markdown",
   "metadata": {},
   "source": [
    "### Discussion"
   ]
  },
  {
   "cell_type": "markdown",
   "metadata": {},
   "source": [
    "Defining a hierarchy of modules is as easy as making a directory structure on the filesystem.  \n",
    "The purpose of the `__init__.py` files is to include optional initialization code that runs as different levels of a package are encountered.  \n",
    "For example, if you have the statement `import graphics`, the file *graphics/`__init__`.py* will be imported and form the contents of the `graphics` namespace.  \n",
    "For an import such as `import graphics.formats.jpg`, the files *graphics/`__init__`.py* and *graphics/formats/`__init__`.py* will both be imported prior to the final import of the `graphics/formats/jpg.py` file.  \n",
    "More often that not, it’s fine to just leave the `__init__.py` files empty. \n",
    "However, there are certain situations where they might include code.  \n",
    "For example, an `__init__.py` file can be used to automatically load submodules like this:"
   ]
  },
  {
   "cell_type": "raw",
   "metadata": {},
   "source": [
    "# graphics/formats/__init__.py\n",
    "\n",
    "from . import jpg\n",
    "from . import png"
   ]
  },
  {
   "cell_type": "markdown",
   "metadata": {},
   "source": [
    "For such a file, a user merely has to use a single `import graphics.formats` instead of a separate import for `graphics.formats.jpg` and `graphics.formats.png`.  \n",
    "Other common uses of `__init__.py` include consolidating definitions from multiple files into a single logical namespace, as is sometimes done when splitting modules.  \n",
    "This is discussed in Recipe 10.4.  \n",
    "Astute programmers will notice that Python 3.3 still seems to perform package imports even if no `__init__.py` files are present.  \n",
    "If you don’t define `__init__.py`, you actually create what’s known as a \"namespace package\" which is described in Recipe 10.5.  \n",
    "All things being equal, include the `__init__.py` files if you’re just starting out with the creation of a new package."
   ]
  },
  {
   "cell_type": "markdown",
   "metadata": {},
   "source": [
    "## 10.2. Controlling the Import of Everything"
   ]
  },
  {
   "cell_type": "markdown",
   "metadata": {},
   "source": [
    "### Problem"
   ]
  },
  {
   "cell_type": "markdown",
   "metadata": {},
   "source": [
    "You want precise control over the symbols that are exported from a module or package when a user uses the `from module import *` statement."
   ]
  },
  {
   "cell_type": "markdown",
   "metadata": {},
   "source": [
    "### Solution"
   ]
  },
  {
   "cell_type": "markdown",
   "metadata": {},
   "source": [
    "Define a variable `__all__` in your module that explicitly lists the exported names."
   ]
  },
  {
   "cell_type": "code",
   "execution_count": 4,
   "metadata": {},
   "outputs": [],
   "source": [
    "# somemodule.py\n",
    "\n",
    "def spam():\n",
    "    pass\n",
    "\n",
    "def grok():\n",
    "    pass\n",
    "\n",
    "blah = 42\n",
    "\n",
    "# Only export 'spam' and 'grok':\n",
    "__all__ = ['spam', 'grok']"
   ]
  },
  {
   "cell_type": "markdown",
   "metadata": {},
   "source": [
    "### Discussion"
   ]
  },
  {
   "cell_type": "markdown",
   "metadata": {},
   "source": [
    "Although the use of `from module import *` is strongly discouraged, it still sees frequent use in modules that define a large number of names.  \n",
    "If you don’t do anything, this form of import will export all names that don’t start with an underscore.  \n",
    "On the other hand, if `__all__` is defined, then only the names explicitly listed will be exported.  \n",
    "If you define `__all__` as an empty list, then nothing will be exported.  \n",
    "An `AttributeError` is raised on import if `__all__` contains undefined names."
   ]
  },
  {
   "cell_type": "markdown",
   "metadata": {},
   "source": [
    "## 10.3. Importing Package Submodules Using Relative Names"
   ]
  },
  {
   "cell_type": "markdown",
   "metadata": {},
   "source": [
    "### Problem"
   ]
  },
  {
   "cell_type": "markdown",
   "metadata": {},
   "source": [
    "You have code organized as a package and want to import a submodule from one of the other package submodules without hardcoding the package name into the import statement."
   ]
  },
  {
   "cell_type": "markdown",
   "metadata": {},
   "source": [
    "### Solution"
   ]
  },
  {
   "cell_type": "markdown",
   "metadata": {},
   "source": [
    "To import modules of a package from other modules in the same package, use a package-relative import.  \n",
    "For example, suppose you have a package `mypackage` organized as follows on the filesystem:"
   ]
  },
  {
   "cell_type": "raw",
   "metadata": {},
   "source": [
    "mypackage/\n",
    "    __init__.py\n",
    "    A/\n",
    "        __init__.py\n",
    "        spam.py\n",
    "        grok.py\n",
    "    B/\n",
    "        __init__.py\n",
    "        bar.py"
   ]
  },
  {
   "cell_type": "markdown",
   "metadata": {},
   "source": [
    "If the module `mypackage.A.spam` wants to import the module `grok` located in the same directory, it should include an import statement like this:"
   ]
  },
  {
   "cell_type": "raw",
   "metadata": {},
   "source": [
    "# mypackage/A/spam.py\n",
    "\n",
    "from . import grok"
   ]
  },
  {
   "cell_type": "markdown",
   "metadata": {},
   "source": [
    "If the same module wants to import the module `B.bar` located in a different directory, it can use an import statement like this:"
   ]
  },
  {
   "cell_type": "raw",
   "metadata": {},
   "source": [
    "# mypackage/A/spam.py\n",
    "\n",
    "from ..B import bar"
   ]
  },
  {
   "cell_type": "markdown",
   "metadata": {},
   "source": [
    "Both of the import statements shown operate relative to the location of the *spam.py* file and do not include the top-level package name."
   ]
  },
  {
   "cell_type": "markdown",
   "metadata": {},
   "source": [
    "### Discussion"
   ]
  },
  {
   "cell_type": "markdown",
   "metadata": {},
   "source": [
    "Inside packages, imports involving modules in the same package can either use fully specified absolute names or a relative import using the syntax shown:"
   ]
  },
  {
   "cell_type": "raw",
   "metadata": {},
   "source": [
    "# mypackage/A/spam.py\n",
    "\n",
    "from mypackage.A import grok  # OK\n",
    "from . import grok            # OK\n",
    "import grok                   # ModuleNotFoundError"
   ]
  },
  {
   "cell_type": "markdown",
   "metadata": {},
   "source": [
    "The downside of using an absolute name, such as `mypackage.A`, is that it hardcodes the top-level package name into your source code.  \n",
    "This, in turn, makes your code more brittle and hard to work with if you ever want to reorganize it.  \n",
    "For example, if you ever changed the name of the package, you would have to go through all of your files and fix the source code.  \n",
    "Similarly, hardcoded names make it difficult for someone else to move the code around.  \n",
    "For example, perhaps someone wants to install two different versions of a package, differentiating them only by name.  \n",
    "If relative imports are used, it would all work fine, whereas everything would break with absolute names.  \n",
    "The `.` and `..` syntax on the `import` statement might look funny, but think of it as specifying a directory name.  \n",
    "`.` means look in the current directory and `..B` means look in the *../B* directory.  \n",
    "This syntax only works with the `from` form of import."
   ]
  },
  {
   "cell_type": "raw",
   "metadata": {},
   "source": [
    "from . import grok  # OK\n",
    "import .grok        # Error"
   ]
  },
  {
   "cell_type": "markdown",
   "metadata": {},
   "source": [
    "Although it looks like you could navigate the filesystem using a relative import, they are not allowed to escape the directory in which a package is defined.  \n",
    "That is, combinations of dotted name patterns that would cause an import to occur from a non-package directory cause an error.  \n",
    "Finally, it should be noted that relative imports only work for modules that are located inside a proper package.  \n",
    "In particular, they do not work inside simple modules located at the top level of scripts.  \n",
    "They also won’t work if parts of a package are executed directly as a script:"
   ]
  },
  {
   "cell_type": "raw",
   "metadata": {},
   "source": [
    ">>> python3 mypackage/A/spam.py  # Relative imports fail"
   ]
  },
  {
   "cell_type": "markdown",
   "metadata": {},
   "source": [
    "On the other hand, if you execute the preceding script using the `-m` flag, the relative imports will work properly:"
   ]
  },
  {
   "cell_type": "raw",
   "metadata": {},
   "source": [
    ">>> python3 -m mypackage.A.spam  # Relative imports work"
   ]
  },
  {
   "cell_type": "markdown",
   "metadata": {},
   "source": [
    "For more information on relative package imports, see [PEP 328](https://www.python.org/dev/peps/pep-0328/)"
   ]
  },
  {
   "cell_type": "markdown",
   "metadata": {},
   "source": [
    "## 10.4. Splitting a Module into Multiple Files"
   ]
  },
  {
   "cell_type": "code",
   "execution_count": null,
   "metadata": {},
   "outputs": [],
   "source": []
  }
 ],
 "metadata": {
  "kernelspec": {
   "display_name": "Python 3",
   "language": "python",
   "name": "python3"
  },
  "language_info": {
   "codemirror_mode": {
    "name": "ipython",
    "version": 3
   },
   "file_extension": ".py",
   "mimetype": "text/x-python",
   "name": "python",
   "nbconvert_exporter": "python",
   "pygments_lexer": "ipython3",
   "version": "3.6.1"
  }
 },
 "nbformat": 4,
 "nbformat_minor": 2
}
