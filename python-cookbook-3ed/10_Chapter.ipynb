{
 "cells": [
  {
   "cell_type": "markdown",
   "metadata": {},
   "source": [
    "# Chapter 10  \n",
    "## Modules and Packages"
   ]
  },
  {
   "cell_type": "markdown",
   "metadata": {},
   "source": [
    "Modules and packages are the core of any large project, and the Python installation itself.  \n",
    "This chapter focuses on common programming techniques involving modules and packages, such as how to organize packages, splitting large modules into multiple files, and creating namespace packages.  \n",
    "Recipes that allow you to customize the operation of the `import` statement itself are also given."
   ]
  },
  {
   "cell_type": "markdown",
   "metadata": {},
   "source": [
    "## 10.1. Making a Hierarchical Package of Modules"
   ]
  },
  {
   "cell_type": "markdown",
   "metadata": {},
   "source": [
    "### Problem"
   ]
  },
  {
   "cell_type": "markdown",
   "metadata": {},
   "source": [
    "You want to organize your code into a package consisting of a hierarchical collection of modules."
   ]
  },
  {
   "cell_type": "markdown",
   "metadata": {},
   "source": [
    "### Solution"
   ]
  },
  {
   "cell_type": "markdown",
   "metadata": {},
   "source": [
    "Making a package structure is simple.  \n",
    "Just organize your code as you wish on the filesystem and make sure that every directory defines an `__init__.py` file:"
   ]
  },
  {
   "cell_type": "raw",
   "metadata": {},
   "source": [
    "graphics/\n",
    "    __init__.py\n",
    "    primitive/\n",
    "         __init__.py\n",
    "         line.py\n",
    "         fill.py\n",
    "         text.py\n",
    "    formats/\n",
    "         __init__.py\n",
    "         png.py\n",
    "         jpg.py"
   ]
  },
  {
   "cell_type": "markdown",
   "metadata": {},
   "source": [
    "Once you have done this, you should be able to perform various `import` statements such as the following:"
   ]
  },
  {
   "cell_type": "raw",
   "metadata": {},
   "source": [
    "import graphics.primitive.line\n",
    "from graphics.primitive import line\n",
    "import graphics.formats.jpg as jpg"
   ]
  },
  {
   "cell_type": "markdown",
   "metadata": {},
   "source": [
    "### Discussion"
   ]
  },
  {
   "cell_type": "markdown",
   "metadata": {},
   "source": [
    "Defining a hierarchy of modules is as easy as making a directory structure on the filesystem.  \n",
    "The purpose of the `__init__.py` files is to include optional initialization code that runs as different levels of a package are encountered.  \n",
    "For example, if you have the statement `import graphics`, the file *graphics/`__init__`.py* will be imported and form the contents of the `graphics` namespace.  \n",
    "For an import such as `import graphics.formats.jpg`, the files *graphics/`__init__`.py* and *graphics/formats/`__init__`.py* will both be imported prior to the final import of the `graphics/formats/jpg.py` file.  \n",
    "More often that not, it’s fine to just leave the `__init__.py` files empty. \n",
    "However, there are certain situations where they might include code.  \n",
    "For example, an `__init__.py` file can be used to automatically load submodules like this:"
   ]
  },
  {
   "cell_type": "raw",
   "metadata": {},
   "source": [
    "# graphics/formats/__init__.py\n",
    "\n",
    "from . import jpg\n",
    "from . import png"
   ]
  },
  {
   "cell_type": "markdown",
   "metadata": {},
   "source": [
    "For such a file, a user merely has to use a single `import graphics.formats` instead of a separate import for `graphics.formats.jpg` and `graphics.formats.png`.  \n",
    "Other common uses of `__init__.py` include consolidating definitions from multiple files into a single logical namespace, as is sometimes done when splitting modules.  \n",
    "This is discussed in Recipe 10.4.  \n",
    "Astute programmers will notice that Python 3.3 still seems to perform package imports even if no `__init__.py` files are present.  \n",
    "If you don’t define `__init__.py`, you actually create what’s known as a \"namespace package\" which is described in Recipe 10.5.  \n",
    "All things being equal, include the `__init__.py` files if you’re just starting out with the creation of a new package."
   ]
  },
  {
   "cell_type": "markdown",
   "metadata": {},
   "source": [
    "## 10.2. Controlling the Import of Everything"
   ]
  },
  {
   "cell_type": "markdown",
   "metadata": {},
   "source": [
    "### Problem"
   ]
  },
  {
   "cell_type": "markdown",
   "metadata": {},
   "source": [
    "You want precise control over the symbols that are exported from a module or package when a user uses the `from module import *` statement."
   ]
  },
  {
   "cell_type": "markdown",
   "metadata": {},
   "source": [
    "### Solution"
   ]
  },
  {
   "cell_type": "markdown",
   "metadata": {},
   "source": [
    "Define a variable `__all__` in your module that explicitly lists the exported names."
   ]
  },
  {
   "cell_type": "code",
   "execution_count": 1,
   "metadata": {},
   "outputs": [],
   "source": [
    "# somemodule.py\n",
    "\n",
    "def spam():\n",
    "    pass\n",
    "\n",
    "def grok():\n",
    "    pass\n",
    "\n",
    "blah = 42\n",
    "\n",
    "# Only export 'spam' and 'grok':\n",
    "__all__ = ['spam', 'grok']"
   ]
  },
  {
   "cell_type": "markdown",
   "metadata": {},
   "source": [
    "### Discussion"
   ]
  },
  {
   "cell_type": "markdown",
   "metadata": {},
   "source": [
    "Although the use of `from module import *` is strongly discouraged, it still sees frequent use in modules that define a large number of names.  \n",
    "If you don’t do anything, this form of import will export all names that don’t start with an underscore.  \n",
    "On the other hand, if `__all__` is defined, then only the names explicitly listed will be exported.  \n",
    "If you define `__all__` as an empty list, then nothing will be exported.  \n",
    "An `AttributeError` is raised on import if `__all__` contains undefined names."
   ]
  },
  {
   "cell_type": "markdown",
   "metadata": {},
   "source": [
    "## 10.3. Importing Package Submodules Using Relative Names"
   ]
  },
  {
   "cell_type": "markdown",
   "metadata": {},
   "source": [
    "### Problem"
   ]
  },
  {
   "cell_type": "markdown",
   "metadata": {},
   "source": [
    "You have code organized as a package and want to import a submodule from one of the other package submodules without hardcoding the package name into the import statement."
   ]
  },
  {
   "cell_type": "markdown",
   "metadata": {},
   "source": [
    "### Solution"
   ]
  },
  {
   "cell_type": "markdown",
   "metadata": {},
   "source": [
    "To import modules of a package from other modules in the same package, use a package-relative import.  \n",
    "For example, suppose you have a package `mypackage` organized as follows on the filesystem:"
   ]
  },
  {
   "cell_type": "raw",
   "metadata": {},
   "source": [
    "mypackage/\n",
    "    __init__.py\n",
    "    A/\n",
    "        __init__.py\n",
    "        spam.py\n",
    "        grok.py\n",
    "    B/\n",
    "        __init__.py\n",
    "        bar.py"
   ]
  },
  {
   "cell_type": "markdown",
   "metadata": {},
   "source": [
    "If the module `mypackage.A.spam` wants to import the module `grok` located in the same directory, it should include an import statement like this:"
   ]
  },
  {
   "cell_type": "raw",
   "metadata": {},
   "source": [
    "# mypackage/A/spam.py\n",
    "\n",
    "from . import grok"
   ]
  },
  {
   "cell_type": "markdown",
   "metadata": {},
   "source": [
    "If the same module wants to import the module `B.bar` located in a different directory, it can use an import statement like this:"
   ]
  },
  {
   "cell_type": "raw",
   "metadata": {},
   "source": [
    "# mypackage/A/spam.py\n",
    "\n",
    "from ..B import bar"
   ]
  },
  {
   "cell_type": "markdown",
   "metadata": {},
   "source": [
    "Both of the import statements shown operate relative to the location of the *spam.py* file and do not include the top-level package name."
   ]
  },
  {
   "cell_type": "markdown",
   "metadata": {},
   "source": [
    "### Discussion"
   ]
  },
  {
   "cell_type": "markdown",
   "metadata": {},
   "source": [
    "Inside packages, imports involving modules in the same package can either use fully specified absolute names or a relative import using the syntax shown:"
   ]
  },
  {
   "cell_type": "raw",
   "metadata": {},
   "source": [
    "# mypackage/A/spam.py\n",
    "\n",
    "from mypackage.A import grok  # OK\n",
    "from . import grok            # OK\n",
    "import grok                   # ModuleNotFoundError"
   ]
  },
  {
   "cell_type": "markdown",
   "metadata": {},
   "source": [
    "The downside of using an absolute name, such as `mypackage.A`, is that it hardcodes the top-level package name into your source code.  \n",
    "This, in turn, makes your code more brittle and hard to work with if you ever want to reorganize it.  \n",
    "For example, if you ever changed the name of the package, you would have to go through all of your files and fix the source code.  \n",
    "Similarly, hardcoded names make it difficult for someone else to move the code around.  \n",
    "For example, perhaps someone wants to install two different versions of a package, differentiating them only by name.  \n",
    "If relative imports are used, it would all work fine, whereas everything would break with absolute names.  \n",
    "The `.` and `..` syntax on the `import` statement might look funny, but think of it as specifying a directory name.  \n",
    "`.` means look in the current directory and `..B` means look in the *../B* directory.  \n",
    "This syntax only works with the `from` form of import."
   ]
  },
  {
   "cell_type": "raw",
   "metadata": {},
   "source": [
    "from . import grok  # OK\n",
    "import .grok        # Error"
   ]
  },
  {
   "cell_type": "markdown",
   "metadata": {},
   "source": [
    "Although it looks like you could navigate the filesystem using a relative import, they are not allowed to escape the directory in which a package is defined.  \n",
    "That is, combinations of dotted name patterns that would cause an import to occur from a non-package directory cause an error.  \n",
    "Finally, it should be noted that relative imports only work for modules that are located inside a proper package.  \n",
    "In particular, they do not work inside simple modules located at the top level of scripts.  \n",
    "They also won’t work if parts of a package are executed directly as a script:"
   ]
  },
  {
   "cell_type": "raw",
   "metadata": {},
   "source": [
    ">>> python3 mypackage/A/spam.py  # Relative imports fail"
   ]
  },
  {
   "cell_type": "markdown",
   "metadata": {},
   "source": [
    "On the other hand, if you execute the preceding script using the `-m` flag, the relative imports will work properly:"
   ]
  },
  {
   "cell_type": "raw",
   "metadata": {},
   "source": [
    ">>> python3 -m mypackage.A.spam  # Relative imports work"
   ]
  },
  {
   "cell_type": "markdown",
   "metadata": {},
   "source": [
    "For more information on relative package imports, see [PEP 328](https://www.python.org/dev/peps/pep-0328/)"
   ]
  },
  {
   "cell_type": "markdown",
   "metadata": {},
   "source": [
    "## 10.4. Splitting a Module into Multiple Files"
   ]
  },
  {
   "cell_type": "markdown",
   "metadata": {},
   "source": [
    "### Problem"
   ]
  },
  {
   "cell_type": "markdown",
   "metadata": {},
   "source": [
    "You have a module that you would like to split into multiple files.  \n",
    "However, you would like to do it without breaking existing code by keeping the separate files unified as a single logical module."
   ]
  },
  {
   "cell_type": "markdown",
   "metadata": {},
   "source": [
    "### Solution"
   ]
  },
  {
   "cell_type": "markdown",
   "metadata": {},
   "source": [
    "A program module can be split into separate files by turning it into a package.  \n",
    "Consider this:"
   ]
  },
  {
   "cell_type": "code",
   "execution_count": 2,
   "metadata": {},
   "outputs": [],
   "source": [
    "class A:\n",
    "    def spam(self):\n",
    "        print('A.spam')\n",
    "        \n",
    "class B(A):\n",
    "    def bar(self):\n",
    "        print('B.bar')"
   ]
  },
  {
   "cell_type": "markdown",
   "metadata": {},
   "source": [
    "Suppose you want to split `mymodule.py` into two files, one for each class definition.  \n",
    "To do that, start by replacing the `mymodule.py` file with a directory called `mymodule`.  \n",
    "In that directory, create the following files:"
   ]
  },
  {
   "cell_type": "raw",
   "metadata": {},
   "source": [
    "mymodule/\n",
    "    __init__.py\n",
    "    a.py\n",
    "    b.py"
   ]
  },
  {
   "cell_type": "markdown",
   "metadata": {},
   "source": [
    "In the *a.py* file, put this code:"
   ]
  },
  {
   "cell_type": "code",
   "execution_count": 3,
   "metadata": {},
   "outputs": [],
   "source": [
    "class A:\n",
    "    def spam(self):\n",
    "        print('A.spam')"
   ]
  },
  {
   "cell_type": "markdown",
   "metadata": {},
   "source": [
    "In the *b.py* file, put this code:"
   ]
  },
  {
   "cell_type": "raw",
   "metadata": {},
   "source": [
    "from .a import A\n",
    "\n",
    "class B(A):\n",
    "    def bar(self):\n",
    "        print('B.bar')"
   ]
  },
  {
   "cell_type": "markdown",
   "metadata": {},
   "source": [
    "Finally, in the `__init__.py` file, glue the two files together like this:"
   ]
  },
  {
   "cell_type": "raw",
   "metadata": {},
   "source": [
    "from .a import A\n",
    "from .b import B"
   ]
  },
  {
   "cell_type": "markdown",
   "metadata": {},
   "source": [
    "If you follow these steps, the resulting `mymodule` package will appear to be a single logical module:"
   ]
  },
  {
   "cell_type": "raw",
   "metadata": {},
   "source": [
    ">>> import mymodule\n",
    ">>> a = mymodule.A()\n",
    ">>> a.spam()\n",
    "A.spam\n",
    ">>> b = mymodule.B()\n",
    ">>> b.bar()\n",
    "B.bar\n",
    ">>>"
   ]
  },
  {
   "cell_type": "markdown",
   "metadata": {},
   "source": [
    "### Discussion"
   ]
  },
  {
   "cell_type": "markdown",
   "metadata": {},
   "source": [
    "The primary concern in this recipe is a design question of whether or not you want users to work with a lot of small modules or just a single module.  \n",
    "For example, in a large code base, you could just break everything up into separate files and make users use a lot of import statements like this:"
   ]
  },
  {
   "cell_type": "raw",
   "metadata": {},
   "source": [
    "from mymodule.a import A\n",
    "from mymodule.b import B\n",
    "..."
   ]
  },
  {
   "cell_type": "markdown",
   "metadata": {},
   "source": [
    "This works, but it places more of a burden on the user to know where the different parts are located.  \n",
    "Often, it’s just easier to unify things and allow a single import like this:"
   ]
  },
  {
   "cell_type": "raw",
   "metadata": {},
   "source": [
    "from mymodule import A, B"
   ]
  },
  {
   "cell_type": "markdown",
   "metadata": {},
   "source": [
    "For this latter case, it’s most common to think of `mymodule` as being one large source file.  \n",
    "However, this recipe shows how to stitch multiple files together into a single logical namespace.  \n",
    "The key to doing this is to create a package directory and to use the `__init__.py` file to glue the parts together.  \n",
    "When a module gets split, you’ll need to pay careful attention to cross-filename references.  \n",
    "For instance, in this recipe, class B needs to access class A as a base class.  \n",
    "A package-relative import `from .a import A` is used to get it.  \n",
    "Package-relative imports are used throughout the recipe to avoid hardcoding the top-level module name into the source code.  \n",
    "This makes it easier to rename the module or move it around elsewhere later (see Recipe 10.3).  \n",
    "One extension of this recipe involves the introduction of \"lazy\" imports.  \n",
    "As shown, the `__init__.py` file imports all of the required subcomponents all at once.  \n",
    "However, for a very large module, perhaps you only want to load components as they are needed.  \n",
    "To do that, here is a slight variation of `__init__.py`:"
   ]
  },
  {
   "cell_type": "raw",
   "metadata": {},
   "source": [
    "def A():\n",
    "    from .a import A\n",
    "    return A()\n",
    "\n",
    "def B():\n",
    "    from .b import B\n",
    "    return B()"
   ]
  },
  {
   "cell_type": "markdown",
   "metadata": {},
   "source": [
    "In this version, classes A and B have been replaced by functions that load the desired classes when they are first accessed.  \n",
    "To a user, it won’t look much different."
   ]
  },
  {
   "cell_type": "raw",
   "metadata": {},
   "source": [
    ">>> import mymodule\n",
    ">>> a = mymodule.A()\n",
    ">>> a.spam()\n",
    "A.spam\n",
    ">>>"
   ]
  },
  {
   "cell_type": "markdown",
   "metadata": {},
   "source": [
    "The main downside of lazy loading is that inheritance and type checking might break.  \n",
    "For example, you might have to change your code slightly:"
   ]
  },
  {
   "cell_type": "raw",
   "metadata": {},
   "source": [
    "if isinstance(x, mymodule.A):    # Error\n",
    "    ...\n",
    "    \n",
    "if isinstance(x, mymodule.a.A):  # OK\n",
    "    ..."
   ]
  },
  {
   "cell_type": "markdown",
   "metadata": {},
   "source": [
    "For a real-world example of lazy loading, look at the source code for `multiprocessing/ __init__.py` in the standard library."
   ]
  },
  {
   "cell_type": "markdown",
   "metadata": {},
   "source": [
    "## 10.5. Making Separate Directories of Code Import Under a Common Namespace"
   ]
  },
  {
   "cell_type": "code",
   "execution_count": null,
   "metadata": {},
   "outputs": [],
   "source": []
  }
 ],
 "metadata": {
  "kernelspec": {
   "display_name": "Python 3",
   "language": "python",
   "name": "python3"
  },
  "language_info": {
   "codemirror_mode": {
    "name": "ipython",
    "version": 3
   },
   "file_extension": ".py",
   "mimetype": "text/x-python",
   "name": "python",
   "nbconvert_exporter": "python",
   "pygments_lexer": "ipython3",
   "version": "3.6.1"
  }
 },
 "nbformat": 4,
 "nbformat_minor": 2
}
