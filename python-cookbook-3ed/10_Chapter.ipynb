{
 "cells": [
  {
   "cell_type": "markdown",
   "metadata": {},
   "source": [
    "# Chapter 10  \n",
    "## Modules and Packages"
   ]
  },
  {
   "cell_type": "markdown",
   "metadata": {},
   "source": [
    "Modules and packages are the core of any large project, and the Python installation itself.  \n",
    "This chapter focuses on common programming techniques involving modules and packages, such as how to organize packages, splitting large modules into multiple files, and creating namespace packages.  \n",
    "Recipes that allow you to customize the operation of the `import` statement itself are also given."
   ]
  },
  {
   "cell_type": "markdown",
   "metadata": {},
   "source": [
    "## 10.1. Making a Hierarchical Package of Modules"
   ]
  },
  {
   "cell_type": "markdown",
   "metadata": {},
   "source": [
    "### Problem"
   ]
  },
  {
   "cell_type": "markdown",
   "metadata": {},
   "source": [
    "You want to organize your code into a package consisting of a hierarchical collection of modules."
   ]
  },
  {
   "cell_type": "markdown",
   "metadata": {},
   "source": [
    "### Solution"
   ]
  },
  {
   "cell_type": "markdown",
   "metadata": {},
   "source": [
    "Making a package structure is simple.  \n",
    "Just organize your code as you wish on the filesystem and make sure that every directory defines an `__init__.py` file:"
   ]
  },
  {
   "cell_type": "raw",
   "metadata": {},
   "source": [
    "graphics/\n",
    "    __init__.py\n",
    "    primitive/\n",
    "         __init__.py\n",
    "         line.py\n",
    "         fill.py\n",
    "         text.py\n",
    "    formats/\n",
    "         __init__.py\n",
    "         png.py\n",
    "         jpg.py"
   ]
  },
  {
   "cell_type": "markdown",
   "metadata": {},
   "source": [
    "Once you have done this, you should be able to perform various `import` statements such as the following:"
   ]
  },
  {
   "cell_type": "raw",
   "metadata": {},
   "source": [
    "import graphics.primitive.line\n",
    "from graphics.primitive import line\n",
    "import graphics.formats.jpg as jpg"
   ]
  },
  {
   "cell_type": "markdown",
   "metadata": {},
   "source": [
    "### Discussion"
   ]
  },
  {
   "cell_type": "markdown",
   "metadata": {},
   "source": [
    "Defining a hierarchy of modules is as easy as making a directory structure on the filesystem.  \n",
    "The purpose of the `__init__.py` files is to include optional initialization code that runs as different levels of a package are encountered.  \n",
    "For example, if you have the statement `import graphics`, the file *graphics/`__init__`.py* will be imported and form the contents of the `graphics` namespace.  \n",
    "For an import such as `import graphics.formats.jpg`, the files *graphics/`__init__`.py* and *graphics/formats/`__init__`.py* will both be imported prior to the final import of the `graphics/formats/jpg.py` file.  \n",
    "More often that not, it’s fine to just leave the `__init__.py` files empty. \n",
    "However, there are certain situations where they might include code.  \n",
    "For example, an `__init__.py` file can be used to automatically load submodules like this:"
   ]
  },
  {
   "cell_type": "raw",
   "metadata": {},
   "source": [
    "# graphics/formats/__init__.py\n",
    "\n",
    "from . import jpg\n",
    "from . import png"
   ]
  },
  {
   "cell_type": "markdown",
   "metadata": {},
   "source": [
    "For such a file, a user merely has to use a single `import graphics.formats` instead of a separate import for `graphics.formats.jpg` and `graphics.formats.png`.  \n",
    "Other common uses of `__init__.py` include consolidating definitions from multiple files into a single logical namespace, as is sometimes done when splitting modules.  \n",
    "This is discussed in Recipe 10.4.  \n",
    "Astute programmers will notice that Python 3.3 still seems to perform package imports even if no `__init__.py` files are present.  \n",
    "If you don’t define `__init__.py`, you actually create what’s known as a \"namespace package\" which is described in Recipe 10.5.  \n",
    "All things being equal, include the `__init__.py` files if you’re just starting out with the creation of a new package."
   ]
  },
  {
   "cell_type": "markdown",
   "metadata": {},
   "source": [
    "## 10.2. Controlling the Import of Everything"
   ]
  },
  {
   "cell_type": "code",
   "execution_count": null,
   "metadata": {},
   "outputs": [],
   "source": []
  }
 ],
 "metadata": {
  "kernelspec": {
   "display_name": "Python 3",
   "language": "python",
   "name": "python3"
  },
  "language_info": {
   "codemirror_mode": {
    "name": "ipython",
    "version": 3
   },
   "file_extension": ".py",
   "mimetype": "text/x-python",
   "name": "python",
   "nbconvert_exporter": "python",
   "pygments_lexer": "ipython3",
   "version": "3.6.1"
  }
 },
 "nbformat": 4,
 "nbformat_minor": 2
}
