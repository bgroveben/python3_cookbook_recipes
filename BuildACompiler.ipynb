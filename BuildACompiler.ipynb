{
 "cells": [
  {
   "cell_type": "markdown",
   "metadata": {},
   "source": [
    "# [Writing your own programming language and compiler with Python](https://blog.usejournal.com/writing-your-own-programming-language-and-compiler-with-python-a468970ae6df)  \n",
    "### Thank You [Marcelo](https://blog.usejournal.com/@marcelogdeandrade)!"
   ]
  },
  {
   "cell_type": "markdown",
   "metadata": {},
   "source": [
    "The purpose of this notebook is to help people that are seeking a way to start developing their first programming language/compiler.  \n",
    "The original author's source code can be [found on Github](https://github.com/marcelogdeandrade/PythonCompiler)."
   ]
  },
  {
   "cell_type": "markdown",
   "metadata": {},
   "source": [
    "We'll be using [PLY](http://www.dabeaz.com/ply/) as [lexer](https://en.wikipedia.org/wiki/Lexical_analysis) and [parser](), and [LLVMlite](http://llvmlite.readthedocs.io/en/latest/) as low level intermediate language to do code generation with optimizations.  \n",
    "If you don't want to look that information up now, that's fine because we'll cover the relevant parts later.  \n",
    "Also, the LLVM documentation contains a helpful tutorial called [Kaleidoscope: Implementing a Language with LLVM](https://llvm.org/docs/tutorial/index.html#kaleidoscope-implementing-a-language-with-llvm) that covers many of the same topics as this project.  \n",
    "Some of the material in this notebook is for more experienced programmers, so make sure you do a bit of homework on [RPLY](https://github.com/alex/rply), which we'll be using instead of PLY, as well as [LLC](https://llvm.org/docs/CommandGuide/llc.html) and [GCC](https://gcc.gnu.org/)."
   ]
  },
  {
   "cell_type": "markdown",
   "metadata": {},
   "source": [
    "## Let's Begin"
   ]
  },
  {
   "cell_type": "markdown",
   "metadata": {},
   "source": [
    "Where shall we begin, anyway?  \n",
    "A good start is to define a language, which we can call **TOY** for now."
   ]
  },
  {
   "cell_type": "raw",
   "metadata": {},
   "source": [
    "var x;\n",
    "x := 4 + 4 * 2;\n",
    "    if (x > 3) {\n",
    "        x := 2;\n",
    "    } else {\n",
    "        x := 5;\n",
    "    }\n",
    "print(x);"
   ]
  },
  {
   "cell_type": "markdown",
   "metadata": {},
   "source": [
    "That looks straighforward, but how do we implement that with our programming language?  \n",
    "We can break that code down into a simpler example:"
   ]
  },
  {
   "cell_type": "raw",
   "metadata": {},
   "source": [
    "print(4 + 4 - 2);"
   ]
  },
  {
   "cell_type": "markdown",
   "metadata": {},
   "source": [
    "In order for machines to process the instructions you give them, they have to be given a defined grammar structure.  \n",
    "[EBNF](https://en.wikipedia.org/wiki/Extended_Backus%E2%80%93Naur_form) is used to make a formal description of a language which can be a computer programming language.  \n",
    "The original author of this tutorial recommends [this post](https://tomassetti.me/ebnf/) for a deeper look at how EBNF grammar works."
   ]
  },
  {
   "cell_type": "markdown",
   "metadata": {},
   "source": [
    "## What the EBNF?"
   ]
  },
  {
   "cell_type": "markdown",
   "metadata": {},
   "source": [
    "Let’s create a EBNF that describes the minimal possible functionality of TOY, which is a sum operation."
   ]
  },
  {
   "cell_type": "raw",
   "metadata": {},
   "source": [
    "4 + 2;"
   ]
  },
  {
   "cell_type": "markdown",
   "metadata": {},
   "source": [
    "Now for the EBNF:"
   ]
  },
  {
   "cell_type": "raw",
   "metadata": {},
   "source": [
    "expression = number, \"+\", number, \";\";\n",
    "number = digit+;\n",
    "digit = [0-9];"
   ]
  },
  {
   "cell_type": "markdown",
   "metadata": {},
   "source": [
    "If the underlying structure of the language isn't easy to spot yet, that's okay.  \n",
    "You'll get better at spotting the patterns with more practice.  \n",
    "Our programming language will need a bit more functionality to actually be useful.  \n",
    "First, we want to be able to add as many numbers as we wish.  \n",
    "Second, we want to be able to do subtraction as well."
   ]
  },
  {
   "cell_type": "raw",
   "metadata": {},
   "source": [
    "4 + 4 -2;"
   ]
  },
  {
   "cell_type": "code",
   "execution_count": null,
   "metadata": {},
   "outputs": [],
   "source": []
  }
 ],
 "metadata": {
  "kernelspec": {
   "display_name": "Python 3",
   "language": "python",
   "name": "python3"
  },
  "language_info": {
   "codemirror_mode": {
    "name": "ipython",
    "version": 3
   },
   "file_extension": ".py",
   "mimetype": "text/x-python",
   "name": "python",
   "nbconvert_exporter": "python",
   "pygments_lexer": "ipython3",
   "version": "3.6.1"
  }
 },
 "nbformat": 4,
 "nbformat_minor": 2
}
